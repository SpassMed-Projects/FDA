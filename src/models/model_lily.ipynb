{
 "cells": [
  {
   "cell_type": "code",
   "execution_count": 1,
   "metadata": {},
   "outputs": [],
   "source": [
    "import pandas as pd\n",
    "from sklearn.preprocessing import StandardScaler\n",
    "\n",
    "import numpy as np\n",
    "import pandas as pd\n",
    "\n",
    "import seaborn as sns\n",
    "import matplotlib.pyplot as plt\n",
    "\n",
    "from sklearn.model_selection import train_test_split\n",
    "from sklearn.linear_model import LogisticRegression\n",
    "\n",
    "from sklearn.metrics import classification_report, confusion_matrix\n",
    "from sklearn.metrics import ConfusionMatrixDisplay\n",
    "\n",
    "from sklearn.model_selection import cross_val_score\n",
    "from sklearn.model_selection import RepeatedStratifiedKFold\n",
    "\n",
    "from lightgbm import LGBMClassifier\n",
    "from numpy import mean\n",
    "from numpy import std\n",
    "import sklearn"
   ]
  },
  {
   "cell_type": "code",
   "execution_count": 15,
   "metadata": {},
   "outputs": [
    {
     "data": {
      "text/html": [
       "<div>\n",
       "<style scoped>\n",
       "    .dataframe tbody tr th:only-of-type {\n",
       "        vertical-align: middle;\n",
       "    }\n",
       "\n",
       "    .dataframe tbody tr th {\n",
       "        vertical-align: top;\n",
       "    }\n",
       "\n",
       "    .dataframe thead th {\n",
       "        text-align: right;\n",
       "    }\n",
       "</style>\n",
       "<table border=\"1\" class=\"dataframe\">\n",
       "  <thead>\n",
       "    <tr style=\"text-align: right;\">\n",
       "      <th></th>\n",
       "      <th>0</th>\n",
       "      <th>1</th>\n",
       "      <th>2</th>\n",
       "    </tr>\n",
       "  </thead>\n",
       "  <tbody>\n",
       "    <tr>\n",
       "      <th>0</th>\n",
       "      <td>1.0</td>\n",
       "      <td>NaN</td>\n",
       "      <td>NaN</td>\n",
       "    </tr>\n",
       "    <tr>\n",
       "      <th>1</th>\n",
       "      <td>2.0</td>\n",
       "      <td>3.0</td>\n",
       "      <td>4.0</td>\n",
       "    </tr>\n",
       "    <tr>\n",
       "      <th>2</th>\n",
       "      <td>3.0</td>\n",
       "      <td>4.0</td>\n",
       "      <td>5.0</td>\n",
       "    </tr>\n",
       "  </tbody>\n",
       "</table>\n",
       "</div>"
      ],
      "text/plain": [
       "     0    1    2\n",
       "0  1.0  NaN  NaN\n",
       "1  2.0  3.0  4.0\n",
       "2  3.0  4.0  5.0"
      ]
     },
     "execution_count": 15,
     "metadata": {},
     "output_type": "execute_result"
    }
   ],
   "source": [
    "temp = pd.DataFrame({\"A\": [1,2,3], \"B\": [2,3,4], \"C\": [1,4,5]})\n",
    "temp.mode(axis=1)"
   ]
  },
  {
   "cell_type": "code",
   "execution_count": 3,
   "metadata": {},
   "outputs": [],
   "source": [
    "path = '/home/daisy/FDA_Dataset/inpatient_all_final_1.csv'\n",
    "df1 = pd.read_csv(path).iloc[:,1:]\n",
    "df1.drop(columns = ['Veteran flag','period mean','period std',\n",
    "                    'Event date','Marital status', 'Marital status encoded',\n",
    "                    'State','Ruca category'], inplace=True)\n",
    "\n",
    "\n",
    "path = '/home/daisy/FDA_Dataset/inpatient_all_final_2.csv'\n",
    "df2 = pd.read_csv(path).iloc[:,1:]\n",
    "df2.drop(columns = ['Veteran flag','period mean','period std',\n",
    "                    'Event date','Marital status', 'Marital status encoded',\n",
    "                    'State','Ruca category'], inplace=True)"
   ]
  },
  {
   "cell_type": "code",
   "execution_count": 4,
   "metadata": {},
   "outputs": [],
   "source": [
    "X_admission = df1.drop(columns = ['Readmission','Died'])\n",
    "Y_admission = df1[['Readmission']]\n",
    "\n",
    "X_mortality = df1.drop(columns = ['Died'])\n",
    "Y_mortality = df1[['Died']]"
   ]
  },
  {
   "cell_type": "code",
   "execution_count": 6,
   "metadata": {},
   "outputs": [],
   "source": [
    "X_train_ad, X_test_ad, y_train_ad, y_test_ad = train_test_split(X_admission, Y_admission, test_size=0.20, random_state=42)\n",
    "X_train_mor, X_test_mor, y_train_mor, y_test_mor = train_test_split(X_mortality, Y_mortality, test_size=0.20, random_state=42)\n"
   ]
  },
  {
   "cell_type": "code",
   "execution_count": 7,
   "metadata": {},
   "outputs": [],
   "source": [
    "# Filling continuous features with mean values\n",
    "numeric_cols = df1.columns[df1.isna().any()].tolist()\n",
    "\n",
    "X_train_ad[numeric_cols] = X_train_ad[numeric_cols].fillna(X_train_ad[numeric_cols].mean())\n",
    "X_train_mor[numeric_cols] =  X_train_mor[numeric_cols].fillna(X_train_mor[numeric_cols].mean())\n",
    "\n",
    "X_test_ad[numeric_cols] = X_test_ad[numeric_cols].fillna(X_test_ad[numeric_cols].mean())\n",
    "X_test_mor[numeric_cols] = X_test_mor[numeric_cols].fillna(X_test_mor[numeric_cols].mean())"
   ]
  },
  {
   "cell_type": "markdown",
   "metadata": {},
   "source": [
    "### Model"
   ]
  },
  {
   "cell_type": "markdown",
   "metadata": {},
   "source": [
    "#### XGBoost"
   ]
  },
  {
   "cell_type": "code",
   "execution_count": 27,
   "metadata": {},
   "outputs": [],
   "source": [
    "import xgboost as xgb"
   ]
  },
  {
   "cell_type": "code",
   "execution_count": 28,
   "metadata": {},
   "outputs": [
    {
     "name": "stdout",
     "output_type": "stream",
     "text": [
      "Accuracy: 1.000 (0.000)\n",
      "                precision    recall  f1-score   support\n",
      "\n",
      "Not Readmitted       1.00      1.00      1.00      3316\n",
      "    Readmitted       1.00      1.00      1.00     13592\n",
      "\n",
      "      accuracy                           1.00     16908\n",
      "     macro avg       1.00      1.00      1.00     16908\n",
      "  weighted avg       1.00      1.00      1.00     16908\n",
      "\n",
      "Accuracy: 0.842 (0.003)\n",
      "              precision    recall  f1-score   support\n",
      "\n",
      "    Not Dead       0.87      0.95      0.91     13744\n",
      "        Dead       0.63      0.39      0.48      3164\n",
      "\n",
      "    accuracy                           0.84     16908\n",
      "   macro avg       0.75      0.67      0.69     16908\n",
      "weighted avg       0.83      0.84      0.83     16908\n",
      "\n"
     ]
    }
   ],
   "source": [
    "# readmission\n",
    "xgb_model_ad = xgb.XGBClassifier(objective=\"binary:logistic\", random_state=42)\n",
    "cv = RepeatedStratifiedKFold(n_splits=10, n_repeats=3, random_state=1)\n",
    "n_scores = cross_val_score(xgb_model_ad, X_train_ad, y_train_ad, scoring='accuracy', cv=cv, n_jobs=-1, error_score='raise')\n",
    "print('Accuracy: %.3f (%.3f)' % (mean(n_scores), std(n_scores)))\n",
    "\n",
    "xgb_model_ad.fit(X_train_ad, y_train_ad)\n",
    "y_pred_ad = xgb_model_ad.predict(X_test_ad)\n",
    "\n",
    "print(classification_report(y_test_ad, y_pred_ad, target_names= ['Not Readmitted', 'Readmitted']))\n",
    "\n",
    "# mortality\n",
    "xgb_model_mor = xgb.XGBClassifier(objective=\"binary:logistic\", random_state=42)\n",
    "\n",
    "cv = RepeatedStratifiedKFold(n_splits=10, n_repeats=3, random_state=1)\n",
    "n_scores = cross_val_score(xgb_model_mor, X_train_mor, y_train_mor, scoring='accuracy', cv=cv, n_jobs=-1, error_score='raise')\n",
    "print('Accuracy: %.3f (%.3f)' % (mean(n_scores), std(n_scores)))\n",
    "\n",
    "xgb_model_mor.fit(X_train_mor, y_train_mor)\n",
    "y_pred_mor = xgb_model_mor.predict(X_test_mor)\n",
    "\n",
    "print(classification_report(y_test_mor, y_pred_mor, target_names= ['Not Dead', 'Dead']))"
   ]
  },
  {
   "cell_type": "markdown",
   "metadata": {},
   "source": [
    "#### AdaBoost"
   ]
  },
  {
   "cell_type": "code",
   "execution_count": 25,
   "metadata": {},
   "outputs": [
    {
     "name": "stdout",
     "output_type": "stream",
     "text": [
      "                precision    recall  f1-score   support\n",
      "\n",
      "Not Readmitted       1.00      1.00      1.00      3316\n",
      "    Readmitted       1.00      1.00      1.00     13592\n",
      "\n",
      "      accuracy                           1.00     16908\n",
      "     macro avg       1.00      1.00      1.00     16908\n",
      "  weighted avg       1.00      1.00      1.00     16908\n",
      "\n",
      "Accuracy: 0.833 (0.003)\n",
      "              precision    recall  f1-score   support\n",
      "\n",
      "    Not Dead       0.86      0.95      0.90     13744\n",
      "        Dead       0.61      0.31      0.41      3164\n",
      "\n",
      "    accuracy                           0.83     16908\n",
      "   macro avg       0.73      0.63      0.66     16908\n",
      "weighted avg       0.81      0.83      0.81     16908\n",
      "\n"
     ]
    }
   ],
   "source": [
    "from sklearn.ensemble import AdaBoostClassifier\n",
    "# Readmission\n",
    "adaboost_ad = AdaBoostClassifier(n_estimators=100, random_state=0)\n",
    "cv = RepeatedStratifiedKFold(n_splits=10, n_repeats=3, random_state=1)\n",
    "n_scores = cross_val_score(adaboost_ad, X_train_ad, y_train_ad, scoring='accuracy', cv=cv, n_jobs=-1, error_score='raise')\n",
    "print('Accuracy: %.3f (%.3f)' % (mean(n_scores), std(n_scores)))\n",
    "adaboost_ad.fit(X_train_ad, y_train_ad)\n",
    "y_pred_ad = adaboost_ad.predict(X_test_ad)\n",
    "\n",
    "print(classification_report(y_test_ad, y_pred_ad, target_names= ['Not Readmitted', 'Readmitted']))\n",
    "\n",
    "# Mortality\n",
    "adaboost_mor = AdaBoostClassifier(n_estimators=100, random_state=0)\n",
    "cv = RepeatedStratifiedKFold(n_splits=10, n_repeats=3, random_state=1)\n",
    "n_scores = cross_val_score(adaboost_mor, X_train_mor, y_train_mor, scoring='accuracy', cv=cv, n_jobs=-1, error_score='raise')\n",
    "print('Accuracy: %.3f (%.3f)' % (mean(n_scores), std(n_scores)))\n",
    "adaboost_mor.fit(X_train_mor, y_train_mor)\n",
    "y_pred_mor = adaboost_mor.predict(X_test_mor)\n",
    "\n",
    "print(classification_report(y_test_mor, y_pred_mor, target_names= ['Not Dead', 'Dead']))"
   ]
  },
  {
   "cell_type": "markdown",
   "metadata": {},
   "source": [
    "#### LGBM"
   ]
  },
  {
   "cell_type": "code",
   "execution_count": 24,
   "metadata": {},
   "outputs": [
    {
     "name": "stdout",
     "output_type": "stream",
     "text": [
      "Accuracy: 1.000 (0.000)\n",
      "                precision    recall  f1-score   support\n",
      "\n",
      "Not Readmitted       1.00      1.00      1.00      3316\n",
      "    Readmitted       1.00      1.00      1.00     13592\n",
      "\n",
      "      accuracy                           1.00     16908\n",
      "     macro avg       1.00      1.00      1.00     16908\n",
      "  weighted avg       1.00      1.00      1.00     16908\n",
      "\n",
      "Accuracy: 0.844 (0.003)\n",
      "              precision    recall  f1-score   support\n",
      "\n",
      "    Not Dead       0.87      0.96      0.91     13744\n",
      "        Dead       0.66      0.35      0.46      3164\n",
      "\n",
      "    accuracy                           0.85     16908\n",
      "   macro avg       0.76      0.66      0.68     16908\n",
      "weighted avg       0.83      0.85      0.83     16908\n",
      "\n"
     ]
    }
   ],
   "source": [
    "y_train_ad = np.ravel(sklearn.utils.validation.column_or_1d(y_train_ad, warn=True))\n",
    "y_train_mor = np.ravel(sklearn.utils.validation.column_or_1d(y_train_mor, warn=True))\n",
    "\n",
    "# readmission\n",
    "lgbm_ad = LGBMClassifier()\n",
    "cv = RepeatedStratifiedKFold(n_splits=10, n_repeats=3, random_state=1)\n",
    "n_scores = cross_val_score(lgbm_ad, X_train_ad, y_train_ad, scoring='accuracy', cv=cv, n_jobs=-1, error_score='raise')\n",
    "print('Accuracy: %.3f (%.3f)' % (mean(n_scores), std(n_scores)))\n",
    "# fit the model on the whole dataset\n",
    "lgbm_ad.fit(X_train_ad, y_train_ad)\n",
    "# make a single prediction\n",
    "y_pred_ad = lgbm_ad.predict(X_test_ad)\n",
    "print(classification_report(y_test_ad, y_pred_ad, target_names= ['Not Readmitted', 'Readmitted']))\n",
    "\n",
    "# motality\n",
    "lgbm_mor = LGBMClassifier()\n",
    "cv = RepeatedStratifiedKFold(n_splits=10, n_repeats=3, random_state=1)\n",
    "n_scores = cross_val_score(lgbm_mor, X_train_mor, y_train_mor, scoring='accuracy', cv=cv, n_jobs=-1, error_score='raise')\n",
    "print('Accuracy: %.3f (%.3f)' % (mean(n_scores), std(n_scores)))\n",
    "# fit the model on the whole dataset\n",
    "lgbm_mor.fit(X_train_mor, y_train_mor)\n",
    "# make a single prediction\n",
    "y_pred_mor = lgbm_mor.predict(X_test_mor)\n",
    "print(classification_report(y_test_mor, y_pred_mor, target_names= ['Not Dead','Dead']))"
   ]
  }
 ],
 "metadata": {
  "kernelspec": {
   "display_name": "mla",
   "language": "python",
   "name": "python3"
  },
  "language_info": {
   "codemirror_mode": {
    "name": "ipython",
    "version": 3
   },
   "file_extension": ".py",
   "mimetype": "text/x-python",
   "name": "python",
   "nbconvert_exporter": "python",
   "pygments_lexer": "ipython3",
   "version": "3.10.11"
  },
  "orig_nbformat": 4
 },
 "nbformat": 4,
 "nbformat_minor": 2
}
