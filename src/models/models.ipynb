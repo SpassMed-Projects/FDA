{
 "cells": [
  {
   "cell_type": "code",
   "execution_count": 55,
   "metadata": {},
   "outputs": [],
   "source": [
    "import pandas as pd\n",
    "from sklearn.preprocessing import StandardScaler\n",
    "\n",
    "import numpy as np\n",
    "import pandas as pd\n",
    "\n",
    "import seaborn as sns\n",
    "import matplotlib.pyplot as plt\n",
    "\n",
    "from sklearn.model_selection import train_test_split\n",
    "from sklearn.linear_model import LogisticRegression\n",
    "from sklearn.model_selection import cross_val_score\n",
    "\n",
    "from sklearn.metrics import classification_report, confusion_matrix\n",
    "from sklearn.metrics import ConfusionMatrixDisplay\n"
   ]
  },
  {
   "cell_type": "code",
   "execution_count": 3,
   "metadata": {},
   "outputs": [],
   "source": [
    "path = '/home/daisy/FDA_Dataset/inpatient_all_final_1.csv'\n",
    "df1 = pd.read_csv(path).iloc[:,1:]\n",
    "df1.drop(columns = ['Veteran flag','period mean','period std',\n",
    "                    'Event date','Marital status', 'Marital status encoded',\n",
    "                    'State','Ruca category'], inplace=True)\n",
    "\n",
    "\n",
    "path = '/home/daisy/FDA_Dataset/inpatient_all_final_2.csv'\n",
    "df2 = pd.read_csv(path).iloc[:,1:]\n",
    "df2.drop(columns = ['Veteran flag','period mean','period std',\n",
    "                    'Event date','Marital status', 'Marital status encoded',\n",
    "                    'State','Ruca category'], inplace=True)"
   ]
  },
  {
   "cell_type": "code",
   "execution_count": 12,
   "metadata": {},
   "outputs": [
    {
     "data": {
      "text/plain": [
       "(84536, 81)"
      ]
     },
     "execution_count": 12,
     "metadata": {},
     "output_type": "execute_result"
    }
   ],
   "source": [
    "df1.shape"
   ]
  },
  {
   "cell_type": "code",
   "execution_count": 35,
   "metadata": {},
   "outputs": [
    {
     "name": "stdout",
     "output_type": "stream",
     "text": [
      "<class 'pandas.core.frame.DataFrame'>\n",
      "RangeIndex: 84536 entries, 0 to 84535\n",
      "Data columns (total 81 columns):\n",
      " #   Column                        Non-Null Count  Dtype  \n",
      "---  ------                        --------------  -----  \n",
      " 0   Internalpatientid             84536 non-null  int64  \n",
      " 1   num_stays                     84536 non-null  int64  \n",
      " 2   stay_length                   84536 non-null  float64\n",
      " 3   num_unique_units              84536 non-null  int64  \n",
      " 4   num_transfers                 84536 non-null  int64  \n",
      " 5   num_cvd_readmission           84536 non-null  int64  \n",
      " 6   Readmission                   84536 non-null  int64  \n",
      " 7   Died                          84536 non-null  int64  \n",
      " 8   AO                            84536 non-null  int64  \n",
      " 9   CVD                           84536 non-null  int64  \n",
      " 10  unique_admitting_specialty    84536 non-null  int64  \n",
      " 11  unique_discharging_specialty  84536 non-null  int64  \n",
      " 12  DOMICILIARY                   84536 non-null  int64  \n",
      " 13  MEDICINE                      84536 non-null  int64  \n",
      " 14  NHCU                          84536 non-null  int64  \n",
      " 15  NON-COUNT                     84536 non-null  int64  \n",
      " 16  OTHERS                        84536 non-null  int64  \n",
      " 17  PSYCHIATRY                    84536 non-null  int64  \n",
      " 18  SURGERY                       84536 non-null  int64  \n",
      " 19  Age 20-40                     84536 non-null  int64  \n",
      " 20  Age 40-60                     84536 non-null  int64  \n",
      " 21  Age 60-80                     84536 non-null  int64  \n",
      " 22  Age 80-100                    84536 non-null  int64  \n",
      " 23  Age 100-120                   84536 non-null  int64  \n",
      " 24  age_mean                      84536 non-null  float64\n",
      " 25  age_std                       84536 non-null  float64\n",
      " 26  age_min                       84536 non-null  float64\n",
      " 27  age_max                       84536 non-null  float64\n",
      " 28  stay_min                      84536 non-null  float64\n",
      " 29  stay_max                      84536 non-null  float64\n",
      " 30  stay_mean                     84536 non-null  float64\n",
      " 31  stay_std                      84536 non-null  float64\n",
      " 32  freq                          84536 non-null  float64\n",
      " 33  total_procedure               84531 non-null  float64\n",
      " 34  num_surgery_pro               84531 non-null  float64\n",
      " 35  Ethnicity                     84536 non-null  int64  \n",
      " 36  Gender                        84536 non-null  int64  \n",
      " 37  Races                         84536 non-null  int64  \n",
      " 38  Ethnicity_0                   84536 non-null  int64  \n",
      " 39  Ethnicity_1                   84536 non-null  int64  \n",
      " 40  Ethnicity_2                   84536 non-null  int64  \n",
      " 41  Races_0                       84536 non-null  int64  \n",
      " 42  Races_1                       84536 non-null  int64  \n",
      " 43  Races_2                       84536 non-null  int64  \n",
      " 44  Races_3                       84536 non-null  int64  \n",
      " 45  num_immunization              80454 non-null  float64\n",
      " 46  Num med per admission mean    62193 non-null  float64\n",
      " 47  Num med per admission min     62193 non-null  float64\n",
      " 48  Num med per admission max     62193 non-null  float64\n",
      " 49  Total medications             62193 non-null  float64\n",
      " 50  mean age at specailty         84534 non-null  float64\n",
      " 51  period mean                   84534 non-null  object \n",
      " 52  period std                    84534 non-null  object \n",
      " 53  specialty medical count       84534 non-null  float64\n",
      " 54  specialty support count       84534 non-null  float64\n",
      " 55  specialty count               84534 non-null  float64\n",
      " 56  Event date                    84536 non-null  object \n",
      " 57  Marital status                84536 non-null  object \n",
      " 58  Ruca category                 84536 non-null  object \n",
      " 59  Marital status encoded        84191 non-null  float64\n",
      " 60  Ruca category encoded         84536 non-null  float64\n",
      " 61  State                         84536 non-null  object \n",
      " 62  Age 20-40 hypotension         80906 non-null  float64\n",
      " 63  Age 40-60 hypotension         80906 non-null  float64\n",
      " 64  Age 60-80 hypotension         80906 non-null  float64\n",
      " 65  Age 80-100 hypotension        80906 non-null  float64\n",
      " 66  Age 100-120 hypotension       80906 non-null  float64\n",
      " 67  Age 20-40 hypertension        83823 non-null  float64\n",
      " 68  Age 40-60 hypertension        83823 non-null  float64\n",
      " 69  Age 60-80 hypertension        83823 non-null  float64\n",
      " 70  Age 80-100 hypertension       83823 non-null  float64\n",
      " 71  Age 100-120 hypertension      83823 non-null  float64\n",
      " 72  Age 20-40 healthy             83238 non-null  float64\n",
      " 73  Age 40-60 healthy             83238 non-null  float64\n",
      " 74  Age 60-80 healthy             83238 non-null  float64\n",
      " 75  Age 80-100 healthy            83238 non-null  float64\n",
      " 76  Age 100-120 healthy           83238 non-null  float64\n",
      " 77  lab_count                     84503 non-null  float64\n",
      " 78  lab_freq                      84503 non-null  float64\n",
      " 79  lab_age_mean                  84503 non-null  float64\n",
      " 80  lab_age_std                   84503 non-null  float64\n",
      "dtypes: float64(42), int64(33), object(6)\n",
      "memory usage: 52.2+ MB\n"
     ]
    }
   ],
   "source": [
    "df1.info()"
   ]
  },
  {
   "cell_type": "markdown",
   "metadata": {},
   "source": [
    "### Train test split\n"
   ]
  },
  {
   "cell_type": "code",
   "execution_count": 26,
   "metadata": {},
   "outputs": [
    {
     "name": "stdout",
     "output_type": "stream",
     "text": [
      "<class 'pandas.core.frame.DataFrame'>\n",
      "RangeIndex: 84536 entries, 0 to 84535\n",
      "Data columns (total 81 columns):\n",
      " #   Column                        Non-Null Count  Dtype  \n",
      "---  ------                        --------------  -----  \n",
      " 0   Internalpatientid             84536 non-null  int64  \n",
      " 1   num_stays                     84536 non-null  int64  \n",
      " 2   stay_length                   84536 non-null  float64\n",
      " 3   num_unique_units              84536 non-null  int64  \n",
      " 4   num_transfers                 84536 non-null  int64  \n",
      " 5   num_cvd_readmission           84536 non-null  int64  \n",
      " 6   Readmission                   84536 non-null  int64  \n",
      " 7   Died                          84536 non-null  int64  \n",
      " 8   AO                            84536 non-null  int64  \n",
      " 9   CVD                           84536 non-null  int64  \n",
      " 10  unique_admitting_specialty    84536 non-null  int64  \n",
      " 11  unique_discharging_specialty  84536 non-null  int64  \n",
      " 12  DOMICILIARY                   84536 non-null  int64  \n",
      " 13  MEDICINE                      84536 non-null  int64  \n",
      " 14  NHCU                          84536 non-null  int64  \n",
      " 15  NON-COUNT                     84536 non-null  int64  \n",
      " 16  OTHERS                        84536 non-null  int64  \n",
      " 17  PSYCHIATRY                    84536 non-null  int64  \n",
      " 18  SURGERY                       84536 non-null  int64  \n",
      " 19  Age 20-40                     84536 non-null  int64  \n",
      " 20  Age 40-60                     84536 non-null  int64  \n",
      " 21  Age 60-80                     84536 non-null  int64  \n",
      " 22  Age 80-100                    84536 non-null  int64  \n",
      " 23  Age 100-120                   84536 non-null  int64  \n",
      " 24  age_mean                      84536 non-null  float64\n",
      " 25  age_std                       84536 non-null  float64\n",
      " 26  age_min                       84536 non-null  float64\n",
      " 27  age_max                       84536 non-null  float64\n",
      " 28  stay_min                      84536 non-null  float64\n",
      " 29  stay_max                      84536 non-null  float64\n",
      " 30  stay_mean                     84536 non-null  float64\n",
      " 31  stay_std                      84536 non-null  float64\n",
      " 32  freq                          84536 non-null  float64\n",
      " 33  total_procedure               84531 non-null  float64\n",
      " 34  num_surgery_pro               84531 non-null  float64\n",
      " 35  Ethnicity                     84536 non-null  int64  \n",
      " 36  Gender                        84536 non-null  int64  \n",
      " 37  Races                         84536 non-null  int64  \n",
      " 38  Ethnicity_0                   84536 non-null  int64  \n",
      " 39  Ethnicity_1                   84536 non-null  int64  \n",
      " 40  Ethnicity_2                   84536 non-null  int64  \n",
      " 41  Races_0                       84536 non-null  int64  \n",
      " 42  Races_1                       84536 non-null  int64  \n",
      " 43  Races_2                       84536 non-null  int64  \n",
      " 44  Races_3                       84536 non-null  int64  \n",
      " 45  num_immunization              80454 non-null  float64\n",
      " 46  Num med per admission mean    62193 non-null  float64\n",
      " 47  Num med per admission min     62193 non-null  float64\n",
      " 48  Num med per admission max     62193 non-null  float64\n",
      " 49  Total medications             62193 non-null  float64\n",
      " 50  mean age at specailty         84534 non-null  float64\n",
      " 51  period mean                   84534 non-null  object \n",
      " 52  period std                    84534 non-null  object \n",
      " 53  specialty medical count       84534 non-null  float64\n",
      " 54  specialty support count       84534 non-null  float64\n",
      " 55  specialty count               84534 non-null  float64\n",
      " 56  Event date                    84536 non-null  object \n",
      " 57  Marital status                84536 non-null  object \n",
      " 58  Ruca category                 84536 non-null  object \n",
      " 59  Marital status encoded        84191 non-null  float64\n",
      " 60  Ruca category encoded         84536 non-null  float64\n",
      " 61  State                         84536 non-null  object \n",
      " 62  Age 20-40 hypotension         80906 non-null  float64\n",
      " 63  Age 40-60 hypotension         80906 non-null  float64\n",
      " 64  Age 60-80 hypotension         80906 non-null  float64\n",
      " 65  Age 80-100 hypotension        80906 non-null  float64\n",
      " 66  Age 100-120 hypotension       80906 non-null  float64\n",
      " 67  Age 20-40 hypertension        83823 non-null  float64\n",
      " 68  Age 40-60 hypertension        83823 non-null  float64\n",
      " 69  Age 60-80 hypertension        83823 non-null  float64\n",
      " 70  Age 80-100 hypertension       83823 non-null  float64\n",
      " 71  Age 100-120 hypertension      83823 non-null  float64\n",
      " 72  Age 20-40 healthy             83238 non-null  float64\n",
      " 73  Age 40-60 healthy             83238 non-null  float64\n",
      " 74  Age 60-80 healthy             83238 non-null  float64\n",
      " 75  Age 80-100 healthy            83238 non-null  float64\n",
      " 76  Age 100-120 healthy           83238 non-null  float64\n",
      " 77  lab_count                     84503 non-null  float64\n",
      " 78  lab_freq                      84503 non-null  float64\n",
      " 79  lab_age_mean                  84503 non-null  float64\n",
      " 80  lab_age_std                   84503 non-null  float64\n",
      "dtypes: float64(42), int64(33), object(6)\n",
      "memory usage: 52.2+ MB\n"
     ]
    }
   ],
   "source": [
    "df1.info()"
   ]
  },
  {
   "cell_type": "code",
   "execution_count": 4,
   "metadata": {},
   "outputs": [],
   "source": [
    "X_admission = df1.drop(columns = ['Readmission'])\n",
    "Y_admission = df1[['Readmission']]\n",
    "\n",
    "X_mortality = df1.drop(columns = ['Died'])\n",
    "Y_mortality = df1[['Died']]"
   ]
  },
  {
   "cell_type": "code",
   "execution_count": 5,
   "metadata": {},
   "outputs": [],
   "source": [
    "X_train_ad, X_test_ad, y_train_ad, y_test_ad = train_test_split(X_admission, Y_admission, test_size=0.20, random_state=42)\n",
    "X_train_mor, X_test_mor, y_train_mor, y_test_mor = train_test_split(X_mortality, Y_mortality, test_size=0.20, random_state=42)\n"
   ]
  },
  {
   "cell_type": "markdown",
   "metadata": {},
   "source": [
    "#### Filling missing values"
   ]
  },
  {
   "cell_type": "code",
   "execution_count": 8,
   "metadata": {},
   "outputs": [
    {
     "data": {
      "text/plain": [
       "['total_procedure',\n",
       " 'num_surgery_pro',\n",
       " 'num_immunization',\n",
       " 'Num med per admission mean',\n",
       " 'Num med per admission min',\n",
       " 'Num med per admission max',\n",
       " 'Total medications',\n",
       " 'mean age at specailty',\n",
       " 'specialty medical count',\n",
       " 'specialty support count',\n",
       " 'specialty count',\n",
       " 'Age 20-40 hypotension',\n",
       " 'Age 40-60 hypotension',\n",
       " 'Age 60-80 hypotension',\n",
       " 'Age 80-100 hypotension',\n",
       " 'Age 100-120 hypotension',\n",
       " 'Age 20-40 hypertension',\n",
       " 'Age 40-60 hypertension',\n",
       " 'Age 60-80 hypertension',\n",
       " 'Age 80-100 hypertension',\n",
       " 'Age 100-120 hypertension',\n",
       " 'Age 20-40 healthy',\n",
       " 'Age 40-60 healthy',\n",
       " 'Age 60-80 healthy',\n",
       " 'Age 80-100 healthy',\n",
       " 'Age 100-120 healthy',\n",
       " 'lab_count',\n",
       " 'lab_freq',\n",
       " 'lab_age_mean',\n",
       " 'lab_age_std']"
      ]
     },
     "execution_count": 8,
     "metadata": {},
     "output_type": "execute_result"
    }
   ],
   "source": [
    "df1.columns[df1.isna().any()].tolist()"
   ]
  },
  {
   "cell_type": "code",
   "execution_count": 23,
   "metadata": {},
   "outputs": [],
   "source": [
    "# Filling continuous features with mean values\n",
    "numeric_cols = df1.columns[df1.isna().any()].tolist()\n",
    "\n",
    "X_train_ad[numeric_cols] = X_train_ad[numeric_cols].fillna(X_train_ad[numeric_cols].mean())\n",
    "X_train_mor[numeric_cols] =  X_train_mor[numeric_cols].fillna(X_train_mor[numeric_cols].mean())\n",
    "\n",
    "X_test_ad[numeric_cols] = X_test_ad[numeric_cols].fillna(X_test_ad[numeric_cols].mean())\n",
    "X_test_mor[numeric_cols] = X_test_mor[numeric_cols].fillna(X_test_mor[numeric_cols].mean())"
   ]
  },
  {
   "cell_type": "code",
   "execution_count": 22,
   "metadata": {},
   "outputs": [
    {
     "data": {
      "text/plain": [
       "0"
      ]
     },
     "execution_count": 22,
     "metadata": {},
     "output_type": "execute_result"
    }
   ],
   "source": [
    "X_train_ad.isna().any().sum()"
   ]
  },
  {
   "cell_type": "markdown",
   "metadata": {},
   "source": [
    "#### Logistic Regression"
   ]
  },
  {
   "cell_type": "code",
   "execution_count": 24,
   "metadata": {},
   "outputs": [
    {
     "name": "stderr",
     "output_type": "stream",
     "text": [
      "/home/hassan/.conda/envs/mla/lib/python3.10/site-packages/sklearn/utils/validation.py:1143: DataConversionWarning: A column-vector y was passed when a 1d array was expected. Please change the shape of y to (n_samples, ), for example using ravel().\n",
      "  y = column_or_1d(y, warn=True)\n",
      "/home/hassan/.conda/envs/mla/lib/python3.10/site-packages/sklearn/linear_model/_logistic.py:458: ConvergenceWarning: lbfgs failed to converge (status=1):\n",
      "STOP: TOTAL NO. of ITERATIONS REACHED LIMIT.\n",
      "\n",
      "Increase the number of iterations (max_iter) or scale the data as shown in:\n",
      "    https://scikit-learn.org/stable/modules/preprocessing.html\n",
      "Please also refer to the documentation for alternative solver options:\n",
      "    https://scikit-learn.org/stable/modules/linear_model.html#logistic-regression\n",
      "  n_iter_i = _check_optimize_result(\n"
     ]
    }
   ],
   "source": [
    "lr =LogisticRegression()\n",
    "# Training\n",
    "lr.fit(X_train_ad, y_train_ad)\n",
    "\n",
    "# Prediction\n",
    "lr_prediction = lr.predict(X_test_ad)"
   ]
  },
  {
   "cell_type": "code",
   "execution_count": 31,
   "metadata": {},
   "outputs": [
    {
     "name": "stdout",
     "output_type": "stream",
     "text": [
      "                precision    recall  f1-score   support\n",
      "\n",
      "Not Readmitted       0.87      0.85      0.86      3316\n",
      "    Readmitted       0.96      0.97      0.97     13592\n",
      "\n",
      "      accuracy                           0.95     16908\n",
      "     macro avg       0.92      0.91      0.91     16908\n",
      "  weighted avg       0.95      0.95      0.95     16908\n",
      "\n"
     ]
    }
   ],
   "source": [
    "print(classification_report(y_test_ad, lr_prediction, target_names= ['Not Readmitted', 'Readmitted']))\n"
   ]
  },
  {
   "cell_type": "code",
   "execution_count": 41,
   "metadata": {},
   "outputs": [
    {
     "name": "stderr",
     "output_type": "stream",
     "text": [
      "/home/hassan/.conda/envs/mla/lib/python3.10/site-packages/sklearn/utils/validation.py:1143: DataConversionWarning: A column-vector y was passed when a 1d array was expected. Please change the shape of y to (n_samples, ), for example using ravel().\n",
      "  y = column_or_1d(y, warn=True)\n",
      "/home/hassan/.conda/envs/mla/lib/python3.10/site-packages/sklearn/linear_model/_logistic.py:458: ConvergenceWarning: lbfgs failed to converge (status=1):\n",
      "STOP: TOTAL NO. of ITERATIONS REACHED LIMIT.\n",
      "\n",
      "Increase the number of iterations (max_iter) or scale the data as shown in:\n",
      "    https://scikit-learn.org/stable/modules/preprocessing.html\n",
      "Please also refer to the documentation for alternative solver options:\n",
      "    https://scikit-learn.org/stable/modules/linear_model.html#logistic-regression\n",
      "  n_iter_i = _check_optimize_result(\n"
     ]
    }
   ],
   "source": [
    "lr = LogisticRegression()\n",
    "# Training\n",
    "lr.fit(X_train_mor, y_train_mor)\n",
    "\n",
    "# Prediction\n",
    "lr_prediction = lr.predict(X_test_mor)"
   ]
  },
  {
   "cell_type": "code",
   "execution_count": 43,
   "metadata": {},
   "outputs": [
    {
     "name": "stdout",
     "output_type": "stream",
     "text": [
      "              precision    recall  f1-score   support\n",
      "\n",
      "    Not Died       0.83      0.98      0.90     13744\n",
      "        Died       0.64      0.13      0.22      3164\n",
      "\n",
      "    accuracy                           0.82     16908\n",
      "   macro avg       0.73      0.56      0.56     16908\n",
      "weighted avg       0.79      0.82      0.77     16908\n",
      "\n"
     ]
    }
   ],
   "source": [
    "print(classification_report(y_test_mor, lr_prediction, target_names= ['Not Died', 'Died']))\n"
   ]
  },
  {
   "cell_type": "code",
   "execution_count": 51,
   "metadata": {},
   "outputs": [
    {
     "data": {
      "text/plain": [
       "array([1, 0])"
      ]
     },
     "execution_count": 51,
     "metadata": {},
     "output_type": "execute_result"
    }
   ],
   "source": [
    "y_train_ad['Readmission'].unique()"
   ]
  },
  {
   "cell_type": "code",
   "execution_count": 59,
   "metadata": {},
   "outputs": [
    {
     "name": "stdout",
     "output_type": "stream",
     "text": [
      "Optimization terminated successfully.\n",
      "         Current function value: 0.371561\n",
      "         Iterations 9\n",
      "                                     Results: Logit\n",
      "=========================================================================================\n",
      "Model:                      Logit                    Pseudo R-squared:         0.224     \n",
      "Dependent Variable:         Died                     AIC:                      50389.8097\n",
      "Date:                       2023-07-17 16:08         BIC:                      51000.9687\n",
      "No. Observations:           67628                    Log-Likelihood:           -25128.   \n",
      "Df Model:                   66                       LL-Null:                  -32361.   \n",
      "Df Residuals:               67561                    LLR p-value:              0.0000    \n",
      "Converged:                  1.0000                   Scale:                    1.0000    \n",
      "No. Iterations:             9.0000                                                       \n",
      "-----------------------------------------------------------------------------------------\n",
      "                              Coef.    Std.Err.     z     P>|z|     [0.025       0.975]  \n",
      "-----------------------------------------------------------------------------------------\n",
      "Internalpatientid            -0.0000      0.0000  -0.4370 0.6621      -0.0000      0.0000\n",
      "num_stays                    -0.0667  30403.0254  -0.0000 1.0000  -59588.9014  59588.7681\n",
      "stay_length                  -0.0003      0.0002  -1.5760 0.1150      -0.0007      0.0001\n",
      "num_unique_units              0.0850      0.0196   4.3252 0.0000       0.0465      0.1235\n",
      "num_transfers                 0.0332      0.0152   2.1901 0.0285       0.0035      0.0630\n",
      "num_cvd_readmission          -0.0144      0.0058  -2.4693 0.0135      -0.0258     -0.0030\n",
      "Readmission                   0.1890      0.0446   4.2414 0.0000       0.1016      0.2763\n",
      "AO                            0.0532      0.0284   1.8706 0.0614      -0.0025      0.1089\n",
      "CVD                          -0.1627      0.0256  -6.3516 0.0000      -0.2130     -0.1125\n",
      "unique_admitting_specialty   -0.0060      0.0101  -0.5904 0.5549      -0.0258      0.0139\n",
      "unique_discharging_specialty  0.2869      0.0136  21.1201 0.0000       0.2603      0.3135\n",
      "DOMICILIARY                  -0.1487         nan      nan    nan          nan         nan\n",
      "MEDICINE                      0.0619         nan      nan    nan          nan         nan\n",
      "NHCU                          0.2163         nan      nan    nan          nan         nan\n",
      "NON-COUNT                    -0.1064         nan      nan    nan          nan         nan\n",
      "OTHERS                        0.0239         nan      nan    nan          nan         nan\n",
      "PSYCHIATRY                   -0.0357  44834.1015  -0.0000 1.0000  -87873.2600  87873.1886\n",
      "SURGERY                      -0.0781         nan      nan    nan          nan         nan\n",
      "Age 20-40                     0.0613         nan      nan    nan          nan         nan\n",
      "Age 40-60                     0.0330         nan      nan    nan          nan         nan\n",
      "Age 60-80                     0.0132         nan      nan    nan          nan         nan\n",
      "Age 80-100                    0.0129         nan      nan    nan          nan         nan\n",
      "Age 100-120                  -0.1874         nan      nan    nan          nan         nan\n",
      "age_mean                     -0.2028      0.0304  -6.6740 0.0000      -0.2624     -0.1433\n",
      "age_std                       0.1855      0.0214   8.6799 0.0000       0.1436      0.2274\n",
      "age_min                      -0.0408      0.0096  -4.2289 0.0000      -0.0597     -0.0219\n",
      "age_max                      -0.0605      0.0154  -3.9377 0.0001      -0.0906     -0.0304\n",
      "stay_min                      0.0027 402807.6694   0.0000 1.0000 -789488.5219 789488.5274\n",
      "stay_max                      0.0028 401854.6477   0.0000 1.0000 -787620.6337 787620.6393\n",
      "stay_mean                    -0.0003      0.0016  -0.2175 0.8278      -0.0034      0.0027\n",
      "stay_std                      0.0049      0.0011   4.5665 0.0000       0.0028      0.0070\n",
      "freq                          0.0615      0.0124   4.9554 0.0000       0.0372      0.0858\n",
      "total_procedure              -0.0000      0.0000  -2.4152 0.0157      -0.0001     -0.0000\n",
      "num_surgery_pro              -0.0052      0.0013  -4.1026 0.0000      -0.0076     -0.0027\n",
      "Ethnicity                    -1.1163         nan      nan    nan          nan         nan\n",
      "Gender                        0.3379      0.0805   4.1995 0.0000       0.1802      0.4955\n",
      "Races                        -0.6917         nan      nan    nan          nan         nan\n",
      "Ethnicity_0                  -1.9593         nan      nan    nan          nan         nan\n",
      "Ethnicity_1                  -1.2348         nan      nan    nan          nan         nan\n",
      "Ethnicity_2                   0.0593         nan      nan    nan          nan         nan\n",
      "Races_0                      -1.9271         nan      nan    nan          nan         nan\n",
      "Races_1                      -1.2032         nan      nan    nan          nan         nan\n",
      "Races_2                      -0.5250         nan      nan    nan          nan         nan\n",
      "Races_3                       0.5205         nan      nan    nan          nan         nan\n",
      "num_immunization             -0.2674      0.0118 -22.6364 0.0000      -0.2905     -0.2442\n",
      "Num med per admission mean    0.0591      0.0165   3.5929 0.0003       0.0269      0.0913\n",
      "Num med per admission min     0.0259      0.0075   3.4714 0.0005       0.0113      0.0405\n",
      "Num med per admission max     0.0310      0.0130   2.3873 0.0170       0.0055      0.0564\n",
      "Total medications            -0.0007      0.0001  -9.2925 0.0000      -0.0009     -0.0006\n",
      "mean age at specailty         0.6453      0.0287  22.4548 0.0000       0.5889      0.7016\n",
      "specialty medical count       0.0273      0.0065   4.1736 0.0000       0.0145      0.0401\n",
      "specialty support count       0.0150      0.0065   2.3152 0.0206       0.0023      0.0277\n",
      "specialty count              -0.0119      0.0065  -1.8433 0.0653      -0.0246      0.0008\n",
      "Ruca category encoded        -0.0813      0.0233  -3.4946 0.0005      -0.1270     -0.0357\n",
      "Age 20-40 hypotension         0.0008      0.0048   0.1720 0.8634      -0.0085      0.0101\n",
      "Age 40-60 hypotension         0.0028      0.0006   4.6814 0.0000       0.0017      0.0040\n",
      "Age 60-80 hypotension         0.0012      0.0002   5.5432 0.0000       0.0008      0.0016\n",
      "Age 80-100 hypotension        0.0021      0.0004   5.9767 0.0000       0.0014      0.0028\n",
      "Age 100-120 hypotension      -0.0002      0.0107  -0.0221 0.9824      -0.0212      0.0208\n",
      "Age 20-40 hypertension       -0.0021      0.0029  -0.7216 0.4705      -0.0079      0.0036\n",
      "Age 40-60 hypertension       -0.0005      0.0002  -2.8842 0.0039      -0.0009     -0.0002\n",
      "Age 60-80 hypertension       -0.0004      0.0001  -3.7260 0.0002      -0.0006     -0.0002\n",
      "Age 80-100 hypertension      -0.0008      0.0002  -3.7620 0.0002      -0.0012     -0.0004\n",
      "Age 100-120 hypertension      0.0109      0.0076   1.4334 0.1517      -0.0040      0.0258\n",
      "Age 20-40 healthy            -0.0014      0.0036  -0.3882 0.6979      -0.0084      0.0056\n",
      "Age 40-60 healthy            -0.0014      0.0005  -3.0859 0.0020      -0.0023     -0.0005\n",
      "Age 60-80 healthy            -0.0002      0.0002  -1.1579 0.2469      -0.0006      0.0001\n",
      "Age 80-100 healthy           -0.0003      0.0004  -0.8782 0.3798      -0.0010      0.0004\n",
      "Age 100-120 healthy           0.0009      0.0072   0.1273 0.8987      -0.0132      0.0150\n",
      "lab_count                    -0.0001      0.0001  -2.3232 0.0202      -0.0002     -0.0000\n",
      "lab_freq                      0.0026      0.0004   7.1053 0.0000       0.0019      0.0033\n",
      "lab_age_mean                 -0.3116      0.0108 -28.7387 0.0000      -0.3329     -0.2904\n",
      "lab_age_std                  -0.4334      0.0149 -29.0306 0.0000      -0.4626     -0.4041\n",
      "=========================================================================================\n",
      "\n"
     ]
    }
   ],
   "source": [
    "import statsmodels.api as sm\n",
    "logit_model=sm.Logit(y_train_mor,X_train_mor)\n",
    "result=logit_model.fit()\n",
    "print(result.summary2()) "
   ]
  }
 ],
 "metadata": {
  "kernelspec": {
   "display_name": "Python 3",
   "language": "python",
   "name": "python3"
  },
  "language_info": {
   "codemirror_mode": {
    "name": "ipython",
    "version": 3
   },
   "file_extension": ".py",
   "mimetype": "text/x-python",
   "name": "python",
   "nbconvert_exporter": "python",
   "pygments_lexer": "ipython3",
   "version": "3.10.11"
  },
  "orig_nbformat": 4
 },
 "nbformat": 4,
 "nbformat_minor": 2
}
