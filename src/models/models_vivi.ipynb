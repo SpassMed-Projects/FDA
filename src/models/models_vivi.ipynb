{
 "cells": [
  {
   "cell_type": "code",
   "execution_count": 2,
   "metadata": {},
   "outputs": [],
   "source": [
    "import pandas as pd\n",
    "from sklearn.preprocessing import StandardScaler\n",
    "\n",
    "import numpy as np\n",
    "import pandas as pd\n",
    "\n",
    "import seaborn as sns\n",
    "import matplotlib.pyplot as plt\n",
    "\n",
    "from sklearn.model_selection import train_test_split\n",
    "from sklearn.tree import DecisionTreeClassifier, plot_tree\n",
    "\n",
    "from sklearn.model_selection import cross_val_score\n",
    "\n",
    "from sklearn.metrics import classification_report, confusion_matrix\n",
    "from sklearn.metrics import ConfusionMatrixDisplay\n"
   ]
  },
  {
   "cell_type": "code",
   "execution_count": 3,
   "metadata": {},
   "outputs": [],
   "source": [
    "path = '/home/daisy/FDA_Dataset/inpatient_all_final_1.csv'\n",
    "df1 = pd.read_csv(path).iloc[:,1:]\n",
    "df1.drop(columns = ['Veteran flag',\n",
    "                    'Event date','Marital status', 'Marital status encoded',\n",
    "                    'State','Ruca category'], inplace=True)\n",
    "\n",
    "\n",
    "path = '/home/daisy/FDA_Dataset/inpatient_all_final_2.csv'\n",
    "df2 = pd.read_csv(path).iloc[:,1:]\n",
    "df2.drop(columns = ['Veteran flag',\n",
    "                    'Event date','Marital status', 'Marital status encoded',\n",
    "                    'State','Ruca category'], inplace=True)"
   ]
  },
  {
   "cell_type": "code",
   "execution_count": 4,
   "metadata": {},
   "outputs": [
    {
     "data": {
      "text/plain": [
       "(84536, 76)"
      ]
     },
     "execution_count": 4,
     "metadata": {},
     "output_type": "execute_result"
    }
   ],
   "source": [
    "df1.shape"
   ]
  },
  {
   "cell_type": "code",
   "execution_count": 5,
   "metadata": {},
   "outputs": [
    {
     "name": "stdout",
     "output_type": "stream",
     "text": [
      "<class 'pandas.core.frame.DataFrame'>\n",
      "RangeIndex: 84536 entries, 0 to 84535\n",
      "Data columns (total 76 columns):\n",
      " #   Column                        Non-Null Count  Dtype  \n",
      "---  ------                        --------------  -----  \n",
      " 0   Internalpatientid             84536 non-null  int64  \n",
      " 1   num_stays                     84536 non-null  int64  \n",
      " 2   stay_length                   84536 non-null  float64\n",
      " 3   num_unique_units              84536 non-null  int64  \n",
      " 4   num_transfers                 84536 non-null  int64  \n",
      " 5   num_cvd_readmission           84536 non-null  int64  \n",
      " 6   Readmission                   84536 non-null  int64  \n",
      " 7   Died                          84536 non-null  int64  \n",
      " 8   AO                            84536 non-null  int64  \n",
      " 9   CVD                           84536 non-null  int64  \n",
      " 10  unique_admitting_specialty    84536 non-null  int64  \n",
      " 11  unique_discharging_specialty  84536 non-null  int64  \n",
      " 12  DOMICILIARY                   84536 non-null  int64  \n",
      " 13  MEDICINE                      84536 non-null  int64  \n",
      " 14  NHCU                          84536 non-null  int64  \n",
      " 15  NON-COUNT                     84536 non-null  int64  \n",
      " 16  OTHERS                        84536 non-null  int64  \n",
      " 17  PSYCHIATRY                    84536 non-null  int64  \n",
      " 18  SURGERY                       84536 non-null  int64  \n",
      " 19  Age 20-40                     84536 non-null  int64  \n",
      " 20  Age 40-60                     84536 non-null  int64  \n",
      " 21  Age 60-80                     84536 non-null  int64  \n",
      " 22  Age 80-100                    84536 non-null  int64  \n",
      " 23  Age 100-120                   84536 non-null  int64  \n",
      " 24  age_mean                      84536 non-null  float64\n",
      " 25  age_std                       84536 non-null  float64\n",
      " 26  age_min                       84536 non-null  float64\n",
      " 27  age_max                       84536 non-null  float64\n",
      " 28  stay_min                      84536 non-null  float64\n",
      " 29  stay_max                      84536 non-null  float64\n",
      " 30  stay_mean                     84536 non-null  float64\n",
      " 31  stay_std                      84536 non-null  float64\n",
      " 32  freq                          84536 non-null  float64\n",
      " 33  total_procedure               84531 non-null  float64\n",
      " 34  num_surgery_pro               84531 non-null  float64\n",
      " 35  Ethnicity                     84536 non-null  int64  \n",
      " 36  Gender                        84536 non-null  int64  \n",
      " 37  Races                         84536 non-null  int64  \n",
      " 38  Ethnicity_0                   84536 non-null  int64  \n",
      " 39  Ethnicity_1                   84536 non-null  int64  \n",
      " 40  Ethnicity_2                   84536 non-null  int64  \n",
      " 41  Races_0                       84536 non-null  int64  \n",
      " 42  Races_1                       84536 non-null  int64  \n",
      " 43  Races_2                       84536 non-null  int64  \n",
      " 44  Races_3                       84536 non-null  int64  \n",
      " 45  num_immunization              80454 non-null  float64\n",
      " 46  Num med per admission mean    62193 non-null  float64\n",
      " 47  Num med per admission min     62193 non-null  float64\n",
      " 48  Num med per admission max     62193 non-null  float64\n",
      " 49  Total medications             62193 non-null  float64\n",
      " 50  mean age at specailty         84534 non-null  float64\n",
      " 51  period mean                   84534 non-null  float64\n",
      " 52  period std                    84534 non-null  float64\n",
      " 53  specialty medical count       84534 non-null  float64\n",
      " 54  specialty support count       84534 non-null  float64\n",
      " 55  specialty count               84534 non-null  float64\n",
      " 56  Ruca category encoded         84536 non-null  float64\n",
      " 57  Age 20-40 hypotension         80906 non-null  float64\n",
      " 58  Age 40-60 hypotension         80906 non-null  float64\n",
      " 59  Age 60-80 hypotension         80906 non-null  float64\n",
      " 60  Age 80-100 hypotension        80906 non-null  float64\n",
      " 61  Age 100-120 hypotension       80906 non-null  float64\n",
      " 62  Age 20-40 hypertension        83823 non-null  float64\n",
      " 63  Age 40-60 hypertension        83823 non-null  float64\n",
      " 64  Age 60-80 hypertension        83823 non-null  float64\n",
      " 65  Age 80-100 hypertension       83823 non-null  float64\n",
      " 66  Age 100-120 hypertension      83823 non-null  float64\n",
      " 67  Age 20-40 healthy             83238 non-null  float64\n",
      " 68  Age 40-60 healthy             83238 non-null  float64\n",
      " 69  Age 60-80 healthy             83238 non-null  float64\n",
      " 70  Age 80-100 healthy            83238 non-null  float64\n",
      " 71  Age 100-120 healthy           83238 non-null  float64\n",
      " 72  lab_count                     84503 non-null  float64\n",
      " 73  lab_freq                      84503 non-null  float64\n",
      " 74  lab_age_mean                  84503 non-null  float64\n",
      " 75  lab_age_std                   84503 non-null  float64\n",
      "dtypes: float64(43), int64(33)\n",
      "memory usage: 49.0 MB\n"
     ]
    }
   ],
   "source": [
    "df1.info()"
   ]
  },
  {
   "cell_type": "markdown",
   "metadata": {},
   "source": [
    "### Train test split\n"
   ]
  },
  {
   "cell_type": "code",
   "execution_count": 6,
   "metadata": {},
   "outputs": [
    {
     "name": "stdout",
     "output_type": "stream",
     "text": [
      "<class 'pandas.core.frame.DataFrame'>\n",
      "RangeIndex: 84536 entries, 0 to 84535\n",
      "Data columns (total 76 columns):\n",
      " #   Column                        Non-Null Count  Dtype  \n",
      "---  ------                        --------------  -----  \n",
      " 0   Internalpatientid             84536 non-null  int64  \n",
      " 1   num_stays                     84536 non-null  int64  \n",
      " 2   stay_length                   84536 non-null  float64\n",
      " 3   num_unique_units              84536 non-null  int64  \n",
      " 4   num_transfers                 84536 non-null  int64  \n",
      " 5   num_cvd_readmission           84536 non-null  int64  \n",
      " 6   Readmission                   84536 non-null  int64  \n",
      " 7   Died                          84536 non-null  int64  \n",
      " 8   AO                            84536 non-null  int64  \n",
      " 9   CVD                           84536 non-null  int64  \n",
      " 10  unique_admitting_specialty    84536 non-null  int64  \n",
      " 11  unique_discharging_specialty  84536 non-null  int64  \n",
      " 12  DOMICILIARY                   84536 non-null  int64  \n",
      " 13  MEDICINE                      84536 non-null  int64  \n",
      " 14  NHCU                          84536 non-null  int64  \n",
      " 15  NON-COUNT                     84536 non-null  int64  \n",
      " 16  OTHERS                        84536 non-null  int64  \n",
      " 17  PSYCHIATRY                    84536 non-null  int64  \n",
      " 18  SURGERY                       84536 non-null  int64  \n",
      " 19  Age 20-40                     84536 non-null  int64  \n",
      " 20  Age 40-60                     84536 non-null  int64  \n",
      " 21  Age 60-80                     84536 non-null  int64  \n",
      " 22  Age 80-100                    84536 non-null  int64  \n",
      " 23  Age 100-120                   84536 non-null  int64  \n",
      " 24  age_mean                      84536 non-null  float64\n",
      " 25  age_std                       84536 non-null  float64\n",
      " 26  age_min                       84536 non-null  float64\n",
      " 27  age_max                       84536 non-null  float64\n",
      " 28  stay_min                      84536 non-null  float64\n",
      " 29  stay_max                      84536 non-null  float64\n",
      " 30  stay_mean                     84536 non-null  float64\n",
      " 31  stay_std                      84536 non-null  float64\n",
      " 32  freq                          84536 non-null  float64\n",
      " 33  total_procedure               84531 non-null  float64\n",
      " 34  num_surgery_pro               84531 non-null  float64\n",
      " 35  Ethnicity                     84536 non-null  int64  \n",
      " 36  Gender                        84536 non-null  int64  \n",
      " 37  Races                         84536 non-null  int64  \n",
      " 38  Ethnicity_0                   84536 non-null  int64  \n",
      " 39  Ethnicity_1                   84536 non-null  int64  \n",
      " 40  Ethnicity_2                   84536 non-null  int64  \n",
      " 41  Races_0                       84536 non-null  int64  \n",
      " 42  Races_1                       84536 non-null  int64  \n",
      " 43  Races_2                       84536 non-null  int64  \n",
      " 44  Races_3                       84536 non-null  int64  \n",
      " 45  num_immunization              80454 non-null  float64\n",
      " 46  Num med per admission mean    62193 non-null  float64\n",
      " 47  Num med per admission min     62193 non-null  float64\n",
      " 48  Num med per admission max     62193 non-null  float64\n",
      " 49  Total medications             62193 non-null  float64\n",
      " 50  mean age at specailty         84534 non-null  float64\n",
      " 51  period mean                   84534 non-null  float64\n",
      " 52  period std                    84534 non-null  float64\n",
      " 53  specialty medical count       84534 non-null  float64\n",
      " 54  specialty support count       84534 non-null  float64\n",
      " 55  specialty count               84534 non-null  float64\n",
      " 56  Ruca category encoded         84536 non-null  float64\n",
      " 57  Age 20-40 hypotension         80906 non-null  float64\n",
      " 58  Age 40-60 hypotension         80906 non-null  float64\n",
      " 59  Age 60-80 hypotension         80906 non-null  float64\n",
      " 60  Age 80-100 hypotension        80906 non-null  float64\n",
      " 61  Age 100-120 hypotension       80906 non-null  float64\n",
      " 62  Age 20-40 hypertension        83823 non-null  float64\n",
      " 63  Age 40-60 hypertension        83823 non-null  float64\n",
      " 64  Age 60-80 hypertension        83823 non-null  float64\n",
      " 65  Age 80-100 hypertension       83823 non-null  float64\n",
      " 66  Age 100-120 hypertension      83823 non-null  float64\n",
      " 67  Age 20-40 healthy             83238 non-null  float64\n",
      " 68  Age 40-60 healthy             83238 non-null  float64\n",
      " 69  Age 60-80 healthy             83238 non-null  float64\n",
      " 70  Age 80-100 healthy            83238 non-null  float64\n",
      " 71  Age 100-120 healthy           83238 non-null  float64\n",
      " 72  lab_count                     84503 non-null  float64\n",
      " 73  lab_freq                      84503 non-null  float64\n",
      " 74  lab_age_mean                  84503 non-null  float64\n",
      " 75  lab_age_std                   84503 non-null  float64\n",
      "dtypes: float64(43), int64(33)\n",
      "memory usage: 49.0 MB\n"
     ]
    }
   ],
   "source": [
    "df1.info()"
   ]
  },
  {
   "cell_type": "code",
   "execution_count": 7,
   "metadata": {},
   "outputs": [],
   "source": [
    "X_admission = df1.drop(columns = ['Readmission'])\n",
    "Y_admission = df1[['Readmission']]\n",
    "\n",
    "X_mortality = df1.drop(columns = ['Died'])\n",
    "Y_mortality = df1[['Died']]"
   ]
  },
  {
   "cell_type": "code",
   "execution_count": 8,
   "metadata": {},
   "outputs": [],
   "source": [
    "X_train_ad, X_test_ad, y_train_ad, y_test_ad = train_test_split(X_admission, Y_admission, test_size=0.20, random_state=42)\n",
    "X_train_mor, X_test_mor, y_train_mor, y_test_mor = train_test_split(X_mortality, Y_mortality, test_size=0.20, random_state=42)\n"
   ]
  },
  {
   "cell_type": "markdown",
   "metadata": {},
   "source": [
    "#### Filling missing values"
   ]
  },
  {
   "cell_type": "code",
   "execution_count": 9,
   "metadata": {},
   "outputs": [
    {
     "data": {
      "text/plain": [
       "['total_procedure',\n",
       " 'num_surgery_pro',\n",
       " 'num_immunization',\n",
       " 'Num med per admission mean',\n",
       " 'Num med per admission min',\n",
       " 'Num med per admission max',\n",
       " 'Total medications',\n",
       " 'mean age at specailty',\n",
       " 'period mean',\n",
       " 'period std',\n",
       " 'specialty medical count',\n",
       " 'specialty support count',\n",
       " 'specialty count',\n",
       " 'Age 20-40 hypotension',\n",
       " 'Age 40-60 hypotension',\n",
       " 'Age 60-80 hypotension',\n",
       " 'Age 80-100 hypotension',\n",
       " 'Age 100-120 hypotension',\n",
       " 'Age 20-40 hypertension',\n",
       " 'Age 40-60 hypertension',\n",
       " 'Age 60-80 hypertension',\n",
       " 'Age 80-100 hypertension',\n",
       " 'Age 100-120 hypertension',\n",
       " 'Age 20-40 healthy',\n",
       " 'Age 40-60 healthy',\n",
       " 'Age 60-80 healthy',\n",
       " 'Age 80-100 healthy',\n",
       " 'Age 100-120 healthy',\n",
       " 'lab_count',\n",
       " 'lab_freq',\n",
       " 'lab_age_mean',\n",
       " 'lab_age_std']"
      ]
     },
     "execution_count": 9,
     "metadata": {},
     "output_type": "execute_result"
    }
   ],
   "source": [
    "df1.columns[df1.isna().any()].tolist()"
   ]
  },
  {
   "cell_type": "code",
   "execution_count": 10,
   "metadata": {},
   "outputs": [],
   "source": [
    "# Filling continuous features with mean values\n",
    "numeric_cols = df1.columns[df1.isna().any()].tolist()\n",
    "\n",
    "X_train_ad[numeric_cols] = X_train_ad[numeric_cols].fillna(X_train_ad[numeric_cols].mean())\n",
    "X_train_mor[numeric_cols] =  X_train_mor[numeric_cols].fillna(X_train_mor[numeric_cols].mean())\n",
    "\n",
    "X_test_ad[numeric_cols] = X_test_ad[numeric_cols].fillna(X_test_ad[numeric_cols].mean())\n",
    "X_test_mor[numeric_cols] = X_test_mor[numeric_cols].fillna(X_test_mor[numeric_cols].mean())"
   ]
  },
  {
   "cell_type": "code",
   "execution_count": 11,
   "metadata": {},
   "outputs": [
    {
     "data": {
      "text/plain": [
       "0"
      ]
     },
     "execution_count": 11,
     "metadata": {},
     "output_type": "execute_result"
    }
   ],
   "source": [
    "X_train_ad.isna().any().sum()"
   ]
  },
  {
   "attachments": {},
   "cell_type": "markdown",
   "metadata": {},
   "source": [
    "#### Descision Tree"
   ]
  },
  {
   "cell_type": "code",
   "execution_count": 12,
   "metadata": {},
   "outputs": [],
   "source": [
    "lr = DecisionTreeClassifier()\n",
    "# Training\n",
    "lr.fit(X_train_ad, y_train_ad)\n",
    "\n",
    "# Prediction\n",
    "lr_prediction = lr.predict(X_test_ad)"
   ]
  },
  {
   "cell_type": "code",
   "execution_count": 13,
   "metadata": {},
   "outputs": [
    {
     "name": "stdout",
     "output_type": "stream",
     "text": [
      "                precision    recall  f1-score   support\n",
      "\n",
      "Not Readmitted       1.00      1.00      1.00      3316\n",
      "    Readmitted       1.00      1.00      1.00     13592\n",
      "\n",
      "      accuracy                           1.00     16908\n",
      "     macro avg       1.00      1.00      1.00     16908\n",
      "  weighted avg       1.00      1.00      1.00     16908\n",
      "\n"
     ]
    }
   ],
   "source": [
    "print(classification_report(y_test_ad, lr_prediction, target_names= ['Not Readmitted', 'Readmitted']))\n"
   ]
  },
  {
   "cell_type": "code",
   "execution_count": 14,
   "metadata": {},
   "outputs": [],
   "source": [
    "lr = DecisionTreeClassifier()\n",
    "# Training\n",
    "lr.fit(X_train_mor, y_train_mor)\n",
    "\n",
    "# Prediction\n",
    "lr_prediction = lr.predict(X_test_mor)"
   ]
  },
  {
   "cell_type": "code",
   "execution_count": 15,
   "metadata": {},
   "outputs": [
    {
     "name": "stdout",
     "output_type": "stream",
     "text": [
      "              precision    recall  f1-score   support\n",
      "\n",
      "    Not Died       0.86      0.85      0.86     13744\n",
      "        Died       0.39      0.42      0.41      3164\n",
      "\n",
      "    accuracy                           0.77     16908\n",
      "   macro avg       0.63      0.64      0.63     16908\n",
      "weighted avg       0.78      0.77      0.77     16908\n",
      "\n"
     ]
    }
   ],
   "source": [
    "print(classification_report(y_test_mor, lr_prediction, target_names= ['Not Died', 'Died']))\n"
   ]
  },
  {
   "cell_type": "code",
   "execution_count": 16,
   "metadata": {},
   "outputs": [
    {
     "data": {
      "text/plain": [
       "array([1, 0])"
      ]
     },
     "execution_count": 16,
     "metadata": {},
     "output_type": "execute_result"
    }
   ],
   "source": [
    "y_train_ad['Readmission'].unique()"
   ]
  },
  {
   "cell_type": "code",
   "execution_count": 17,
   "metadata": {},
   "outputs": [
    {
     "name": "stdout",
     "output_type": "stream",
     "text": [
      "Optimization terminated successfully.\n",
      "         Current function value: 0.371450\n",
      "         Iterations 11\n",
      "                                       Results: Logit\n",
      "============================================================================================\n",
      "Model:                       Logit                     Pseudo R-squared:          0.224     \n",
      "Dependent Variable:          Died                      AIC:                       50378.8745\n",
      "Date:                        2023-07-18 12:41          BIC:                       51008.2771\n",
      "No. Observations:            67628                     Log-Likelihood:            -25120.   \n",
      "Df Model:                    68                        LL-Null:                   -32361.   \n",
      "Df Residuals:                67559                     LLR p-value:               0.0000    \n",
      "Converged:                   1.0000                    Scale:                     1.0000    \n",
      "No. Iterations:              11.0000                                                        \n",
      "--------------------------------------------------------------------------------------------\n",
      "                              Coef.    Std.Err.      z     P>|z|      [0.025       0.975]   \n",
      "--------------------------------------------------------------------------------------------\n",
      "Internalpatientid            -0.0000       0.0000  -0.4468 0.6550       -0.0000       0.0000\n",
      "num_stays                    -0.0697  255746.9859  -0.0000 1.0000  -501254.9513  501254.8118\n",
      "stay_length                  -0.0003       0.0002  -1.7149 0.0864       -0.0007       0.0000\n",
      "num_unique_units              0.0826       0.0197   4.1977 0.0000        0.0440       0.1211\n",
      "num_transfers                 0.0331       0.0152   2.1829 0.0290        0.0034       0.0628\n",
      "num_cvd_readmission          -0.0144       0.0058  -2.4633 0.0138       -0.0258      -0.0029\n",
      "Readmission                   0.1894       0.0445   4.2524 0.0000        0.1021       0.2768\n",
      "AO                            0.0527       0.0284   1.8540 0.0637       -0.0030       0.1085\n",
      "CVD                          -0.1622       0.0256  -6.3282 0.0000       -0.2124      -0.1120\n",
      "unique_admitting_specialty   -0.0055       0.0101  -0.5429 0.5872       -0.0254       0.0144\n",
      "unique_discharging_specialty  0.2862       0.0136  21.0601 0.0000        0.2595       0.3128\n",
      "DOMICILIARY                  -0.1545  342688.0867  -0.0000 1.0000  -671656.4623  671656.1534\n",
      "MEDICINE                      0.0626  343948.6764   0.0000 1.0000  -674126.9556  674127.0808\n",
      "NHCU                          0.2135  339719.5349   0.0000 1.0000  -665837.8398  665838.2668\n",
      "NON-COUNT                    -0.1053  337913.2626  -0.0000 1.0000  -662297.9299  662297.7193\n",
      "OTHERS                        0.0250  340704.2428   0.0000 1.0000  -667768.0202  667768.0702\n",
      "PSYCHIATRY                   -0.0346  371174.1509  -0.0000 1.0000  -727488.0024  727487.9331\n",
      "SURGERY                      -0.0766  359851.7234  -0.0000 1.0000  -705296.4942  705296.3410\n",
      "Age 20-40                     0.0607          nan      nan    nan           nan          nan\n",
      "Age 40-60                     0.0326          nan      nan    nan           nan          nan\n",
      "Age 60-80                     0.0129          nan      nan    nan           nan          nan\n",
      "Age 80-100                    0.0128          nan      nan    nan           nan          nan\n",
      "Age 100-120                  -0.1891          nan      nan    nan           nan          nan\n",
      "age_mean                     -0.2019       0.0303  -6.6667 0.0000       -0.2612      -0.1425\n",
      "age_std                       0.1855       0.0214   8.6762 0.0000        0.1436       0.2274\n",
      "age_min                      -0.0409       0.0096  -4.2428 0.0000       -0.0599      -0.0220\n",
      "age_max                      -0.0606       0.0154  -3.9393 0.0001       -0.0907      -0.0304\n",
      "stay_min                      0.0025          nan      nan    nan           nan          nan\n",
      "stay_max                      0.0025          nan      nan    nan           nan          nan\n",
      "stay_mean                    -0.0013       0.0016  -0.8116 0.4170       -0.0045       0.0019\n",
      "stay_std                      0.0043       0.0011   3.8857 0.0001        0.0021       0.0064\n",
      "freq                          0.0602       0.0124   4.8442 0.0000        0.0358       0.0845\n",
      "total_procedure              -0.0000       0.0000  -2.3648 0.0180       -0.0001      -0.0000\n",
      "num_surgery_pro              -0.0051       0.0013  -4.0277 0.0001       -0.0075      -0.0026\n",
      "Ethnicity                    -1.1164  431031.2660  -0.0000 1.0000  -844806.8740  844804.6413\n",
      "Gender                        0.3406       0.0805   4.2323 0.0000        0.1829       0.4984\n",
      "Races                        -0.6912          nan      nan    nan           nan          nan\n",
      "Ethnicity_0                  -1.9584 3633658.4313  -0.0000 1.0000 -7121841.6158 7121837.6990\n",
      "Ethnicity_1                  -1.2347 3014596.8752  -0.0000 1.0000 -5908502.5380 5908500.0685\n",
      "Ethnicity_2                   0.0592 2311552.7338   0.0000 1.0000 -4530560.0474 4530560.1658\n",
      "Races_0                      -1.9268 3633658.4313  -0.0000 1.0000 -7121841.5842 7121837.7306\n",
      "Races_1                      -1.2024 3418887.6680  -0.0000 1.0000 -6700897.8989 6700895.4941\n",
      "Races_2                      -0.5253 3134973.4449  -0.0000 1.0000 -6144435.5698 6144434.5191\n",
      "Races_3                       0.5206 2760664.8540   0.0000 1.0000 -5410803.1666 5410804.2079\n",
      "num_immunization             -0.2673       0.0118 -22.6231 0.0000       -0.2904      -0.2441\n",
      "Num med per admission mean    0.0596       0.0164   3.6208 0.0003        0.0273       0.0918\n",
      "Num med per admission min     0.0264       0.0075   3.5393 0.0004        0.0118       0.0410\n",
      "Num med per admission max     0.0303       0.0130   2.3375 0.0194        0.0049       0.0557\n",
      "Total medications            -0.0007       0.0001  -9.1092 0.0000       -0.0009      -0.0006\n",
      "mean age at specailty         0.6453       0.0286  22.5259 0.0000        0.5891       0.7014\n",
      "period mean                   0.0017       0.0036   0.4650 0.6419       -0.0053       0.0087\n",
      "period std                    0.0032       0.0018   1.7535 0.0795       -0.0004       0.0067\n",
      "specialty medical count       0.0273       0.0065   4.1859 0.0000        0.0145       0.0401\n",
      "specialty support count       0.0151       0.0065   2.3335 0.0196        0.0024       0.0278\n",
      "specialty count              -0.0107       0.0065  -1.6485 0.0992       -0.0233       0.0020\n",
      "Ruca category encoded        -0.0809       0.0233  -3.4760 0.0005       -0.1266      -0.0353\n",
      "Age 20-40 hypotension         0.0008       0.0048   0.1725 0.8631       -0.0085       0.0101\n",
      "Age 40-60 hypotension         0.0028       0.0006   4.6924 0.0000        0.0017       0.0040\n",
      "Age 60-80 hypotension         0.0012       0.0002   5.6237 0.0000        0.0008       0.0017\n",
      "Age 80-100 hypotension        0.0021       0.0004   5.9257 0.0000        0.0014       0.0028\n",
      "Age 100-120 hypotension       0.0004       0.0107   0.0369 0.9706       -0.0206       0.0214\n",
      "Age 20-40 hypertension       -0.0021       0.0029  -0.7327 0.4637       -0.0079       0.0036\n",
      "Age 40-60 hypertension       -0.0005       0.0002  -2.8161 0.0049       -0.0009      -0.0002\n",
      "Age 60-80 hypertension       -0.0004       0.0001  -3.8064 0.0001       -0.0006      -0.0002\n",
      "Age 80-100 hypertension      -0.0008       0.0002  -3.7665 0.0002       -0.0012      -0.0004\n",
      "Age 100-120 hypertension      0.0109       0.0076   1.4232 0.1547       -0.0041       0.0258\n",
      "Age 20-40 healthy            -0.0014       0.0035  -0.3858 0.6997       -0.0083       0.0055\n",
      "Age 40-60 healthy            -0.0015       0.0004  -3.3626 0.0008       -0.0024      -0.0006\n",
      "Age 60-80 healthy            -0.0003       0.0002  -1.3912 0.1642       -0.0006       0.0001\n",
      "Age 80-100 healthy           -0.0004       0.0003  -1.0381 0.2992       -0.0010       0.0003\n",
      "Age 100-120 healthy           0.0007       0.0072   0.0953 0.9241       -0.0134       0.0148\n",
      "lab_count                    -0.0002       0.0001  -2.6736 0.0075       -0.0003      -0.0000\n",
      "lab_freq                      0.0027       0.0004   7.2560 0.0000        0.0019       0.0034\n",
      "lab_age_mean                 -0.3125       0.0109 -28.7815 0.0000       -0.3337      -0.2912\n",
      "lab_age_std                  -0.4343       0.0149 -29.0546 0.0000       -0.4636      -0.4050\n",
      "============================================================================================\n",
      "\n"
     ]
    }
   ],
   "source": [
    "import statsmodels.api as sm\n",
    "logit_model=sm.Logit(y_train_mor,X_train_mor)\n",
    "result=logit_model.fit()\n",
    "print(result.summary2()) "
   ]
  }
 ],
 "metadata": {
  "kernelspec": {
   "display_name": "Python 3",
   "language": "python",
   "name": "python3"
  },
  "language_info": {
   "codemirror_mode": {
    "name": "ipython",
    "version": 3
   },
   "file_extension": ".py",
   "mimetype": "text/x-python",
   "name": "python",
   "nbconvert_exporter": "python",
   "pygments_lexer": "ipython3",
   "version": "3.10.11"
  },
  "orig_nbformat": 4
 },
 "nbformat": 4,
 "nbformat_minor": 2
}
