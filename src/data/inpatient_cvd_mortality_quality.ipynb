{
 "cells": [
  {
   "cell_type": "code",
   "execution_count": 1,
   "metadata": {},
   "outputs": [],
   "source": [
    "import pandas as pd\n",
    "import os\n",
    "import numpy as np\n",
    "from tqdm.auto import tqdm\n",
    "import matplotlib.pyplot as plt\n",
    "import seaborn as sns\n",
    "import math"
   ]
  },
  {
   "cell_type": "code",
   "execution_count": 2,
   "metadata": {},
   "outputs": [],
   "source": [
    "datatype = \"quality\""
   ]
  },
  {
   "cell_type": "code",
   "execution_count": 3,
   "metadata": {},
   "outputs": [],
   "source": [
    "if datatype == \"train\": \n",
    "    in_ad = pd.read_csv(\"/home/hassan/lily/MLA/FDA/in_ad.csv\", index_col=0)\n",
    "    death = pd.read_csv(\"/home/bhatti/dataset/VCHAMPS/death_train.csv\", index_col=0)\n",
    "if datatype == \"test\": \n",
    "    in_ad = pd.read_csv(\"/home/hassan/lily/MLA/FDA/in_ad_test.csv\", index_col=0)\n",
    "    death = pd.read_csv(\"/data/public/MLA/VCHAMPS-Test/death_test.csv\", index_col=0)\n",
    "if datatype == \"quality\": \n",
    "    in_ad = pd.read_csv(\"/home/hassan/lily/MLA/FDA/in_ad_quality.csv\", index_col=0)"
   ]
  },
  {
   "cell_type": "code",
   "execution_count": 4,
   "metadata": {},
   "outputs": [
    {
     "data": {
      "text/plain": [
       "Index(['Internalpatientid', 'Age at admission', 'Admission date',\n",
       "       'Discharge date', 'Admitting unit service', 'Discharging unit service',\n",
       "       'Admitting specialty', 'Discharging specialty',\n",
       "       'First listed discharge diagnosis icd10 subcategory',\n",
       "       'Second listed discharge diagnosis icd10 subcategory',\n",
       "       'Discharge disposition', 'Died during admission',\n",
       "       'Outpatientreferralflag', 'Serviceconnectedflag', 'Agentorangeflag',\n",
       "       'State', 'Transfer', 'DOMICILIARY', 'MEDICINE', 'NHCU', 'NON-COUNT',\n",
       "       'OTHERS', 'PSYCHIATRY', 'SURGERY', 'stay_length', 'Age 20-40',\n",
       "       'Age 40-60', 'Age 60-80', 'Age 80-100', 'Age 100-120', 'cd_diagnosis',\n",
       "       'Mental', 'Medical', 'Rehab', 'Gerontology', 'Others_Specialty'],\n",
       "      dtype='object')"
      ]
     },
     "execution_count": 4,
     "metadata": {},
     "output_type": "execute_result"
    }
   ],
   "source": [
    "in_ad.columns"
   ]
  },
  {
   "cell_type": "code",
   "execution_count": 5,
   "metadata": {},
   "outputs": [],
   "source": [
    "def final_set_before(ids, group):\n",
    "    \n",
    "    readmission = 0\n",
    "    num_admissions = group[\"Age at admission\"].nunique()\n",
    "    if num_admissions > 1: readmission=1\n",
    "\n",
    "    age_mean = group[\"Age at admission\"].mean()\n",
    "    age_std = group[\"Age at admission\"].std()\n",
    "    if group[\"Age at admission\"].nunique() == 1: age_std = 0\n",
    "\n",
    "    min_age = group[\"Age at admission\"].min()\n",
    "    max_age = group[\"Age at admission\"].max()\n",
    "\n",
    "    freq = num_admissions/(math.floor(max_age - min_age) + 1)\n",
    "\n",
    "    min_stay = group[\"stay_length\"].min()\n",
    "    max_stay = group[\"stay_length\"].min()\n",
    "    stay_mean = group[\"stay_length\"].mean()\n",
    "    stay_std = group[\"stay_length\"].std()\n",
    "    if group[\"stay_length\"].nunique() == 1: stay_std = 0\n",
    "\n",
    "    # num_cvd_readmission = max(0, group['cd_diagnosis'].sum() - 1)\n",
    "    num_cvd_admission = group['cd_diagnosis'].sum()\n",
    "\n",
    "    cvd = 0\n",
    "    if group[\"cd_diagnosis\"].sum() > 0: cvd = 1\n",
    "    \n",
    "    Died = 0\n",
    "    if group[\"Died during admission\"].sum() > 0: Died = 1\n",
    "\n",
    "    #AO = 0\n",
    "    #if group[\"Agentorangeflag\"].sum() > 0: AO = 1\n",
    "\n",
    "    if (group.iloc[len(group)-1][\"Died during admission\"] == 1) and (group.iloc[len(group)-1]['cd_diagnosis'] == 1): died_by_cvd = 1\n",
    "    else: died_by_cvd = 0\n",
    "\n",
    "    df = pd.DataFrame(data={'Internalpatientid': [ids], 'num_stays': [num_admissions], 'stay_length': group[\"stay_length\"].sum(),\n",
    "                            'num_unique_units': group[\"Admitting unit service\"].nunique(), \"num_transfers\": group[\"Transfer\"].sum(), \n",
    "                            \"num_cvd_admission\": [num_cvd_admission], \"Died\": [Died], \"CVD\": [cvd],\n",
    "                            \"unique_admitting_specialty\": group[\"Admitting specialty\"].nunique(), \"unique_discharging_specialty\": group[\"Discharging specialty\"].nunique(),\n",
    "                            \"DOMICILIARY\": group[\"DOMICILIARY\"].sum(), \"MEDICINE\": group[\"MEDICINE\"].sum(), \"NHCU\":group[\"NHCU\"].sum(),\n",
    "                            \"NON-COUNT\":group[\"NON-COUNT\"].sum(), \"OTHERS\":group[\"OTHERS\"].sum(), 'PSYCHIATRY': group['PSYCHIATRY'].sum(), 'SURGERY': group['SURGERY'].sum(),\n",
    "                            'Age 20-40': group[\"Age 20-40\"].sum(), 'Age 40-60': group[\"Age 40-60\"].sum(), 'Age 60-80':group[\"Age 60-80\"].sum(), \n",
    "                            'Age 80-100':group[\"Age 80-100\"].sum(), 'Age 100-120':group[\"Age 100-120\"].sum(), \"age_mean\": [age_mean], \"age_std\": [age_std], \n",
    "                            \"age_min\": [min_age], \"age_max\": [max_age], \"stay_min\": [min_stay], \"stay_max\": [max_stay], \"stay_mean\": [stay_mean],\n",
    "                            \"stay_std\": [stay_std], \"freq\": [round(freq,2)], 'Medical': group[\"Medical\"].sum(), 'Mental':group[\"Mental\"].sum(), \n",
    "                            'Others_Specialty':group[\"Others_Specialty\"].sum(), 'Rehab': group[\"Rehab\"].sum(), 'Gerontology': group[\"Gerontology\"].sum(),\n",
    "                            \"died_by_cvd\": died_by_cvd\n",
    "                            })\n",
    "    df = df.reset_index(drop=True)\n",
    "    return df"
   ]
  },
  {
   "cell_type": "code",
   "execution_count": 6,
   "metadata": {},
   "outputs": [
    {
     "data": {
      "application/vnd.jupyter.widget-view+json": {
       "model_id": "0414630d88334d3a86022139aae47673",
       "version_major": 2,
       "version_minor": 0
      },
      "text/plain": [
       "  0%|          | 0/632 [00:00<?, ?it/s]"
      ]
     },
     "metadata": {},
     "output_type": "display_data"
    }
   ],
   "source": [
    "tidy_dataset = []\n",
    "for ids, group in tqdm(in_ad.groupby(\"Internalpatientid\")):\n",
    "    group = group.sort_values(by = ['Admission date'],ascending=True).reset_index(drop = True)\n",
    "    df = final_set_before(ids, group)\n",
    "    tidy_dataset.append(df)\n",
    "    \n",
    "tidy_dataset = pd.concat(tidy_dataset)"
   ]
  },
  {
   "cell_type": "code",
   "execution_count": 7,
   "metadata": {},
   "outputs": [
    {
     "data": {
      "text/plain": [
       "Index(['Internalpatientid', 'num_stays', 'stay_length', 'num_unique_units',\n",
       "       'num_transfers', 'num_cvd_admission', 'CVD',\n",
       "       'unique_admitting_specialty', 'unique_discharging_specialty',\n",
       "       'DOMICILIARY', 'MEDICINE', 'NHCU', 'NON-COUNT', 'OTHERS', 'PSYCHIATRY',\n",
       "       'SURGERY', 'Age 20-40', 'Age 40-60', 'Age 60-80', 'Age 80-100',\n",
       "       'Age 100-120', 'age_mean', 'age_std', 'age_min', 'age_max', 'stay_min',\n",
       "       'stay_max', 'stay_mean', 'stay_std', 'freq', 'Medical', 'Mental',\n",
       "       'Others_Specialty', 'Rehab', 'Gerontology', 'died_by_cvd'],\n",
       "      dtype='object')"
      ]
     },
     "execution_count": 7,
     "metadata": {},
     "output_type": "execute_result"
    }
   ],
   "source": [
    "tidy_dataset = tidy_dataset.drop(columns = ['Died'])\n",
    "tidy_dataset.columns"
   ]
  },
  {
   "cell_type": "code",
   "execution_count": 8,
   "metadata": {},
   "outputs": [],
   "source": [
    "if datatype == \"train\": tidy_dataset.to_csv(\"/home/hassan/lily/MLA/FDA/inpatient_cvd_mortality.csv\")\n",
    "if datatype == \"test\": tidy_dataset.to_csv(\"/home/hassan/lily/MLA/FDA/inpatient_cvd_mortality_test.csv\")\n",
    "if datatype == \"quality\": tidy_dataset.to_csv(\"/home/hassan/lily/MLA/FDA/inpatient_cvd_mortality_quality.csv\")"
   ]
  }
 ],
 "metadata": {
  "kernelspec": {
   "display_name": "Python 3",
   "language": "python",
   "name": "python3"
  },
  "language_info": {
   "codemirror_mode": {
    "name": "ipython",
    "version": 3
   },
   "file_extension": ".py",
   "mimetype": "text/x-python",
   "name": "python",
   "nbconvert_exporter": "python",
   "pygments_lexer": "ipython3",
   "version": "3.10.11"
  },
  "orig_nbformat": 4
 },
 "nbformat": 4,
 "nbformat_minor": 2
}
