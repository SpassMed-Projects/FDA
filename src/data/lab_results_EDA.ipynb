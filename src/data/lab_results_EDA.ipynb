{
 "cells": [
  {
   "attachments": {},
   "cell_type": "markdown",
   "metadata": {},
   "source": [
    "### Lab Results\n",
    "\n",
    "For each patient, get the number of lab results"
   ]
  },
  {
   "cell_type": "code",
   "execution_count": 32,
   "metadata": {},
   "outputs": [],
   "source": [
    "import pandas as pd\n",
    "import os\n",
    "import numpy as np\n",
    "from tqdm.auto import tqdm\n",
    "import matplotlib.pyplot as plt\n",
    "import seaborn as sns\n",
    "\n",
    "DATA_PATH = \"VCHAMPS\""
   ]
  },
  {
   "cell_type": "code",
   "execution_count": 68,
   "metadata": {},
   "outputs": [
    {
     "data": {
      "text/html": [
       "<div>\n",
       "<style scoped>\n",
       "    .dataframe tbody tr th:only-of-type {\n",
       "        vertical-align: middle;\n",
       "    }\n",
       "\n",
       "    .dataframe tbody tr th {\n",
       "        vertical-align: top;\n",
       "    }\n",
       "\n",
       "    .dataframe thead th {\n",
       "        text-align: right;\n",
       "    }\n",
       "</style>\n",
       "<table border=\"1\" class=\"dataframe\">\n",
       "  <thead>\n",
       "    <tr style=\"text-align: right;\">\n",
       "      <th></th>\n",
       "      <th>Internalpatientid</th>\n",
       "      <th>Age at lab test</th>\n",
       "      <th>Lab test date</th>\n",
       "      <th>Lab test</th>\n",
       "      <th>Lab test description</th>\n",
       "      <th>Result numeric</th>\n",
       "      <th>Result textual</th>\n",
       "      <th>Result range</th>\n",
       "      <th>Result units</th>\n",
       "      <th>Specimen source</th>\n",
       "      <th>State</th>\n",
       "    </tr>\n",
       "  </thead>\n",
       "  <tbody>\n",
       "    <tr>\n",
       "      <th>5</th>\n",
       "      <td>5166</td>\n",
       "      <td>79.946327</td>\n",
       "      <td>2015-12-10 09:11:04.0</td>\n",
       "      <td>troponin i (d/c'd 02/02/2014)_ng/ml_plasma</td>\n",
       "      <td>TROPONIN I (d/c'd 02/02/2014)</td>\n",
       "      <td>0.020761</td>\n",
       "      <td>NaN</td>\n",
       "      <td>0.01 - 0.04</td>\n",
       "      <td>ng/ml</td>\n",
       "      <td>plasma</td>\n",
       "      <td>Texas</td>\n",
       "    </tr>\n",
       "    <tr>\n",
       "      <th>6</th>\n",
       "      <td>5166</td>\n",
       "      <td>81.160335</td>\n",
       "      <td>2017-02-26 02:27:18.0</td>\n",
       "      <td>calcium_mg/dl_plasma</td>\n",
       "      <td>calcium</td>\n",
       "      <td>9.759563</td>\n",
       "      <td>NaN</td>\n",
       "      <td>8.7 - 10.5</td>\n",
       "      <td>mg/dl</td>\n",
       "      <td>plasma</td>\n",
       "      <td>Texas</td>\n",
       "    </tr>\n",
       "    <tr>\n",
       "      <th>7</th>\n",
       "      <td>5166</td>\n",
       "      <td>81.160335</td>\n",
       "      <td>2017-02-26 02:27:18.0</td>\n",
       "      <td>sodium_mmol/l_plasma</td>\n",
       "      <td>SODIUM</td>\n",
       "      <td>130.000000</td>\n",
       "      <td>NaN</td>\n",
       "      <td>136 - 145</td>\n",
       "      <td>mmol/L</td>\n",
       "      <td>plasma</td>\n",
       "      <td>Texas</td>\n",
       "    </tr>\n",
       "    <tr>\n",
       "      <th>8</th>\n",
       "      <td>5166</td>\n",
       "      <td>81.160335</td>\n",
       "      <td>2017-02-26 02:27:18.0</td>\n",
       "      <td>creatinine_mg/dl_plasma</td>\n",
       "      <td>CREATININE</td>\n",
       "      <td>1.397398</td>\n",
       "      <td>NaN</td>\n",
       "      <td>0.6 - 1.3</td>\n",
       "      <td>mg/dl</td>\n",
       "      <td>plasma</td>\n",
       "      <td>Texas</td>\n",
       "    </tr>\n",
       "    <tr>\n",
       "      <th>9</th>\n",
       "      <td>5166</td>\n",
       "      <td>81.160335</td>\n",
       "      <td>2017-02-26 02:27:18.0</td>\n",
       "      <td>protein,total_g/dl_plasma</td>\n",
       "      <td>PROTEIN,TOTAL</td>\n",
       "      <td>7.232604</td>\n",
       "      <td>NaN</td>\n",
       "      <td>6.2 - 8.0</td>\n",
       "      <td>g/dl</td>\n",
       "      <td>plasma</td>\n",
       "      <td>Texas</td>\n",
       "    </tr>\n",
       "    <tr>\n",
       "      <th>...</th>\n",
       "      <td>...</td>\n",
       "      <td>...</td>\n",
       "      <td>...</td>\n",
       "      <td>...</td>\n",
       "      <td>...</td>\n",
       "      <td>...</td>\n",
       "      <td>...</td>\n",
       "      <td>...</td>\n",
       "      <td>...</td>\n",
       "      <td>...</td>\n",
       "      <td>...</td>\n",
       "    </tr>\n",
       "    <tr>\n",
       "      <th>328853891</th>\n",
       "      <td>51662</td>\n",
       "      <td>53.534373</td>\n",
       "      <td>2012-05-07 19:31:20.0</td>\n",
       "      <td>mono #_k/cu mm_no specimen</td>\n",
       "      <td>MONO #</td>\n",
       "      <td>0.479895</td>\n",
       "      <td>NaN</td>\n",
       "      <td>.1 - 1</td>\n",
       "      <td>K/cu mm</td>\n",
       "      <td>NaN</td>\n",
       "      <td>Texas</td>\n",
       "    </tr>\n",
       "    <tr>\n",
       "      <th>328853892</th>\n",
       "      <td>51662</td>\n",
       "      <td>53.534373</td>\n",
       "      <td>2012-05-07 19:31:20.0</td>\n",
       "      <td>wbc_k/cu mm_blood</td>\n",
       "      <td>WBC</td>\n",
       "      <td>8.645974</td>\n",
       "      <td>NaN</td>\n",
       "      <td>4 - 11</td>\n",
       "      <td>K/cu mm</td>\n",
       "      <td>blood</td>\n",
       "      <td>Texas</td>\n",
       "    </tr>\n",
       "    <tr>\n",
       "      <th>328853893</th>\n",
       "      <td>51662</td>\n",
       "      <td>53.534373</td>\n",
       "      <td>2012-05-07 19:31:20.0</td>\n",
       "      <td>mch_pg_blood</td>\n",
       "      <td>MCH</td>\n",
       "      <td>29.000000</td>\n",
       "      <td>NaN</td>\n",
       "      <td>27 - 34</td>\n",
       "      <td>pg</td>\n",
       "      <td>blood</td>\n",
       "      <td>Texas</td>\n",
       "    </tr>\n",
       "    <tr>\n",
       "      <th>328853894</th>\n",
       "      <td>51662</td>\n",
       "      <td>53.534373</td>\n",
       "      <td>2012-05-07 19:31:20.0</td>\n",
       "      <td>rdw_%_blood</td>\n",
       "      <td>RDW</td>\n",
       "      <td>12.491520</td>\n",
       "      <td>NaN</td>\n",
       "      <td>11 - 16</td>\n",
       "      <td>%</td>\n",
       "      <td>blood</td>\n",
       "      <td>Texas</td>\n",
       "    </tr>\n",
       "    <tr>\n",
       "      <th>328853895</th>\n",
       "      <td>51662</td>\n",
       "      <td>53.534373</td>\n",
       "      <td>2012-05-07 19:31:20.0</td>\n",
       "      <td>ba #_k/cu mm_no specimen</td>\n",
       "      <td>BA #</td>\n",
       "      <td>0.010013</td>\n",
       "      <td>NaN</td>\n",
       "      <td>0 - .3</td>\n",
       "      <td>K/cu mm</td>\n",
       "      <td>NaN</td>\n",
       "      <td>Texas</td>\n",
       "    </tr>\n",
       "  </tbody>\n",
       "</table>\n",
       "<p>258527315 rows × 11 columns</p>\n",
       "</div>"
      ],
      "text/plain": [
       "           Internalpatientid  Age at lab test          Lab test date  \\\n",
       "5                       5166        79.946327  2015-12-10 09:11:04.0   \n",
       "6                       5166        81.160335  2017-02-26 02:27:18.0   \n",
       "7                       5166        81.160335  2017-02-26 02:27:18.0   \n",
       "8                       5166        81.160335  2017-02-26 02:27:18.0   \n",
       "9                       5166        81.160335  2017-02-26 02:27:18.0   \n",
       "...                      ...              ...                    ...   \n",
       "328853891              51662        53.534373  2012-05-07 19:31:20.0   \n",
       "328853892              51662        53.534373  2012-05-07 19:31:20.0   \n",
       "328853893              51662        53.534373  2012-05-07 19:31:20.0   \n",
       "328853894              51662        53.534373  2012-05-07 19:31:20.0   \n",
       "328853895              51662        53.534373  2012-05-07 19:31:20.0   \n",
       "\n",
       "                                             Lab test  \\\n",
       "5          troponin i (d/c'd 02/02/2014)_ng/ml_plasma   \n",
       "6                                calcium_mg/dl_plasma   \n",
       "7                                sodium_mmol/l_plasma   \n",
       "8                             creatinine_mg/dl_plasma   \n",
       "9                           protein,total_g/dl_plasma   \n",
       "...                                               ...   \n",
       "328853891                  mono #_k/cu mm_no specimen   \n",
       "328853892                           wbc_k/cu mm_blood   \n",
       "328853893                                mch_pg_blood   \n",
       "328853894                                 rdw_%_blood   \n",
       "328853895                    ba #_k/cu mm_no specimen   \n",
       "\n",
       "                    Lab test description  Result numeric Result textual  \\\n",
       "5          TROPONIN I (d/c'd 02/02/2014)        0.020761            NaN   \n",
       "6                                calcium        9.759563            NaN   \n",
       "7                                 SODIUM      130.000000            NaN   \n",
       "8                             CREATININE        1.397398            NaN   \n",
       "9                          PROTEIN,TOTAL        7.232604            NaN   \n",
       "...                                  ...             ...            ...   \n",
       "328853891                         MONO #        0.479895            NaN   \n",
       "328853892                            WBC        8.645974            NaN   \n",
       "328853893                            MCH       29.000000            NaN   \n",
       "328853894                            RDW       12.491520            NaN   \n",
       "328853895                           BA #        0.010013            NaN   \n",
       "\n",
       "          Result range Result units Specimen source  State  \n",
       "5          0.01 - 0.04        ng/ml          plasma  Texas  \n",
       "6           8.7 - 10.5        mg/dl          plasma  Texas  \n",
       "7            136 - 145       mmol/L          plasma  Texas  \n",
       "8            0.6 - 1.3        mg/dl          plasma  Texas  \n",
       "9            6.2 - 8.0         g/dl          plasma  Texas  \n",
       "...                ...          ...             ...    ...  \n",
       "328853891       .1 - 1      K/cu mm             NaN  Texas  \n",
       "328853892       4 - 11      K/cu mm           blood  Texas  \n",
       "328853893      27 - 34           pg           blood  Texas  \n",
       "328853894      11 - 16            %           blood  Texas  \n",
       "328853895       0 - .3      K/cu mm             NaN  Texas  \n",
       "\n",
       "[258527315 rows x 11 columns]"
      ]
     },
     "execution_count": 68,
     "metadata": {},
     "output_type": "execute_result"
    }
   ],
   "source": [
    "dataset_path = 'lab_results_train.csv'\n",
    "load_path = os.path.join(DATA_PATH, dataset_path)\n",
    "lab = pd.read_csv(load_path, index_col=0)\n",
    "lab"
   ]
  },
  {
   "cell_type": "code",
   "execution_count": 34,
   "metadata": {},
   "outputs": [
    {
     "data": {
      "text/plain": [
       "array(['plasma', nan, 'serum', 'blood', 'urine', 'venous blood',\n",
       "       'capillary', 'nares', 'pharynx', 'feces', 'platelet poor plasma',\n",
       "       'arterial blood', 'urine,24hr', 'whole blood', 'nasopharynx',\n",
       "       'blood (unspun)', 'blood, venous', 'plasma+serum',\n",
       "       'nasopharyngeal cavity', 'peritoneal fluid', 'ser/pla',\n",
       "       'nasal cavity', 'urine-dau', 'urine, spot', 'plas',\n",
       "       'capillary of skin', 'lc-pla', 'synovial fluid', 'lc-ser',\n",
       "       'urine random', 'blood.', '24 hr. urine', 'unknown',\n",
       "       '24-hour urine', 'plasma (buffered sodium citrate)', 'serum-unk',\n",
       "       '24 hr urine', 'blood*', 'capillary blood', 'art blood', 'kidney',\n",
       "       'serum-trough', 'see comment', '24hr urine', 'swab', 'serum-cx5',\n",
       "       'arterial bld', 'cerebrospinal fluid', 'fluid, unspecified',\n",
       "       'serum/i', 'blood lymphocyte', 'lung', 'blood-c', 'ws-serum',\n",
       "       'pleural fluid', 'urine,timed', 'urine & blood', 'random urine',\n",
       "       'mofh serum', 'pericardial fluid', 'throat', 'urine (random)',\n",
       "       'no specimen required', 'lc-blo', 'nose', 'abld', 'saliva'],\n",
       "      dtype=object)"
      ]
     },
     "execution_count": 34,
     "metadata": {},
     "output_type": "execute_result"
    }
   ],
   "source": [
    "lab[\"Specimen source\"].unique()"
   ]
  },
  {
   "cell_type": "code",
   "execution_count": 35,
   "metadata": {},
   "outputs": [
    {
     "data": {
      "text/plain": [
       "24600"
      ]
     },
     "execution_count": 35,
     "metadata": {},
     "output_type": "execute_result"
    }
   ],
   "source": [
    "lab[\"Lab test\"].nunique()"
   ]
  },
  {
   "attachments": {},
   "cell_type": "markdown",
   "metadata": {},
   "source": [
    "#### Get the number of lab tests"
   ]
  },
  {
   "cell_type": "code",
   "execution_count": 69,
   "metadata": {},
   "outputs": [
    {
     "data": {
      "text/html": [
       "<div>\n",
       "<style scoped>\n",
       "    .dataframe tbody tr th:only-of-type {\n",
       "        vertical-align: middle;\n",
       "    }\n",
       "\n",
       "    .dataframe tbody tr th {\n",
       "        vertical-align: top;\n",
       "    }\n",
       "\n",
       "    .dataframe thead th {\n",
       "        text-align: right;\n",
       "    }\n",
       "</style>\n",
       "<table border=\"1\" class=\"dataframe\">\n",
       "  <thead>\n",
       "    <tr style=\"text-align: right;\">\n",
       "      <th></th>\n",
       "      <th>Internalpatientid</th>\n",
       "      <th>count</th>\n",
       "    </tr>\n",
       "  </thead>\n",
       "  <tbody>\n",
       "    <tr>\n",
       "      <th>0</th>\n",
       "      <td>1</td>\n",
       "      <td>3052</td>\n",
       "    </tr>\n",
       "    <tr>\n",
       "      <th>1</th>\n",
       "      <td>2</td>\n",
       "      <td>6855</td>\n",
       "    </tr>\n",
       "    <tr>\n",
       "      <th>2</th>\n",
       "      <td>3</td>\n",
       "      <td>1718</td>\n",
       "    </tr>\n",
       "    <tr>\n",
       "      <th>3</th>\n",
       "      <td>4</td>\n",
       "      <td>1394</td>\n",
       "    </tr>\n",
       "    <tr>\n",
       "      <th>4</th>\n",
       "      <td>5</td>\n",
       "      <td>1338</td>\n",
       "    </tr>\n",
       "    <tr>\n",
       "      <th>...</th>\n",
       "      <td>...</td>\n",
       "      <td>...</td>\n",
       "    </tr>\n",
       "    <tr>\n",
       "      <th>130440</th>\n",
       "      <td>169060</td>\n",
       "      <td>4086</td>\n",
       "    </tr>\n",
       "    <tr>\n",
       "      <th>130441</th>\n",
       "      <td>169061</td>\n",
       "      <td>484</td>\n",
       "    </tr>\n",
       "    <tr>\n",
       "      <th>130442</th>\n",
       "      <td>169062</td>\n",
       "      <td>1925</td>\n",
       "    </tr>\n",
       "    <tr>\n",
       "      <th>130443</th>\n",
       "      <td>169063</td>\n",
       "      <td>252</td>\n",
       "    </tr>\n",
       "    <tr>\n",
       "      <th>130444</th>\n",
       "      <td>169064</td>\n",
       "      <td>1084</td>\n",
       "    </tr>\n",
       "  </tbody>\n",
       "</table>\n",
       "<p>130445 rows × 2 columns</p>\n",
       "</div>"
      ],
      "text/plain": [
       "        Internalpatientid  count\n",
       "0                       1   3052\n",
       "1                       2   6855\n",
       "2                       3   1718\n",
       "3                       4   1394\n",
       "4                       5   1338\n",
       "...                   ...    ...\n",
       "130440             169060   4086\n",
       "130441             169061    484\n",
       "130442             169062   1925\n",
       "130443             169063    252\n",
       "130444             169064   1084\n",
       "\n",
       "[130445 rows x 2 columns]"
      ]
     },
     "execution_count": 69,
     "metadata": {},
     "output_type": "execute_result"
    }
   ],
   "source": [
    "num_results = lab.groupby(['Internalpatientid']).size().to_frame().reset_index().rename(columns = {0:\"count\"})\n",
    "num_results"
   ]
  },
  {
   "cell_type": "code",
   "execution_count": 70,
   "metadata": {},
   "outputs": [],
   "source": [
    "num_results.to_csv(\"Number_lab_results.csv\")"
   ]
  },
  {
   "cell_type": "code",
   "execution_count": 37,
   "metadata": {},
   "outputs": [
    {
     "data": {
      "text/plain": [
       "Index(['Internalpatientid', 'Age at admission', 'Admission date',\n",
       "       'Discharge date', 'Admitting unit service', 'Discharging unit service',\n",
       "       'Admitting specialty', 'Discharging specialty',\n",
       "       'First listed discharge diagnosis icd10 subcategory',\n",
       "       'Second listed discharge diagnosis icd10 subcategory',\n",
       "       'Discharge disposition', 'Died during admission',\n",
       "       'Outpatientreferralflag', 'Serviceconnectedflag', 'Agentorangeflag',\n",
       "       'State', 'Cardiovascular', 'Readmission', 'MEDICINE', 'NHCU', 'OTHERS',\n",
       "       'PSYCHIATRY', 'SURGERY', 'Age scaled'],\n",
       "      dtype='object')"
      ]
     },
     "execution_count": 37,
     "metadata": {},
     "output_type": "execute_result"
    }
   ],
   "source": [
    "ad = pd.read_csv(\"inpatient_admission_complete.csv\",index_col=0)\n",
    "ad.columns"
   ]
  },
  {
   "cell_type": "code",
   "execution_count": 71,
   "metadata": {},
   "outputs": [],
   "source": [
    "died_id = np.array(ad[ad['Died during admission'] == 1]['Internalpatientid'])\n",
    "alive_id = np.array(ad[ad['Died during admission'] == 0]['Internalpatientid'])\n",
    "readmitted_id = np.array(ad[ad['Readmission'] == 1]['Internalpatientid'])\n",
    "noreadmitted_id = np.array(ad[ad['Readmission'] == 0]['Internalpatientid'])"
   ]
  },
  {
   "cell_type": "code",
   "execution_count": 72,
   "metadata": {},
   "outputs": [
    {
     "data": {
      "text/plain": [
       "Text(0.5, 1.0, 'Relationship of number of lab results with mortality')"
      ]
     },
     "execution_count": 72,
     "metadata": {},
     "output_type": "execute_result"
    },
    {
     "data": {
      "image/png": "[encoded data removed]",
      "text/plain": [
       "<Figure size 640x480 with 1 Axes>"
      ]
     },
     "metadata": {},
     "output_type": "display_data"
    }
   ],
   "source": [
    "sns.kdeplot(num_results[num_results[\"Internalpatientid\"].isin(died_id)][\"count\"], label=\"Died\")\n",
    "sns.kdeplot(num_results[num_results[\"Internalpatientid\"].isin(alive_id)][\"count\"], label = \"Alive\")\n",
    "plt.legend()\n",
    "plt.title(\"Relationship of number of lab results with mortality\")"
   ]
  },
  {
   "cell_type": "code",
   "execution_count": 73,
   "metadata": {},
   "outputs": [
    {
     "data": {
      "text/plain": [
       "Text(0.5, 1.0, 'Relationship of number of lab results with Readmission')"
      ]
     },
     "execution_count": 73,
     "metadata": {},
     "output_type": "execute_result"
    },
    {
     "data": {
      "image/png": "[encoded data removed]",
      "text/plain": [
       "<Figure size 640x480 with 1 Axes>"
      ]
     },
     "metadata": {},
     "output_type": "display_data"
    }
   ],
   "source": [
    "sns.kdeplot(num_results[num_results[\"Internalpatientid\"].isin(readmitted_id)][\"count\"], label=\"Readmitted\")\n",
    "sns.kdeplot(num_results[num_results[\"Internalpatientid\"].isin(noreadmitted_id)][\"count\"], label = \"No Admitted\")\n",
    "plt.legend()\n",
    "plt.title(\"Relationship of number of lab results with Readmission\")"
   ]
  },
  {
   "cell_type": "code",
   "execution_count": 74,
   "metadata": {},
   "outputs": [
    {
     "data": {
      "text/plain": [
       "<Axes: >"
      ]
     },
     "execution_count": 74,
     "metadata": {},
     "output_type": "execute_result"
    },
    {
     "data": {
      "image/png": "[encoded data removed]",
      "text/plain": [
       "<Figure size 640x480 with 2 Axes>"
      ]
     },
     "metadata": {},
     "output_type": "display_data"
    }
   ],
   "source": [
    "joined = ad.join(num_results.set_index('Internalpatientid'), on='Internalpatientid')\n",
    "#temp[temp[\"count\"].isna()]\n",
    "sns.heatmap(joined[[\"count\", \"Died during admission\", \"Readmission\"]].corr(), annot=True, fmt='.2g')"
   ]
  },
  {
   "attachments": {},
   "cell_type": "markdown",
   "metadata": {},
   "source": [
    "There are null values, remeber to remove those"
   ]
  },
  {
   "cell_type": "code",
   "execution_count": 77,
   "metadata": {},
   "outputs": [
    {
     "data": {
      "text/plain": [
       "35"
      ]
     },
     "execution_count": 77,
     "metadata": {},
     "output_type": "execute_result"
    }
   ],
   "source": [
    "len(joined[joined[\"count\"].isna()])"
   ]
  },
  {
   "attachments": {},
   "cell_type": "markdown",
   "metadata": {},
   "source": [
    "Number of lab results has some correlation between readmission\n",
    "\n",
    "should be used as a covariate"
   ]
  }
 ],
 "metadata": {
  "kernelspec": {
   "display_name": "mla",
   "language": "python",
   "name": "python3"
  },
  "language_info": {
   "codemirror_mode": {
    "name": "ipython",
    "version": 3
   },
   "file_extension": ".py",
   "mimetype": "text/x-python",
   "name": "python",
   "nbconvert_exporter": "python",
   "pygments_lexer": "ipython3",
   "version": "3.10.11"
  },
  "orig_nbformat": 4
 },
 "nbformat": 4,
 "nbformat_minor": 2
}
