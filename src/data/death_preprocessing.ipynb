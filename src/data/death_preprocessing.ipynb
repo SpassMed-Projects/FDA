{
 "cells": [
  {
   "cell_type": "code",
   "execution_count": 1,
   "metadata": {},
   "outputs": [],
   "source": [
    "import pandas as pd\n",
    "\n",
    "\n",
    "import numpy as np\n",
    "import pandas as pd\n",
    "\n",
    "import seaborn as sns\n",
    "from importlib import reload\n",
    "import matplotlib.pyplot as plt\n",
    "import preprocess_data \n",
    "\n",
    "reload(preprocess_data)\n",
    "\n",
    "%matplotlib inline"
   ]
  },
  {
   "cell_type": "code",
   "execution_count": 2,
   "metadata": {},
   "outputs": [
    {
     "name": "stdout",
     "output_type": "stream",
     "text": [
      "Hello World\n"
     ]
    }
   ],
   "source": [
    "print(\"Hello World\")"
   ]
  },
  {
   "cell_type": "code",
   "execution_count": 9,
   "metadata": {},
   "outputs": [],
   "source": [
    "death = pd.read_csv('/home/bhatti/dataset/VCHAMPS/death_train.csv').iloc[:,1:]"
   ]
  },
  {
   "cell_type": "code",
   "execution_count": 16,
   "metadata": {},
   "outputs": [],
   "source": [
    "internalpatientid = pd.read_csv('/home/vivi/FDA_datasets/outpatient_state.csv').iloc[:,1:]['Internalpatientid'].reset_index()"
   ]
  },
  {
   "cell_type": "code",
   "execution_count": 11,
   "metadata": {},
   "outputs": [
    {
     "data": {
      "text/html": [
       "<div>\n",
       "<style scoped>\n",
       "    .dataframe tbody tr th:only-of-type {\n",
       "        vertical-align: middle;\n",
       "    }\n",
       "\n",
       "    .dataframe tbody tr th {\n",
       "        vertical-align: top;\n",
       "    }\n",
       "\n",
       "    .dataframe thead th {\n",
       "        text-align: right;\n",
       "    }\n",
       "</style>\n",
       "<table border=\"1\" class=\"dataframe\">\n",
       "  <thead>\n",
       "    <tr style=\"text-align: right;\">\n",
       "      <th></th>\n",
       "      <th>Internalpatientid</th>\n",
       "      <th>Age at death</th>\n",
       "      <th>Death date</th>\n",
       "    </tr>\n",
       "  </thead>\n",
       "  <tbody>\n",
       "    <tr>\n",
       "      <th>0</th>\n",
       "      <td>100036</td>\n",
       "      <td>72.412770</td>\n",
       "      <td>2015-01-18 20:49:10.0</td>\n",
       "    </tr>\n",
       "    <tr>\n",
       "      <th>1</th>\n",
       "      <td>100037</td>\n",
       "      <td>75.241135</td>\n",
       "      <td>2008-10-16 15:14:26.0</td>\n",
       "    </tr>\n",
       "    <tr>\n",
       "      <th>2</th>\n",
       "      <td>100045</td>\n",
       "      <td>85.399403</td>\n",
       "      <td>2019-01-26 11:33:52.0</td>\n",
       "    </tr>\n",
       "    <tr>\n",
       "      <th>3</th>\n",
       "      <td>100095</td>\n",
       "      <td>84.136551</td>\n",
       "      <td>2004-08-10 21:49:35.0</td>\n",
       "    </tr>\n",
       "    <tr>\n",
       "      <th>4</th>\n",
       "      <td>10013</td>\n",
       "      <td>68.372126</td>\n",
       "      <td>2007-06-11 00:17:06.0</td>\n",
       "    </tr>\n",
       "    <tr>\n",
       "      <th>...</th>\n",
       "      <td>...</td>\n",
       "      <td>...</td>\n",
       "      <td>...</td>\n",
       "    </tr>\n",
       "    <tr>\n",
       "      <th>97279</th>\n",
       "      <td>99827</td>\n",
       "      <td>87.898767</td>\n",
       "      <td>2003-05-13 23:58:55.0</td>\n",
       "    </tr>\n",
       "    <tr>\n",
       "      <th>97280</th>\n",
       "      <td>99842</td>\n",
       "      <td>78.431214</td>\n",
       "      <td>2010-05-25 14:36:27.0</td>\n",
       "    </tr>\n",
       "    <tr>\n",
       "      <th>97281</th>\n",
       "      <td>99847</td>\n",
       "      <td>82.115566</td>\n",
       "      <td>2012-02-20 05:44:33.0</td>\n",
       "    </tr>\n",
       "    <tr>\n",
       "      <th>97282</th>\n",
       "      <td>99872</td>\n",
       "      <td>92.974602</td>\n",
       "      <td>2010-04-18 05:12:36.0</td>\n",
       "    </tr>\n",
       "    <tr>\n",
       "      <th>97283</th>\n",
       "      <td>99999</td>\n",
       "      <td>96.370286</td>\n",
       "      <td>2013-04-14 08:08:53.0</td>\n",
       "    </tr>\n",
       "  </tbody>\n",
       "</table>\n",
       "<p>97284 rows × 3 columns</p>\n",
       "</div>"
      ],
      "text/plain": [
       "       Internalpatientid  Age at death             Death date\n",
       "0                 100036     72.412770  2015-01-18 20:49:10.0\n",
       "1                 100037     75.241135  2008-10-16 15:14:26.0\n",
       "2                 100045     85.399403  2019-01-26 11:33:52.0\n",
       "3                 100095     84.136551  2004-08-10 21:49:35.0\n",
       "4                  10013     68.372126  2007-06-11 00:17:06.0\n",
       "...                  ...           ...                    ...\n",
       "97279              99827     87.898767  2003-05-13 23:58:55.0\n",
       "97280              99842     78.431214  2010-05-25 14:36:27.0\n",
       "97281              99847     82.115566  2012-02-20 05:44:33.0\n",
       "97282              99872     92.974602  2010-04-18 05:12:36.0\n",
       "97283              99999     96.370286  2013-04-14 08:08:53.0\n",
       "\n",
       "[97284 rows x 3 columns]"
      ]
     },
     "execution_count": 11,
     "metadata": {},
     "output_type": "execute_result"
    }
   ],
   "source": [
    "death"
   ]
  },
  {
   "cell_type": "code",
   "execution_count": 4,
   "metadata": {},
   "outputs": [],
   "source": [
    "internalpatientid_dead = death['Internalpatientid']"
   ]
  },
  {
   "cell_type": "code",
   "execution_count": 24,
   "metadata": {},
   "outputs": [],
   "source": [
    "death_merge = internalpatientid.merge(death, how = 'left', on = 'Internalpatientid').drop(['index'], axis=1)\n"
   ]
  },
  {
   "attachments": {},
   "cell_type": "markdown",
   "metadata": {},
   "source": [
    "Add column indicate whether the patient die or not. Die = 1, Alive = 0."
   ]
  },
  {
   "cell_type": "code",
   "execution_count": 33,
   "metadata": {},
   "outputs": [],
   "source": [
    "death_merge['Death indicator'] = pd.notnull(death_merge['Age at death'])\n"
   ]
  },
  {
   "cell_type": "code",
   "execution_count": 38,
   "metadata": {},
   "outputs": [],
   "source": [
    "death_merge['Death date'] = death_merge['Death date'].apply(preprocess_data.preprocess_time_string)"
   ]
  },
  {
   "cell_type": "code",
   "execution_count": 39,
   "metadata": {},
   "outputs": [
    {
     "data": {
      "text/html": [
       "<div>\n",
       "<style scoped>\n",
       "    .dataframe tbody tr th:only-of-type {\n",
       "        vertical-align: middle;\n",
       "    }\n",
       "\n",
       "    .dataframe tbody tr th {\n",
       "        vertical-align: top;\n",
       "    }\n",
       "\n",
       "    .dataframe thead th {\n",
       "        text-align: right;\n",
       "    }\n",
       "</style>\n",
       "<table border=\"1\" class=\"dataframe\">\n",
       "  <thead>\n",
       "    <tr style=\"text-align: right;\">\n",
       "      <th></th>\n",
       "      <th>Internalpatientid</th>\n",
       "      <th>Age at death</th>\n",
       "      <th>Death date</th>\n",
       "      <th>Death indicator</th>\n",
       "    </tr>\n",
       "  </thead>\n",
       "  <tbody>\n",
       "    <tr>\n",
       "      <th>0</th>\n",
       "      <td>1</td>\n",
       "      <td>NaN</td>\n",
       "      <td>NaT</td>\n",
       "      <td>False</td>\n",
       "    </tr>\n",
       "    <tr>\n",
       "      <th>1</th>\n",
       "      <td>2</td>\n",
       "      <td>NaN</td>\n",
       "      <td>NaT</td>\n",
       "      <td>False</td>\n",
       "    </tr>\n",
       "    <tr>\n",
       "      <th>2</th>\n",
       "      <td>3</td>\n",
       "      <td>82.284691</td>\n",
       "      <td>2005-10-12 01:18:21</td>\n",
       "      <td>True</td>\n",
       "    </tr>\n",
       "    <tr>\n",
       "      <th>3</th>\n",
       "      <td>4</td>\n",
       "      <td>84.190359</td>\n",
       "      <td>2015-02-24 13:49:53</td>\n",
       "      <td>True</td>\n",
       "    </tr>\n",
       "    <tr>\n",
       "      <th>4</th>\n",
       "      <td>5</td>\n",
       "      <td>76.506124</td>\n",
       "      <td>2004-11-04 23:43:20</td>\n",
       "      <td>True</td>\n",
       "    </tr>\n",
       "    <tr>\n",
       "      <th>...</th>\n",
       "      <td>...</td>\n",
       "      <td>...</td>\n",
       "      <td>...</td>\n",
       "      <td>...</td>\n",
       "    </tr>\n",
       "    <tr>\n",
       "      <th>133243</th>\n",
       "      <td>169060</td>\n",
       "      <td>71.832486</td>\n",
       "      <td>2017-10-15 18:34:11</td>\n",
       "      <td>True</td>\n",
       "    </tr>\n",
       "    <tr>\n",
       "      <th>133244</th>\n",
       "      <td>169061</td>\n",
       "      <td>81.975844</td>\n",
       "      <td>2024-02-16 04:06:03</td>\n",
       "      <td>True</td>\n",
       "    </tr>\n",
       "    <tr>\n",
       "      <th>133245</th>\n",
       "      <td>169062</td>\n",
       "      <td>74.181399</td>\n",
       "      <td>2005-10-14 07:13:53</td>\n",
       "      <td>True</td>\n",
       "    </tr>\n",
       "    <tr>\n",
       "      <th>133246</th>\n",
       "      <td>169063</td>\n",
       "      <td>78.751284</td>\n",
       "      <td>2006-05-11 14:16:02</td>\n",
       "      <td>True</td>\n",
       "    </tr>\n",
       "    <tr>\n",
       "      <th>133247</th>\n",
       "      <td>169064</td>\n",
       "      <td>88.057470</td>\n",
       "      <td>2015-01-09 00:07:21</td>\n",
       "      <td>True</td>\n",
       "    </tr>\n",
       "  </tbody>\n",
       "</table>\n",
       "<p>133248 rows × 4 columns</p>\n",
       "</div>"
      ],
      "text/plain": [
       "        Internalpatientid  Age at death          Death date  Death indicator\n",
       "0                       1           NaN                 NaT            False\n",
       "1                       2           NaN                 NaT            False\n",
       "2                       3     82.284691 2005-10-12 01:18:21             True\n",
       "3                       4     84.190359 2015-02-24 13:49:53             True\n",
       "4                       5     76.506124 2004-11-04 23:43:20             True\n",
       "...                   ...           ...                 ...              ...\n",
       "133243             169060     71.832486 2017-10-15 18:34:11             True\n",
       "133244             169061     81.975844 2024-02-16 04:06:03             True\n",
       "133245             169062     74.181399 2005-10-14 07:13:53             True\n",
       "133246             169063     78.751284 2006-05-11 14:16:02             True\n",
       "133247             169064     88.057470 2015-01-09 00:07:21             True\n",
       "\n",
       "[133248 rows x 4 columns]"
      ]
     },
     "execution_count": 39,
     "metadata": {},
     "output_type": "execute_result"
    }
   ],
   "source": [
    "death_merge"
   ]
  },
  {
   "cell_type": "code",
   "execution_count": 36,
   "metadata": {},
   "outputs": [],
   "source": [
    "death_merge.to_csv('/home/vivi/FDA_datasets/death_preprocessed.csv')"
   ]
  }
 ],
 "metadata": {
  "kernelspec": {
   "display_name": "Python 3",
   "language": "python",
   "name": "python3"
  },
  "language_info": {
   "codemirror_mode": {
    "name": "ipython",
    "version": 3
   },
   "file_extension": ".py",
   "mimetype": "text/x-python",
   "name": "python",
   "nbconvert_exporter": "python",
   "pygments_lexer": "ipython3",
   "version": "3.10.11"
  },
  "orig_nbformat": 4
 },
 "nbformat": 4,
 "nbformat_minor": 2
}
