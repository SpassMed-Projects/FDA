{
 "cells": [
  {
   "attachments": {},
   "cell_type": "markdown",
   "metadata": {},
   "source": [
    "EDA for demographics_event_train\n",
    "1. Merge dataset\n",
    "2. Age \n",
    "3. Marital status\n",
    "\n",
    "Questions:\n",
    "- How different age related to motality/readmission\n",
    "- How to deal with inbalanced dataset\n",
    "- How to deal with event data (date-time)\n",
    "\n"
   ]
  },
  {
   "cell_type": "code",
   "execution_count": 9,
   "metadata": {},
   "outputs": [],
   "source": [
    "import pandas as pd\n",
    "\n",
    "\n",
    "import numpy as np\n",
    "import pandas as pd\n",
    "\n",
    "import seaborn as sns\n",
    "\n",
    "import matplotlib.pyplot as plt\n",
    "%matplotlib inline"
   ]
  },
  {
   "cell_type": "code",
   "execution_count": 2,
   "metadata": {},
   "outputs": [],
   "source": [
    "inpatient_admissions_train = pd.read_csv('/home/bhatti/dataset/VCHAMPS/inpatient_admissions_train.csv').iloc[:,1:]\n",
    "demographics_event_train = pd.read_csv('/home/bhatti/dataset/VCHAMPS/demographics_event_train.csv').iloc[:,1:]"
   ]
  },
  {
   "cell_type": "code",
   "execution_count": 6,
   "metadata": {},
   "outputs": [
    {
     "data": {
      "text/html": [
       "<div>\n",
       "<style scoped>\n",
       "    .dataframe tbody tr th:only-of-type {\n",
       "        vertical-align: middle;\n",
       "    }\n",
       "\n",
       "    .dataframe tbody tr th {\n",
       "        vertical-align: top;\n",
       "    }\n",
       "\n",
       "    .dataframe thead th {\n",
       "        text-align: right;\n",
       "    }\n",
       "</style>\n",
       "<table border=\"1\" class=\"dataframe\">\n",
       "  <thead>\n",
       "    <tr style=\"text-align: right;\">\n",
       "      <th></th>\n",
       "      <th>Internalpatientid</th>\n",
       "      <th>Age at admission</th>\n",
       "      <th>Admission date</th>\n",
       "      <th>Discharge date</th>\n",
       "      <th>Admitting unit service</th>\n",
       "      <th>Discharging unit service</th>\n",
       "      <th>Admitting specialty</th>\n",
       "      <th>Discharging specialty</th>\n",
       "      <th>First listed discharge diagnosis icd10 subcategory</th>\n",
       "      <th>Second listed discharge diagnosis icd10 subcategory</th>\n",
       "      <th>Discharge disposition</th>\n",
       "      <th>Died during admission</th>\n",
       "      <th>Outpatientreferralflag</th>\n",
       "      <th>Serviceconnectedflag</th>\n",
       "      <th>Agentorangeflag</th>\n",
       "      <th>State</th>\n",
       "      <th>Age at update</th>\n",
       "      <th>Event date</th>\n",
       "      <th>Marital status</th>\n",
       "      <th>Ruca category</th>\n",
       "    </tr>\n",
       "  </thead>\n",
       "  <tbody>\n",
       "    <tr>\n",
       "      <th>0</th>\n",
       "      <td>10</td>\n",
       "      <td>65.649075</td>\n",
       "      <td>2015-11-28 17:41:09.0</td>\n",
       "      <td>2015-11-29 01:43:14.0</td>\n",
       "      <td>NON-COUNT</td>\n",
       "      <td>NON-COUNT</td>\n",
       "      <td>DRUG DEPENDENCE TRMT UNIT</td>\n",
       "      <td>MEDICAL OBSERVATION</td>\n",
       "      <td>Pneumonia, unspecified organism</td>\n",
       "      <td>Hypokalemia</td>\n",
       "      <td>Regular</td>\n",
       "      <td>No</td>\n",
       "      <td>No</td>\n",
       "      <td>NaN</td>\n",
       "      <td>Yes</td>\n",
       "      <td>Utah</td>\n",
       "      <td>72.394105</td>\n",
       "      <td>2022-08-29 01:05:08.0</td>\n",
       "      <td>Married</td>\n",
       "      <td>Urban</td>\n",
       "    </tr>\n",
       "    <tr>\n",
       "      <th>1</th>\n",
       "      <td>100001</td>\n",
       "      <td>83.767138</td>\n",
       "      <td>2009-10-01 21:19:50.0</td>\n",
       "      <td>2009-10-04 16:51:33.0</td>\n",
       "      <td>MEDICINE</td>\n",
       "      <td>MEDICINE</td>\n",
       "      <td>PSYCHIATRIC MENTALLY INFIRM</td>\n",
       "      <td>GENERAL(ACUTE MEDICINE)</td>\n",
       "      <td>Pneumonia, unspecified organism</td>\n",
       "      <td>Essential (primary) hypertension</td>\n",
       "      <td>Regular</td>\n",
       "      <td>No</td>\n",
       "      <td>Yes</td>\n",
       "      <td>No</td>\n",
       "      <td>No</td>\n",
       "      <td>North Carolina</td>\n",
       "      <td>88.980142</td>\n",
       "      <td>2014-12-20 05:48:29.0</td>\n",
       "      <td>Separated</td>\n",
       "      <td>Urban</td>\n",
       "    </tr>\n",
       "    <tr>\n",
       "      <th>2</th>\n",
       "      <td>100001</td>\n",
       "      <td>84.873295</td>\n",
       "      <td>2010-11-10 04:32:39.0</td>\n",
       "      <td>2010-11-19 08:49:45.0</td>\n",
       "      <td>SURGERY</td>\n",
       "      <td>SURGERY</td>\n",
       "      <td>SUBSTANCE ABUSE RES TRMT PROG</td>\n",
       "      <td>ORTHOPEDIC</td>\n",
       "      <td>Osteoarthritis, unspecified site</td>\n",
       "      <td>Type 2 diabetes mellitus with neurological com...</td>\n",
       "      <td>Regular</td>\n",
       "      <td>No</td>\n",
       "      <td>No</td>\n",
       "      <td>NaN</td>\n",
       "      <td>No</td>\n",
       "      <td>North Carolina</td>\n",
       "      <td>88.980142</td>\n",
       "      <td>2014-12-20 05:48:29.0</td>\n",
       "      <td>Separated</td>\n",
       "      <td>Urban</td>\n",
       "    </tr>\n",
       "    <tr>\n",
       "      <th>3</th>\n",
       "      <td>10001</td>\n",
       "      <td>70.900369</td>\n",
       "      <td>2020-03-20 02:02:26.0</td>\n",
       "      <td>2020-03-28 08:47:01.0</td>\n",
       "      <td>SURGERY</td>\n",
       "      <td>SURGERY</td>\n",
       "      <td>PLASTIC SURGERY</td>\n",
       "      <td>SURGICAL STEPDOWN</td>\n",
       "      <td>Nonrheumatic mitral (valve) prolapse</td>\n",
       "      <td>Postprocedural shock</td>\n",
       "      <td>Regular</td>\n",
       "      <td>No</td>\n",
       "      <td>Yes</td>\n",
       "      <td>NaN</td>\n",
       "      <td>Yes</td>\n",
       "      <td>Florida</td>\n",
       "      <td>75.305350</td>\n",
       "      <td>2024-08-16 02:31:43.0</td>\n",
       "      <td>Divorced</td>\n",
       "      <td>Urban</td>\n",
       "    </tr>\n",
       "    <tr>\n",
       "      <th>4</th>\n",
       "      <td>100016</td>\n",
       "      <td>83.054993</td>\n",
       "      <td>1999-11-20 14:23:45.0</td>\n",
       "      <td>1999-12-01 03:57:43.0</td>\n",
       "      <td>MEDICINE</td>\n",
       "      <td>MEDICINE</td>\n",
       "      <td>HEMATOLOGY/ONCOLOGY</td>\n",
       "      <td>GENERAL(ACUTE MEDICINE)</td>\n",
       "      <td>Pneumonia, unspecified organism</td>\n",
       "      <td>Unspecified mental disorder due to known physi...</td>\n",
       "      <td>Regular</td>\n",
       "      <td>No</td>\n",
       "      <td>No</td>\n",
       "      <td>NaN</td>\n",
       "      <td>NaN</td>\n",
       "      <td>Idaho</td>\n",
       "      <td>83.427331</td>\n",
       "      <td>2000-04-04 16:32:52.0</td>\n",
       "      <td>Married</td>\n",
       "      <td>Rural</td>\n",
       "    </tr>\n",
       "  </tbody>\n",
       "</table>\n",
       "</div>"
      ],
      "text/plain": [
       "   Internalpatientid  Age at admission         Admission date  \\\n",
       "0                 10         65.649075  2015-11-28 17:41:09.0   \n",
       "1             100001         83.767138  2009-10-01 21:19:50.0   \n",
       "2             100001         84.873295  2010-11-10 04:32:39.0   \n",
       "3              10001         70.900369  2020-03-20 02:02:26.0   \n",
       "4             100016         83.054993  1999-11-20 14:23:45.0   \n",
       "\n",
       "          Discharge date Admitting unit service Discharging unit service  \\\n",
       "0  2015-11-29 01:43:14.0              NON-COUNT                NON-COUNT   \n",
       "1  2009-10-04 16:51:33.0               MEDICINE                 MEDICINE   \n",
       "2  2010-11-19 08:49:45.0                SURGERY                  SURGERY   \n",
       "3  2020-03-28 08:47:01.0                SURGERY                  SURGERY   \n",
       "4  1999-12-01 03:57:43.0               MEDICINE                 MEDICINE   \n",
       "\n",
       "             Admitting specialty    Discharging specialty  \\\n",
       "0      DRUG DEPENDENCE TRMT UNIT      MEDICAL OBSERVATION   \n",
       "1    PSYCHIATRIC MENTALLY INFIRM  GENERAL(ACUTE MEDICINE)   \n",
       "2  SUBSTANCE ABUSE RES TRMT PROG               ORTHOPEDIC   \n",
       "3                PLASTIC SURGERY        SURGICAL STEPDOWN   \n",
       "4            HEMATOLOGY/ONCOLOGY  GENERAL(ACUTE MEDICINE)   \n",
       "\n",
       "  First listed discharge diagnosis icd10 subcategory  \\\n",
       "0                    Pneumonia, unspecified organism   \n",
       "1                    Pneumonia, unspecified organism   \n",
       "2                   Osteoarthritis, unspecified site   \n",
       "3               Nonrheumatic mitral (valve) prolapse   \n",
       "4                    Pneumonia, unspecified organism   \n",
       "\n",
       "  Second listed discharge diagnosis icd10 subcategory Discharge disposition  \\\n",
       "0                                        Hypokalemia                Regular   \n",
       "1                   Essential (primary) hypertension                Regular   \n",
       "2  Type 2 diabetes mellitus with neurological com...                Regular   \n",
       "3                               Postprocedural shock                Regular   \n",
       "4  Unspecified mental disorder due to known physi...                Regular   \n",
       "\n",
       "  Died during admission Outpatientreferralflag Serviceconnectedflag  \\\n",
       "0                    No                     No                  NaN   \n",
       "1                    No                    Yes                   No   \n",
       "2                    No                     No                  NaN   \n",
       "3                    No                    Yes                  NaN   \n",
       "4                    No                     No                  NaN   \n",
       "\n",
       "  Agentorangeflag           State  Age at update             Event date  \\\n",
       "0             Yes            Utah      72.394105  2022-08-29 01:05:08.0   \n",
       "1              No  North Carolina      88.980142  2014-12-20 05:48:29.0   \n",
       "2              No  North Carolina      88.980142  2014-12-20 05:48:29.0   \n",
       "3             Yes         Florida      75.305350  2024-08-16 02:31:43.0   \n",
       "4             NaN           Idaho      83.427331  2000-04-04 16:32:52.0   \n",
       "\n",
       "  Marital status Ruca category  \n",
       "0        Married         Urban  \n",
       "1      Separated         Urban  \n",
       "2      Separated         Urban  \n",
       "3       Divorced         Urban  \n",
       "4        Married         Rural  "
      ]
     },
     "execution_count": 6,
     "metadata": {},
     "output_type": "execute_result"
    }
   ],
   "source": [
    "inpatient_demographics_event = inpatient_admissions_train.merge(demographics_event_train, how = 'left', on = 'Internalpatientid')\n",
    "inpatient_demographics_event.head()"
   ]
  },
  {
   "cell_type": "code",
   "execution_count": 7,
   "metadata": {},
   "outputs": [
    {
     "data": {
      "text/plain": [
       "<seaborn.axisgrid.FacetGrid at 0x7f7126d7b790>"
      ]
     },
     "execution_count": 7,
     "metadata": {},
     "output_type": "execute_result"
    },
    {
     "data": {
      "image/png": "[encoded data removed]",
      "text/plain": [
       "<Figure size 600x300 with 2 Axes>"
      ]
     },
     "metadata": {},
     "output_type": "display_data"
    }
   ],
   "source": [
    "age_mortality = sns.FacetGrid(inpatient_demographics_event, col='Died during admission')\n",
    "age_mortality.map(plt.hist, 'Age at admission', bins=20)"
   ]
  },
  {
   "cell_type": "code",
   "execution_count": 8,
   "metadata": {},
   "outputs": [
    {
     "data": {
      "text/plain": [
       "Married                     228820\n",
       "Divorced                    146894\n",
       "Widowed                      71298\n",
       "Never married                51879\n",
       "Separated                    21802\n",
       "Not specified (no value)       866\n",
       "Unknown                        782\n",
       "Single                         399\n",
       "Name: Marital status, dtype: int64"
      ]
     },
     "execution_count": 8,
     "metadata": {},
     "output_type": "execute_result"
    }
   ],
   "source": [
    "inpatient_demographics_event['Marital status'].value_counts()"
   ]
  },
  {
   "cell_type": "code",
   "execution_count": 22,
   "metadata": {},
   "outputs": [
    {
     "data": {
      "text/plain": [
       "<seaborn.axisgrid.FacetGrid at 0x7f70e54f5450>"
      ]
     },
     "execution_count": 22,
     "metadata": {},
     "output_type": "execute_result"
    },
    {
     "data": {
      "image/png": "[encoded data removed]",
      "text/plain": [
       "<Figure size 1500x500 with 1 Axes>"
      ]
     },
     "metadata": {},
     "output_type": "display_data"
    }
   ],
   "source": [
    "sns.catplot(data=inpatient_demographics_event, x='Marital status', kind=\"count\", aspect=3)"
   ]
  },
  {
   "cell_type": "code",
   "execution_count": 10,
   "metadata": {},
   "outputs": [
    {
     "data": {
      "text/plain": [
       "Urban            356784\n",
       "Rural            158488\n",
       "Highly rural       5980\n",
       "Not specified      1488\n",
       "Name: Ruca category, dtype: int64"
      ]
     },
     "execution_count": 10,
     "metadata": {},
     "output_type": "execute_result"
    }
   ],
   "source": [
    "inpatient_demographics_event['Ruca category'].value_counts()"
   ]
  },
  {
   "cell_type": "code",
   "execution_count": 24,
   "metadata": {},
   "outputs": [
    {
     "data": {
      "text/plain": [
       "<seaborn.axisgrid.FacetGrid at 0x7f70e4ea0340>"
      ]
     },
     "execution_count": 24,
     "metadata": {},
     "output_type": "execute_result"
    },
    {
     "data": {
      "image/png": "[encoded data removed]",
      "text/plain": [
       "<Figure size 500x500 with 1 Axes>"
      ]
     },
     "metadata": {},
     "output_type": "display_data"
    }
   ],
   "source": [
    "sns.catplot(data=inpatient_demographics_event, x='Ruca category', kind=\"count\", aspect=1)"
   ]
  },
  {
   "cell_type": "code",
   "execution_count": null,
   "metadata": {},
   "outputs": [],
   "source": []
  }
 ],
 "metadata": {
  "kernelspec": {
   "display_name": "Python 3",
   "language": "python",
   "name": "python3"
  },
  "language_info": {
   "codemirror_mode": {
    "name": "ipython",
    "version": 3
   },
   "file_extension": ".py",
   "mimetype": "text/x-python",
   "name": "python",
   "nbconvert_exporter": "python",
   "pygments_lexer": "ipython3",
   "version": "3.10.11"
  },
  "orig_nbformat": 4
 },
 "nbformat": 4,
 "nbformat_minor": 2
}
