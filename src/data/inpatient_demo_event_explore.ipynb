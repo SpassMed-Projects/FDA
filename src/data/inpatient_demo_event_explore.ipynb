{
 "cells": [
  {
   "attachments": {},
   "cell_type": "markdown",
   "metadata": {},
   "source": [
    "EDA for demographics_event_train\n",
    "1. Merge dataset\n",
    "2. Age \n",
    "3. Marital status\n",
    "\n",
    "Questions:\n",
    "- How different age related to motality/readmission\n",
    "- How to deal with inbalanced dataset\n",
    "- How to deal with event data (string of date-time) https://www.programiz.com/python-programming/datetime/strftime\n",
    "- Check missing values and invalid values.\n",
    "- How is agentorangeflag and serviceconnectedflag and veteran_flag relationships\n",
    "- How ruca category related to motality/readmission\n",
    "- Technique for imputating categorical data https://stackoverflow.com/questions/62015823/imputating-categorical-data-in-python-nearest-previous-value\n",
    "- Encoding string/category to numbers.\n",
    "\n"
   ]
  },
  {
   "attachments": {},
   "cell_type": "markdown",
   "metadata": {},
   "source": [
    "Process columns: Age at update, Event date, Marital status, Ruca category\n",
    "1. Clean nan/invalid values using imputation.\n",
    "2. Encoding categorical values.\n",
    "3. \n"
   ]
  },
  {
   "attachments": {},
   "cell_type": "markdown",
   "metadata": {},
   "source": [
    "# Import Data & Basic Exploration"
   ]
  },
  {
   "cell_type": "code",
   "execution_count": 297,
   "metadata": {},
   "outputs": [],
   "source": [
    "import pandas as pd\n",
    "\n",
    "\n",
    "import numpy as np\n",
    "import pandas as pd\n",
    "\n",
    "import seaborn as sns\n",
    "from importlib import reload\n",
    "import matplotlib.pyplot as plt\n",
    "import preprocess_data \n",
    "\n",
    "reload(preprocess_data)\n",
    "\n",
    "%matplotlib inline"
   ]
  },
  {
   "cell_type": "code",
   "execution_count": 298,
   "metadata": {},
   "outputs": [],
   "source": [
    "inpatients_with_readm = pd.read_csv('/home/daisy/FDA_Dataset/inpatients_with_readm.csv').iloc[:,1:]\n",
    "demographics_event_train = pd.read_csv('/home/bhatti/dataset/VCHAMPS/demographics_event_train.csv').iloc[:,1:]"
   ]
  },
  {
   "cell_type": "code",
   "execution_count": 299,
   "metadata": {},
   "outputs": [
    {
     "data": {
      "text/html": [
       "<div>\n",
       "<style scoped>\n",
       "    .dataframe tbody tr th:only-of-type {\n",
       "        vertical-align: middle;\n",
       "    }\n",
       "\n",
       "    .dataframe tbody tr th {\n",
       "        vertical-align: top;\n",
       "    }\n",
       "\n",
       "    .dataframe thead th {\n",
       "        text-align: right;\n",
       "    }\n",
       "</style>\n",
       "<table border=\"1\" class=\"dataframe\">\n",
       "  <thead>\n",
       "    <tr style=\"text-align: right;\">\n",
       "      <th></th>\n",
       "      <th>Internalpatientid</th>\n",
       "      <th>Age at admission</th>\n",
       "      <th>Admission date</th>\n",
       "      <th>Discharge date</th>\n",
       "      <th>Admitting unit service</th>\n",
       "      <th>Discharging unit service</th>\n",
       "      <th>Admitting specialty</th>\n",
       "      <th>Discharging specialty</th>\n",
       "      <th>First listed discharge diagnosis icd10 subcategory</th>\n",
       "      <th>Second listed discharge diagnosis icd10 subcategory</th>\n",
       "      <th>...</th>\n",
       "      <th>Died during admission</th>\n",
       "      <th>Outpatientreferralflag</th>\n",
       "      <th>Serviceconnectedflag</th>\n",
       "      <th>Agentorangeflag</th>\n",
       "      <th>State</th>\n",
       "      <th>Hospital readmission</th>\n",
       "      <th>Age at update</th>\n",
       "      <th>Event date</th>\n",
       "      <th>Marital status</th>\n",
       "      <th>Ruca category</th>\n",
       "    </tr>\n",
       "  </thead>\n",
       "  <tbody>\n",
       "    <tr>\n",
       "      <th>0</th>\n",
       "      <td>10</td>\n",
       "      <td>65.649075</td>\n",
       "      <td>2015-11-28 17:41:09.0</td>\n",
       "      <td>2015-11-29 01:43:14.0</td>\n",
       "      <td>NON-COUNT</td>\n",
       "      <td>NON-COUNT</td>\n",
       "      <td>DRUG DEPENDENCE TRMT UNIT</td>\n",
       "      <td>MEDICAL OBSERVATION</td>\n",
       "      <td>Pneumonia, unspecified organism</td>\n",
       "      <td>Hypokalemia</td>\n",
       "      <td>...</td>\n",
       "      <td>No</td>\n",
       "      <td>No</td>\n",
       "      <td>NaN</td>\n",
       "      <td>Yes</td>\n",
       "      <td>Utah</td>\n",
       "      <td>0</td>\n",
       "      <td>72.394105</td>\n",
       "      <td>2022-08-29 01:05:08.0</td>\n",
       "      <td>Married</td>\n",
       "      <td>Urban</td>\n",
       "    </tr>\n",
       "    <tr>\n",
       "      <th>1</th>\n",
       "      <td>100001</td>\n",
       "      <td>83.767138</td>\n",
       "      <td>2009-10-01 21:19:50.0</td>\n",
       "      <td>2009-10-04 16:51:33.0</td>\n",
       "      <td>MEDICINE</td>\n",
       "      <td>MEDICINE</td>\n",
       "      <td>PSYCHIATRIC MENTALLY INFIRM</td>\n",
       "      <td>GENERAL(ACUTE MEDICINE)</td>\n",
       "      <td>Pneumonia, unspecified organism</td>\n",
       "      <td>Essential (primary) hypertension</td>\n",
       "      <td>...</td>\n",
       "      <td>No</td>\n",
       "      <td>Yes</td>\n",
       "      <td>No</td>\n",
       "      <td>No</td>\n",
       "      <td>North Carolina</td>\n",
       "      <td>1</td>\n",
       "      <td>88.980142</td>\n",
       "      <td>2014-12-20 05:48:29.0</td>\n",
       "      <td>Separated</td>\n",
       "      <td>Urban</td>\n",
       "    </tr>\n",
       "    <tr>\n",
       "      <th>2</th>\n",
       "      <td>100001</td>\n",
       "      <td>84.873295</td>\n",
       "      <td>2010-11-10 04:32:39.0</td>\n",
       "      <td>2010-11-19 08:49:45.0</td>\n",
       "      <td>SURGERY</td>\n",
       "      <td>SURGERY</td>\n",
       "      <td>SUBSTANCE ABUSE RES TRMT PROG</td>\n",
       "      <td>ORTHOPEDIC</td>\n",
       "      <td>Osteoarthritis, unspecified site</td>\n",
       "      <td>Type 2 diabetes mellitus with neurological com...</td>\n",
       "      <td>...</td>\n",
       "      <td>No</td>\n",
       "      <td>No</td>\n",
       "      <td>NaN</td>\n",
       "      <td>No</td>\n",
       "      <td>North Carolina</td>\n",
       "      <td>1</td>\n",
       "      <td>88.980142</td>\n",
       "      <td>2014-12-20 05:48:29.0</td>\n",
       "      <td>Separated</td>\n",
       "      <td>Urban</td>\n",
       "    </tr>\n",
       "    <tr>\n",
       "      <th>3</th>\n",
       "      <td>10001</td>\n",
       "      <td>70.900369</td>\n",
       "      <td>2020-03-20 02:02:26.0</td>\n",
       "      <td>2020-03-28 08:47:01.0</td>\n",
       "      <td>SURGERY</td>\n",
       "      <td>SURGERY</td>\n",
       "      <td>PLASTIC SURGERY</td>\n",
       "      <td>SURGICAL STEPDOWN</td>\n",
       "      <td>Nonrheumatic mitral (valve) prolapse</td>\n",
       "      <td>Postprocedural shock</td>\n",
       "      <td>...</td>\n",
       "      <td>No</td>\n",
       "      <td>Yes</td>\n",
       "      <td>NaN</td>\n",
       "      <td>Yes</td>\n",
       "      <td>Florida</td>\n",
       "      <td>0</td>\n",
       "      <td>75.305350</td>\n",
       "      <td>2024-08-16 02:31:43.0</td>\n",
       "      <td>Divorced</td>\n",
       "      <td>Urban</td>\n",
       "    </tr>\n",
       "    <tr>\n",
       "      <th>4</th>\n",
       "      <td>100016</td>\n",
       "      <td>83.054993</td>\n",
       "      <td>1999-11-20 14:23:45.0</td>\n",
       "      <td>1999-12-01 03:57:43.0</td>\n",
       "      <td>MEDICINE</td>\n",
       "      <td>MEDICINE</td>\n",
       "      <td>HEMATOLOGY/ONCOLOGY</td>\n",
       "      <td>GENERAL(ACUTE MEDICINE)</td>\n",
       "      <td>Pneumonia, unspecified organism</td>\n",
       "      <td>Unspecified mental disorder due to known physi...</td>\n",
       "      <td>...</td>\n",
       "      <td>No</td>\n",
       "      <td>No</td>\n",
       "      <td>NaN</td>\n",
       "      <td>NaN</td>\n",
       "      <td>Idaho</td>\n",
       "      <td>0</td>\n",
       "      <td>83.427331</td>\n",
       "      <td>2000-04-04 16:32:52.0</td>\n",
       "      <td>Married</td>\n",
       "      <td>Rural</td>\n",
       "    </tr>\n",
       "  </tbody>\n",
       "</table>\n",
       "<p>5 rows × 21 columns</p>\n",
       "</div>"
      ],
      "text/plain": [
       "   Internalpatientid  Age at admission         Admission date  \\\n",
       "0                 10         65.649075  2015-11-28 17:41:09.0   \n",
       "1             100001         83.767138  2009-10-01 21:19:50.0   \n",
       "2             100001         84.873295  2010-11-10 04:32:39.0   \n",
       "3              10001         70.900369  2020-03-20 02:02:26.0   \n",
       "4             100016         83.054993  1999-11-20 14:23:45.0   \n",
       "\n",
       "          Discharge date Admitting unit service Discharging unit service  \\\n",
       "0  2015-11-29 01:43:14.0              NON-COUNT                NON-COUNT   \n",
       "1  2009-10-04 16:51:33.0               MEDICINE                 MEDICINE   \n",
       "2  2010-11-19 08:49:45.0                SURGERY                  SURGERY   \n",
       "3  2020-03-28 08:47:01.0                SURGERY                  SURGERY   \n",
       "4  1999-12-01 03:57:43.0               MEDICINE                 MEDICINE   \n",
       "\n",
       "             Admitting specialty    Discharging specialty  \\\n",
       "0      DRUG DEPENDENCE TRMT UNIT      MEDICAL OBSERVATION   \n",
       "1    PSYCHIATRIC MENTALLY INFIRM  GENERAL(ACUTE MEDICINE)   \n",
       "2  SUBSTANCE ABUSE RES TRMT PROG               ORTHOPEDIC   \n",
       "3                PLASTIC SURGERY        SURGICAL STEPDOWN   \n",
       "4            HEMATOLOGY/ONCOLOGY  GENERAL(ACUTE MEDICINE)   \n",
       "\n",
       "  First listed discharge diagnosis icd10 subcategory  \\\n",
       "0                    Pneumonia, unspecified organism   \n",
       "1                    Pneumonia, unspecified organism   \n",
       "2                   Osteoarthritis, unspecified site   \n",
       "3               Nonrheumatic mitral (valve) prolapse   \n",
       "4                    Pneumonia, unspecified organism   \n",
       "\n",
       "  Second listed discharge diagnosis icd10 subcategory  ...  \\\n",
       "0                                        Hypokalemia   ...   \n",
       "1                   Essential (primary) hypertension   ...   \n",
       "2  Type 2 diabetes mellitus with neurological com...   ...   \n",
       "3                               Postprocedural shock   ...   \n",
       "4  Unspecified mental disorder due to known physi...   ...   \n",
       "\n",
       "  Died during admission Outpatientreferralflag Serviceconnectedflag  \\\n",
       "0                    No                     No                  NaN   \n",
       "1                    No                    Yes                   No   \n",
       "2                    No                     No                  NaN   \n",
       "3                    No                    Yes                  NaN   \n",
       "4                    No                     No                  NaN   \n",
       "\n",
       "  Agentorangeflag           State Hospital readmission  Age at update  \\\n",
       "0             Yes            Utah                    0      72.394105   \n",
       "1              No  North Carolina                    1      88.980142   \n",
       "2              No  North Carolina                    1      88.980142   \n",
       "3             Yes         Florida                    0      75.305350   \n",
       "4             NaN           Idaho                    0      83.427331   \n",
       "\n",
       "              Event date Marital status Ruca category  \n",
       "0  2022-08-29 01:05:08.0        Married         Urban  \n",
       "1  2014-12-20 05:48:29.0      Separated         Urban  \n",
       "2  2014-12-20 05:48:29.0      Separated         Urban  \n",
       "3  2024-08-16 02:31:43.0       Divorced         Urban  \n",
       "4  2000-04-04 16:32:52.0        Married         Rural  \n",
       "\n",
       "[5 rows x 21 columns]"
      ]
     },
     "execution_count": 299,
     "metadata": {},
     "output_type": "execute_result"
    }
   ],
   "source": [
    "inpatient_demographics_event = inpatients_with_readm.merge(demographics_event_train, how = 'left', on = 'Internalpatientid')\n",
    "inpatient_demographics_event.head()"
   ]
  },
  {
   "cell_type": "code",
   "execution_count": 300,
   "metadata": {},
   "outputs": [
    {
     "data": {
      "text/plain": [
       "<seaborn.axisgrid.FacetGrid at 0x7fb6f80f6830>"
      ]
     },
     "execution_count": 300,
     "metadata": {},
     "output_type": "execute_result"
    },
    {
     "data": {
      "image/png": "[encoded data removed]",
      "text/plain": [
       "<Figure size 600x300 with 2 Axes>"
      ]
     },
     "metadata": {},
     "output_type": "display_data"
    }
   ],
   "source": [
    "age_mortality = sns.FacetGrid(inpatient_demographics_event, col='Died during admission')\n",
    "age_mortality.map(plt.hist, 'Age at admission', bins=20)"
   ]
  },
  {
   "cell_type": "code",
   "execution_count": 301,
   "metadata": {},
   "outputs": [
    {
     "data": {
      "text/plain": [
       "No     0.031234\n",
       "Yes    0.021065\n",
       "Name: Agentorangeflag, dtype: float64"
      ]
     },
     "execution_count": 301,
     "metadata": {},
     "output_type": "execute_result"
    }
   ],
   "source": [
    "inpatient_demographics_event[inpatient_demographics_event['Died during admission'] == 'Yes']['Agentorangeflag'].value_counts() / inpatient_demographics_event['Agentorangeflag'].value_counts() "
   ]
  },
  {
   "cell_type": "code",
   "execution_count": 302,
   "metadata": {},
   "outputs": [
    {
     "data": {
      "text/plain": [
       "No     0.059350\n",
       "Yes    0.043134\n",
       "Name: Serviceconnectedflag, dtype: float64"
      ]
     },
     "execution_count": 302,
     "metadata": {},
     "output_type": "execute_result"
    }
   ],
   "source": [
    "inpatient_demographics_event[inpatient_demographics_event['Died during admission'] == 'Yes']['Serviceconnectedflag'].value_counts() / inpatient_demographics_event['Serviceconnectedflag'].value_counts() "
   ]
  },
  {
   "cell_type": "code",
   "execution_count": 303,
   "metadata": {},
   "outputs": [
    {
     "data": {
      "text/plain": [
       "Married                     228820\n",
       "Divorced                    146894\n",
       "Widowed                      71298\n",
       "Never married                51879\n",
       "Separated                    21802\n",
       "Not specified (no value)       866\n",
       "Unknown                        782\n",
       "Single                         399\n",
       "Name: Marital status, dtype: int64"
      ]
     },
     "execution_count": 303,
     "metadata": {},
     "output_type": "execute_result"
    }
   ],
   "source": [
    "inpatient_demographics_event['Marital status'].value_counts()"
   ]
  },
  {
   "cell_type": "code",
   "execution_count": 304,
   "metadata": {},
   "outputs": [
    {
     "data": {
      "text/plain": [
       "<seaborn.axisgrid.FacetGrid at 0x7fb7141af9a0>"
      ]
     },
     "execution_count": 304,
     "metadata": {},
     "output_type": "execute_result"
    },
    {
     "data": {
      "image/png": "[encoded data removed]",
      "text/plain": [
       "<Figure size 1500x500 with 1 Axes>"
      ]
     },
     "metadata": {},
     "output_type": "display_data"
    }
   ],
   "source": [
    "sns.catplot(data=inpatient_demographics_event, x='Marital status', kind=\"count\", aspect=3)"
   ]
  },
  {
   "cell_type": "code",
   "execution_count": 305,
   "metadata": {},
   "outputs": [
    {
     "data": {
      "text/plain": [
       "Urban            356784\n",
       "Rural            158488\n",
       "Highly rural       5980\n",
       "Not specified      1488\n",
       "Name: Ruca category, dtype: int64"
      ]
     },
     "execution_count": 305,
     "metadata": {},
     "output_type": "execute_result"
    }
   ],
   "source": [
    "inpatient_demographics_event['Ruca category'].value_counts()"
   ]
  },
  {
   "cell_type": "code",
   "execution_count": 306,
   "metadata": {},
   "outputs": [
    {
     "data": {
      "text/plain": [
       "<seaborn.axisgrid.FacetGrid at 0x7fb6e50a2ad0>"
      ]
     },
     "execution_count": 306,
     "metadata": {},
     "output_type": "execute_result"
    },
    {
     "data": {
      "image/png": "[encoded data removed]",
      "text/plain": [
       "<Figure size 500x500 with 1 Axes>"
      ]
     },
     "metadata": {},
     "output_type": "display_data"
    }
   ],
   "source": [
    "sns.catplot(data=inpatient_demographics_event, x='Ruca category', kind=\"count\", aspect=1)"
   ]
  },
  {
   "cell_type": "code",
   "execution_count": 307,
   "metadata": {},
   "outputs": [
    {
     "data": {
      "text/plain": [
       "<seaborn.axisgrid.FacetGrid at 0x7fb6e5031510>"
      ]
     },
     "execution_count": 307,
     "metadata": {},
     "output_type": "execute_result"
    },
    {
     "data": {
      "image/png": "[encoded data removed]",
      "text/plain": [
       "<Figure size 600x300 with 2 Axes>"
      ]
     },
     "metadata": {},
     "output_type": "display_data"
    }
   ],
   "source": [
    "age_mortality = sns.FacetGrid(inpatient_demographics_event, col='Died during admission')\n",
    "age_mortality.map(plt.hist, 'Ruca category', bins=20)"
   ]
  },
  {
   "cell_type": "code",
   "execution_count": 308,
   "metadata": {},
   "outputs": [
    {
     "data": {
      "text/plain": [
       "Urban            0.031823\n",
       "Rural            0.030375\n",
       "Highly rural     0.033612\n",
       "Not specified    0.017473\n",
       "Name: Ruca category, dtype: float64"
      ]
     },
     "execution_count": 308,
     "metadata": {},
     "output_type": "execute_result"
    }
   ],
   "source": [
    "inpatient_demographics_event[inpatient_demographics_event['Died during admission'] == 'Yes']['Ruca category'].value_counts() / inpatient_demographics_event['Ruca category'].value_counts() "
   ]
  },
  {
   "attachments": {},
   "cell_type": "markdown",
   "metadata": {},
   "source": [
    "## How different age related to motality"
   ]
  },
  {
   "cell_type": "code",
   "execution_count": 309,
   "metadata": {},
   "outputs": [],
   "source": [
    "bins = list(range(0,100,10))\n",
    "inpatient_demographics_event['agesgroup']=pd.cut(inpatient_demographics_event['Age at admission'],bins)\n"
   ]
  },
  {
   "cell_type": "code",
   "execution_count": 310,
   "metadata": {},
   "outputs": [],
   "source": [
    "agesGroup = inpatient_demographics_event['agesgroup'].value_counts()"
   ]
  },
  {
   "cell_type": "code",
   "execution_count": 311,
   "metadata": {},
   "outputs": [],
   "source": [
    "agesGroupDied = inpatient_demographics_event[inpatient_demographics_event['Died during admission'] == 'Yes']['agesgroup'].value_counts()"
   ]
  },
  {
   "cell_type": "code",
   "execution_count": 312,
   "metadata": {},
   "outputs": [],
   "source": [
    "agesGroupDiedRate = agesGroupDied / agesGroup"
   ]
  },
  {
   "attachments": {},
   "cell_type": "markdown",
   "metadata": {},
   "source": [
    "We can see age is definitely related to death rate."
   ]
  },
  {
   "attachments": {},
   "cell_type": "markdown",
   "metadata": {},
   "source": [
    "# Data Preprocessing\n"
   ]
  },
  {
   "attachments": {},
   "cell_type": "markdown",
   "metadata": {},
   "source": [
    "## Investigate Data\n",
    "The columns for demographics_event: Age at update, Event date, Marital status, Ruca category.\n",
    "- Age at update -> May have correlations with results.\n",
    "- Event date -> May have correlations with results.\n",
    "- Marital status -> Encoding to single / not single + imputating not specified.\n",
    "- Ruca category -> Encoding to single / not single + imputating not specified.\n",
    "\n",
    "(Also by checking the Nan values in the table, we can see Outpatientreferralflag, Serviceconnectedflag and Agentorangeflag have Nan may need to be preprocessed. \n",
    "E.g.\n",
    "```inpatient_demographics_event['Serviceconnectedflag'] = inpatient_demographics_event['Serviceconnectedflag'].fillna('unknow')```,\n",
    "```inpatient_demographics_event['Agentorangeflag'] = inpatient_demographics_event['Agentorangeflag'].fillna('unknow')```\n",
    ")"
   ]
  },
  {
   "cell_type": "code",
   "execution_count": 313,
   "metadata": {},
   "outputs": [
    {
     "data": {
      "text/plain": [
       "Internalpatientid                                           0\n",
       "Age at admission                                            0\n",
       "Admission date                                              0\n",
       "Discharge date                                            494\n",
       "Admitting unit service                                      0\n",
       "Discharging unit service                                    0\n",
       "Admitting specialty                                         0\n",
       "Discharging specialty                                       0\n",
       "First listed discharge diagnosis icd10 subcategory          0\n",
       "Second listed discharge diagnosis icd10 subcategory         0\n",
       "Discharge disposition                                       0\n",
       "Died during admission                                       0\n",
       "Outpatientreferralflag                                  26443\n",
       "Serviceconnectedflag                                   487689\n",
       "Agentorangeflag                                        104512\n",
       "State                                                       0\n",
       "Hospital readmission                                        0\n",
       "Age at update                                               0\n",
       "Event date                                                  0\n",
       "Marital status                                              0\n",
       "Ruca category                                               0\n",
       "agesgroup                                               17969\n",
       "dtype: int64"
      ]
     },
     "execution_count": 313,
     "metadata": {},
     "output_type": "execute_result"
    }
   ],
   "source": [
    "pd.isnull(inpatient_demographics_event).sum()"
   ]
  },
  {
   "cell_type": "code",
   "execution_count": 314,
   "metadata": {},
   "outputs": [
    {
     "data": {
      "text/plain": [
       "<Axes: ylabel='Age at update'>"
      ]
     },
     "execution_count": 314,
     "metadata": {},
     "output_type": "execute_result"
    },
    {
     "data": {
      "image/png": "[encoded data removed]",
      "text/plain": [
       "<Figure size 640x480 with 1 Axes>"
      ]
     },
     "metadata": {},
     "output_type": "display_data"
    }
   ],
   "source": [
    "sns.lineplot(inpatient_demographics_event['Age at update'].value_counts())"
   ]
  },
  {
   "cell_type": "code",
   "execution_count": 315,
   "metadata": {},
   "outputs": [],
   "source": [
    "inpatient_demographics_event['Event date'] = inpatient_demographics_event['Event date'].apply(preprocess_data.preprocess_time_string)"
   ]
  },
  {
   "cell_type": "code",
   "execution_count": 316,
   "metadata": {},
   "outputs": [
    {
     "data": {
      "text/plain": [
       "<Axes: ylabel='Event date'>"
      ]
     },
     "execution_count": 316,
     "metadata": {},
     "output_type": "execute_result"
    },
    {
     "data": {
      "image/png": "[encoded data removed]",
      "text/plain": [
       "<Figure size 640x480 with 1 Axes>"
      ]
     },
     "metadata": {},
     "output_type": "display_data"
    }
   ],
   "source": [
    "sns.lineplot(inpatient_demographics_event['Event date'].value_counts())"
   ]
  },
  {
   "cell_type": "code",
   "execution_count": 317,
   "metadata": {},
   "outputs": [
    {
     "data": {
      "text/plain": [
       "Timestamp('1995-12-01 16:26:28')"
      ]
     },
     "execution_count": 317,
     "metadata": {},
     "output_type": "execute_result"
    }
   ],
   "source": [
    "min(inpatient_demographics_event['Event date']) # There is no invalid data"
   ]
  },
  {
   "cell_type": "code",
   "execution_count": 318,
   "metadata": {},
   "outputs": [
    {
     "data": {
      "text/plain": [
       "Married                     228820\n",
       "Divorced                    146894\n",
       "Widowed                      71298\n",
       "Never married                51879\n",
       "Separated                    21802\n",
       "Not specified (no value)       866\n",
       "Unknown                        782\n",
       "Single                         399\n",
       "Name: Marital status, dtype: int64"
      ]
     },
     "execution_count": 318,
     "metadata": {},
     "output_type": "execute_result"
    }
   ],
   "source": [
    "inpatient_demographics_event['Marital status'].value_counts()"
   ]
  },
  {
   "cell_type": "code",
   "execution_count": 319,
   "metadata": {},
   "outputs": [
    {
     "data": {
      "text/plain": [
       "Urban            356784\n",
       "Rural            158488\n",
       "Highly rural       5980\n",
       "Not specified      1488\n",
       "Name: Ruca category, dtype: int64"
      ]
     },
     "execution_count": 319,
     "metadata": {},
     "output_type": "execute_result"
    }
   ],
   "source": [
    "inpatient_demographics_event['Ruca category'].value_counts()"
   ]
  },
  {
   "attachments": {},
   "cell_type": "markdown",
   "metadata": {},
   "source": [
    "## Encoding categorical data\n",
    "For Marital status:\n",
    "- Divorced -> Not single - 0\n",
    "- Never married, Separated, Single， Widowed -> Single - 1\n",
    "- Not specified (no value) -> imputate\n",
    "\n",
    "For Ruca category:\n",
    "- Urban -> Urban - 1\n",
    "- Highly rural, Rural -> Not urban - 0\n",
    "- Not specified -> Imputate"
   ]
  },
  {
   "cell_type": "code",
   "execution_count": 320,
   "metadata": {},
   "outputs": [],
   "source": [
    "marital_status = {'Married': 1, 'Divorced': 0, 'Never married': 1, 'Separated': 1, 'Single': 1, 'Unknown': None, 'Widowed': 1, 'Not specified (no value)': None}\n",
    "ruca_category = {'Urban': 1, 'Highly rural': 0, 'Rural': 0, 'Not specified': None}"
   ]
  },
  {
   "cell_type": "code",
   "execution_count": 321,
   "metadata": {},
   "outputs": [],
   "source": [
    "inpatient_demographics_event['Marital status encoded'] = preprocess_data.preprocess_combine_categories(marital_status, \n",
    "                                                                               inpatient_demographics_event['Marital status'])"
   ]
  },
  {
   "cell_type": "code",
   "execution_count": 322,
   "metadata": {},
   "outputs": [],
   "source": [
    "inpatient_demographics_event['Ruca category encoded'] = preprocess_data.preprocess_combine_categories(ruca_category, \n",
    "                                                                               inpatient_demographics_event['Ruca category'])"
   ]
  },
  {
   "cell_type": "code",
   "execution_count": 323,
   "metadata": {},
   "outputs": [
    {
     "data": {
      "text/plain": [
       "1.0    356784\n",
       "0.0    164468\n",
       "Name: Ruca category encoded, dtype: int64"
      ]
     },
     "execution_count": 323,
     "metadata": {},
     "output_type": "execute_result"
    }
   ],
   "source": [
    "inpatient_demographics_event['Ruca category encoded'].value_counts()"
   ]
  },
  {
   "cell_type": "code",
   "execution_count": 324,
   "metadata": {},
   "outputs": [
    {
     "data": {
      "text/plain": [
       "0         1.0\n",
       "1         1.0\n",
       "2         1.0\n",
       "3         1.0\n",
       "4         0.0\n",
       "         ... \n",
       "522735    1.0\n",
       "522736    1.0\n",
       "522737    1.0\n",
       "522738    1.0\n",
       "522739    1.0\n",
       "Name: Ruca category encoded, Length: 522740, dtype: float64"
      ]
     },
     "execution_count": 324,
     "metadata": {},
     "output_type": "execute_result"
    }
   ],
   "source": [
    "inpatient_demographics_event['Ruca category encoded']"
   ]
  },
  {
   "cell_type": "code",
   "execution_count": 329,
   "metadata": {},
   "outputs": [
    {
     "name": "stderr",
     "output_type": "stream",
     "text": [
      "/home/vivi/FDA/src/data/preprocess_data.py:25: SettingWithCopyWarning: \n",
      "A value is trying to be set on a copy of a slice from a DataFrame\n",
      "\n",
      "See the caveats in the documentation: https://pandas.pydata.org/pandas-docs/stable/user_guide/indexing.html#returning-a-view-versus-a-copy\n"
     ]
    }
   ],
   "source": [
    "inpatient_demographics_event['Marital status encoded'] = preprocess_data.imputate_nan_binary(inpatient_demographics_event['Marital status encoded'])"
   ]
  },
  {
   "cell_type": "code",
   "execution_count": 330,
   "metadata": {},
   "outputs": [],
   "source": [
    "inpatient_demographics_event['Ruca category encoded'] = preprocess_data.imputate_nan_binary(inpatient_demographics_event['Ruca category encoded'])"
   ]
  },
  {
   "cell_type": "markdown",
   "metadata": {},
   "source": []
  },
  {
   "cell_type": "code",
   "execution_count": 332,
   "metadata": {},
   "outputs": [
    {
     "data": {
      "text/plain": [
       "Internalpatientid                                           0\n",
       "Age at admission                                            0\n",
       "Admission date                                              0\n",
       "Discharge date                                            494\n",
       "Admitting unit service                                      0\n",
       "Discharging unit service                                    0\n",
       "Admitting specialty                                         0\n",
       "Discharging specialty                                       0\n",
       "First listed discharge diagnosis icd10 subcategory          0\n",
       "Second listed discharge diagnosis icd10 subcategory         0\n",
       "Discharge disposition                                       0\n",
       "Died during admission                                       0\n",
       "Outpatientreferralflag                                  26443\n",
       "Serviceconnectedflag                                   487689\n",
       "Agentorangeflag                                        104512\n",
       "State                                                       0\n",
       "Hospital readmission                                        0\n",
       "Age at update                                               0\n",
       "Event date                                                  0\n",
       "Marital status                                              0\n",
       "Ruca category                                               0\n",
       "agesgroup                                               17969\n",
       "Marital status encoded                                      0\n",
       "Ruca category encoded                                       0\n",
       "dtype: int64"
      ]
     },
     "execution_count": 332,
     "metadata": {},
     "output_type": "execute_result"
    }
   ],
   "source": [
    "pd.isnull(inpatient_demographics_event).sum()"
   ]
  }
 ],
 "metadata": {
  "kernelspec": {
   "display_name": "Python 3",
   "language": "python",
   "name": "python3"
  },
  "language_info": {
   "codemirror_mode": {
    "name": "ipython",
    "version": 3
   },
   "file_extension": ".py",
   "mimetype": "text/x-python",
   "name": "python",
   "nbconvert_exporter": "python",
   "pygments_lexer": "ipython3",
   "version": "3.10.11"
  },
  "orig_nbformat": 4
 },
 "nbformat": 4,
 "nbformat_minor": 2
}
