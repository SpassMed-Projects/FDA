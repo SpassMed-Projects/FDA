{
 "cells": [
  {
   "cell_type": "code",
   "execution_count": 1,
   "metadata": {},
   "outputs": [],
   "source": [
    "import pandas as pd\n",
    "\n",
    "\n",
    "import numpy as np\n",
    "import pandas as pd\n",
    "\n",
    "import seaborn as sns\n",
    "from importlib import reload\n",
    "import matplotlib.pyplot as plt\n",
    "import preprocess_data \n",
    "\n",
    "reload(preprocess_data)\n",
    "\n",
    "%matplotlib inline"
   ]
  },
  {
   "cell_type": "code",
   "execution_count": 2,
   "metadata": {},
   "outputs": [],
   "source": [
    "inpatient_specialty = pd.read_csv('/home/bhatti/dataset/VCHAMPS/inpatient_specialty_train.csv').iloc[:,1:]"
   ]
  },
  {
   "cell_type": "code",
   "execution_count": 3,
   "metadata": {},
   "outputs": [
    {
     "data": {
      "text/html": [
       "<div>\n",
       "<style scoped>\n",
       "    .dataframe tbody tr th:only-of-type {\n",
       "        vertical-align: middle;\n",
       "    }\n",
       "\n",
       "    .dataframe tbody tr th {\n",
       "        vertical-align: top;\n",
       "    }\n",
       "\n",
       "    .dataframe thead th {\n",
       "        text-align: right;\n",
       "    }\n",
       "</style>\n",
       "<table border=\"1\" class=\"dataframe\">\n",
       "  <thead>\n",
       "    <tr style=\"text-align: right;\">\n",
       "      <th></th>\n",
       "      <th>Internalpatientid</th>\n",
       "      <th>Age at specialty</th>\n",
       "      <th>Specialty start date</th>\n",
       "      <th>Specialty end date</th>\n",
       "      <th>Specialty</th>\n",
       "      <th>State</th>\n",
       "    </tr>\n",
       "  </thead>\n",
       "  <tbody>\n",
       "    <tr>\n",
       "      <th>0</th>\n",
       "      <td>1</td>\n",
       "      <td>78.725684</td>\n",
       "      <td>2022-12-31 05:41:51.0</td>\n",
       "      <td>2023-01-01 23:06:29.0</td>\n",
       "      <td>DERMATOLOGY</td>\n",
       "      <td>Indiana</td>\n",
       "    </tr>\n",
       "    <tr>\n",
       "      <th>1</th>\n",
       "      <td>100001</td>\n",
       "      <td>86.568969</td>\n",
       "      <td>2012-07-21 23:00:00.0</td>\n",
       "      <td>2012-07-22 19:18:47.0</td>\n",
       "      <td>PM&amp;R TRANSITIONAL REHAB</td>\n",
       "      <td>North Carolina</td>\n",
       "    </tr>\n",
       "    <tr>\n",
       "      <th>2</th>\n",
       "      <td>100015</td>\n",
       "      <td>56.646451</td>\n",
       "      <td>2002-07-16 06:40:13.0</td>\n",
       "      <td>2002-07-16 06:40:13.0</td>\n",
       "      <td>INTERMEDIATE MEDICINE</td>\n",
       "      <td>Massachusetts</td>\n",
       "    </tr>\n",
       "    <tr>\n",
       "      <th>3</th>\n",
       "      <td>100015</td>\n",
       "      <td>58.247495</td>\n",
       "      <td>2004-02-21 11:01:35.0</td>\n",
       "      <td>2004-02-22 14:56:40.0</td>\n",
       "      <td>DOMICILIARY PTSD</td>\n",
       "      <td>Rhode Island</td>\n",
       "    </tr>\n",
       "    <tr>\n",
       "      <th>4</th>\n",
       "      <td>100019</td>\n",
       "      <td>81.174959</td>\n",
       "      <td>1999-10-24 10:44:24.0</td>\n",
       "      <td>1999-10-31 10:20:31.0</td>\n",
       "      <td>PLASTIC SURGERY</td>\n",
       "      <td>Florida</td>\n",
       "    </tr>\n",
       "    <tr>\n",
       "      <th>...</th>\n",
       "      <td>...</td>\n",
       "      <td>...</td>\n",
       "      <td>...</td>\n",
       "      <td>...</td>\n",
       "      <td>...</td>\n",
       "      <td>...</td>\n",
       "    </tr>\n",
       "    <tr>\n",
       "      <th>1452905</th>\n",
       "      <td>99993</td>\n",
       "      <td>58.013747</td>\n",
       "      <td>2007-02-18 00:35:16.0</td>\n",
       "      <td>2007-02-18 04:55:16.0</td>\n",
       "      <td>METABOLIC</td>\n",
       "      <td>Kentucky</td>\n",
       "    </tr>\n",
       "    <tr>\n",
       "      <th>1452906</th>\n",
       "      <td>99994</td>\n",
       "      <td>83.090126</td>\n",
       "      <td>2016-10-18 10:35:16.0</td>\n",
       "      <td>2016-10-21 11:02:57.0</td>\n",
       "      <td>NH SHORT STAY DEMENTIA CARE</td>\n",
       "      <td>Texas</td>\n",
       "    </tr>\n",
       "    <tr>\n",
       "      <th>1452907</th>\n",
       "      <td>99994</td>\n",
       "      <td>85.951737</td>\n",
       "      <td>2019-08-30 08:38:03.0</td>\n",
       "      <td>2019-09-05 09:28:48.0</td>\n",
       "      <td>PULMONARY, NON-TB</td>\n",
       "      <td>Texas</td>\n",
       "    </tr>\n",
       "    <tr>\n",
       "      <th>1452908</th>\n",
       "      <td>99996</td>\n",
       "      <td>55.942565</td>\n",
       "      <td>2011-08-17 00:10:52.0</td>\n",
       "      <td>2011-08-17 00:10:52.0</td>\n",
       "      <td>GENERAL(ACUTE MEDICINE)</td>\n",
       "      <td>Georgia</td>\n",
       "    </tr>\n",
       "    <tr>\n",
       "      <th>1452909</th>\n",
       "      <td>99999</td>\n",
       "      <td>96.344362</td>\n",
       "      <td>2013-04-04 20:44:37.0</td>\n",
       "      <td>2013-04-14 10:02:00.0</td>\n",
       "      <td>GEM PSYCHIATRIC BEDS</td>\n",
       "      <td>Arizona</td>\n",
       "    </tr>\n",
       "  </tbody>\n",
       "</table>\n",
       "<p>1452910 rows × 6 columns</p>\n",
       "</div>"
      ],
      "text/plain": [
       "         Internalpatientid  Age at specialty   Specialty start date  \\\n",
       "0                        1         78.725684  2022-12-31 05:41:51.0   \n",
       "1                   100001         86.568969  2012-07-21 23:00:00.0   \n",
       "2                   100015         56.646451  2002-07-16 06:40:13.0   \n",
       "3                   100015         58.247495  2004-02-21 11:01:35.0   \n",
       "4                   100019         81.174959  1999-10-24 10:44:24.0   \n",
       "...                    ...               ...                    ...   \n",
       "1452905              99993         58.013747  2007-02-18 00:35:16.0   \n",
       "1452906              99994         83.090126  2016-10-18 10:35:16.0   \n",
       "1452907              99994         85.951737  2019-08-30 08:38:03.0   \n",
       "1452908              99996         55.942565  2011-08-17 00:10:52.0   \n",
       "1452909              99999         96.344362  2013-04-04 20:44:37.0   \n",
       "\n",
       "            Specialty end date                    Specialty           State  \n",
       "0        2023-01-01 23:06:29.0                  DERMATOLOGY         Indiana  \n",
       "1        2012-07-22 19:18:47.0      PM&R TRANSITIONAL REHAB  North Carolina  \n",
       "2        2002-07-16 06:40:13.0        INTERMEDIATE MEDICINE   Massachusetts  \n",
       "3        2004-02-22 14:56:40.0             DOMICILIARY PTSD    Rhode Island  \n",
       "4        1999-10-31 10:20:31.0              PLASTIC SURGERY         Florida  \n",
       "...                        ...                          ...             ...  \n",
       "1452905  2007-02-18 04:55:16.0                    METABOLIC        Kentucky  \n",
       "1452906  2016-10-21 11:02:57.0  NH SHORT STAY DEMENTIA CARE           Texas  \n",
       "1452907  2019-09-05 09:28:48.0            PULMONARY, NON-TB           Texas  \n",
       "1452908  2011-08-17 00:10:52.0      GENERAL(ACUTE MEDICINE)         Georgia  \n",
       "1452909  2013-04-14 10:02:00.0         GEM PSYCHIATRIC BEDS         Arizona  \n",
       "\n",
       "[1452910 rows x 6 columns]"
      ]
     },
     "execution_count": 3,
     "metadata": {},
     "output_type": "execute_result"
    }
   ],
   "source": [
    "inpatient_specialty"
   ]
  },
  {
   "cell_type": "code",
   "execution_count": 4,
   "metadata": {},
   "outputs": [
    {
     "data": {
      "text/plain": [
       "Internalpatientid         0\n",
       "Age at specialty          0\n",
       "Specialty start date      0\n",
       "Specialty end date      437\n",
       "Specialty                 0\n",
       "State                     0\n",
       "dtype: int64"
      ]
     },
     "execution_count": 4,
     "metadata": {},
     "output_type": "execute_result"
    }
   ],
   "source": [
    "pd.isnull(inpatient_specialty).sum() "
   ]
  },
  {
   "cell_type": "code",
   "execution_count": 5,
   "metadata": {},
   "outputs": [
    {
     "data": {
      "text/html": [
       "<div>\n",
       "<style scoped>\n",
       "    .dataframe tbody tr th:only-of-type {\n",
       "        vertical-align: middle;\n",
       "    }\n",
       "\n",
       "    .dataframe tbody tr th {\n",
       "        vertical-align: top;\n",
       "    }\n",
       "\n",
       "    .dataframe thead th {\n",
       "        text-align: right;\n",
       "    }\n",
       "</style>\n",
       "<table border=\"1\" class=\"dataframe\">\n",
       "  <thead>\n",
       "    <tr style=\"text-align: right;\">\n",
       "      <th></th>\n",
       "      <th>Internalpatientid</th>\n",
       "      <th>Age at specialty</th>\n",
       "      <th>Specialty start date</th>\n",
       "      <th>Specialty end date</th>\n",
       "      <th>Specialty</th>\n",
       "      <th>State</th>\n",
       "    </tr>\n",
       "  </thead>\n",
       "  <tbody>\n",
       "    <tr>\n",
       "      <th>699</th>\n",
       "      <td>101476</td>\n",
       "      <td>74.957130</td>\n",
       "      <td>2019-12-03 19:56:26.0</td>\n",
       "      <td>NaN</td>\n",
       "      <td>HOSPICE FOR ACUTE CARE</td>\n",
       "      <td>Pennsylvania</td>\n",
       "    </tr>\n",
       "    <tr>\n",
       "      <th>1044</th>\n",
       "      <td>102152</td>\n",
       "      <td>87.421539</td>\n",
       "      <td>2024-04-11 13:44:24.0</td>\n",
       "      <td>NaN</td>\n",
       "      <td>DOMICILIARY SUBSTANCE ABUSE</td>\n",
       "      <td>Missouri</td>\n",
       "    </tr>\n",
       "    <tr>\n",
       "      <th>9216</th>\n",
       "      <td>104121</td>\n",
       "      <td>79.251161</td>\n",
       "      <td>2023-09-14 07:10:49.0</td>\n",
       "      <td>NaN</td>\n",
       "      <td>METABOLIC</td>\n",
       "      <td>Texas</td>\n",
       "    </tr>\n",
       "    <tr>\n",
       "      <th>13064</th>\n",
       "      <td>100569</td>\n",
       "      <td>70.366120</td>\n",
       "      <td>2019-05-21 19:36:23.0</td>\n",
       "      <td>NaN</td>\n",
       "      <td>SPINAL CORD INJURY OBSERVATION</td>\n",
       "      <td>Nevada</td>\n",
       "    </tr>\n",
       "    <tr>\n",
       "      <th>14156</th>\n",
       "      <td>109098</td>\n",
       "      <td>53.250477</td>\n",
       "      <td>2021-04-22 01:11:08.0</td>\n",
       "      <td>NaN</td>\n",
       "      <td>NH SHORT STAY RESTORATIVE</td>\n",
       "      <td>California</td>\n",
       "    </tr>\n",
       "    <tr>\n",
       "      <th>...</th>\n",
       "      <td>...</td>\n",
       "      <td>...</td>\n",
       "      <td>...</td>\n",
       "      <td>...</td>\n",
       "      <td>...</td>\n",
       "      <td>...</td>\n",
       "    </tr>\n",
       "    <tr>\n",
       "      <th>1431229</th>\n",
       "      <td>87364</td>\n",
       "      <td>79.014826</td>\n",
       "      <td>2023-01-19 22:03:04.0</td>\n",
       "      <td>NaN</td>\n",
       "      <td>PTSD RESIDENTIAL REHAB PROG</td>\n",
       "      <td>California</td>\n",
       "    </tr>\n",
       "    <tr>\n",
       "      <th>1432593</th>\n",
       "      <td>93641</td>\n",
       "      <td>74.926870</td>\n",
       "      <td>2023-01-14 18:30:01.0</td>\n",
       "      <td>NaN</td>\n",
       "      <td>OB/GYN</td>\n",
       "      <td>Not specified (no value)</td>\n",
       "    </tr>\n",
       "    <tr>\n",
       "      <th>1438157</th>\n",
       "      <td>91467</td>\n",
       "      <td>61.037133</td>\n",
       "      <td>2021-03-23 01:43:35.0</td>\n",
       "      <td>NaN</td>\n",
       "      <td>CARDIAC-STEP DOWN UNIT</td>\n",
       "      <td>Missouri</td>\n",
       "    </tr>\n",
       "    <tr>\n",
       "      <th>1442374</th>\n",
       "      <td>98483</td>\n",
       "      <td>73.038032</td>\n",
       "      <td>2024-02-10 09:37:03.0</td>\n",
       "      <td>NaN</td>\n",
       "      <td>UROLOGY</td>\n",
       "      <td>Minnesota</td>\n",
       "    </tr>\n",
       "    <tr>\n",
       "      <th>1449822</th>\n",
       "      <td>98424</td>\n",
       "      <td>75.971028</td>\n",
       "      <td>2024-08-03 09:51:23.0</td>\n",
       "      <td>NaN</td>\n",
       "      <td>MEDICAL ICU</td>\n",
       "      <td>California</td>\n",
       "    </tr>\n",
       "  </tbody>\n",
       "</table>\n",
       "<p>437 rows × 6 columns</p>\n",
       "</div>"
      ],
      "text/plain": [
       "         Internalpatientid  Age at specialty   Specialty start date  \\\n",
       "699                 101476         74.957130  2019-12-03 19:56:26.0   \n",
       "1044                102152         87.421539  2024-04-11 13:44:24.0   \n",
       "9216                104121         79.251161  2023-09-14 07:10:49.0   \n",
       "13064               100569         70.366120  2019-05-21 19:36:23.0   \n",
       "14156               109098         53.250477  2021-04-22 01:11:08.0   \n",
       "...                    ...               ...                    ...   \n",
       "1431229              87364         79.014826  2023-01-19 22:03:04.0   \n",
       "1432593              93641         74.926870  2023-01-14 18:30:01.0   \n",
       "1438157              91467         61.037133  2021-03-23 01:43:35.0   \n",
       "1442374              98483         73.038032  2024-02-10 09:37:03.0   \n",
       "1449822              98424         75.971028  2024-08-03 09:51:23.0   \n",
       "\n",
       "        Specialty end date                       Specialty  \\\n",
       "699                    NaN          HOSPICE FOR ACUTE CARE   \n",
       "1044                   NaN     DOMICILIARY SUBSTANCE ABUSE   \n",
       "9216                   NaN                       METABOLIC   \n",
       "13064                  NaN  SPINAL CORD INJURY OBSERVATION   \n",
       "14156                  NaN       NH SHORT STAY RESTORATIVE   \n",
       "...                    ...                             ...   \n",
       "1431229                NaN     PTSD RESIDENTIAL REHAB PROG   \n",
       "1432593                NaN                          OB/GYN   \n",
       "1438157                NaN          CARDIAC-STEP DOWN UNIT   \n",
       "1442374                NaN                         UROLOGY   \n",
       "1449822                NaN                     MEDICAL ICU   \n",
       "\n",
       "                            State  \n",
       "699                  Pennsylvania  \n",
       "1044                     Missouri  \n",
       "9216                        Texas  \n",
       "13064                      Nevada  \n",
       "14156                  California  \n",
       "...                           ...  \n",
       "1431229                California  \n",
       "1432593  Not specified (no value)  \n",
       "1438157                  Missouri  \n",
       "1442374                 Minnesota  \n",
       "1449822                California  \n",
       "\n",
       "[437 rows x 6 columns]"
      ]
     },
     "execution_count": 5,
     "metadata": {},
     "output_type": "execute_result"
    }
   ],
   "source": [
    "inpatient_specialty[pd.isnull(inpatient_specialty['Specialty end date'])]"
   ]
  },
  {
   "attachments": {},
   "cell_type": "markdown",
   "metadata": {},
   "source": [
    "# Preprocess Time\n",
    "Calculate period mean and std values."
   ]
  },
  {
   "cell_type": "code",
   "execution_count": 6,
   "metadata": {},
   "outputs": [
    {
     "name": "stderr",
     "output_type": "stream",
     "text": [
      "/tmp/ipykernel_243841/1186491515.py:1: UserWarning: Boolean Series key will be reindexed to match DataFrame index.\n",
      "  inpatient_specialty[pd.isnull(inpatient_specialty['Specialty end date'])][inpatient_specialty['Internalpatientid'] == 98424]\n"
     ]
    },
    {
     "data": {
      "text/html": [
       "<div>\n",
       "<style scoped>\n",
       "    .dataframe tbody tr th:only-of-type {\n",
       "        vertical-align: middle;\n",
       "    }\n",
       "\n",
       "    .dataframe tbody tr th {\n",
       "        vertical-align: top;\n",
       "    }\n",
       "\n",
       "    .dataframe thead th {\n",
       "        text-align: right;\n",
       "    }\n",
       "</style>\n",
       "<table border=\"1\" class=\"dataframe\">\n",
       "  <thead>\n",
       "    <tr style=\"text-align: right;\">\n",
       "      <th></th>\n",
       "      <th>Internalpatientid</th>\n",
       "      <th>Age at specialty</th>\n",
       "      <th>Specialty start date</th>\n",
       "      <th>Specialty end date</th>\n",
       "      <th>Specialty</th>\n",
       "      <th>State</th>\n",
       "    </tr>\n",
       "  </thead>\n",
       "  <tbody>\n",
       "    <tr>\n",
       "      <th>1449822</th>\n",
       "      <td>98424</td>\n",
       "      <td>75.971028</td>\n",
       "      <td>2024-08-03 09:51:23.0</td>\n",
       "      <td>NaN</td>\n",
       "      <td>MEDICAL ICU</td>\n",
       "      <td>California</td>\n",
       "    </tr>\n",
       "  </tbody>\n",
       "</table>\n",
       "</div>"
      ],
      "text/plain": [
       "         Internalpatientid  Age at specialty   Specialty start date  \\\n",
       "1449822              98424         75.971028  2024-08-03 09:51:23.0   \n",
       "\n",
       "        Specialty end date    Specialty       State  \n",
       "1449822                NaN  MEDICAL ICU  California  "
      ]
     },
     "execution_count": 6,
     "metadata": {},
     "output_type": "execute_result"
    }
   ],
   "source": [
    "inpatient_specialty[pd.isnull(inpatient_specialty['Specialty end date'])][inpatient_specialty['Internalpatientid'] == 98424]"
   ]
  },
  {
   "cell_type": "code",
   "execution_count": 7,
   "metadata": {},
   "outputs": [],
   "source": [
    "inpatient_specialty['Specialty start date'] = inpatient_specialty['Specialty start date'].apply(preprocess_data.preprocess_time_string)\n",
    "inpatient_specialty['Specialty end date'] = inpatient_specialty['Specialty end date'].apply(preprocess_data.preprocess_time_string)\n",
    "inpatient_specialty['period'] = preprocess_data.get_period(inpatient_specialty['Specialty start date'],inpatient_specialty['Specialty end date'])"
   ]
  },
  {
   "cell_type": "code",
   "execution_count": 8,
   "metadata": {},
   "outputs": [
    {
     "name": "stderr",
     "output_type": "stream",
     "text": [
      "/tmp/ipykernel_243841/2218735275.py:2: RuntimeWarning: Mean of empty slice\n",
      "  period_mean['period'] = period_mean['period'].apply(lambda x: np.nanmean(x.total_seconds()/86400))\n"
     ]
    }
   ],
   "source": [
    "period_mean = inpatient_specialty.groupby('Internalpatientid')['period'].agg(lambda x: x).reset_index()\n",
    "period_mean['period'] = period_mean['period'].apply(lambda x: np.nanmean(x.total_seconds()/86400))"
   ]
  },
  {
   "cell_type": "code",
   "execution_count": 9,
   "metadata": {},
   "outputs": [
    {
     "name": "stderr",
     "output_type": "stream",
     "text": [
      "/home/hassan/.conda/envs/mla/lib/python3.10/site-packages/numpy/lib/nanfunctions.py:1872: RuntimeWarning: Degrees of freedom <= 0 for slice.\n",
      "  var = nanvar(a, axis=axis, dtype=dtype, out=out, ddof=ddof,\n"
     ]
    }
   ],
   "source": [
    "period_std = inpatient_specialty.groupby('Internalpatientid')['period'].agg(lambda x: x).reset_index()\n",
    "period_std['period'] = period_std['period'].apply(lambda x: np.nanstd(x.total_seconds()/86400,ddof=0))"
   ]
  },
  {
   "cell_type": "code",
   "execution_count": 10,
   "metadata": {},
   "outputs": [],
   "source": [
    "period_mean = period_mean.rename(columns={'period': 'period mean'})\n",
    "period_std = period_std.rename(columns={'period': 'period std'})"
   ]
  },
  {
   "attachments": {},
   "cell_type": "markdown",
   "metadata": {},
   "source": [
    "# Preprocess Specialty\n",
    "Then consider the specialty, since it has a lot of different values, we want to simplify it in to several classes.\n",
    "By studying the values, we can have the classify it into Medical Specialties (encoded as 0) and Rehabilitation and Support Programs (encoded as 1). And finally impute the no specific value (3.75%) with imputate_nan_binary."
   ]
  },
  {
   "cell_type": "code",
   "execution_count": 11,
   "metadata": {},
   "outputs": [],
   "source": [
    "specialty_class = preprocess_data.generate_dict_from_csv('/home/vivi/FDA_datasets/specialty_class.csv','Specialty','Class')"
   ]
  },
  {
   "cell_type": "code",
   "execution_count": 12,
   "metadata": {},
   "outputs": [],
   "source": [
    "inpatient_specialty['Specialty encoded'] = preprocess_data.preprocess_substitute_categories(specialty_class, \n",
    "                                                                               inpatient_specialty['Specialty'])"
   ]
  },
  {
   "cell_type": "code",
   "execution_count": 13,
   "metadata": {},
   "outputs": [],
   "source": [
    "specialty_count = inpatient_specialty.groupby('Internalpatientid')['Specialty'].count().reset_index()"
   ]
  },
  {
   "cell_type": "code",
   "execution_count": 14,
   "metadata": {},
   "outputs": [],
   "source": [
    "specialty_count = specialty_count.rename(columns={'Specialty': 'specialty count'})"
   ]
  },
  {
   "cell_type": "code",
   "execution_count": 15,
   "metadata": {},
   "outputs": [],
   "source": [
    "specialty_medical_count = inpatient_specialty.groupby('Internalpatientid')['Specialty encoded'].agg(lambda x:  x.eq(0).sum()).reset_index()"
   ]
  },
  {
   "cell_type": "code",
   "execution_count": 16,
   "metadata": {},
   "outputs": [],
   "source": [
    "specialty_support_count = inpatient_specialty.groupby('Internalpatientid')['Specialty encoded'].agg(lambda x:  x.eq(1).sum()).reset_index()"
   ]
  },
  {
   "cell_type": "code",
   "execution_count": 17,
   "metadata": {},
   "outputs": [],
   "source": [
    "specialty_medical_count = specialty_medical_count.rename(columns={'Specialty encoded': 'specialty medical count'})\n",
    "specialty_support_count = specialty_support_count.rename(columns={'Specialty encoded': 'specialty support count'})"
   ]
  },
  {
   "cell_type": "code",
   "execution_count": 18,
   "metadata": {},
   "outputs": [
    {
     "data": {
      "text/plain": [
       "Internalpatientid    0\n",
       "period std           2\n",
       "dtype: int64"
      ]
     },
     "execution_count": 18,
     "metadata": {},
     "output_type": "execute_result"
    }
   ],
   "source": [
    "pd.isnull(period_std).sum() "
   ]
  },
  {
   "cell_type": "code",
   "execution_count": 19,
   "metadata": {},
   "outputs": [
    {
     "data": {
      "text/html": [
       "<div>\n",
       "<style scoped>\n",
       "    .dataframe tbody tr th:only-of-type {\n",
       "        vertical-align: middle;\n",
       "    }\n",
       "\n",
       "    .dataframe tbody tr th {\n",
       "        vertical-align: top;\n",
       "    }\n",
       "\n",
       "    .dataframe thead th {\n",
       "        text-align: right;\n",
       "    }\n",
       "</style>\n",
       "<table border=\"1\" class=\"dataframe\">\n",
       "  <thead>\n",
       "    <tr style=\"text-align: right;\">\n",
       "      <th></th>\n",
       "      <th>Internalpatientid</th>\n",
       "      <th>period std</th>\n",
       "    </tr>\n",
       "  </thead>\n",
       "  <tbody>\n",
       "    <tr>\n",
       "      <th>17983</th>\n",
       "      <td>35865</td>\n",
       "      <td>NaN</td>\n",
       "    </tr>\n",
       "    <tr>\n",
       "      <th>81462</th>\n",
       "      <td>162785</td>\n",
       "      <td>NaN</td>\n",
       "    </tr>\n",
       "  </tbody>\n",
       "</table>\n",
       "</div>"
      ],
      "text/plain": [
       "       Internalpatientid  period std\n",
       "17983              35865         NaN\n",
       "81462             162785         NaN"
      ]
     },
     "execution_count": 19,
     "metadata": {},
     "output_type": "execute_result"
    }
   ],
   "source": [
    "period_std[pd.isnull(period_std['period std'])]"
   ]
  },
  {
   "cell_type": "code",
   "execution_count": 20,
   "metadata": {},
   "outputs": [
    {
     "data": {
      "text/html": [
       "<div>\n",
       "<style scoped>\n",
       "    .dataframe tbody tr th:only-of-type {\n",
       "        vertical-align: middle;\n",
       "    }\n",
       "\n",
       "    .dataframe tbody tr th {\n",
       "        vertical-align: top;\n",
       "    }\n",
       "\n",
       "    .dataframe thead th {\n",
       "        text-align: right;\n",
       "    }\n",
       "</style>\n",
       "<table border=\"1\" class=\"dataframe\">\n",
       "  <thead>\n",
       "    <tr style=\"text-align: right;\">\n",
       "      <th></th>\n",
       "      <th>Internalpatientid</th>\n",
       "      <th>Age at specialty</th>\n",
       "      <th>Specialty start date</th>\n",
       "      <th>Specialty end date</th>\n",
       "      <th>Specialty</th>\n",
       "      <th>State</th>\n",
       "      <th>period</th>\n",
       "      <th>Specialty encoded</th>\n",
       "    </tr>\n",
       "  </thead>\n",
       "  <tbody>\n",
       "    <tr>\n",
       "      <th>804968</th>\n",
       "      <td>35865</td>\n",
       "      <td>104.054027</td>\n",
       "      <td>2022-12-01 17:55:27</td>\n",
       "      <td>NaT</td>\n",
       "      <td>EVAL/BRF TRMT PTSD UNIT(EBTPU)</td>\n",
       "      <td>Missouri</td>\n",
       "      <td>NaT</td>\n",
       "      <td>1.0</td>\n",
       "    </tr>\n",
       "  </tbody>\n",
       "</table>\n",
       "</div>"
      ],
      "text/plain": [
       "        Internalpatientid  Age at specialty Specialty start date  \\\n",
       "804968              35865        104.054027  2022-12-01 17:55:27   \n",
       "\n",
       "       Specialty end date                       Specialty     State period  \\\n",
       "804968                NaT  EVAL/BRF TRMT PTSD UNIT(EBTPU)  Missouri    NaT   \n",
       "\n",
       "        Specialty encoded  \n",
       "804968                1.0  "
      ]
     },
     "execution_count": 20,
     "metadata": {},
     "output_type": "execute_result"
    }
   ],
   "source": [
    "inpatient_specialty[inpatient_specialty['Internalpatientid'] == 35865]"
   ]
  },
  {
   "cell_type": "code",
   "execution_count": 21,
   "metadata": {},
   "outputs": [
    {
     "data": {
      "text/html": [
       "<div>\n",
       "<style scoped>\n",
       "    .dataframe tbody tr th:only-of-type {\n",
       "        vertical-align: middle;\n",
       "    }\n",
       "\n",
       "    .dataframe tbody tr th {\n",
       "        vertical-align: top;\n",
       "    }\n",
       "\n",
       "    .dataframe thead th {\n",
       "        text-align: right;\n",
       "    }\n",
       "</style>\n",
       "<table border=\"1\" class=\"dataframe\">\n",
       "  <thead>\n",
       "    <tr style=\"text-align: right;\">\n",
       "      <th></th>\n",
       "      <th>Internalpatientid</th>\n",
       "      <th>Age at specialty</th>\n",
       "      <th>Specialty start date</th>\n",
       "      <th>Specialty end date</th>\n",
       "      <th>Specialty</th>\n",
       "      <th>State</th>\n",
       "      <th>period</th>\n",
       "      <th>Specialty encoded</th>\n",
       "    </tr>\n",
       "  </thead>\n",
       "  <tbody>\n",
       "    <tr>\n",
       "      <th>535931</th>\n",
       "      <td>162785</td>\n",
       "      <td>77.224569</td>\n",
       "      <td>2020-02-27 13:55:25</td>\n",
       "      <td>NaT</td>\n",
       "      <td>SURGICAL ICU</td>\n",
       "      <td>Georgia</td>\n",
       "      <td>NaT</td>\n",
       "      <td>0.0</td>\n",
       "    </tr>\n",
       "  </tbody>\n",
       "</table>\n",
       "</div>"
      ],
      "text/plain": [
       "        Internalpatientid  Age at specialty Specialty start date  \\\n",
       "535931             162785         77.224569  2020-02-27 13:55:25   \n",
       "\n",
       "       Specialty end date     Specialty    State period  Specialty encoded  \n",
       "535931                NaT  SURGICAL ICU  Georgia    NaT                0.0  "
      ]
     },
     "execution_count": 21,
     "metadata": {},
     "output_type": "execute_result"
    }
   ],
   "source": [
    "inpatient_specialty[inpatient_specialty['Internalpatientid'] == 162785]"
   ]
  },
  {
   "cell_type": "code",
   "execution_count": 22,
   "metadata": {},
   "outputs": [
    {
     "data": {
      "text/html": [
       "<div>\n",
       "<style scoped>\n",
       "    .dataframe tbody tr th:only-of-type {\n",
       "        vertical-align: middle;\n",
       "    }\n",
       "\n",
       "    .dataframe tbody tr th {\n",
       "        vertical-align: top;\n",
       "    }\n",
       "\n",
       "    .dataframe thead th {\n",
       "        text-align: right;\n",
       "    }\n",
       "</style>\n",
       "<table border=\"1\" class=\"dataframe\">\n",
       "  <thead>\n",
       "    <tr style=\"text-align: right;\">\n",
       "      <th></th>\n",
       "      <th>Internalpatientid</th>\n",
       "      <th>period mean</th>\n",
       "    </tr>\n",
       "  </thead>\n",
       "  <tbody>\n",
       "    <tr>\n",
       "      <th>17983</th>\n",
       "      <td>35865</td>\n",
       "      <td>NaN</td>\n",
       "    </tr>\n",
       "    <tr>\n",
       "      <th>81462</th>\n",
       "      <td>162785</td>\n",
       "      <td>NaN</td>\n",
       "    </tr>\n",
       "  </tbody>\n",
       "</table>\n",
       "</div>"
      ],
      "text/plain": [
       "       Internalpatientid  period mean\n",
       "17983              35865          NaN\n",
       "81462             162785          NaN"
      ]
     },
     "execution_count": 22,
     "metadata": {},
     "output_type": "execute_result"
    }
   ],
   "source": [
    "period_mean[pd.isnull(period_mean['period mean'])]"
   ]
  },
  {
   "attachments": {},
   "cell_type": "markdown",
   "metadata": {},
   "source": [
    "# Preprocess Age"
   ]
  },
  {
   "cell_type": "code",
   "execution_count": 23,
   "metadata": {},
   "outputs": [],
   "source": [
    "age_mean = inpatient_specialty.groupby('Internalpatientid')['Age at specialty'].mean().reset_index()\n",
    "age_mean = age_mean.rename(columns={'Age at specialty': 'mean age at specailty'})"
   ]
  },
  {
   "attachments": {},
   "cell_type": "markdown",
   "metadata": {},
   "source": [
    "# Merge All"
   ]
  },
  {
   "cell_type": "code",
   "execution_count": 24,
   "metadata": {},
   "outputs": [],
   "source": [
    "listTables = [period_mean, period_std, specialty_medical_count,specialty_support_count, specialty_count ]\n",
    "inpatient_specialty_preprocessed = age_mean.copy()\n",
    "for i in listTables:\n",
    "    inpatient_specialty_preprocessed = inpatient_specialty_preprocessed.merge(i,how = 'left', on = 'Internalpatientid')\n"
   ]
  },
  {
   "cell_type": "code",
   "execution_count": 25,
   "metadata": {},
   "outputs": [
    {
     "data": {
      "text/html": [
       "<div>\n",
       "<style scoped>\n",
       "    .dataframe tbody tr th:only-of-type {\n",
       "        vertical-align: middle;\n",
       "    }\n",
       "\n",
       "    .dataframe tbody tr th {\n",
       "        vertical-align: top;\n",
       "    }\n",
       "\n",
       "    .dataframe thead th {\n",
       "        text-align: right;\n",
       "    }\n",
       "</style>\n",
       "<table border=\"1\" class=\"dataframe\">\n",
       "  <thead>\n",
       "    <tr style=\"text-align: right;\">\n",
       "      <th></th>\n",
       "      <th>Internalpatientid</th>\n",
       "      <th>mean age at specailty</th>\n",
       "      <th>period mean</th>\n",
       "      <th>period std</th>\n",
       "      <th>specialty medical count</th>\n",
       "      <th>specialty support count</th>\n",
       "      <th>specialty count</th>\n",
       "    </tr>\n",
       "  </thead>\n",
       "  <tbody>\n",
       "    <tr>\n",
       "      <th>0</th>\n",
       "      <td>1</td>\n",
       "      <td>71.760299</td>\n",
       "      <td>1.985007</td>\n",
       "      <td>2.286435</td>\n",
       "      <td>8</td>\n",
       "      <td>0</td>\n",
       "      <td>8</td>\n",
       "    </tr>\n",
       "    <tr>\n",
       "      <th>1</th>\n",
       "      <td>2</td>\n",
       "      <td>65.896816</td>\n",
       "      <td>1.695425</td>\n",
       "      <td>3.832509</td>\n",
       "      <td>51</td>\n",
       "      <td>3</td>\n",
       "      <td>55</td>\n",
       "    </tr>\n",
       "    <tr>\n",
       "      <th>2</th>\n",
       "      <td>3</td>\n",
       "      <td>79.941238</td>\n",
       "      <td>81.500222</td>\n",
       "      <td>162.085913</td>\n",
       "      <td>1</td>\n",
       "      <td>4</td>\n",
       "      <td>5</td>\n",
       "    </tr>\n",
       "    <tr>\n",
       "      <th>3</th>\n",
       "      <td>4</td>\n",
       "      <td>84.177706</td>\n",
       "      <td>2.383800</td>\n",
       "      <td>1.709373</td>\n",
       "      <td>3</td>\n",
       "      <td>0</td>\n",
       "      <td>3</td>\n",
       "    </tr>\n",
       "    <tr>\n",
       "      <th>4</th>\n",
       "      <td>5</td>\n",
       "      <td>76.469781</td>\n",
       "      <td>1.407809</td>\n",
       "      <td>1.351702</td>\n",
       "      <td>3</td>\n",
       "      <td>3</td>\n",
       "      <td>6</td>\n",
       "    </tr>\n",
       "    <tr>\n",
       "      <th>...</th>\n",
       "      <td>...</td>\n",
       "      <td>...</td>\n",
       "      <td>...</td>\n",
       "      <td>...</td>\n",
       "      <td>...</td>\n",
       "      <td>...</td>\n",
       "      <td>...</td>\n",
       "    </tr>\n",
       "    <tr>\n",
       "      <th>84538</th>\n",
       "      <td>169055</td>\n",
       "      <td>58.918427</td>\n",
       "      <td>1.617095</td>\n",
       "      <td>1.735104</td>\n",
       "      <td>1</td>\n",
       "      <td>3</td>\n",
       "      <td>4</td>\n",
       "    </tr>\n",
       "    <tr>\n",
       "      <th>84539</th>\n",
       "      <td>169057</td>\n",
       "      <td>82.335103</td>\n",
       "      <td>1.277754</td>\n",
       "      <td>2.100649</td>\n",
       "      <td>58</td>\n",
       "      <td>19</td>\n",
       "      <td>77</td>\n",
       "    </tr>\n",
       "    <tr>\n",
       "      <th>84540</th>\n",
       "      <td>169060</td>\n",
       "      <td>65.595637</td>\n",
       "      <td>1.681511</td>\n",
       "      <td>3.024752</td>\n",
       "      <td>20</td>\n",
       "      <td>7</td>\n",
       "      <td>27</td>\n",
       "    </tr>\n",
       "    <tr>\n",
       "      <th>84541</th>\n",
       "      <td>169062</td>\n",
       "      <td>72.780802</td>\n",
       "      <td>6.870090</td>\n",
       "      <td>11.462599</td>\n",
       "      <td>20</td>\n",
       "      <td>6</td>\n",
       "      <td>26</td>\n",
       "    </tr>\n",
       "    <tr>\n",
       "      <th>84542</th>\n",
       "      <td>169064</td>\n",
       "      <td>81.679376</td>\n",
       "      <td>1.196910</td>\n",
       "      <td>0.924559</td>\n",
       "      <td>1</td>\n",
       "      <td>5</td>\n",
       "      <td>6</td>\n",
       "    </tr>\n",
       "  </tbody>\n",
       "</table>\n",
       "<p>84543 rows × 7 columns</p>\n",
       "</div>"
      ],
      "text/plain": [
       "       Internalpatientid  mean age at specailty  period mean  period std  \\\n",
       "0                      1              71.760299     1.985007    2.286435   \n",
       "1                      2              65.896816     1.695425    3.832509   \n",
       "2                      3              79.941238    81.500222  162.085913   \n",
       "3                      4              84.177706     2.383800    1.709373   \n",
       "4                      5              76.469781     1.407809    1.351702   \n",
       "...                  ...                    ...          ...         ...   \n",
       "84538             169055              58.918427     1.617095    1.735104   \n",
       "84539             169057              82.335103     1.277754    2.100649   \n",
       "84540             169060              65.595637     1.681511    3.024752   \n",
       "84541             169062              72.780802     6.870090   11.462599   \n",
       "84542             169064              81.679376     1.196910    0.924559   \n",
       "\n",
       "       specialty medical count  specialty support count  specialty count  \n",
       "0                            8                        0                8  \n",
       "1                           51                        3               55  \n",
       "2                            1                        4                5  \n",
       "3                            3                        0                3  \n",
       "4                            3                        3                6  \n",
       "...                        ...                      ...              ...  \n",
       "84538                        1                        3                4  \n",
       "84539                       58                       19               77  \n",
       "84540                       20                        7               27  \n",
       "84541                       20                        6               26  \n",
       "84542                        1                        5                6  \n",
       "\n",
       "[84543 rows x 7 columns]"
      ]
     },
     "execution_count": 25,
     "metadata": {},
     "output_type": "execute_result"
    }
   ],
   "source": [
    "inpatient_specialty_preprocessed"
   ]
  },
  {
   "cell_type": "code",
   "execution_count": 26,
   "metadata": {},
   "outputs": [],
   "source": [
    "inpatient_specialty_preprocessed = inpatient_specialty_preprocessed.dropna(subset=['period mean'])"
   ]
  },
  {
   "cell_type": "code",
   "execution_count": 27,
   "metadata": {},
   "outputs": [],
   "source": [
    "inpatient_specialty_preprocessed.to_csv('/home/vivi/FDA_datasets/inpatient_specialty_preprocessed.csv')"
   ]
  },
  {
   "cell_type": "code",
   "execution_count": 28,
   "metadata": {},
   "outputs": [
    {
     "data": {
      "text/plain": [
       "Internalpatientid          0\n",
       "mean age at specailty      0\n",
       "period mean                0\n",
       "period std                 0\n",
       "specialty medical count    0\n",
       "specialty support count    0\n",
       "specialty count            0\n",
       "dtype: int64"
      ]
     },
     "execution_count": 28,
     "metadata": {},
     "output_type": "execute_result"
    }
   ],
   "source": [
    "pd.isnull(inpatient_specialty_preprocessed).sum()"
   ]
  }
 ],
 "metadata": {
  "kernelspec": {
   "display_name": "Python 3",
   "language": "python",
   "name": "python3"
  },
  "language_info": {
   "codemirror_mode": {
    "name": "ipython",
    "version": 3
   },
   "file_extension": ".py",
   "mimetype": "text/x-python",
   "name": "python",
   "nbconvert_exporter": "python",
   "pygments_lexer": "ipython3",
   "version": "3.10.11"
  },
  "orig_nbformat": 4
 },
 "nbformat": 4,
 "nbformat_minor": 2
}
