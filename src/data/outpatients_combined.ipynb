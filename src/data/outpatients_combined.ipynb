{
 "cells": [
  {
   "cell_type": "code",
   "execution_count": 1,
   "metadata": {},
   "outputs": [],
   "source": [
    "import pandas as pd\n",
    "\n",
    "\n",
    "import numpy as np\n",
    "import pandas as pd\n",
    "\n",
    "import seaborn as sns\n",
    "\n",
    "import matplotlib.pyplot as plt\n",
    "%matplotlib inline\n",
    "\n",
    "from datetime import datetime"
   ]
  },
  {
   "cell_type": "code",
   "execution_count": null,
   "metadata": {},
   "outputs": [],
   "source": [
    "path = '/home/hassan/lily/MLA/FDA/inpatient_full.csv'\n",
    "inpatient = pd.read_csv(path).iloc[:,1:]\n",
    "\n",
    "path = '/home/daisy/FDA_Dataset/demographics_static_clean.csv'\n",
    "demographic_static = pd.read_csv(path).iloc[:,1:]\n",
    "\n",
    "path = '/home/daisy/FDA_Dataset/immunization_clean.csv'\n",
    "immunization = pd.read_csv(path).iloc[:,1:]\n",
    "\n",
    "path = '/home/daisy/FDA_Dataset/medications_ordered_clean.csv'\n",
    "medications_ordered = pd.read_csv(path).iloc[:,1:]\n",
    "\n",
    "path = '/home/daisy/FDA_Dataset/procedures_clean.csv'\n",
    "procedures = pd.read_csv(path).iloc[:,1:]"
   ]
  }
 ],
 "metadata": {
  "kernelspec": {
   "display_name": "Python 3",
   "language": "python",
   "name": "python3"
  },
  "language_info": {
   "codemirror_mode": {
    "name": "ipython",
    "version": 3
   },
   "file_extension": ".py",
   "mimetype": "text/x-python",
   "name": "python",
   "nbconvert_exporter": "python",
   "pygments_lexer": "ipython3",
   "version": "3.10.11"
  },
  "orig_nbformat": 4
 },
 "nbformat": 4,
 "nbformat_minor": 2
}
