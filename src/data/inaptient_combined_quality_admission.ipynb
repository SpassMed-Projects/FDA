{
 "cells": [
  {
   "cell_type": "code",
   "execution_count": 1,
   "metadata": {},
   "outputs": [],
   "source": [
    "import pandas as pd\n",
    "\n",
    "\n",
    "import numpy as np\n",
    "import pandas as pd\n",
    "\n",
    "import seaborn as sns\n",
    "\n",
    "import matplotlib.pyplot as plt\n",
    "%matplotlib inline\n",
    "\n",
    "from datetime import datetime"
   ]
  },
  {
   "cell_type": "code",
   "execution_count": 2,
   "metadata": {},
   "outputs": [],
   "source": [
    "path = '/home/daisy/FDA_Dataset/demographics_static_quality_admission.csv'\n",
    "demographic_static = pd.read_csv(path).iloc[:,1:]\n",
    "\n",
    "path = '/home/daisy/FDA_Dataset/immunization_quality_admission.csv'\n",
    "immunization = pd.read_csv(path).iloc[:,1:]\n",
    "\n",
    "path = '/home/daisy/FDA_Dataset/inpatient_medications_ordered_quality_admission.csv'\n",
    "medications_ordered = pd.read_csv(path).iloc[:,1:]\n",
    "\n",
    "path = '/home/daisy/FDA_Dataset/procedures_quality_admission.csv'\n",
    "procedures = pd.read_csv(path).iloc[:,1:]\n",
    "\n",
    "path = '/home/daisy/FDA_Dataset/measurements_admission_quality.csv'\n",
    "measurements = pd.read_csv(path).iloc[:,1:]"
   ]
  },
  {
   "cell_type": "code",
   "execution_count": 3,
   "metadata": {},
   "outputs": [],
   "source": [
    "path ='/home/vivi/FDA_datasets/inpatient_specialty_quality_admission.csv'\n",
    "inpatient_specialty = pd.read_csv(path).iloc[:,1:]\n",
    "\n",
    "path ='/home/vivi/FDA_datasets/demographics_event_quality_admission.csv'\n",
    "demographics_event = pd.read_csv(path).iloc[:,1:]\n",
    "demographics_event = demographics_event.drop(columns = ['Age at update','State'])\n",
    "\n",
    "path = '/home/vivi/FDA_datasets/outpatient_state_quality_admission.csv'\n",
    "outpatient_state = pd.read_csv(path).iloc[:,1:]\n",
    "\n",
    "path = '/home/vivi/FDA_datasets/inpatient_measurements_bp_quality_admission.csv'\n",
    "measurements_bp = pd.read_csv(path).iloc[:,1:]"
   ]
  },
  {
   "cell_type": "code",
   "execution_count": 4,
   "metadata": {},
   "outputs": [],
   "source": [
    "path = '/home/hassan/lily/MLA/FDA/inpatient_simple_quality.csv'\n",
    "inpatient = pd.read_csv(path).iloc[:,1:]\n",
    "\n",
    "path = '/home/hassan/lily/MLA/FDA/inpatient_lab_results_quality.csv' \n",
    "lab_results = pd.read_csv(path).iloc[:,1:]\n",
    "lab_results = lab_results.rename(columns = {'count':'lab_count', 'freq':'lab_freq', \n",
    "                              'age_mean':'lab_age_mean', 'age_std':'lab_age_std'})"
   ]
  },
  {
   "cell_type": "code",
   "execution_count": 5,
   "metadata": {},
   "outputs": [],
   "source": [
    "df1 = inpatient.merge(procedures, how = 'left', on = 'Internalpatientid')\n",
    "df2 = df1.merge(demographic_static, how = 'left', on = 'Internalpatientid')\n",
    "df3 = df2.merge(immunization, how = 'left', on = 'Internalpatientid')\n",
    "df4 = df3.merge(medications_ordered, how = 'left', on = 'Internalpatientid')\n",
    "\n",
    "df5 = df4.merge(inpatient_specialty, how = 'left', on = 'Internalpatientid')\n",
    "df6 = df5.merge(demographics_event, how = 'left', on = 'Internalpatientid')\n",
    "df7 = df6.merge(outpatient_state, how = 'left', on = 'Internalpatientid')\n",
    "df8 = df7.merge(measurements_bp, how = 'left', on = 'Internalpatientid')\n",
    "\n",
    "df9 = df8.merge(lab_results, how = 'left', on = 'Internalpatientid')\n",
    "df = df9.merge(measurements, how = 'left', on = 'Internalpatientid')"
   ]
  },
  {
   "cell_type": "code",
   "execution_count": 6,
   "metadata": {},
   "outputs": [],
   "source": [
    "inpatient_pid = set(inpatient['Internalpatientid'])\n",
    "medications_pid = set(medications_ordered['Internalpatientid'])\n",
    "immunization_pid = set(immunization['Internalpatientid'])\n",
    "procedures_pid = set(procedures['Internalpatientid'])\n",
    "demographic_static_pid = set(demographic_static['Internalpatientid'])\n",
    "inpatient_specialty_pid = set(inpatient_specialty['Internalpatientid'])\n",
    "demographics_event_pid = set(demographics_event['Internalpatientid'])\n",
    "outpatient_state_pid = set(outpatient_state['Internalpatientid'])\n",
    "measurements_bp_pid =set(measurements_bp['Internalpatientid'])\n",
    "lab_results_pid = set(lab_results['Internalpatientid'])\n",
    "measurements_pid = set(measurements['Internalpatientid'])"
   ]
  },
  {
   "cell_type": "code",
   "execution_count": 7,
   "metadata": {},
   "outputs": [
    {
     "data": {
      "text/html": [
       "<div>\n",
       "<style scoped>\n",
       "    .dataframe tbody tr th:only-of-type {\n",
       "        vertical-align: middle;\n",
       "    }\n",
       "\n",
       "    .dataframe tbody tr th {\n",
       "        vertical-align: top;\n",
       "    }\n",
       "\n",
       "    .dataframe thead th {\n",
       "        text-align: right;\n",
       "    }\n",
       "</style>\n",
       "<table border=\"1\" class=\"dataframe\">\n",
       "  <thead>\n",
       "    <tr style=\"text-align: right;\">\n",
       "      <th></th>\n",
       "      <th>table name</th>\n",
       "      <th>number of unique pid</th>\n",
       "      <th>intersection pid</th>\n",
       "      <th>percentage</th>\n",
       "    </tr>\n",
       "  </thead>\n",
       "  <tbody>\n",
       "    <tr>\n",
       "      <th>0</th>\n",
       "      <td>inpatient_pid</td>\n",
       "      <td>632</td>\n",
       "      <td>632</td>\n",
       "      <td>1.000000</td>\n",
       "    </tr>\n",
       "    <tr>\n",
       "      <th>1</th>\n",
       "      <td>medications_pid</td>\n",
       "      <td>412</td>\n",
       "      <td>412</td>\n",
       "      <td>0.651899</td>\n",
       "    </tr>\n",
       "    <tr>\n",
       "      <th>2</th>\n",
       "      <td>immunization_pid</td>\n",
       "      <td>939</td>\n",
       "      <td>603</td>\n",
       "      <td>0.954114</td>\n",
       "    </tr>\n",
       "    <tr>\n",
       "      <th>3</th>\n",
       "      <td>procedures_pid</td>\n",
       "      <td>632</td>\n",
       "      <td>632</td>\n",
       "      <td>1.000000</td>\n",
       "    </tr>\n",
       "    <tr>\n",
       "      <th>4</th>\n",
       "      <td>demographic_static_pid</td>\n",
       "      <td>998</td>\n",
       "      <td>632</td>\n",
       "      <td>1.000000</td>\n",
       "    </tr>\n",
       "    <tr>\n",
       "      <th>5</th>\n",
       "      <td>inpatient_specialty_pid</td>\n",
       "      <td>632</td>\n",
       "      <td>632</td>\n",
       "      <td>1.000000</td>\n",
       "    </tr>\n",
       "    <tr>\n",
       "      <th>6</th>\n",
       "      <td>demographics_event_pid</td>\n",
       "      <td>632</td>\n",
       "      <td>632</td>\n",
       "      <td>1.000000</td>\n",
       "    </tr>\n",
       "    <tr>\n",
       "      <th>7</th>\n",
       "      <td>outpatient_state_pid</td>\n",
       "      <td>632</td>\n",
       "      <td>632</td>\n",
       "      <td>1.000000</td>\n",
       "    </tr>\n",
       "    <tr>\n",
       "      <th>8</th>\n",
       "      <td>measurements_bp_pid</td>\n",
       "      <td>632</td>\n",
       "      <td>632</td>\n",
       "      <td>1.000000</td>\n",
       "    </tr>\n",
       "    <tr>\n",
       "      <th>9</th>\n",
       "      <td>lab_results_pid</td>\n",
       "      <td>631</td>\n",
       "      <td>631</td>\n",
       "      <td>0.998418</td>\n",
       "    </tr>\n",
       "    <tr>\n",
       "      <th>10</th>\n",
       "      <td>measurements_pid</td>\n",
       "      <td>632</td>\n",
       "      <td>632</td>\n",
       "      <td>1.000000</td>\n",
       "    </tr>\n",
       "  </tbody>\n",
       "</table>\n",
       "</div>"
      ],
      "text/plain": [
       "                 table name  number of unique pid  intersection pid  \\\n",
       "0             inpatient_pid                   632               632   \n",
       "1           medications_pid                   412               412   \n",
       "2          immunization_pid                   939               603   \n",
       "3            procedures_pid                   632               632   \n",
       "4    demographic_static_pid                   998               632   \n",
       "5   inpatient_specialty_pid                   632               632   \n",
       "6    demographics_event_pid                   632               632   \n",
       "7      outpatient_state_pid                   632               632   \n",
       "8       measurements_bp_pid                   632               632   \n",
       "9           lab_results_pid                   631               631   \n",
       "10         measurements_pid                   632               632   \n",
       "\n",
       "    percentage  \n",
       "0     1.000000  \n",
       "1     0.651899  \n",
       "2     0.954114  \n",
       "3     1.000000  \n",
       "4     1.000000  \n",
       "5     1.000000  \n",
       "6     1.000000  \n",
       "7     1.000000  \n",
       "8     1.000000  \n",
       "9     0.998418  \n",
       "10    1.000000  "
      ]
     },
     "execution_count": 7,
     "metadata": {},
     "output_type": "execute_result"
    }
   ],
   "source": [
    "data_pid = [['inpatient_pid',len(list(inpatient_pid)),len(set.intersection(set(inpatient_pid) & set(inpatient_pid)))],\n",
    "            ['medications_pid',len(list(medications_pid)),len(set.intersection(set(inpatient_pid) & set(medications_pid)))],\n",
    "            ['immunization_pid',len(list(immunization_pid)),len(set.intersection(set(inpatient_pid) & set(immunization_pid)))],\n",
    "            ['procedures_pid',len(list(procedures_pid)),len(set.intersection(set(inpatient_pid) & set(procedures_pid)))],\n",
    "            ['demographic_static_pid',len(list(demographic_static_pid)),len(set.intersection(set(inpatient_pid) & set(demographic_static_pid)))],\n",
    "            ['inpatient_specialty_pid',len(list(inpatient_specialty_pid)),len(set.intersection(set(inpatient_pid) & set(inpatient_specialty_pid)))],\n",
    "            ['demographics_event_pid',len(list(demographics_event_pid)),len(set.intersection(set(inpatient_pid) & set(demographics_event_pid)))],\n",
    "            ['outpatient_state_pid',len(list(outpatient_state_pid)),len(set.intersection(set(inpatient_pid) & set(outpatient_state_pid)))],\n",
    "            ['measurements_bp_pid',len(list(measurements_bp_pid)),len(set.intersection(set(inpatient_pid) & set(measurements_bp_pid)))],\n",
    "            ['lab_results_pid',len(list(lab_results_pid)),len(set.intersection(set(inpatient_pid) & set(lab_results_pid)))],\n",
    "            ['measurements_pid',len(list(measurements_pid)),len(set.intersection(set(inpatient_pid) & set(measurements_pid)))]]\n",
    "df_pid = pd.DataFrame(data_pid, columns = ['table name', 'number of unique pid','intersection pid'])\n",
    "df_pid['percentage'] = df_pid['intersection pid'] / df_pid['number of unique pid'][0] \n",
    "df_pid"
   ]
  },
  {
   "cell_type": "code",
   "execution_count": 18,
   "metadata": {},
   "outputs": [
    {
     "data": {
      "text/plain": [
       "Index(['Internalpatientid', 'num_stays', 'stay_length', 'num_unique_units',\n",
       "       'num_transfers', 'num_cvd_admission', 'CVD',\n",
       "       'unique_admitting_specialty', 'unique_discharging_specialty',\n",
       "       'DOMICILIARY', 'MEDICINE', 'NHCU', 'NON-COUNT', 'OTHERS', 'PSYCHIATRY',\n",
       "       'SURGERY', 'Age 20-40', 'Age 40-60', 'Age 60-80', 'Age 80-100',\n",
       "       'Age 100-120', 'age_mean', 'age_std', 'age_min', 'age_max', 'stay_min',\n",
       "       'stay_max', 'stay_mean', 'stay_std', 'freq', 'Medical', 'Mental',\n",
       "       'Others_Specialty', 'Rehab', 'Gerontology', 'CVD_readmission',\n",
       "       'next_readmission_time', 'Discharge date',\n",
       "       'readmission within 300 days', 'total_procedure', 'num_surgery_pro',\n",
       "       'Ethnicity', 'Gender', 'Races', 'Veteran flag', 'Ethnicity_0',\n",
       "       'Ethnicity_1', 'Ethnicity_2', 'Races_0', 'Races_1', 'Races_2',\n",
       "       'Races_3', 'num_immunization', 'Num med per admission mean',\n",
       "       'Num med per admission min', 'Num med per admission max',\n",
       "       'Total medications', 'mean age at specailty', 'specialty count',\n",
       "       'period mean', 'period std', 'specialty medical count',\n",
       "       'specialty support count', 'Event date', 'Marital status',\n",
       "       'Ruca category', 'Marital status encoded', 'Ruca category encoded',\n",
       "       'State', 'Age 20-40 hypotension', 'Age 40-60 hypotension',\n",
       "       'Age 60-80 hypotension', 'Age 80-100 hypotension',\n",
       "       'Age 100-120 hypotension', 'Age 20-40 healthy', 'Age 40-60 healthy',\n",
       "       'Age 60-80 healthy', 'Age 80-100 healthy', 'Age 100-120 healthy',\n",
       "       'Age 20-40 hypertension', 'Age 40-60 hypertension',\n",
       "       'Age 60-80 hypertension', 'Age 80-100 hypertension',\n",
       "       'Age 100-120 hypertension', 'lab_count', 'lab_freq', 'lab_age_mean',\n",
       "       'lab_age_std', 'Height', 'Weight', 'Pulse oximetry min',\n",
       "       'Pulse oximetry max', 'Pulse oximetry mean', 'Pulse oximetry std'],\n",
       "      dtype='object')"
      ]
     },
     "execution_count": 18,
     "metadata": {},
     "output_type": "execute_result"
    }
   ],
   "source": [
    "df.columns"
   ]
  },
  {
   "cell_type": "code",
   "execution_count": 8,
   "metadata": {},
   "outputs": [],
   "source": [
    "df1_all = df.drop(columns = ['Event date', 'Marital status', 'Marital status encoded', 'Ruca category',\n",
    "                         'next_readmission_time','Veteran flag' ,'Discharge date', 'State'])"
   ]
  },
  {
   "cell_type": "code",
   "execution_count": 9,
   "metadata": {},
   "outputs": [
    {
     "data": {
      "text/plain": [
       "86"
      ]
     },
     "execution_count": 9,
     "metadata": {},
     "output_type": "execute_result"
    }
   ],
   "source": [
    "len(df1_all.columns)"
   ]
  },
  {
   "cell_type": "markdown",
   "metadata": {},
   "source": [
    "### Save all cause readmission left join"
   ]
  },
  {
   "cell_type": "code",
   "execution_count": 10,
   "metadata": {},
   "outputs": [],
   "source": [
    "df1_all.to_csv('/home/daisy/FDA_Dataset/inpatient_all_final_quality_admission_1.csv')"
   ]
  },
  {
   "cell_type": "markdown",
   "metadata": {},
   "source": [
    "### Save CVD cause readmission left join"
   ]
  },
  {
   "cell_type": "code",
   "execution_count": 11,
   "metadata": {},
   "outputs": [],
   "source": [
    "# Save inpatient combine other test sets for CVD readmission and mortality\n",
    "df_CVD = df.drop(columns = ['Event date', 'Marital status', 'Marital status encoded', 'Ruca category','Veteran flag' ,'Discharge date', 'State'])\n",
    "df_CVD = df_CVD[df_CVD['next_readmission_time'] > 0]\n",
    "df_CVD = df_CVD.drop(columns = ['next_readmission_time'])\n",
    "\n",
    "# CVD_readmission: readmitted beacuse of CVD\n",
    "# next_readmission_time: time difference between this admission and next admission"
   ]
  },
  {
   "cell_type": "code",
   "execution_count": 12,
   "metadata": {},
   "outputs": [],
   "source": [
    "df_CVD.to_csv('/home/daisy/FDA_Dataset/inpatient_CVD_final_quality_admission_1.csv')"
   ]
  },
  {
   "cell_type": "markdown",
   "metadata": {},
   "source": [
    "### Save all cause readmission inner join"
   ]
  },
  {
   "cell_type": "code",
   "execution_count": 13,
   "metadata": {},
   "outputs": [],
   "source": [
    "df1 = inpatient.merge(procedures, how = 'inner', on = 'Internalpatientid')\n",
    "df2 = df1.merge(demographic_static, how = 'inner', on = 'Internalpatientid')\n",
    "df3 = df2.merge(immunization, how = 'inner', on = 'Internalpatientid')\n",
    "df4 = df3.merge(medications_ordered, how = 'inner', on = 'Internalpatientid')\n",
    "\n",
    "df5 = df4.merge(inpatient_specialty, how = 'inner', on = 'Internalpatientid')\n",
    "df6 = df5.merge(demographics_event, how = 'inner', on = 'Internalpatientid')\n",
    "df7 = df6.merge(outpatient_state, how = 'inner', on = 'Internalpatientid')\n",
    "df8 = df7.merge(measurements_bp, how = 'inner', on = 'Internalpatientid')\n",
    "\n",
    "df9 = df8.merge(lab_results, how = 'inner', on = 'Internalpatientid')\n",
    "df_2 = df9.merge(measurements, how = 'inner', on = 'Internalpatientid')"
   ]
  },
  {
   "cell_type": "code",
   "execution_count": 14,
   "metadata": {},
   "outputs": [],
   "source": [
    "df_2_all = df_2.drop(columns = ['Event date', 'Marital status', 'Marital status encoded', 'Ruca category',\n",
    "                         'next_readmission_time','Veteran flag' ,'Discharge date', 'State'])"
   ]
  },
  {
   "cell_type": "code",
   "execution_count": 15,
   "metadata": {},
   "outputs": [],
   "source": [
    "df_2_all.to_csv('/home/daisy/FDA_Dataset/inpatient_all_final_quality_admission_2.csv')"
   ]
  },
  {
   "cell_type": "markdown",
   "metadata": {},
   "source": [
    "### Save CVD cause readmission inner join"
   ]
  },
  {
   "cell_type": "code",
   "execution_count": 16,
   "metadata": {},
   "outputs": [],
   "source": [
    "df_CVD_2 = df_2.drop(columns = ['Event date', 'Marital status', 'Marital status encoded', 'Ruca category','Veteran flag' ,'Discharge date', 'State'])\n",
    "df_CVD_2 = df_CVD_2[df_CVD_2['next_readmission_time'] > 0] \n",
    "df_CVD_2 = df_CVD_2.drop(columns = ['next_readmission_time'])"
   ]
  },
  {
   "cell_type": "code",
   "execution_count": 17,
   "metadata": {},
   "outputs": [],
   "source": [
    "df_CVD_2.to_csv('/home/daisy/FDA_Dataset/inpatient_CVD_final_quality_admission_2.csv')"
   ]
  }
 ],
 "metadata": {
  "kernelspec": {
   "display_name": "Python 3",
   "language": "python",
   "name": "python3"
  },
  "language_info": {
   "codemirror_mode": {
    "name": "ipython",
    "version": 3
   },
   "file_extension": ".py",
   "mimetype": "text/x-python",
   "name": "python",
   "nbconvert_exporter": "python",
   "pygments_lexer": "ipython3",
   "version": "3.10.11"
  },
  "orig_nbformat": 4
 },
 "nbformat": 4,
 "nbformat_minor": 2
}
