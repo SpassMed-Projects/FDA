{
 "cells": [
  {
   "cell_type": "code",
   "execution_count": 1,
   "metadata": {},
   "outputs": [],
   "source": [
    "import pandas as pd\n",
    "\n",
    "\n",
    "import numpy as np\n",
    "import pandas as pd\n",
    "\n",
    "import seaborn as sns\n",
    "from importlib import reload\n",
    "import matplotlib.pyplot as plt\n",
    "import preprocess_data \n",
    "\n",
    "reload(preprocess_data)\n",
    "\n",
    "%matplotlib inline"
   ]
  },
  {
   "cell_type": "code",
   "execution_count": 2,
   "metadata": {},
   "outputs": [],
   "source": [
    "death = pd.read_csv('/home/bhatti/dataset/VCHAMPS/death_train.csv').iloc[:,1:]"
   ]
  },
  {
   "attachments": {},
   "cell_type": "markdown",
   "metadata": {},
   "source": [
    "# Exploratory Data Analysis"
   ]
  },
  {
   "cell_type": "code",
   "execution_count": 3,
   "metadata": {},
   "outputs": [
    {
     "data": {
      "text/html": [
       "<div>\n",
       "<style scoped>\n",
       "    .dataframe tbody tr th:only-of-type {\n",
       "        vertical-align: middle;\n",
       "    }\n",
       "\n",
       "    .dataframe tbody tr th {\n",
       "        vertical-align: top;\n",
       "    }\n",
       "\n",
       "    .dataframe thead th {\n",
       "        text-align: right;\n",
       "    }\n",
       "</style>\n",
       "<table border=\"1\" class=\"dataframe\">\n",
       "  <thead>\n",
       "    <tr style=\"text-align: right;\">\n",
       "      <th></th>\n",
       "      <th>Internalpatientid</th>\n",
       "      <th>Age at death</th>\n",
       "      <th>Death date</th>\n",
       "    </tr>\n",
       "  </thead>\n",
       "  <tbody>\n",
       "    <tr>\n",
       "      <th>0</th>\n",
       "      <td>100036</td>\n",
       "      <td>72.412770</td>\n",
       "      <td>2015-01-18 20:49:10.0</td>\n",
       "    </tr>\n",
       "    <tr>\n",
       "      <th>1</th>\n",
       "      <td>100037</td>\n",
       "      <td>75.241135</td>\n",
       "      <td>2008-10-16 15:14:26.0</td>\n",
       "    </tr>\n",
       "    <tr>\n",
       "      <th>2</th>\n",
       "      <td>100045</td>\n",
       "      <td>85.399403</td>\n",
       "      <td>2019-01-26 11:33:52.0</td>\n",
       "    </tr>\n",
       "    <tr>\n",
       "      <th>3</th>\n",
       "      <td>100095</td>\n",
       "      <td>84.136551</td>\n",
       "      <td>2004-08-10 21:49:35.0</td>\n",
       "    </tr>\n",
       "    <tr>\n",
       "      <th>4</th>\n",
       "      <td>10013</td>\n",
       "      <td>68.372126</td>\n",
       "      <td>2007-06-11 00:17:06.0</td>\n",
       "    </tr>\n",
       "    <tr>\n",
       "      <th>...</th>\n",
       "      <td>...</td>\n",
       "      <td>...</td>\n",
       "      <td>...</td>\n",
       "    </tr>\n",
       "    <tr>\n",
       "      <th>97279</th>\n",
       "      <td>99827</td>\n",
       "      <td>87.898767</td>\n",
       "      <td>2003-05-13 23:58:55.0</td>\n",
       "    </tr>\n",
       "    <tr>\n",
       "      <th>97280</th>\n",
       "      <td>99842</td>\n",
       "      <td>78.431214</td>\n",
       "      <td>2010-05-25 14:36:27.0</td>\n",
       "    </tr>\n",
       "    <tr>\n",
       "      <th>97281</th>\n",
       "      <td>99847</td>\n",
       "      <td>82.115566</td>\n",
       "      <td>2012-02-20 05:44:33.0</td>\n",
       "    </tr>\n",
       "    <tr>\n",
       "      <th>97282</th>\n",
       "      <td>99872</td>\n",
       "      <td>92.974602</td>\n",
       "      <td>2010-04-18 05:12:36.0</td>\n",
       "    </tr>\n",
       "    <tr>\n",
       "      <th>97283</th>\n",
       "      <td>99999</td>\n",
       "      <td>96.370286</td>\n",
       "      <td>2013-04-14 08:08:53.0</td>\n",
       "    </tr>\n",
       "  </tbody>\n",
       "</table>\n",
       "<p>97284 rows × 3 columns</p>\n",
       "</div>"
      ],
      "text/plain": [
       "       Internalpatientid  Age at death             Death date\n",
       "0                 100036     72.412770  2015-01-18 20:49:10.0\n",
       "1                 100037     75.241135  2008-10-16 15:14:26.0\n",
       "2                 100045     85.399403  2019-01-26 11:33:52.0\n",
       "3                 100095     84.136551  2004-08-10 21:49:35.0\n",
       "4                  10013     68.372126  2007-06-11 00:17:06.0\n",
       "...                  ...           ...                    ...\n",
       "97279              99827     87.898767  2003-05-13 23:58:55.0\n",
       "97280              99842     78.431214  2010-05-25 14:36:27.0\n",
       "97281              99847     82.115566  2012-02-20 05:44:33.0\n",
       "97282              99872     92.974602  2010-04-18 05:12:36.0\n",
       "97283              99999     96.370286  2013-04-14 08:08:53.0\n",
       "\n",
       "[97284 rows x 3 columns]"
      ]
     },
     "execution_count": 3,
     "metadata": {},
     "output_type": "execute_result"
    }
   ],
   "source": [
    "death"
   ]
  },
  {
   "cell_type": "code",
   "execution_count": 5,
   "metadata": {},
   "outputs": [],
   "source": [
    "uniquePatient = death['Internalpatientid'].unique()"
   ]
  },
  {
   "cell_type": "code",
   "execution_count": 7,
   "metadata": {},
   "outputs": [],
   "source": [
    "uniquePatient.sort()"
   ]
  },
  {
   "cell_type": "code",
   "execution_count": 8,
   "metadata": {},
   "outputs": [
    {
     "data": {
      "text/plain": [
       "array([     3,      4,      5, ..., 169062, 169063, 169064])"
      ]
     },
     "execution_count": 8,
     "metadata": {},
     "output_type": "execute_result"
    }
   ],
   "source": [
    "uniquePatient"
   ]
  },
  {
   "cell_type": "code",
   "execution_count": 9,
   "metadata": {},
   "outputs": [
    {
     "data": {
      "text/plain": [
       "97284"
      ]
     },
     "execution_count": 9,
     "metadata": {},
     "output_type": "execute_result"
    }
   ],
   "source": [
    "len(uniquePatient)"
   ]
  },
  {
   "attachments": {},
   "cell_type": "markdown",
   "metadata": {},
   "source": [
    "# Preprocessing"
   ]
  },
  {
   "cell_type": "code",
   "execution_count": 13,
   "metadata": {},
   "outputs": [],
   "source": [
    "death['Death date'] = death['Death date'].apply(preprocess_data.preprocess_time_string)"
   ]
  },
  {
   "cell_type": "code",
   "execution_count": 14,
   "metadata": {},
   "outputs": [
    {
     "data": {
      "text/html": [
       "<div>\n",
       "<style scoped>\n",
       "    .dataframe tbody tr th:only-of-type {\n",
       "        vertical-align: middle;\n",
       "    }\n",
       "\n",
       "    .dataframe tbody tr th {\n",
       "        vertical-align: top;\n",
       "    }\n",
       "\n",
       "    .dataframe thead th {\n",
       "        text-align: right;\n",
       "    }\n",
       "</style>\n",
       "<table border=\"1\" class=\"dataframe\">\n",
       "  <thead>\n",
       "    <tr style=\"text-align: right;\">\n",
       "      <th></th>\n",
       "      <th>Internalpatientid</th>\n",
       "      <th>Age at death</th>\n",
       "      <th>Death date</th>\n",
       "    </tr>\n",
       "  </thead>\n",
       "  <tbody>\n",
       "    <tr>\n",
       "      <th>0</th>\n",
       "      <td>100036</td>\n",
       "      <td>72.412770</td>\n",
       "      <td>2015-01-18 20:49:10</td>\n",
       "    </tr>\n",
       "    <tr>\n",
       "      <th>1</th>\n",
       "      <td>100037</td>\n",
       "      <td>75.241135</td>\n",
       "      <td>2008-10-16 15:14:26</td>\n",
       "    </tr>\n",
       "    <tr>\n",
       "      <th>2</th>\n",
       "      <td>100045</td>\n",
       "      <td>85.399403</td>\n",
       "      <td>2019-01-26 11:33:52</td>\n",
       "    </tr>\n",
       "    <tr>\n",
       "      <th>3</th>\n",
       "      <td>100095</td>\n",
       "      <td>84.136551</td>\n",
       "      <td>2004-08-10 21:49:35</td>\n",
       "    </tr>\n",
       "    <tr>\n",
       "      <th>4</th>\n",
       "      <td>10013</td>\n",
       "      <td>68.372126</td>\n",
       "      <td>2007-06-11 00:17:06</td>\n",
       "    </tr>\n",
       "    <tr>\n",
       "      <th>...</th>\n",
       "      <td>...</td>\n",
       "      <td>...</td>\n",
       "      <td>...</td>\n",
       "    </tr>\n",
       "    <tr>\n",
       "      <th>97279</th>\n",
       "      <td>99827</td>\n",
       "      <td>87.898767</td>\n",
       "      <td>2003-05-13 23:58:55</td>\n",
       "    </tr>\n",
       "    <tr>\n",
       "      <th>97280</th>\n",
       "      <td>99842</td>\n",
       "      <td>78.431214</td>\n",
       "      <td>2010-05-25 14:36:27</td>\n",
       "    </tr>\n",
       "    <tr>\n",
       "      <th>97281</th>\n",
       "      <td>99847</td>\n",
       "      <td>82.115566</td>\n",
       "      <td>2012-02-20 05:44:33</td>\n",
       "    </tr>\n",
       "    <tr>\n",
       "      <th>97282</th>\n",
       "      <td>99872</td>\n",
       "      <td>92.974602</td>\n",
       "      <td>2010-04-18 05:12:36</td>\n",
       "    </tr>\n",
       "    <tr>\n",
       "      <th>97283</th>\n",
       "      <td>99999</td>\n",
       "      <td>96.370286</td>\n",
       "      <td>2013-04-14 08:08:53</td>\n",
       "    </tr>\n",
       "  </tbody>\n",
       "</table>\n",
       "<p>97284 rows × 3 columns</p>\n",
       "</div>"
      ],
      "text/plain": [
       "       Internalpatientid  Age at death          Death date\n",
       "0                 100036     72.412770 2015-01-18 20:49:10\n",
       "1                 100037     75.241135 2008-10-16 15:14:26\n",
       "2                 100045     85.399403 2019-01-26 11:33:52\n",
       "3                 100095     84.136551 2004-08-10 21:49:35\n",
       "4                  10013     68.372126 2007-06-11 00:17:06\n",
       "...                  ...           ...                 ...\n",
       "97279              99827     87.898767 2003-05-13 23:58:55\n",
       "97280              99842     78.431214 2010-05-25 14:36:27\n",
       "97281              99847     82.115566 2012-02-20 05:44:33\n",
       "97282              99872     92.974602 2010-04-18 05:12:36\n",
       "97283              99999     96.370286 2013-04-14 08:08:53\n",
       "\n",
       "[97284 rows x 3 columns]"
      ]
     },
     "execution_count": 14,
     "metadata": {},
     "output_type": "execute_result"
    }
   ],
   "source": [
    "death"
   ]
  }
 ],
 "metadata": {
  "kernelspec": {
   "display_name": "Python 3",
   "language": "python",
   "name": "python3"
  },
  "language_info": {
   "codemirror_mode": {
    "name": "ipython",
    "version": 3
   },
   "file_extension": ".py",
   "mimetype": "text/x-python",
   "name": "python",
   "nbconvert_exporter": "python",
   "pygments_lexer": "ipython3",
   "version": "3.10.11"
  },
  "orig_nbformat": 4
 },
 "nbformat": 4,
 "nbformat_minor": 2
}
