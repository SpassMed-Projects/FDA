{
 "cells": [
  {
   "cell_type": "code",
   "execution_count": 12,
   "metadata": {},
   "outputs": [],
   "source": [
    "import pandas as pd\n",
    "\n",
    "\n",
    "import numpy as np\n",
    "import pandas as pd\n",
    "\n",
    "import seaborn as sns\n",
    "from importlib import reload\n",
    "import matplotlib.pyplot as plt\n",
    "import preprocess_data \n",
    "\n",
    "reload(preprocess_data)\n",
    "\n",
    "%matplotlib inline"
   ]
  },
  {
   "cell_type": "code",
   "execution_count": 13,
   "metadata": {},
   "outputs": [],
   "source": [
    "inpatient_specialty = pd.read_csv('/data/public/MLA/VCHAMPS-Test/inpatient_specialty_test.csv').iloc[:,1:]"
   ]
  },
  {
   "cell_type": "code",
   "execution_count": 14,
   "metadata": {},
   "outputs": [
    {
     "data": {
      "text/html": [
       "<div>\n",
       "<style scoped>\n",
       "    .dataframe tbody tr th:only-of-type {\n",
       "        vertical-align: middle;\n",
       "    }\n",
       "\n",
       "    .dataframe tbody tr th {\n",
       "        vertical-align: top;\n",
       "    }\n",
       "\n",
       "    .dataframe thead th {\n",
       "        text-align: right;\n",
       "    }\n",
       "</style>\n",
       "<table border=\"1\" class=\"dataframe\">\n",
       "  <thead>\n",
       "    <tr style=\"text-align: right;\">\n",
       "      <th></th>\n",
       "      <th>Internalpatientid</th>\n",
       "      <th>Age at specialty</th>\n",
       "      <th>Specialty start date</th>\n",
       "      <th>Specialty end date</th>\n",
       "      <th>Specialty</th>\n",
       "      <th>State</th>\n",
       "    </tr>\n",
       "  </thead>\n",
       "  <tbody>\n",
       "    <tr>\n",
       "      <th>0</th>\n",
       "      <td>100004</td>\n",
       "      <td>81.261813</td>\n",
       "      <td>2014-04-06 04:37:21.0</td>\n",
       "      <td>2014-04-08 06:17:29.0</td>\n",
       "      <td>CARDIAC-STEP DOWN UNIT</td>\n",
       "      <td>Florida</td>\n",
       "    </tr>\n",
       "    <tr>\n",
       "      <th>1</th>\n",
       "      <td>100021</td>\n",
       "      <td>61.126677</td>\n",
       "      <td>2011-03-29 19:12:46.0</td>\n",
       "      <td>2011-03-31 21:53:53.0</td>\n",
       "      <td>PTSD RESIDENTIAL REHAB PROG</td>\n",
       "      <td>Colorado</td>\n",
       "    </tr>\n",
       "    <tr>\n",
       "      <th>2</th>\n",
       "      <td>100035</td>\n",
       "      <td>52.316254</td>\n",
       "      <td>2014-07-13 14:10:34.0</td>\n",
       "      <td>2014-07-15 16:10:05.0</td>\n",
       "      <td>BLIND REHAB OBSERVATION</td>\n",
       "      <td>District of Columbia</td>\n",
       "    </tr>\n",
       "    <tr>\n",
       "      <th>3</th>\n",
       "      <td>100041</td>\n",
       "      <td>89.583528</td>\n",
       "      <td>2014-11-05 18:42:42.0</td>\n",
       "      <td>2014-11-06 04:08:18.0</td>\n",
       "      <td>NH SHORT-STAY CONTINUING CARE</td>\n",
       "      <td>Minnesota</td>\n",
       "    </tr>\n",
       "    <tr>\n",
       "      <th>4</th>\n",
       "      <td>100041</td>\n",
       "      <td>89.595286</td>\n",
       "      <td>2014-11-10 01:51:04.0</td>\n",
       "      <td>2014-11-10 01:51:04.0</td>\n",
       "      <td>ORTHOPEDIC</td>\n",
       "      <td>Minnesota</td>\n",
       "    </tr>\n",
       "    <tr>\n",
       "      <th>...</th>\n",
       "      <td>...</td>\n",
       "      <td>...</td>\n",
       "      <td>...</td>\n",
       "      <td>...</td>\n",
       "      <td>...</td>\n",
       "      <td>...</td>\n",
       "    </tr>\n",
       "    <tr>\n",
       "      <th>386891</th>\n",
       "      <td>9996</td>\n",
       "      <td>77.010416</td>\n",
       "      <td>2005-12-21 07:22:13.0</td>\n",
       "      <td>2005-12-22 03:51:27.0</td>\n",
       "      <td>GEM REHABILITATION MEDICINE</td>\n",
       "      <td>Pennsylvania</td>\n",
       "    </tr>\n",
       "    <tr>\n",
       "      <th>386892</th>\n",
       "      <td>9996</td>\n",
       "      <td>84.296993</td>\n",
       "      <td>2013-04-06 13:13:12.0</td>\n",
       "      <td>2013-04-08 17:12:56.0</td>\n",
       "      <td>GEM INTERMEDIATE CARE</td>\n",
       "      <td>Pennsylvania</td>\n",
       "    </tr>\n",
       "    <tr>\n",
       "      <th>386893</th>\n",
       "      <td>99964</td>\n",
       "      <td>73.451708</td>\n",
       "      <td>2016-07-30 14:22:55.0</td>\n",
       "      <td>2016-07-30 14:22:55.0</td>\n",
       "      <td>GENERAL(ACUTE MEDICINE)</td>\n",
       "      <td>Oregon</td>\n",
       "    </tr>\n",
       "    <tr>\n",
       "      <th>386894</th>\n",
       "      <td>99989</td>\n",
       "      <td>71.251809</td>\n",
       "      <td>2003-10-03 12:52:03.0</td>\n",
       "      <td>2003-10-04 04:18:52.0</td>\n",
       "      <td>DOD BEDS IN VA FACILITY</td>\n",
       "      <td>Ohio</td>\n",
       "    </tr>\n",
       "    <tr>\n",
       "      <th>386895</th>\n",
       "      <td>99989</td>\n",
       "      <td>75.043472</td>\n",
       "      <td>2007-07-20 09:19:58.0</td>\n",
       "      <td>2007-07-20 09:19:58.0</td>\n",
       "      <td>GENERAL(ACUTE MEDICINE)</td>\n",
       "      <td>Ohio</td>\n",
       "    </tr>\n",
       "  </tbody>\n",
       "</table>\n",
       "<p>386896 rows × 6 columns</p>\n",
       "</div>"
      ],
      "text/plain": [
       "        Internalpatientid  Age at specialty   Specialty start date  \\\n",
       "0                  100004         81.261813  2014-04-06 04:37:21.0   \n",
       "1                  100021         61.126677  2011-03-29 19:12:46.0   \n",
       "2                  100035         52.316254  2014-07-13 14:10:34.0   \n",
       "3                  100041         89.583528  2014-11-05 18:42:42.0   \n",
       "4                  100041         89.595286  2014-11-10 01:51:04.0   \n",
       "...                   ...               ...                    ...   \n",
       "386891               9996         77.010416  2005-12-21 07:22:13.0   \n",
       "386892               9996         84.296993  2013-04-06 13:13:12.0   \n",
       "386893              99964         73.451708  2016-07-30 14:22:55.0   \n",
       "386894              99989         71.251809  2003-10-03 12:52:03.0   \n",
       "386895              99989         75.043472  2007-07-20 09:19:58.0   \n",
       "\n",
       "           Specialty end date                      Specialty  \\\n",
       "0       2014-04-08 06:17:29.0         CARDIAC-STEP DOWN UNIT   \n",
       "1       2011-03-31 21:53:53.0    PTSD RESIDENTIAL REHAB PROG   \n",
       "2       2014-07-15 16:10:05.0        BLIND REHAB OBSERVATION   \n",
       "3       2014-11-06 04:08:18.0  NH SHORT-STAY CONTINUING CARE   \n",
       "4       2014-11-10 01:51:04.0                     ORTHOPEDIC   \n",
       "...                       ...                            ...   \n",
       "386891  2005-12-22 03:51:27.0    GEM REHABILITATION MEDICINE   \n",
       "386892  2013-04-08 17:12:56.0          GEM INTERMEDIATE CARE   \n",
       "386893  2016-07-30 14:22:55.0        GENERAL(ACUTE MEDICINE)   \n",
       "386894  2003-10-04 04:18:52.0        DOD BEDS IN VA FACILITY   \n",
       "386895  2007-07-20 09:19:58.0        GENERAL(ACUTE MEDICINE)   \n",
       "\n",
       "                       State  \n",
       "0                    Florida  \n",
       "1                   Colorado  \n",
       "2       District of Columbia  \n",
       "3                  Minnesota  \n",
       "4                  Minnesota  \n",
       "...                      ...  \n",
       "386891          Pennsylvania  \n",
       "386892          Pennsylvania  \n",
       "386893                Oregon  \n",
       "386894                  Ohio  \n",
       "386895                  Ohio  \n",
       "\n",
       "[386896 rows x 6 columns]"
      ]
     },
     "execution_count": 14,
     "metadata": {},
     "output_type": "execute_result"
    }
   ],
   "source": [
    "inpatient_specialty"
   ]
  },
  {
   "cell_type": "code",
   "execution_count": 15,
   "metadata": {},
   "outputs": [
    {
     "data": {
      "text/plain": [
       "Internalpatientid         0\n",
       "Age at specialty          0\n",
       "Specialty start date      0\n",
       "Specialty end date      128\n",
       "Specialty                 0\n",
       "State                     0\n",
       "dtype: int64"
      ]
     },
     "execution_count": 15,
     "metadata": {},
     "output_type": "execute_result"
    }
   ],
   "source": [
    "pd.isnull(inpatient_specialty).sum() "
   ]
  },
  {
   "cell_type": "code",
   "execution_count": 16,
   "metadata": {},
   "outputs": [
    {
     "data": {
      "text/html": [
       "<div>\n",
       "<style scoped>\n",
       "    .dataframe tbody tr th:only-of-type {\n",
       "        vertical-align: middle;\n",
       "    }\n",
       "\n",
       "    .dataframe tbody tr th {\n",
       "        vertical-align: top;\n",
       "    }\n",
       "\n",
       "    .dataframe thead th {\n",
       "        text-align: right;\n",
       "    }\n",
       "</style>\n",
       "<table border=\"1\" class=\"dataframe\">\n",
       "  <thead>\n",
       "    <tr style=\"text-align: right;\">\n",
       "      <th></th>\n",
       "      <th>Internalpatientid</th>\n",
       "      <th>Age at specialty</th>\n",
       "      <th>Specialty start date</th>\n",
       "      <th>Specialty end date</th>\n",
       "      <th>Specialty</th>\n",
       "      <th>State</th>\n",
       "    </tr>\n",
       "  </thead>\n",
       "  <tbody>\n",
       "    <tr>\n",
       "      <th>747</th>\n",
       "      <td>100483</td>\n",
       "      <td>79.373001</td>\n",
       "      <td>2024-01-07 19:57:49.0</td>\n",
       "      <td>NaN</td>\n",
       "      <td>GENERAL CWT/TR</td>\n",
       "      <td>California</td>\n",
       "    </tr>\n",
       "    <tr>\n",
       "      <th>843</th>\n",
       "      <td>101138</td>\n",
       "      <td>63.782778</td>\n",
       "      <td>2019-10-29 14:31:54.0</td>\n",
       "      <td>NaN</td>\n",
       "      <td>NH LONG STAY DEMENTIA CARE</td>\n",
       "      <td>Massachusetts</td>\n",
       "    </tr>\n",
       "    <tr>\n",
       "      <th>1102</th>\n",
       "      <td>102906</td>\n",
       "      <td>74.987656</td>\n",
       "      <td>2023-07-28 23:43:03.0</td>\n",
       "      <td>NaN</td>\n",
       "      <td>PODIATRY</td>\n",
       "      <td>Nevada</td>\n",
       "    </tr>\n",
       "    <tr>\n",
       "      <th>4956</th>\n",
       "      <td>109712</td>\n",
       "      <td>48.949437</td>\n",
       "      <td>2021-05-23 00:27:39.0</td>\n",
       "      <td>NaN</td>\n",
       "      <td>REHABILITATION MEDICINE</td>\n",
       "      <td>Pennsylvania</td>\n",
       "    </tr>\n",
       "    <tr>\n",
       "      <th>6696</th>\n",
       "      <td>105831</td>\n",
       "      <td>73.976405</td>\n",
       "      <td>2021-12-15 09:01:29.0</td>\n",
       "      <td>NaN</td>\n",
       "      <td>VASCULAR</td>\n",
       "      <td>Kentucky</td>\n",
       "    </tr>\n",
       "    <tr>\n",
       "      <th>...</th>\n",
       "      <td>...</td>\n",
       "      <td>...</td>\n",
       "      <td>...</td>\n",
       "      <td>...</td>\n",
       "      <td>...</td>\n",
       "      <td>...</td>\n",
       "    </tr>\n",
       "    <tr>\n",
       "      <th>371889</th>\n",
       "      <td>74697</td>\n",
       "      <td>71.815637</td>\n",
       "      <td>2024-05-27 14:45:55.0</td>\n",
       "      <td>NaN</td>\n",
       "      <td>SUBSTANCE ABUSE RES TRMT PROG</td>\n",
       "      <td>Kentucky</td>\n",
       "    </tr>\n",
       "    <tr>\n",
       "      <th>375418</th>\n",
       "      <td>74288</td>\n",
       "      <td>97.356966</td>\n",
       "      <td>2023-07-03 23:18:36.0</td>\n",
       "      <td>NaN</td>\n",
       "      <td>NH SHORT STAY SKILLED NURSING</td>\n",
       "      <td>Pennsylvania</td>\n",
       "    </tr>\n",
       "    <tr>\n",
       "      <th>375554</th>\n",
       "      <td>80003</td>\n",
       "      <td>79.472534</td>\n",
       "      <td>2023-11-09 05:04:14.0</td>\n",
       "      <td>NaN</td>\n",
       "      <td>LONG TERM PSYCHIATRY(&gt;45 DAYS)</td>\n",
       "      <td>Ohio</td>\n",
       "    </tr>\n",
       "    <tr>\n",
       "      <th>383120</th>\n",
       "      <td>91831</td>\n",
       "      <td>84.030945</td>\n",
       "      <td>2021-11-12 07:26:56.0</td>\n",
       "      <td>NaN</td>\n",
       "      <td>PULMONARY, TUBERCULOSIS</td>\n",
       "      <td>Michigan</td>\n",
       "    </tr>\n",
       "    <tr>\n",
       "      <th>384855</th>\n",
       "      <td>95020</td>\n",
       "      <td>90.088282</td>\n",
       "      <td>2023-02-11 06:24:48.0</td>\n",
       "      <td>NaN</td>\n",
       "      <td>EVAL/BRF TRMT PTSD UNIT(EBTPU)</td>\n",
       "      <td>Missouri</td>\n",
       "    </tr>\n",
       "  </tbody>\n",
       "</table>\n",
       "<p>128 rows × 6 columns</p>\n",
       "</div>"
      ],
      "text/plain": [
       "        Internalpatientid  Age at specialty   Specialty start date  \\\n",
       "747                100483         79.373001  2024-01-07 19:57:49.0   \n",
       "843                101138         63.782778  2019-10-29 14:31:54.0   \n",
       "1102               102906         74.987656  2023-07-28 23:43:03.0   \n",
       "4956               109712         48.949437  2021-05-23 00:27:39.0   \n",
       "6696               105831         73.976405  2021-12-15 09:01:29.0   \n",
       "...                   ...               ...                    ...   \n",
       "371889              74697         71.815637  2024-05-27 14:45:55.0   \n",
       "375418              74288         97.356966  2023-07-03 23:18:36.0   \n",
       "375554              80003         79.472534  2023-11-09 05:04:14.0   \n",
       "383120              91831         84.030945  2021-11-12 07:26:56.0   \n",
       "384855              95020         90.088282  2023-02-11 06:24:48.0   \n",
       "\n",
       "       Specialty end date                       Specialty          State  \n",
       "747                   NaN                  GENERAL CWT/TR     California  \n",
       "843                   NaN      NH LONG STAY DEMENTIA CARE  Massachusetts  \n",
       "1102                  NaN                        PODIATRY         Nevada  \n",
       "4956                  NaN         REHABILITATION MEDICINE   Pennsylvania  \n",
       "6696                  NaN                        VASCULAR       Kentucky  \n",
       "...                   ...                             ...            ...  \n",
       "371889                NaN   SUBSTANCE ABUSE RES TRMT PROG       Kentucky  \n",
       "375418                NaN   NH SHORT STAY SKILLED NURSING   Pennsylvania  \n",
       "375554                NaN  LONG TERM PSYCHIATRY(>45 DAYS)           Ohio  \n",
       "383120                NaN         PULMONARY, TUBERCULOSIS       Michigan  \n",
       "384855                NaN  EVAL/BRF TRMT PTSD UNIT(EBTPU)       Missouri  \n",
       "\n",
       "[128 rows x 6 columns]"
      ]
     },
     "execution_count": 16,
     "metadata": {},
     "output_type": "execute_result"
    }
   ],
   "source": [
    "inpatient_specialty[pd.isnull(inpatient_specialty['Specialty end date'])]"
   ]
  },
  {
   "attachments": {},
   "cell_type": "markdown",
   "metadata": {},
   "source": [
    "# Preprocess Time\n",
    "Calculate period mean and std values."
   ]
  },
  {
   "cell_type": "code",
   "execution_count": 17,
   "metadata": {},
   "outputs": [
    {
     "name": "stderr",
     "output_type": "stream",
     "text": [
      "/tmp/ipykernel_264811/1186491515.py:1: UserWarning: Boolean Series key will be reindexed to match DataFrame index.\n",
      "  inpatient_specialty[pd.isnull(inpatient_specialty['Specialty end date'])][inpatient_specialty['Internalpatientid'] == 98424]\n"
     ]
    },
    {
     "data": {
      "text/html": [
       "<div>\n",
       "<style scoped>\n",
       "    .dataframe tbody tr th:only-of-type {\n",
       "        vertical-align: middle;\n",
       "    }\n",
       "\n",
       "    .dataframe tbody tr th {\n",
       "        vertical-align: top;\n",
       "    }\n",
       "\n",
       "    .dataframe thead th {\n",
       "        text-align: right;\n",
       "    }\n",
       "</style>\n",
       "<table border=\"1\" class=\"dataframe\">\n",
       "  <thead>\n",
       "    <tr style=\"text-align: right;\">\n",
       "      <th></th>\n",
       "      <th>Internalpatientid</th>\n",
       "      <th>Age at specialty</th>\n",
       "      <th>Specialty start date</th>\n",
       "      <th>Specialty end date</th>\n",
       "      <th>Specialty</th>\n",
       "      <th>State</th>\n",
       "    </tr>\n",
       "  </thead>\n",
       "  <tbody>\n",
       "  </tbody>\n",
       "</table>\n",
       "</div>"
      ],
      "text/plain": [
       "Empty DataFrame\n",
       "Columns: [Internalpatientid, Age at specialty, Specialty start date, Specialty end date, Specialty, State]\n",
       "Index: []"
      ]
     },
     "execution_count": 17,
     "metadata": {},
     "output_type": "execute_result"
    }
   ],
   "source": [
    "inpatient_specialty[pd.isnull(inpatient_specialty['Specialty end date'])][inpatient_specialty['Internalpatientid'] == 98424]"
   ]
  },
  {
   "cell_type": "code",
   "execution_count": 18,
   "metadata": {},
   "outputs": [],
   "source": [
    "inpatient_specialty['Specialty start date'] = inpatient_specialty['Specialty start date'].apply(preprocess_data.preprocess_time_string)\n",
    "inpatient_specialty['Specialty end date'] = inpatient_specialty['Specialty end date'].apply(preprocess_data.preprocess_time_string)\n",
    "inpatient_specialty['period'] = preprocess_data.get_period(inpatient_specialty['Specialty start date'],inpatient_specialty['Specialty end date'])"
   ]
  },
  {
   "cell_type": "code",
   "execution_count": 19,
   "metadata": {},
   "outputs": [
    {
     "name": "stderr",
     "output_type": "stream",
     "text": [
      "/tmp/ipykernel_264811/2218735275.py:2: RuntimeWarning: Mean of empty slice\n",
      "  period_mean['period'] = period_mean['period'].apply(lambda x: np.nanmean(x.total_seconds()/86400))\n"
     ]
    }
   ],
   "source": [
    "period_mean = inpatient_specialty.groupby('Internalpatientid')['period'].agg(lambda x: x).reset_index()\n",
    "period_mean['period'] = period_mean['period'].apply(lambda x: np.nanmean(x.total_seconds()/86400))"
   ]
  },
  {
   "cell_type": "code",
   "execution_count": 20,
   "metadata": {},
   "outputs": [
    {
     "name": "stderr",
     "output_type": "stream",
     "text": [
      "/home/hassan/.conda/envs/mla/lib/python3.10/site-packages/numpy/lib/nanfunctions.py:1872: RuntimeWarning: Degrees of freedom <= 0 for slice.\n",
      "  var = nanvar(a, axis=axis, dtype=dtype, out=out, ddof=ddof,\n"
     ]
    }
   ],
   "source": [
    "period_std = inpatient_specialty.groupby('Internalpatientid')['period'].agg(lambda x: x).reset_index()\n",
    "period_std['period'] = period_std['period'].apply(lambda x: np.nanstd(x.total_seconds()/86400,ddof=0))"
   ]
  },
  {
   "cell_type": "code",
   "execution_count": 21,
   "metadata": {},
   "outputs": [],
   "source": [
    "period_mean = period_mean.rename(columns={'period': 'period mean'})\n",
    "period_std = period_std.rename(columns={'period': 'period std'})"
   ]
  },
  {
   "attachments": {},
   "cell_type": "markdown",
   "metadata": {},
   "source": [
    "# Preprocess Specialty\n",
    "Then consider the specialty, since it has a lot of different values, we want to simplify it in to several classes.\n",
    "By studying the values, we can have the classify it into Medical Specialties (encoded as 0) and Rehabilitation and Support Programs (encoded as 1). And finally impute the no specific value (3.75%) with imputate_nan_binary."
   ]
  },
  {
   "cell_type": "code",
   "execution_count": 22,
   "metadata": {},
   "outputs": [],
   "source": [
    "specialty_class = preprocess_data.generate_dict_from_csv('/home/vivi/FDA_datasets/specialty_class.csv','Specialty','Class')"
   ]
  },
  {
   "cell_type": "code",
   "execution_count": 23,
   "metadata": {},
   "outputs": [],
   "source": [
    "inpatient_specialty['Specialty encoded'] = preprocess_data.preprocess_substitute_categories(specialty_class, \n",
    "                                                                               inpatient_specialty['Specialty'])"
   ]
  },
  {
   "cell_type": "code",
   "execution_count": 24,
   "metadata": {},
   "outputs": [],
   "source": [
    "specialty_count = inpatient_specialty.groupby('Internalpatientid')['Specialty'].count().reset_index()"
   ]
  },
  {
   "cell_type": "code",
   "execution_count": 25,
   "metadata": {},
   "outputs": [],
   "source": [
    "specialty_count = specialty_count.rename(columns={'Specialty': 'specialty count'})"
   ]
  },
  {
   "cell_type": "code",
   "execution_count": 26,
   "metadata": {},
   "outputs": [],
   "source": [
    "specialty_medical_count = inpatient_specialty.groupby('Internalpatientid')['Specialty encoded'].agg(lambda x:  x.eq(0).sum()).reset_index()"
   ]
  },
  {
   "cell_type": "code",
   "execution_count": 27,
   "metadata": {},
   "outputs": [],
   "source": [
    "specialty_support_count = inpatient_specialty.groupby('Internalpatientid')['Specialty encoded'].agg(lambda x:  x.eq(1).sum()).reset_index()"
   ]
  },
  {
   "cell_type": "code",
   "execution_count": 28,
   "metadata": {},
   "outputs": [],
   "source": [
    "specialty_medical_count = specialty_medical_count.rename(columns={'Specialty encoded': 'specialty medical count'})\n",
    "specialty_support_count = specialty_support_count.rename(columns={'Specialty encoded': 'specialty support count'})"
   ]
  },
  {
   "cell_type": "code",
   "execution_count": 29,
   "metadata": {},
   "outputs": [
    {
     "data": {
      "text/plain": [
       "Internalpatientid    0\n",
       "period std           2\n",
       "dtype: int64"
      ]
     },
     "execution_count": 29,
     "metadata": {},
     "output_type": "execute_result"
    }
   ],
   "source": [
    "pd.isnull(period_std).sum() "
   ]
  },
  {
   "cell_type": "code",
   "execution_count": 30,
   "metadata": {},
   "outputs": [
    {
     "data": {
      "text/html": [
       "<div>\n",
       "<style scoped>\n",
       "    .dataframe tbody tr th:only-of-type {\n",
       "        vertical-align: middle;\n",
       "    }\n",
       "\n",
       "    .dataframe tbody tr th {\n",
       "        vertical-align: top;\n",
       "    }\n",
       "\n",
       "    .dataframe thead th {\n",
       "        text-align: right;\n",
       "    }\n",
       "</style>\n",
       "<table border=\"1\" class=\"dataframe\">\n",
       "  <thead>\n",
       "    <tr style=\"text-align: right;\">\n",
       "      <th></th>\n",
       "      <th>Internalpatientid</th>\n",
       "      <th>period std</th>\n",
       "    </tr>\n",
       "  </thead>\n",
       "  <tbody>\n",
       "    <tr>\n",
       "      <th>12880</th>\n",
       "      <td>98420</td>\n",
       "      <td>NaN</td>\n",
       "    </tr>\n",
       "    <tr>\n",
       "      <th>15195</th>\n",
       "      <td>115672</td>\n",
       "      <td>NaN</td>\n",
       "    </tr>\n",
       "  </tbody>\n",
       "</table>\n",
       "</div>"
      ],
      "text/plain": [
       "       Internalpatientid  period std\n",
       "12880              98420         NaN\n",
       "15195             115672         NaN"
      ]
     },
     "execution_count": 30,
     "metadata": {},
     "output_type": "execute_result"
    }
   ],
   "source": [
    "period_std[pd.isnull(period_std['period std'])]"
   ]
  },
  {
   "cell_type": "code",
   "execution_count": 31,
   "metadata": {},
   "outputs": [
    {
     "data": {
      "text/html": [
       "<div>\n",
       "<style scoped>\n",
       "    .dataframe tbody tr th:only-of-type {\n",
       "        vertical-align: middle;\n",
       "    }\n",
       "\n",
       "    .dataframe tbody tr th {\n",
       "        vertical-align: top;\n",
       "    }\n",
       "\n",
       "    .dataframe thead th {\n",
       "        text-align: right;\n",
       "    }\n",
       "</style>\n",
       "<table border=\"1\" class=\"dataframe\">\n",
       "  <thead>\n",
       "    <tr style=\"text-align: right;\">\n",
       "      <th></th>\n",
       "      <th>Internalpatientid</th>\n",
       "      <th>Age at specialty</th>\n",
       "      <th>Specialty start date</th>\n",
       "      <th>Specialty end date</th>\n",
       "      <th>Specialty</th>\n",
       "      <th>State</th>\n",
       "      <th>period</th>\n",
       "      <th>Specialty encoded</th>\n",
       "    </tr>\n",
       "  </thead>\n",
       "  <tbody>\n",
       "  </tbody>\n",
       "</table>\n",
       "</div>"
      ],
      "text/plain": [
       "Empty DataFrame\n",
       "Columns: [Internalpatientid, Age at specialty, Specialty start date, Specialty end date, Specialty, State, period, Specialty encoded]\n",
       "Index: []"
      ]
     },
     "execution_count": 31,
     "metadata": {},
     "output_type": "execute_result"
    }
   ],
   "source": [
    "inpatient_specialty[inpatient_specialty['Internalpatientid'] == 35865]"
   ]
  },
  {
   "cell_type": "code",
   "execution_count": 32,
   "metadata": {},
   "outputs": [
    {
     "data": {
      "text/html": [
       "<div>\n",
       "<style scoped>\n",
       "    .dataframe tbody tr th:only-of-type {\n",
       "        vertical-align: middle;\n",
       "    }\n",
       "\n",
       "    .dataframe tbody tr th {\n",
       "        vertical-align: top;\n",
       "    }\n",
       "\n",
       "    .dataframe thead th {\n",
       "        text-align: right;\n",
       "    }\n",
       "</style>\n",
       "<table border=\"1\" class=\"dataframe\">\n",
       "  <thead>\n",
       "    <tr style=\"text-align: right;\">\n",
       "      <th></th>\n",
       "      <th>Internalpatientid</th>\n",
       "      <th>Age at specialty</th>\n",
       "      <th>Specialty start date</th>\n",
       "      <th>Specialty end date</th>\n",
       "      <th>Specialty</th>\n",
       "      <th>State</th>\n",
       "      <th>period</th>\n",
       "      <th>Specialty encoded</th>\n",
       "    </tr>\n",
       "  </thead>\n",
       "  <tbody>\n",
       "  </tbody>\n",
       "</table>\n",
       "</div>"
      ],
      "text/plain": [
       "Empty DataFrame\n",
       "Columns: [Internalpatientid, Age at specialty, Specialty start date, Specialty end date, Specialty, State, period, Specialty encoded]\n",
       "Index: []"
      ]
     },
     "execution_count": 32,
     "metadata": {},
     "output_type": "execute_result"
    }
   ],
   "source": [
    "inpatient_specialty[inpatient_specialty['Internalpatientid'] == 162785]"
   ]
  },
  {
   "cell_type": "code",
   "execution_count": 33,
   "metadata": {},
   "outputs": [
    {
     "data": {
      "text/html": [
       "<div>\n",
       "<style scoped>\n",
       "    .dataframe tbody tr th:only-of-type {\n",
       "        vertical-align: middle;\n",
       "    }\n",
       "\n",
       "    .dataframe tbody tr th {\n",
       "        vertical-align: top;\n",
       "    }\n",
       "\n",
       "    .dataframe thead th {\n",
       "        text-align: right;\n",
       "    }\n",
       "</style>\n",
       "<table border=\"1\" class=\"dataframe\">\n",
       "  <thead>\n",
       "    <tr style=\"text-align: right;\">\n",
       "      <th></th>\n",
       "      <th>Internalpatientid</th>\n",
       "      <th>period mean</th>\n",
       "    </tr>\n",
       "  </thead>\n",
       "  <tbody>\n",
       "    <tr>\n",
       "      <th>12880</th>\n",
       "      <td>98420</td>\n",
       "      <td>NaN</td>\n",
       "    </tr>\n",
       "    <tr>\n",
       "      <th>15195</th>\n",
       "      <td>115672</td>\n",
       "      <td>NaN</td>\n",
       "    </tr>\n",
       "  </tbody>\n",
       "</table>\n",
       "</div>"
      ],
      "text/plain": [
       "       Internalpatientid  period mean\n",
       "12880              98420          NaN\n",
       "15195             115672          NaN"
      ]
     },
     "execution_count": 33,
     "metadata": {},
     "output_type": "execute_result"
    }
   ],
   "source": [
    "period_mean[pd.isnull(period_mean['period mean'])]"
   ]
  },
  {
   "attachments": {},
   "cell_type": "markdown",
   "metadata": {},
   "source": [
    "# Preprocess Age"
   ]
  },
  {
   "cell_type": "code",
   "execution_count": 34,
   "metadata": {},
   "outputs": [],
   "source": [
    "age_mean = inpatient_specialty.groupby('Internalpatientid')['Age at specialty'].mean().reset_index()\n",
    "age_mean = age_mean.rename(columns={'Age at specialty': 'mean age at specailty'})"
   ]
  },
  {
   "attachments": {},
   "cell_type": "markdown",
   "metadata": {},
   "source": [
    "# Merge All"
   ]
  },
  {
   "cell_type": "code",
   "execution_count": 35,
   "metadata": {},
   "outputs": [],
   "source": [
    "listTables = [period_mean, period_std, specialty_medical_count,specialty_support_count, specialty_count ]\n",
    "inpatient_specialty_preprocessed = age_mean.copy()\n",
    "for i in listTables:\n",
    "    inpatient_specialty_preprocessed = inpatient_specialty_preprocessed.merge(i,how = 'left', on = 'Internalpatientid')\n"
   ]
  },
  {
   "cell_type": "code",
   "execution_count": 36,
   "metadata": {},
   "outputs": [
    {
     "data": {
      "text/html": [
       "<div>\n",
       "<style scoped>\n",
       "    .dataframe tbody tr th:only-of-type {\n",
       "        vertical-align: middle;\n",
       "    }\n",
       "\n",
       "    .dataframe tbody tr th {\n",
       "        vertical-align: top;\n",
       "    }\n",
       "\n",
       "    .dataframe thead th {\n",
       "        text-align: right;\n",
       "    }\n",
       "</style>\n",
       "<table border=\"1\" class=\"dataframe\">\n",
       "  <thead>\n",
       "    <tr style=\"text-align: right;\">\n",
       "      <th></th>\n",
       "      <th>Internalpatientid</th>\n",
       "      <th>mean age at specailty</th>\n",
       "      <th>period mean</th>\n",
       "      <th>period std</th>\n",
       "      <th>specialty medical count</th>\n",
       "      <th>specialty support count</th>\n",
       "      <th>specialty count</th>\n",
       "    </tr>\n",
       "  </thead>\n",
       "  <tbody>\n",
       "    <tr>\n",
       "      <th>0</th>\n",
       "      <td>7</td>\n",
       "      <td>62.879044</td>\n",
       "      <td>3.579801</td>\n",
       "      <td>7.603465</td>\n",
       "      <td>9</td>\n",
       "      <td>4</td>\n",
       "      <td>13</td>\n",
       "    </tr>\n",
       "    <tr>\n",
       "      <th>1</th>\n",
       "      <td>9</td>\n",
       "      <td>51.778496</td>\n",
       "      <td>1.945340</td>\n",
       "      <td>2.069379</td>\n",
       "      <td>7</td>\n",
       "      <td>6</td>\n",
       "      <td>13</td>\n",
       "    </tr>\n",
       "    <tr>\n",
       "      <th>2</th>\n",
       "      <td>12</td>\n",
       "      <td>72.448082</td>\n",
       "      <td>2.031376</td>\n",
       "      <td>2.952513</td>\n",
       "      <td>12</td>\n",
       "      <td>0</td>\n",
       "      <td>12</td>\n",
       "    </tr>\n",
       "    <tr>\n",
       "      <th>3</th>\n",
       "      <td>17</td>\n",
       "      <td>80.987588</td>\n",
       "      <td>1.622804</td>\n",
       "      <td>2.126398</td>\n",
       "      <td>13</td>\n",
       "      <td>18</td>\n",
       "      <td>31</td>\n",
       "    </tr>\n",
       "    <tr>\n",
       "      <th>4</th>\n",
       "      <td>22</td>\n",
       "      <td>58.983378</td>\n",
       "      <td>1.466395</td>\n",
       "      <td>2.058525</td>\n",
       "      <td>3</td>\n",
       "      <td>6</td>\n",
       "      <td>9</td>\n",
       "    </tr>\n",
       "    <tr>\n",
       "      <th>...</th>\n",
       "      <td>...</td>\n",
       "      <td>...</td>\n",
       "      <td>...</td>\n",
       "      <td>...</td>\n",
       "      <td>...</td>\n",
       "      <td>...</td>\n",
       "      <td>...</td>\n",
       "    </tr>\n",
       "    <tr>\n",
       "      <th>22250</th>\n",
       "      <td>168995</td>\n",
       "      <td>68.384928</td>\n",
       "      <td>0.668522</td>\n",
       "      <td>0.750610</td>\n",
       "      <td>4</td>\n",
       "      <td>3</td>\n",
       "      <td>7</td>\n",
       "    </tr>\n",
       "    <tr>\n",
       "      <th>22251</th>\n",
       "      <td>169011</td>\n",
       "      <td>64.960772</td>\n",
       "      <td>1.668035</td>\n",
       "      <td>2.455277</td>\n",
       "      <td>2</td>\n",
       "      <td>1</td>\n",
       "      <td>4</td>\n",
       "    </tr>\n",
       "    <tr>\n",
       "      <th>22252</th>\n",
       "      <td>169037</td>\n",
       "      <td>84.503238</td>\n",
       "      <td>11.138164</td>\n",
       "      <td>19.410162</td>\n",
       "      <td>4</td>\n",
       "      <td>2</td>\n",
       "      <td>6</td>\n",
       "    </tr>\n",
       "    <tr>\n",
       "      <th>22253</th>\n",
       "      <td>169059</td>\n",
       "      <td>79.918093</td>\n",
       "      <td>4.455550</td>\n",
       "      <td>4.455550</td>\n",
       "      <td>1</td>\n",
       "      <td>1</td>\n",
       "      <td>2</td>\n",
       "    </tr>\n",
       "    <tr>\n",
       "      <th>22254</th>\n",
       "      <td>169065</td>\n",
       "      <td>46.926902</td>\n",
       "      <td>2.696717</td>\n",
       "      <td>3.789993</td>\n",
       "      <td>33</td>\n",
       "      <td>12</td>\n",
       "      <td>45</td>\n",
       "    </tr>\n",
       "  </tbody>\n",
       "</table>\n",
       "<p>22255 rows × 7 columns</p>\n",
       "</div>"
      ],
      "text/plain": [
       "       Internalpatientid  mean age at specailty  period mean  period std  \\\n",
       "0                      7              62.879044     3.579801    7.603465   \n",
       "1                      9              51.778496     1.945340    2.069379   \n",
       "2                     12              72.448082     2.031376    2.952513   \n",
       "3                     17              80.987588     1.622804    2.126398   \n",
       "4                     22              58.983378     1.466395    2.058525   \n",
       "...                  ...                    ...          ...         ...   \n",
       "22250             168995              68.384928     0.668522    0.750610   \n",
       "22251             169011              64.960772     1.668035    2.455277   \n",
       "22252             169037              84.503238    11.138164   19.410162   \n",
       "22253             169059              79.918093     4.455550    4.455550   \n",
       "22254             169065              46.926902     2.696717    3.789993   \n",
       "\n",
       "       specialty medical count  specialty support count  specialty count  \n",
       "0                            9                        4               13  \n",
       "1                            7                        6               13  \n",
       "2                           12                        0               12  \n",
       "3                           13                       18               31  \n",
       "4                            3                        6                9  \n",
       "...                        ...                      ...              ...  \n",
       "22250                        4                        3                7  \n",
       "22251                        2                        1                4  \n",
       "22252                        4                        2                6  \n",
       "22253                        1                        1                2  \n",
       "22254                       33                       12               45  \n",
       "\n",
       "[22255 rows x 7 columns]"
      ]
     },
     "execution_count": 36,
     "metadata": {},
     "output_type": "execute_result"
    }
   ],
   "source": [
    "inpatient_specialty_preprocessed"
   ]
  },
  {
   "cell_type": "code",
   "execution_count": 37,
   "metadata": {},
   "outputs": [],
   "source": [
    "inpatient_specialty_preprocessed = inpatient_specialty_preprocessed.dropna(subset=['period mean'])"
   ]
  },
  {
   "cell_type": "code",
   "execution_count": 38,
   "metadata": {},
   "outputs": [],
   "source": [
    "inpatient_specialty_preprocessed.to_csv('/home/vivi/FDA_datasets/inpatient_specialty_preprocessed_test.csv')"
   ]
  },
  {
   "cell_type": "code",
   "execution_count": 39,
   "metadata": {},
   "outputs": [
    {
     "data": {
      "text/plain": [
       "Internalpatientid          0\n",
       "mean age at specailty      0\n",
       "period mean                0\n",
       "period std                 0\n",
       "specialty medical count    0\n",
       "specialty support count    0\n",
       "specialty count            0\n",
       "dtype: int64"
      ]
     },
     "execution_count": 39,
     "metadata": {},
     "output_type": "execute_result"
    }
   ],
   "source": [
    "pd.isnull(inpatient_specialty_preprocessed).sum()"
   ]
  }
 ],
 "metadata": {
  "kernelspec": {
   "display_name": "Python 3",
   "language": "python",
   "name": "python3"
  },
  "language_info": {
   "codemirror_mode": {
    "name": "ipython",
    "version": 3
   },
   "file_extension": ".py",
   "mimetype": "text/x-python",
   "name": "python",
   "nbconvert_exporter": "python",
   "pygments_lexer": "ipython3",
   "version": "3.10.11"
  },
  "orig_nbformat": 4
 },
 "nbformat": 4,
 "nbformat_minor": 2
}
