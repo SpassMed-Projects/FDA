{
 "cells": [
  {
   "attachments": {},
   "cell_type": "markdown",
   "metadata": {},
   "source": [
    "Generate a dataset with patient and related state."
   ]
  },
  {
   "cell_type": "code",
   "execution_count": 1,
   "metadata": {},
   "outputs": [],
   "source": [
    "import pandas as pd\n",
    "\n",
    "\n",
    "import numpy as np\n",
    "import pandas as pd\n",
    "\n",
    "import seaborn as sns\n",
    "from importlib import reload\n",
    "import matplotlib.pyplot as plt\n",
    "import preprocess_data \n",
    "\n",
    "reload(preprocess_data)\n",
    "\n",
    "%matplotlib inline"
   ]
  },
  {
   "cell_type": "code",
   "execution_count": 2,
   "metadata": {},
   "outputs": [],
   "source": [
    "outpatient_visits = pd.read_csv('/home/bhatti/dataset/VCHAMPS/outpatient_visits_train.csv').iloc[:,1:]"
   ]
  },
  {
   "cell_type": "code",
   "execution_count": 3,
   "metadata": {},
   "outputs": [
    {
     "data": {
      "text/plain": [
       "array(['Indiana', 'Utah', 'Florida', 'West Virginia', 'Maryland',\n",
       "       'Pennsylvania', 'Ohio', 'North Carolina', 'Louisiana', 'Arizona',\n",
       "       'Connecticut', 'Oklahoma', 'Delaware', 'Michigan', 'Rhode Island',\n",
       "       'Massachusetts', 'New Jersey', 'Nebraska', 'California',\n",
       "       'Missouri', 'Texas', 'District of Columbia', 'Washington', 'Idaho',\n",
       "       'New York', 'Kentucky', 'South Carolina', 'Georgia', 'Virginia',\n",
       "       'Mississippi', 'Oregon', 'Arkansas', 'Alabama', 'Tennessee',\n",
       "       'North Dakota', 'Minnesota', 'Wisconsin', 'Illinois', 'Vermont',\n",
       "       'Nevada', 'Wyoming', 'Puerto Rico', 'Colorado', 'Montana',\n",
       "       'New Mexico', 'Hawaii', 'Not specified', 'South Dakota', 'Alaska',\n",
       "       'Maine', 'New Hampshire'], dtype=object)"
      ]
     },
     "execution_count": 3,
     "metadata": {},
     "output_type": "execute_result"
    }
   ],
   "source": [
    "outpatient_visits['State'].unique()"
   ]
  },
  {
   "cell_type": "code",
   "execution_count": 14,
   "metadata": {},
   "outputs": [
    {
     "name": "stderr",
     "output_type": "stream",
     "text": [
      "/tmp/ipykernel_9744/2079485804.py:1: UserWarning: Boolean Series key will be reindexed to match DataFrame index.\n",
      "  outpatient_visits[outpatient_visits['Internalpatientid'] == 7687][outpatient_visits['State'] == 'Not specified']\n"
     ]
    },
    {
     "data": {
      "text/html": [
       "<div>\n",
       "<style scoped>\n",
       "    .dataframe tbody tr th:only-of-type {\n",
       "        vertical-align: middle;\n",
       "    }\n",
       "\n",
       "    .dataframe tbody tr th {\n",
       "        vertical-align: top;\n",
       "    }\n",
       "\n",
       "    .dataframe thead th {\n",
       "        text-align: right;\n",
       "    }\n",
       "</style>\n",
       "<table border=\"1\" class=\"dataframe\">\n",
       "  <thead>\n",
       "    <tr style=\"text-align: right;\">\n",
       "      <th></th>\n",
       "      <th>Internalpatientid</th>\n",
       "      <th>Age at visit</th>\n",
       "      <th>Visit start date</th>\n",
       "      <th>First listed diagnosis icd10 subcategory</th>\n",
       "      <th>Second listed diagnosis icd10 subcategory</th>\n",
       "      <th>Stop code</th>\n",
       "      <th>Agentorangeflag</th>\n",
       "      <th>Combatflag</th>\n",
       "      <th>Ionizingradiationflag</th>\n",
       "      <th>Serviceconnectedflag</th>\n",
       "      <th>Swasiaconditionsflag</th>\n",
       "      <th>State</th>\n",
       "    </tr>\n",
       "  </thead>\n",
       "  <tbody>\n",
       "    <tr>\n",
       "      <th>55282453</th>\n",
       "      <td>7687</td>\n",
       "      <td>51.339646</td>\n",
       "      <td>1999-09-15 15:22:24.0</td>\n",
       "      <td>Not specified</td>\n",
       "      <td>Not specified</td>\n",
       "      <td>LABORATORY</td>\n",
       "      <td>NaN</td>\n",
       "      <td>NaN</td>\n",
       "      <td>NaN</td>\n",
       "      <td>NaN</td>\n",
       "      <td>NaN</td>\n",
       "      <td>Not specified</td>\n",
       "    </tr>\n",
       "    <tr>\n",
       "      <th>55282454</th>\n",
       "      <td>7687</td>\n",
       "      <td>52.048764</td>\n",
       "      <td>2000-05-31 19:45:40.0</td>\n",
       "      <td>Not specified</td>\n",
       "      <td>Not specified</td>\n",
       "      <td>TELEPHONE/ANCILLARY</td>\n",
       "      <td>NaN</td>\n",
       "      <td>NaN</td>\n",
       "      <td>NaN</td>\n",
       "      <td>Yes</td>\n",
       "      <td>NaN</td>\n",
       "      <td>Not specified</td>\n",
       "    </tr>\n",
       "    <tr>\n",
       "      <th>55282455</th>\n",
       "      <td>7687</td>\n",
       "      <td>52.139821</td>\n",
       "      <td>2000-07-04 02:30:24.0</td>\n",
       "      <td>Not specified</td>\n",
       "      <td>Not specified</td>\n",
       "      <td>CLINICAL PHARMACY</td>\n",
       "      <td>NaN</td>\n",
       "      <td>NaN</td>\n",
       "      <td>NaN</td>\n",
       "      <td>NaN</td>\n",
       "      <td>NaN</td>\n",
       "      <td>Not specified</td>\n",
       "    </tr>\n",
       "    <tr>\n",
       "      <th>55282456</th>\n",
       "      <td>7687</td>\n",
       "      <td>52.349461</td>\n",
       "      <td>2000-09-18 17:28:22.0</td>\n",
       "      <td>Not specified</td>\n",
       "      <td>Not specified</td>\n",
       "      <td>LABORATORY</td>\n",
       "      <td>NaN</td>\n",
       "      <td>NaN</td>\n",
       "      <td>NaN</td>\n",
       "      <td>NaN</td>\n",
       "      <td>NaN</td>\n",
       "      <td>Not specified</td>\n",
       "    </tr>\n",
       "    <tr>\n",
       "      <th>55282457</th>\n",
       "      <td>7687</td>\n",
       "      <td>52.349506</td>\n",
       "      <td>2000-09-18 17:51:48.0</td>\n",
       "      <td>Not specified</td>\n",
       "      <td>Not specified</td>\n",
       "      <td>PRIMARY CARE/MEDICINE</td>\n",
       "      <td>NaN</td>\n",
       "      <td>NaN</td>\n",
       "      <td>NaN</td>\n",
       "      <td>Yes</td>\n",
       "      <td>NaN</td>\n",
       "      <td>Not specified</td>\n",
       "    </tr>\n",
       "    <tr>\n",
       "      <th>...</th>\n",
       "      <td>...</td>\n",
       "      <td>...</td>\n",
       "      <td>...</td>\n",
       "      <td>...</td>\n",
       "      <td>...</td>\n",
       "      <td>...</td>\n",
       "      <td>...</td>\n",
       "      <td>...</td>\n",
       "      <td>...</td>\n",
       "      <td>...</td>\n",
       "      <td>...</td>\n",
       "      <td>...</td>\n",
       "    </tr>\n",
       "    <tr>\n",
       "      <th>77580990</th>\n",
       "      <td>7687</td>\n",
       "      <td>55.277909</td>\n",
       "      <td>2003-08-25 01:49:02.0</td>\n",
       "      <td>Not specified</td>\n",
       "      <td>Not specified</td>\n",
       "      <td>NURSING (2ND ONLY)</td>\n",
       "      <td>NaN</td>\n",
       "      <td>NaN</td>\n",
       "      <td>NaN</td>\n",
       "      <td>Yes</td>\n",
       "      <td>NaN</td>\n",
       "      <td>Not specified</td>\n",
       "    </tr>\n",
       "    <tr>\n",
       "      <th>77580991</th>\n",
       "      <td>7687</td>\n",
       "      <td>55.278481</td>\n",
       "      <td>2003-08-25 06:50:21.0</td>\n",
       "      <td>Not specified</td>\n",
       "      <td>Not specified</td>\n",
       "      <td>PRIMARY CARE/MEDICINE</td>\n",
       "      <td>NaN</td>\n",
       "      <td>NaN</td>\n",
       "      <td>NaN</td>\n",
       "      <td>Yes</td>\n",
       "      <td>NaN</td>\n",
       "      <td>Not specified</td>\n",
       "    </tr>\n",
       "    <tr>\n",
       "      <th>77580992</th>\n",
       "      <td>7687</td>\n",
       "      <td>55.278588</td>\n",
       "      <td>2003-08-25 07:46:30.0</td>\n",
       "      <td>Not specified</td>\n",
       "      <td>Not specified</td>\n",
       "      <td>NURSING (2ND ONLY)</td>\n",
       "      <td>NaN</td>\n",
       "      <td>NaN</td>\n",
       "      <td>NaN</td>\n",
       "      <td>Yes</td>\n",
       "      <td>NaN</td>\n",
       "      <td>Not specified</td>\n",
       "    </tr>\n",
       "    <tr>\n",
       "      <th>77580993</th>\n",
       "      <td>7687</td>\n",
       "      <td>55.278974</td>\n",
       "      <td>2003-08-25 11:09:28.0</td>\n",
       "      <td>Not specified</td>\n",
       "      <td>Not specified</td>\n",
       "      <td>PRIMARY CARE/MEDICINE</td>\n",
       "      <td>NaN</td>\n",
       "      <td>NaN</td>\n",
       "      <td>NaN</td>\n",
       "      <td>NaN</td>\n",
       "      <td>NaN</td>\n",
       "      <td>Not specified</td>\n",
       "    </tr>\n",
       "    <tr>\n",
       "      <th>77580994</th>\n",
       "      <td>7687</td>\n",
       "      <td>55.414713</td>\n",
       "      <td>2003-10-14 01:51:43.0</td>\n",
       "      <td>Not specified</td>\n",
       "      <td>Not specified</td>\n",
       "      <td>PRIMARY CARE/MEDICINE</td>\n",
       "      <td>NaN</td>\n",
       "      <td>NaN</td>\n",
       "      <td>NaN</td>\n",
       "      <td>NaN</td>\n",
       "      <td>NaN</td>\n",
       "      <td>Not specified</td>\n",
       "    </tr>\n",
       "  </tbody>\n",
       "</table>\n",
       "<p>204 rows × 12 columns</p>\n",
       "</div>"
      ],
      "text/plain": [
       "          Internalpatientid  Age at visit       Visit start date  \\\n",
       "55282453               7687     51.339646  1999-09-15 15:22:24.0   \n",
       "55282454               7687     52.048764  2000-05-31 19:45:40.0   \n",
       "55282455               7687     52.139821  2000-07-04 02:30:24.0   \n",
       "55282456               7687     52.349461  2000-09-18 17:28:22.0   \n",
       "55282457               7687     52.349506  2000-09-18 17:51:48.0   \n",
       "...                     ...           ...                    ...   \n",
       "77580990               7687     55.277909  2003-08-25 01:49:02.0   \n",
       "77580991               7687     55.278481  2003-08-25 06:50:21.0   \n",
       "77580992               7687     55.278588  2003-08-25 07:46:30.0   \n",
       "77580993               7687     55.278974  2003-08-25 11:09:28.0   \n",
       "77580994               7687     55.414713  2003-10-14 01:51:43.0   \n",
       "\n",
       "         First listed diagnosis icd10 subcategory  \\\n",
       "55282453                            Not specified   \n",
       "55282454                            Not specified   \n",
       "55282455                            Not specified   \n",
       "55282456                            Not specified   \n",
       "55282457                            Not specified   \n",
       "...                                           ...   \n",
       "77580990                            Not specified   \n",
       "77580991                            Not specified   \n",
       "77580992                            Not specified   \n",
       "77580993                            Not specified   \n",
       "77580994                            Not specified   \n",
       "\n",
       "         Second listed diagnosis icd10 subcategory              Stop code  \\\n",
       "55282453                             Not specified             LABORATORY   \n",
       "55282454                             Not specified    TELEPHONE/ANCILLARY   \n",
       "55282455                             Not specified      CLINICAL PHARMACY   \n",
       "55282456                             Not specified             LABORATORY   \n",
       "55282457                             Not specified  PRIMARY CARE/MEDICINE   \n",
       "...                                            ...                    ...   \n",
       "77580990                             Not specified     NURSING (2ND ONLY)   \n",
       "77580991                             Not specified  PRIMARY CARE/MEDICINE   \n",
       "77580992                             Not specified     NURSING (2ND ONLY)   \n",
       "77580993                             Not specified  PRIMARY CARE/MEDICINE   \n",
       "77580994                             Not specified  PRIMARY CARE/MEDICINE   \n",
       "\n",
       "         Agentorangeflag Combatflag Ionizingradiationflag  \\\n",
       "55282453             NaN        NaN                   NaN   \n",
       "55282454             NaN        NaN                   NaN   \n",
       "55282455             NaN        NaN                   NaN   \n",
       "55282456             NaN        NaN                   NaN   \n",
       "55282457             NaN        NaN                   NaN   \n",
       "...                  ...        ...                   ...   \n",
       "77580990             NaN        NaN                   NaN   \n",
       "77580991             NaN        NaN                   NaN   \n",
       "77580992             NaN        NaN                   NaN   \n",
       "77580993             NaN        NaN                   NaN   \n",
       "77580994             NaN        NaN                   NaN   \n",
       "\n",
       "         Serviceconnectedflag Swasiaconditionsflag          State  \n",
       "55282453                  NaN                  NaN  Not specified  \n",
       "55282454                  Yes                  NaN  Not specified  \n",
       "55282455                  NaN                  NaN  Not specified  \n",
       "55282456                  NaN                  NaN  Not specified  \n",
       "55282457                  Yes                  NaN  Not specified  \n",
       "...                       ...                  ...            ...  \n",
       "77580990                  Yes                  NaN  Not specified  \n",
       "77580991                  Yes                  NaN  Not specified  \n",
       "77580992                  Yes                  NaN  Not specified  \n",
       "77580993                  NaN                  NaN  Not specified  \n",
       "77580994                  NaN                  NaN  Not specified  \n",
       "\n",
       "[204 rows x 12 columns]"
      ]
     },
     "execution_count": 14,
     "metadata": {},
     "output_type": "execute_result"
    }
   ],
   "source": [
    "outpatient_visits[outpatient_visits['Internalpatientid'] == 7687][outpatient_visits['State'] == 'Not specified']"
   ]
  },
  {
   "cell_type": "code",
   "execution_count": 6,
   "metadata": {},
   "outputs": [],
   "source": [
    "internalpatientid  = outpatient_visits['Internalpatientid'].unique()"
   ]
  },
  {
   "attachments": {},
   "cell_type": "markdown",
   "metadata": {},
   "source": [
    "133252 unique patients, in case of processing run out of time, we slice it into groups.\n",
    "133252 = "
   ]
  },
  {
   "cell_type": "code",
   "execution_count": 3,
   "metadata": {},
   "outputs": [],
   "source": [
    "outpaitent_state = outpatient_visits[['Internalpatientid', 'State']]"
   ]
  },
  {
   "cell_type": "code",
   "execution_count": 7,
   "metadata": {},
   "outputs": [],
   "source": [
    "outpaitent_state = outpaitent_state[outpaitent_state['State'] != 'Not specified']"
   ]
  },
  {
   "cell_type": "code",
   "execution_count": 9,
   "metadata": {},
   "outputs": [
    {
     "data": {
      "text/plain": [
       "1532"
      ]
     },
     "execution_count": 9,
     "metadata": {},
     "output_type": "execute_result"
    }
   ],
   "source": [
    "len(states)"
   ]
  },
  {
   "cell_type": "code",
   "execution_count": 14,
   "metadata": {},
   "outputs": [],
   "source": [
    "outpaitent_state = outpaitent_state.groupby('Internalpatientid').agg(lambda x: x.value_counts().index[0]).reset_index()"
   ]
  },
  {
   "cell_type": "code",
   "execution_count": 15,
   "metadata": {},
   "outputs": [],
   "source": [
    "outpaitent_state.to_csv('/home/vivi/FDA_datasets/outpaitent_state.csv')"
   ]
  },
  {
   "cell_type": "code",
   "execution_count": 16,
   "metadata": {},
   "outputs": [
    {
     "data": {
      "text/plain": [
       "133248"
      ]
     },
     "execution_count": 16,
     "metadata": {},
     "output_type": "execute_result"
    }
   ],
   "source": [
    "outpaitent_state['Internalpatientid']"
   ]
  },
  {
   "cell_type": "code",
   "execution_count": 20,
   "metadata": {},
   "outputs": [],
   "source": [
    "demographics_event= pd.read_csv('/home/bhatti/dataset/VCHAMPS/demographics_event_train.csv').iloc[:,1:]"
   ]
  },
  {
   "cell_type": "code",
   "execution_count": 21,
   "metadata": {},
   "outputs": [],
   "source": [
    "df = pd.merge(outpaitent_state, demographics_event, on=['Internalpatientid'], how=\"outer\", indicator=True)\n"
   ]
  },
  {
   "cell_type": "code",
   "execution_count": 23,
   "metadata": {},
   "outputs": [],
   "source": [
    "df = df[df['_merge'] == 'right_only']"
   ]
  },
  {
   "cell_type": "code",
   "execution_count": 24,
   "metadata": {},
   "outputs": [
    {
     "data": {
      "text/html": [
       "<div>\n",
       "<style scoped>\n",
       "    .dataframe tbody tr th:only-of-type {\n",
       "        vertical-align: middle;\n",
       "    }\n",
       "\n",
       "    .dataframe tbody tr th {\n",
       "        vertical-align: top;\n",
       "    }\n",
       "\n",
       "    .dataframe thead th {\n",
       "        text-align: right;\n",
       "    }\n",
       "</style>\n",
       "<table border=\"1\" class=\"dataframe\">\n",
       "  <thead>\n",
       "    <tr style=\"text-align: right;\">\n",
       "      <th></th>\n",
       "      <th>Internalpatientid</th>\n",
       "      <th>State</th>\n",
       "      <th>Age at update</th>\n",
       "      <th>Event date</th>\n",
       "      <th>Marital status</th>\n",
       "      <th>Ruca category</th>\n",
       "      <th>_merge</th>\n",
       "    </tr>\n",
       "  </thead>\n",
       "  <tbody>\n",
       "    <tr>\n",
       "      <th>133248</th>\n",
       "      <td>163118</td>\n",
       "      <td>NaN</td>\n",
       "      <td>90.284786</td>\n",
       "      <td>2009-09-15 02:08:32.0</td>\n",
       "      <td>Widowed</td>\n",
       "      <td>Not specified</td>\n",
       "      <td>right_only</td>\n",
       "    </tr>\n",
       "    <tr>\n",
       "      <th>133249</th>\n",
       "      <td>164910</td>\n",
       "      <td>NaN</td>\n",
       "      <td>88.995834</td>\n",
       "      <td>2008-11-22 23:27:13.0</td>\n",
       "      <td>Widowed</td>\n",
       "      <td>Not specified</td>\n",
       "      <td>right_only</td>\n",
       "    </tr>\n",
       "    <tr>\n",
       "      <th>133250</th>\n",
       "      <td>64609</td>\n",
       "      <td>NaN</td>\n",
       "      <td>53.192577</td>\n",
       "      <td>2015-12-22 21:16:52.0</td>\n",
       "      <td>Divorced</td>\n",
       "      <td>Not specified</td>\n",
       "      <td>right_only</td>\n",
       "    </tr>\n",
       "    <tr>\n",
       "      <th>133251</th>\n",
       "      <td>63768</td>\n",
       "      <td>NaN</td>\n",
       "      <td>61.529351</td>\n",
       "      <td>2010-12-20 23:27:50.0</td>\n",
       "      <td>Married</td>\n",
       "      <td>Not specified</td>\n",
       "      <td>right_only</td>\n",
       "    </tr>\n",
       "  </tbody>\n",
       "</table>\n",
       "</div>"
      ],
      "text/plain": [
       "        Internalpatientid State  Age at update             Event date  \\\n",
       "133248             163118   NaN      90.284786  2009-09-15 02:08:32.0   \n",
       "133249             164910   NaN      88.995834  2008-11-22 23:27:13.0   \n",
       "133250              64609   NaN      53.192577  2015-12-22 21:16:52.0   \n",
       "133251              63768   NaN      61.529351  2010-12-20 23:27:50.0   \n",
       "\n",
       "       Marital status  Ruca category      _merge  \n",
       "133248        Widowed  Not specified  right_only  \n",
       "133249        Widowed  Not specified  right_only  \n",
       "133250       Divorced  Not specified  right_only  \n",
       "133251        Married  Not specified  right_only  "
      ]
     },
     "execution_count": 24,
     "metadata": {},
     "output_type": "execute_result"
    }
   ],
   "source": [
    "df # This 4 patient 163118, 164910, 64609, 63768 has no location info in any table"
   ]
  }
 ],
 "metadata": {
  "kernelspec": {
   "display_name": "Python 3",
   "language": "python",
   "name": "python3"
  },
  "language_info": {
   "codemirror_mode": {
    "name": "ipython",
    "version": 3
   },
   "file_extension": ".py",
   "mimetype": "text/x-python",
   "name": "python",
   "nbconvert_exporter": "python",
   "pygments_lexer": "ipython3",
   "version": "3.10.11"
  },
  "orig_nbformat": 4
 },
 "nbformat": 4,
 "nbformat_minor": 2
}
