{
 "cells": [
  {
   "cell_type": "code",
   "execution_count": 5,
   "metadata": {},
   "outputs": [],
   "source": [
    "import pandas as pd\n",
    "import os\n",
    "import numpy as np\n",
    "from tqdm.auto import tqdm\n",
    "import matplotlib.pyplot as plt\n",
    "import seaborn as sns\n",
    "import math\n",
    "import pickle\n"
   ]
  },
  {
   "cell_type": "code",
   "execution_count": 2,
   "metadata": {},
   "outputs": [
    {
     "data": {
      "text/plain": [
       "Index(['Internalpatientid', 'num_stays', 'stay_length', 'num_unique_units',\n",
       "       'num_transfers', 'num_cvd_admission', 'CVD',\n",
       "       'unique_admitting_specialty', 'unique_discharging_specialty',\n",
       "       'DOMICILIARY', 'MEDICINE', 'NHCU', 'NON-COUNT', 'OTHERS', 'PSYCHIATRY',\n",
       "       'SURGERY', 'Age 20-40', 'Age 40-60', 'Age 60-80', 'Age 80-100',\n",
       "       'Age 100-120', 'age_mean', 'age_std', 'age_min', 'age_max', 'stay_min',\n",
       "       'stay_max', 'stay_mean', 'stay_std', 'freq', 'Medical', 'Mental',\n",
       "       'Others_Specialty', 'Rehab', 'Gerontology', 'CVD_readmission',\n",
       "       'readmission within 300 days', 'total_procedure', 'num_surgery_pro',\n",
       "       'Ethnicity', 'Gender', 'Races', 'Ethnicity_0', 'Ethnicity_1',\n",
       "       'Ethnicity_2', 'Races_0', 'Races_1', 'Races_2', 'Races_3',\n",
       "       'num_immunization', 'Num med per admission mean',\n",
       "       'Num med per admission min', 'Num med per admission max',\n",
       "       'Total medications', 'mean age at specailty', 'specialty count',\n",
       "       'period mean', 'period std', 'specialty medical count',\n",
       "       'specialty support count', 'Ruca category encoded',\n",
       "       'Age 20-40 hypotension', 'Age 40-60 hypotension',\n",
       "       'Age 60-80 hypotension', 'Age 80-100 hypotension',\n",
       "       'Age 100-120 hypotension', 'Age 20-40 healthy', 'Age 40-60 healthy',\n",
       "       'Age 60-80 healthy', 'Age 80-100 healthy', 'Age 100-120 healthy',\n",
       "       'Age 20-40 hypertension', 'Age 40-60 hypertension',\n",
       "       'Age 60-80 hypertension', 'Age 80-100 hypertension',\n",
       "       'Age 100-120 hypertension', 'lab_count', 'lab_freq', 'lab_age_mean',\n",
       "       'lab_age_std', 'Height', 'Weight', 'Pulse oximetry min',\n",
       "       'Pulse oximetry max', 'Pulse oximetry mean', 'Pulse oximetry std'],\n",
       "      dtype='object')"
      ]
     },
     "execution_count": 2,
     "metadata": {},
     "output_type": "execute_result"
    }
   ],
   "source": [
    "# All cause admission left join:\n",
    "readmission = pd.read_csv(\"/home/daisy/FDA_Dataset/inpatient_all_final_1.csv\", index_col=0)\n",
    "readmission.columns"
   ]
  },
  {
   "cell_type": "code",
   "execution_count": 3,
   "metadata": {},
   "outputs": [
    {
     "data": {
      "text/plain": [
       "Index(['Internalpatientid', 'num_visits', 'CVD', 'Age 00-20', 'Age 20-40',\n",
       "       'Age 40-60', 'Age 60-80', 'Age 80-100', 'Age 100-120', 'age_mean',\n",
       "       'age_std', 'freq', 'died_within_125days', 'total_procedure',\n",
       "       'num_surgery_pro', 'Ethnicity', 'Gender', 'Races', 'Ethnicity_0',\n",
       "       'Ethnicity_1', 'Ethnicity_2', 'Races_0', 'Races_1', 'Races_2',\n",
       "       'Races_3', 'num_immunization', 'Num med per admission mean',\n",
       "       'Num med per admission min', 'Num med per admission max',\n",
       "       'Total medications', 'mean age at specailty', 'specialty count',\n",
       "       'period mean', 'period std', 'specialty medical count',\n",
       "       'specialty support count', 'Ruca category encoded',\n",
       "       'Age 20-40 hypotension', 'Age 40-60 hypotension',\n",
       "       'Age 60-80 hypotension', 'Age 80-100 hypotension',\n",
       "       'Age 100-120 hypotension', 'Age 20-40 healthy', 'Age 40-60 healthy',\n",
       "       'Age 60-80 healthy', 'Age 80-100 healthy', 'Age 100-120 healthy',\n",
       "       'Age 20-40 hypertension', 'Age 40-60 hypertension',\n",
       "       'Age 60-80 hypertension', 'Age 80-100 hypertension',\n",
       "       'Age 100-120 hypertension', 'lab_count', 'lab_freq', 'lab_age_mean',\n",
       "       'lab_age_std', 'Height', 'Weight', 'Pulse oximetry min',\n",
       "       'Pulse oximetry max', 'Pulse oximetry mean', 'Pulse oximetry std'],\n",
       "      dtype='object')"
      ]
     },
     "execution_count": 3,
     "metadata": {},
     "output_type": "execute_result"
    }
   ],
   "source": [
    "mortality = pd.read_csv(\"/home/daisy/FDA_Dataset/final_allcause_mortality_train_1.csv\", index_col=0)\n",
    "mortality.columns"
   ]
  },
  {
   "cell_type": "code",
   "execution_count": 4,
   "metadata": {},
   "outputs": [
    {
     "data": {
      "text/plain": [
       "Index(['Internalpatientid', 'num_stays', 'stay_length', 'num_cvd_admission',\n",
       "       'CVD', 'Age 20-40', 'Age 40-60', 'Age 60-80', 'Age 80-100',\n",
       "       'Age 100-120', 'age_mean', 'age_std', 'age_min', 'age_max', 'stay_min',\n",
       "       'stay_max', 'stay_mean', 'stay_std', 'freq', 'died_by_cvd',\n",
       "       'num_unique_units', 'num_transfers', 'unique_admitting_specialty',\n",
       "       'unique_discharging_specialty', 'DOMICILIARY', 'MEDICINE', 'NHCU',\n",
       "       'NON-COUNT', 'OTHERS', 'PSYCHIATRY', 'SURGERY', 'Medical', 'Mental',\n",
       "       'Others_Specialty', 'Rehab', 'Gerontology', 'total_procedure',\n",
       "       'num_surgery_pro', 'Ethnicity', 'Gender', 'Races', 'Ethnicity_0',\n",
       "       'Ethnicity_1', 'Ethnicity_2', 'Races_0', 'Races_1', 'Races_2',\n",
       "       'Races_3', 'num_immunization', 'Num med per admission mean',\n",
       "       'Num med per admission min', 'Num med per admission max',\n",
       "       'Total medications', 'mean age at specailty', 'specialty count',\n",
       "       'period mean', 'period std', 'specialty medical count',\n",
       "       'specialty support count', 'Ruca category encoded',\n",
       "       'Age 20-40 hypotension', 'Age 40-60 hypotension',\n",
       "       'Age 60-80 hypotension', 'Age 80-100 hypotension',\n",
       "       'Age 100-120 hypotension', 'Age 20-40 healthy', 'Age 40-60 healthy',\n",
       "       'Age 60-80 healthy', 'Age 80-100 healthy', 'Age 100-120 healthy',\n",
       "       'Age 20-40 hypertension', 'Age 40-60 hypertension',\n",
       "       'Age 60-80 hypertension', 'Age 80-100 hypertension',\n",
       "       'Age 100-120 hypertension', 'lab_count', 'lab_freq', 'lab_age_mean',\n",
       "       'lab_age_std', 'Height', 'Weight', 'Pulse oximetry min',\n",
       "       'Pulse oximetry max', 'Pulse oximetry mean', 'Pulse oximetry std'],\n",
       "      dtype='object')"
      ]
     },
     "execution_count": 4,
     "metadata": {},
     "output_type": "execute_result"
    }
   ],
   "source": [
    "cvd_mortality = pd.read_csv(\"/home/daisy/FDA_Dataset/final_cvd_mortality_train_1.csv\", index_col=0)\n",
    "cvd_mortality.columns"
   ]
  },
  {
   "cell_type": "code",
   "execution_count": 13,
   "metadata": {},
   "outputs": [],
   "source": [
    "test = pd.read_csv(\"/home/vivi/FDA/reports/hard_ensembled_test_statistics_metrics.csv\", index_col=0)"
   ]
  },
  {
   "cell_type": "code",
   "execution_count": 14,
   "metadata": {},
   "outputs": [
    {
     "data": {
      "text/html": [
       "<div>\n",
       "<style scoped>\n",
       "    .dataframe tbody tr th:only-of-type {\n",
       "        vertical-align: middle;\n",
       "    }\n",
       "\n",
       "    .dataframe tbody tr th {\n",
       "        vertical-align: top;\n",
       "    }\n",
       "\n",
       "    .dataframe thead th {\n",
       "        text-align: right;\n",
       "    }\n",
       "</style>\n",
       "<table border=\"1\" class=\"dataframe\">\n",
       "  <thead>\n",
       "    <tr style=\"text-align: right;\">\n",
       "      <th></th>\n",
       "      <th>statistics_metrics</th>\n",
       "      <th>readmission</th>\n",
       "    </tr>\n",
       "  </thead>\n",
       "  <tbody>\n",
       "    <tr>\n",
       "      <th>0</th>\n",
       "      <td>Area under the precision recall curve (AUPRC)</td>\n",
       "      <td>0.793865</td>\n",
       "    </tr>\n",
       "    <tr>\n",
       "      <th>1</th>\n",
       "      <td>Area under the Receiver Operating Characterist...</td>\n",
       "      <td>0.715751</td>\n",
       "    </tr>\n",
       "    <tr>\n",
       "      <th>2</th>\n",
       "      <td>Overall Accuracy</td>\n",
       "      <td>0.715435</td>\n",
       "    </tr>\n",
       "    <tr>\n",
       "      <th>3</th>\n",
       "      <td>Sum of Sensitivity and Specificity</td>\n",
       "      <td>1.431502</td>\n",
       "    </tr>\n",
       "    <tr>\n",
       "      <th>4</th>\n",
       "      <td>Sensitivity</td>\n",
       "      <td>0.704086</td>\n",
       "    </tr>\n",
       "    <tr>\n",
       "      <th>5</th>\n",
       "      <td>Specificity</td>\n",
       "      <td>0.727415</td>\n",
       "    </tr>\n",
       "    <tr>\n",
       "      <th>6</th>\n",
       "      <td>Precision</td>\n",
       "      <td>0.731678</td>\n",
       "    </tr>\n",
       "    <tr>\n",
       "      <th>7</th>\n",
       "      <td>Negative Predictive Value</td>\n",
       "      <td>0.699565</td>\n",
       "    </tr>\n",
       "    <tr>\n",
       "      <th>8</th>\n",
       "      <td>Positive Likelihood Ratio</td>\n",
       "      <td>2.583001</td>\n",
       "    </tr>\n",
       "    <tr>\n",
       "      <th>9</th>\n",
       "      <td>Negative Likelihood Ratio</td>\n",
       "      <td>0.406802</td>\n",
       "    </tr>\n",
       "    <tr>\n",
       "      <th>10</th>\n",
       "      <td>F1 score</td>\n",
       "      <td>0.717617</td>\n",
       "    </tr>\n",
       "  </tbody>\n",
       "</table>\n",
       "</div>"
      ],
      "text/plain": [
       "                                   statistics_metrics  readmission\n",
       "0       Area under the precision recall curve (AUPRC)     0.793865\n",
       "1   Area under the Receiver Operating Characterist...     0.715751\n",
       "2                                    Overall Accuracy     0.715435\n",
       "3                  Sum of Sensitivity and Specificity     1.431502\n",
       "4                                         Sensitivity     0.704086\n",
       "5                                         Specificity     0.727415\n",
       "6                                           Precision     0.731678\n",
       "7                           Negative Predictive Value     0.699565\n",
       "8                           Positive Likelihood Ratio     2.583001\n",
       "9                           Negative Likelihood Ratio     0.406802\n",
       "10                                           F1 score     0.717617"
      ]
     },
     "execution_count": 14,
     "metadata": {},
     "output_type": "execute_result"
    }
   ],
   "source": [
    "test"
   ]
  }
 ],
 "metadata": {
  "kernelspec": {
   "display_name": "Python 3",
   "language": "python",
   "name": "python3"
  },
  "language_info": {
   "codemirror_mode": {
    "name": "ipython",
    "version": 3
   },
   "file_extension": ".py",
   "mimetype": "text/x-python",
   "name": "python",
   "nbconvert_exporter": "python",
   "pygments_lexer": "ipython3",
   "version": "3.10.11"
  },
  "orig_nbformat": 4
 },
 "nbformat": 4,
 "nbformat_minor": 2
}
