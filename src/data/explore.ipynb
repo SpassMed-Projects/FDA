{
 "cells": [
  {
   "cell_type": "code",
   "execution_count": 5,
   "metadata": {},
   "outputs": [],
   "source": [
    "import pandas as pd\n",
    "import os\n",
    "import numpy as np\n",
    "from tqdm.auto import tqdm\n",
    "import matplotlib.pyplot as plt\n",
    "import seaborn as sns\n",
    "import math\n",
    "import pickle\n"
   ]
  },
  {
   "cell_type": "code",
   "execution_count": 2,
   "metadata": {},
   "outputs": [
    {
     "data": {
      "text/plain": [
       "Index(['Internalpatientid', 'num_stays', 'stay_length', 'num_unique_units',\n",
       "       'num_transfers', 'num_cvd_admission', 'CVD',\n",
       "       'unique_admitting_specialty', 'unique_discharging_specialty',\n",
       "       'DOMICILIARY', 'MEDICINE', 'NHCU', 'NON-COUNT', 'OTHERS', 'PSYCHIATRY',\n",
       "       'SURGERY', 'Age 20-40', 'Age 40-60', 'Age 60-80', 'Age 80-100',\n",
       "       'Age 100-120', 'age_mean', 'age_std', 'age_min', 'age_max', 'stay_min',\n",
       "       'stay_max', 'stay_mean', 'stay_std', 'freq', 'Medical', 'Mental',\n",
       "       'Others_Specialty', 'Rehab', 'Gerontology', 'CVD_readmission',\n",
       "       'readmission within 300 days', 'total_procedure', 'num_surgery_pro',\n",
       "       'Ethnicity', 'Gender', 'Races', 'Ethnicity_0', 'Ethnicity_1',\n",
       "       'Ethnicity_2', 'Races_0', 'Races_1', 'Races_2', 'Races_3',\n",
       "       'num_immunization', 'Num med per admission mean',\n",
       "       'Num med per admission min', 'Num med per admission max',\n",
       "       'Total medications', 'mean age at specailty', 'specialty count',\n",
       "       'period mean', 'period std', 'specialty medical count',\n",
       "       'specialty support count', 'Ruca category encoded',\n",
       "       'Age 20-40 hypotension', 'Age 40-60 hypotension',\n",
       "       'Age 60-80 hypotension', 'Age 80-100 hypotension',\n",
       "       'Age 100-120 hypotension', 'Age 20-40 healthy', 'Age 40-60 healthy',\n",
       "       'Age 60-80 healthy', 'Age 80-100 healthy', 'Age 100-120 healthy',\n",
       "       'Age 20-40 hypertension', 'Age 40-60 hypertension',\n",
       "       'Age 60-80 hypertension', 'Age 80-100 hypertension',\n",
       "       'Age 100-120 hypertension', 'lab_count', 'lab_freq', 'lab_age_mean',\n",
       "       'lab_age_std', 'Height', 'Weight', 'Pulse oximetry min',\n",
       "       'Pulse oximetry max', 'Pulse oximetry mean', 'Pulse oximetry std'],\n",
       "      dtype='object')"
      ]
     },
     "execution_count": 2,
     "metadata": {},
     "output_type": "execute_result"
    }
   ],
   "source": [
    "# All cause admission left join:\n",
    "readmission = pd.read_csv(\"/home/daisy/FDA_Dataset/inpatient_all_final_1.csv\", index_col=0)\n",
    "readmission.columns"
   ]
  },
  {
   "cell_type": "code",
   "execution_count": 3,
   "metadata": {},
   "outputs": [
    {
     "data": {
      "text/plain": [
       "Index(['Internalpatientid', 'num_visits', 'CVD', 'Age 00-20', 'Age 20-40',\n",
       "       'Age 40-60', 'Age 60-80', 'Age 80-100', 'Age 100-120', 'age_mean',\n",
       "       'age_std', 'freq', 'died_within_125days', 'total_procedure',\n",
       "       'num_surgery_pro', 'Ethnicity', 'Gender', 'Races', 'Ethnicity_0',\n",
       "       'Ethnicity_1', 'Ethnicity_2', 'Races_0', 'Races_1', 'Races_2',\n",
       "       'Races_3', 'num_immunization', 'Num med per admission mean',\n",
       "       'Num med per admission min', 'Num med per admission max',\n",
       "       'Total medications', 'mean age at specailty', 'specialty count',\n",
       "       'period mean', 'period std', 'specialty medical count',\n",
       "       'specialty support count', 'Ruca category encoded',\n",
       "       'Age 20-40 hypotension', 'Age 40-60 hypotension',\n",
       "       'Age 60-80 hypotension', 'Age 80-100 hypotension',\n",
       "       'Age 100-120 hypotension', 'Age 20-40 healthy', 'Age 40-60 healthy',\n",
       "       'Age 60-80 healthy', 'Age 80-100 healthy', 'Age 100-120 healthy',\n",
       "       'Age 20-40 hypertension', 'Age 40-60 hypertension',\n",
       "       'Age 60-80 hypertension', 'Age 80-100 hypertension',\n",
       "       'Age 100-120 hypertension', 'lab_count', 'lab_freq', 'lab_age_mean',\n",
       "       'lab_age_std', 'Height', 'Weight', 'Pulse oximetry min',\n",
       "       'Pulse oximetry max', 'Pulse oximetry mean', 'Pulse oximetry std'],\n",
       "      dtype='object')"
      ]
     },
     "execution_count": 3,
     "metadata": {},
     "output_type": "execute_result"
    }
   ],
   "source": [
    "mortality = pd.read_csv(\"/home/daisy/FDA_Dataset/final_allcause_mortality_train_1.csv\", index_col=0)\n",
    "mortality.columns"
   ]
  },
  {
   "cell_type": "code",
   "execution_count": 4,
   "metadata": {},
   "outputs": [
    {
     "data": {
      "text/plain": [
       "Index(['Internalpatientid', 'num_stays', 'stay_length', 'num_cvd_admission',\n",
       "       'CVD', 'Age 20-40', 'Age 40-60', 'Age 60-80', 'Age 80-100',\n",
       "       'Age 100-120', 'age_mean', 'age_std', 'age_min', 'age_max', 'stay_min',\n",
       "       'stay_max', 'stay_mean', 'stay_std', 'freq', 'died_by_cvd',\n",
       "       'num_unique_units', 'num_transfers', 'unique_admitting_specialty',\n",
       "       'unique_discharging_specialty', 'DOMICILIARY', 'MEDICINE', 'NHCU',\n",
       "       'NON-COUNT', 'OTHERS', 'PSYCHIATRY', 'SURGERY', 'Medical', 'Mental',\n",
       "       'Others_Specialty', 'Rehab', 'Gerontology', 'total_procedure',\n",
       "       'num_surgery_pro', 'Ethnicity', 'Gender', 'Races', 'Ethnicity_0',\n",
       "       'Ethnicity_1', 'Ethnicity_2', 'Races_0', 'Races_1', 'Races_2',\n",
       "       'Races_3', 'num_immunization', 'Num med per admission mean',\n",
       "       'Num med per admission min', 'Num med per admission max',\n",
       "       'Total medications', 'mean age at specailty', 'specialty count',\n",
       "       'period mean', 'period std', 'specialty medical count',\n",
       "       'specialty support count', 'Ruca category encoded',\n",
       "       'Age 20-40 hypotension', 'Age 40-60 hypotension',\n",
       "       'Age 60-80 hypotension', 'Age 80-100 hypotension',\n",
       "       'Age 100-120 hypotension', 'Age 20-40 healthy', 'Age 40-60 healthy',\n",
       "       'Age 60-80 healthy', 'Age 80-100 healthy', 'Age 100-120 healthy',\n",
       "       'Age 20-40 hypertension', 'Age 40-60 hypertension',\n",
       "       'Age 60-80 hypertension', 'Age 80-100 hypertension',\n",
       "       'Age 100-120 hypertension', 'lab_count', 'lab_freq', 'lab_age_mean',\n",
       "       'lab_age_std', 'Height', 'Weight', 'Pulse oximetry min',\n",
       "       'Pulse oximetry max', 'Pulse oximetry mean', 'Pulse oximetry std'],\n",
       "      dtype='object')"
      ]
     },
     "execution_count": 4,
     "metadata": {},
     "output_type": "execute_result"
    }
   ],
   "source": [
    "cvd_mortality = pd.read_csv(\"/home/daisy/FDA_Dataset/final_cvd_mortality_train_1.csv\", index_col=0)\n",
    "cvd_mortality.columns"
   ]
  },
  {
   "cell_type": "code",
   "execution_count": 37,
   "metadata": {},
   "outputs": [],
   "source": [
    "test = pd.read_csv(\"/home/vivi/FDA/reports/hard_ensembled_test_statistics_metrics.csv\", index_col=0)"
   ]
  },
  {
   "cell_type": "code",
   "execution_count": 38,
   "metadata": {},
   "outputs": [
    {
     "data": {
      "text/html": [
       "<div>\n",
       "<style scoped>\n",
       "    .dataframe tbody tr th:only-of-type {\n",
       "        vertical-align: middle;\n",
       "    }\n",
       "\n",
       "    .dataframe tbody tr th {\n",
       "        vertical-align: top;\n",
       "    }\n",
       "\n",
       "    .dataframe thead th {\n",
       "        text-align: right;\n",
       "    }\n",
       "</style>\n",
       "<table border=\"1\" class=\"dataframe\">\n",
       "  <thead>\n",
       "    <tr style=\"text-align: right;\">\n",
       "      <th></th>\n",
       "      <th>statistics_metrics</th>\n",
       "      <th>mortality</th>\n",
       "      <th>mortality_cvd</th>\n",
       "      <th>readmission</th>\n",
       "      <th>readmission_cvd</th>\n",
       "    </tr>\n",
       "  </thead>\n",
       "  <tbody>\n",
       "    <tr>\n",
       "      <th>0</th>\n",
       "      <td>Area under the precision recall curve (AUPRC)</td>\n",
       "      <td>0.843779</td>\n",
       "      <td>0.472219</td>\n",
       "      <td>0.787808</td>\n",
       "      <td>0.680210</td>\n",
       "    </tr>\n",
       "    <tr>\n",
       "      <th>1</th>\n",
       "      <td>Area under the Receiver Operating Characterist...</td>\n",
       "      <td>0.676400</td>\n",
       "      <td>0.731045</td>\n",
       "      <td>0.708173</td>\n",
       "      <td>0.779325</td>\n",
       "    </tr>\n",
       "    <tr>\n",
       "      <th>2</th>\n",
       "      <td>Overall Accuracy</td>\n",
       "      <td>0.728229</td>\n",
       "      <td>0.663312</td>\n",
       "      <td>0.707302</td>\n",
       "      <td>0.678635</td>\n",
       "    </tr>\n",
       "    <tr>\n",
       "      <th>3</th>\n",
       "      <td>Sum of Sensitivity and Specificity</td>\n",
       "      <td>1.352800</td>\n",
       "      <td>1.462090</td>\n",
       "      <td>1.416347</td>\n",
       "      <td>1.558650</td>\n",
       "    </tr>\n",
       "    <tr>\n",
       "      <th>4</th>\n",
       "      <td>Sensitivity</td>\n",
       "      <td>0.896496</td>\n",
       "      <td>0.807653</td>\n",
       "      <td>0.676000</td>\n",
       "      <td>0.955176</td>\n",
       "    </tr>\n",
       "    <tr>\n",
       "      <th>5</th>\n",
       "      <td>Specificity</td>\n",
       "      <td>0.456304</td>\n",
       "      <td>0.654438</td>\n",
       "      <td>0.740347</td>\n",
       "      <td>0.603474</td>\n",
       "    </tr>\n",
       "    <tr>\n",
       "      <th>6</th>\n",
       "      <td>Precision</td>\n",
       "      <td>0.727123</td>\n",
       "      <td>0.125644</td>\n",
       "      <td>0.733226</td>\n",
       "      <td>0.395664</td>\n",
       "    </tr>\n",
       "    <tr>\n",
       "      <th>7</th>\n",
       "      <td>Negative Predictive Value</td>\n",
       "      <td>0.731761</td>\n",
       "      <td>0.982250</td>\n",
       "      <td>0.683990</td>\n",
       "      <td>0.980212</td>\n",
       "    </tr>\n",
       "    <tr>\n",
       "      <th>8</th>\n",
       "      <td>Positive Likelihood Ratio</td>\n",
       "      <td>1.648891</td>\n",
       "      <td>2.337214</td>\n",
       "      <td>2.603476</td>\n",
       "      <td>2.408862</td>\n",
       "    </tr>\n",
       "    <tr>\n",
       "      <th>9</th>\n",
       "      <td>Negative Likelihood Ratio</td>\n",
       "      <td>0.226831</td>\n",
       "      <td>0.293912</td>\n",
       "      <td>0.437633</td>\n",
       "      <td>0.074276</td>\n",
       "    </tr>\n",
       "    <tr>\n",
       "      <th>10</th>\n",
       "      <td>F1 score</td>\n",
       "      <td>0.802975</td>\n",
       "      <td>0.217458</td>\n",
       "      <td>0.703451</td>\n",
       "      <td>0.559546</td>\n",
       "    </tr>\n",
       "  </tbody>\n",
       "</table>\n",
       "</div>"
      ],
      "text/plain": [
       "                                   statistics_metrics  mortality  \\\n",
       "0       Area under the precision recall curve (AUPRC)   0.843779   \n",
       "1   Area under the Receiver Operating Characterist...   0.676400   \n",
       "2                                    Overall Accuracy   0.728229   \n",
       "3                  Sum of Sensitivity and Specificity   1.352800   \n",
       "4                                         Sensitivity   0.896496   \n",
       "5                                         Specificity   0.456304   \n",
       "6                                           Precision   0.727123   \n",
       "7                           Negative Predictive Value   0.731761   \n",
       "8                           Positive Likelihood Ratio   1.648891   \n",
       "9                           Negative Likelihood Ratio   0.226831   \n",
       "10                                           F1 score   0.802975   \n",
       "\n",
       "    mortality_cvd  readmission  readmission_cvd  \n",
       "0        0.472219     0.787808         0.680210  \n",
       "1        0.731045     0.708173         0.779325  \n",
       "2        0.663312     0.707302         0.678635  \n",
       "3        1.462090     1.416347         1.558650  \n",
       "4        0.807653     0.676000         0.955176  \n",
       "5        0.654438     0.740347         0.603474  \n",
       "6        0.125644     0.733226         0.395664  \n",
       "7        0.982250     0.683990         0.980212  \n",
       "8        2.337214     2.603476         2.408862  \n",
       "9        0.293912     0.437633         0.074276  \n",
       "10       0.217458     0.703451         0.559546  "
      ]
     },
     "execution_count": 38,
     "metadata": {},
     "output_type": "execute_result"
    }
   ],
   "source": [
    "test"
   ]
  },
  {
   "cell_type": "code",
   "execution_count": 22,
   "metadata": {},
   "outputs": [],
   "source": [
    "model_name = f\"/home/vivi/FDA/models/RandomForest_mortality_cvd_2.sav\"\n",
    "clf = pickle.load(open(model_name,'rb'))"
   ]
  },
  {
   "cell_type": "code",
   "execution_count": 23,
   "metadata": {},
   "outputs": [
    {
     "data": {
      "text/plain": [
       "{'bootstrap': True,\n",
       " 'ccp_alpha': 0.0,\n",
       " 'class_weight': None,\n",
       " 'criterion': 'entropy',\n",
       " 'max_depth': 12,\n",
       " 'max_features': 'sqrt',\n",
       " 'max_leaf_nodes': None,\n",
       " 'max_samples': None,\n",
       " 'min_impurity_decrease': 0.0,\n",
       " 'min_samples_leaf': 4,\n",
       " 'min_samples_split': 5,\n",
       " 'min_weight_fraction_leaf': 0.0,\n",
       " 'n_estimators': 100,\n",
       " 'n_jobs': None,\n",
       " 'oob_score': False,\n",
       " 'random_state': None,\n",
       " 'verbose': 0,\n",
       " 'warm_start': False}"
      ]
     },
     "execution_count": 23,
     "metadata": {},
     "output_type": "execute_result"
    }
   ],
   "source": [
    "clf.get_params()"
   ]
  },
  {
   "cell_type": "code",
   "execution_count": 36,
   "metadata": {},
   "outputs": [
    {
     "data": {
      "text/plain": [
       "{'ccp_alpha': 0.0,\n",
       " 'class_weight': None,\n",
       " 'criterion': 'entropy',\n",
       " 'max_depth': 8,\n",
       " 'max_features': None,\n",
       " 'max_leaf_nodes': None,\n",
       " 'min_impurity_decrease': 0.0,\n",
       " 'min_samples_leaf': 3,\n",
       " 'min_samples_split': 20,\n",
       " 'min_weight_fraction_leaf': 0.0,\n",
       " 'random_state': None,\n",
       " 'splitter': 'best'}"
      ]
     },
     "execution_count": 36,
     "metadata": {},
     "output_type": "execute_result"
    }
   ],
   "source": [
    "\n",
    "    model_name = f\"/home/vivi/FDA/models/DecisionTree_mortality_2.sav\"\n",
    "    clf = pickle.load(open(model_name,'rb'))\n",
    "clf.get_params()"
   ]
  },
  {
   "cell_type": "code",
   "execution_count": 25,
   "metadata": {},
   "outputs": [
    {
     "data": {
      "text/plain": [
       "{'covariance_estimator': None,\n",
       " 'n_components': None,\n",
       " 'priors': None,\n",
       " 'shrinkage': None,\n",
       " 'solver': 'svd',\n",
       " 'store_covariance': False,\n",
       " 'tol': 0.0001}"
      ]
     },
     "execution_count": 25,
     "metadata": {},
     "output_type": "execute_result"
    }
   ],
   "source": [
    "model_name = f\"/home/vivi/FDA/models/LinearDiscriminant_mortality_cvd_2.sav\"\n",
    "clf = pickle.load(open(model_name,'rb'))\n",
    "clf.get_params()"
   ]
  },
  {
   "cell_type": "code",
   "execution_count": 27,
   "metadata": {},
   "outputs": [
    {
     "data": {
      "text/plain": [
       "{'objective': 'binary:logistic',\n",
       " 'use_label_encoder': None,\n",
       " 'base_score': None,\n",
       " 'booster': None,\n",
       " 'callbacks': None,\n",
       " 'colsample_bylevel': None,\n",
       " 'colsample_bynode': None,\n",
       " 'colsample_bytree': 0.8,\n",
       " 'early_stopping_rounds': None,\n",
       " 'enable_categorical': False,\n",
       " 'eval_metric': None,\n",
       " 'feature_types': None,\n",
       " 'gamma': None,\n",
       " 'gpu_id': None,\n",
       " 'grow_policy': None,\n",
       " 'importance_type': None,\n",
       " 'interaction_constraints': None,\n",
       " 'learning_rate': 0.1,\n",
       " 'max_bin': None,\n",
       " 'max_cat_threshold': None,\n",
       " 'max_cat_to_onehot': None,\n",
       " 'max_delta_step': None,\n",
       " 'max_depth': 7,\n",
       " 'max_leaves': None,\n",
       " 'min_child_weight': 1,\n",
       " 'missing': nan,\n",
       " 'monotone_constraints': None,\n",
       " 'n_estimators': 100,\n",
       " 'n_jobs': None,\n",
       " 'num_parallel_tree': None,\n",
       " 'predictor': None,\n",
       " 'random_state': None,\n",
       " 'reg_alpha': None,\n",
       " 'reg_lambda': None,\n",
       " 'sampling_method': None,\n",
       " 'scale_pos_weight': None,\n",
       " 'subsample': 0.9,\n",
       " 'tree_method': None,\n",
       " 'validate_parameters': None,\n",
       " 'verbosity': None}"
      ]
     },
     "execution_count": 27,
     "metadata": {},
     "output_type": "execute_result"
    }
   ],
   "source": [
    "model_name = f\"/home/vivi/FDA/models/XGBoost_mortality_2.sav\"\n",
    "clf = pickle.load(open(model_name,'rb'))\n",
    "clf.get_params()"
   ]
  },
  {
   "cell_type": "code",
   "execution_count": 32,
   "metadata": {},
   "outputs": [
    {
     "data": {
      "text/plain": [
       "{'boosting_type': 'gbdt',\n",
       " 'class_weight': None,\n",
       " 'colsample_bytree': 0.7,\n",
       " 'importance_type': 'split',\n",
       " 'learning_rate': 0.1,\n",
       " 'max_depth': 7,\n",
       " 'min_child_samples': 10,\n",
       " 'min_child_weight': 0.001,\n",
       " 'min_split_gain': 0.0,\n",
       " 'n_estimators': 100,\n",
       " 'n_jobs': -1,\n",
       " 'num_leaves': 31,\n",
       " 'objective': None,\n",
       " 'random_state': None,\n",
       " 'reg_alpha': 0.0,\n",
       " 'reg_lambda': 0.0,\n",
       " 'silent': 'warn',\n",
       " 'subsample': 0.7,\n",
       " 'subsample_for_bin': 200000,\n",
       " 'subsample_freq': 0}"
      ]
     },
     "execution_count": 32,
     "metadata": {},
     "output_type": "execute_result"
    }
   ],
   "source": [
    "model_name = f\"/home/vivi/FDA/models/LGBM_mortality_2.sav\"\n",
    "clf = pickle.load(open(model_name,'rb'))\n",
    "clf.get_params()\n"
   ]
  },
  {
   "cell_type": "code",
   "execution_count": 33,
   "metadata": {},
   "outputs": [
    {
     "data": {
      "text/plain": [
       "{'algorithm': 'SAMME.R',\n",
       " 'base_estimator__ccp_alpha': 0.0,\n",
       " 'base_estimator__class_weight': None,\n",
       " 'base_estimator__criterion': 'gini',\n",
       " 'base_estimator__max_depth': 5,\n",
       " 'base_estimator__max_features': None,\n",
       " 'base_estimator__max_leaf_nodes': None,\n",
       " 'base_estimator__min_impurity_decrease': 0.0,\n",
       " 'base_estimator__min_samples_leaf': 10,\n",
       " 'base_estimator__min_samples_split': 2,\n",
       " 'base_estimator__min_weight_fraction_leaf': 0.0,\n",
       " 'base_estimator__random_state': None,\n",
       " 'base_estimator__splitter': 'best',\n",
       " 'base_estimator': DecisionTreeClassifier(max_depth=5, min_samples_leaf=10),\n",
       " 'estimator': None,\n",
       " 'learning_rate': 0.1,\n",
       " 'n_estimators': 100,\n",
       " 'random_state': None}"
      ]
     },
     "execution_count": 33,
     "metadata": {},
     "output_type": "execute_result"
    }
   ],
   "source": [
    "model_name = f\"/home/vivi/FDA/models/AdaBoost_mortality_2.sav\"\n",
    "clf = pickle.load(open(model_name,'rb'))\n",
    "clf.get_params()"
   ]
  }
 ],
 "metadata": {
  "kernelspec": {
   "display_name": "Python 3",
   "language": "python",
   "name": "python3"
  },
  "language_info": {
   "codemirror_mode": {
    "name": "ipython",
    "version": 3
   },
   "file_extension": ".py",
   "mimetype": "text/x-python",
   "name": "python",
   "nbconvert_exporter": "python",
   "pygments_lexer": "ipython3",
   "version": "3.10.11"
  },
  "orig_nbformat": 4
 },
 "nbformat": 4,
 "nbformat_minor": 2
}
