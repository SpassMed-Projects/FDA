{
 "cells": [
  {
   "cell_type": "code",
   "execution_count": 2,
   "metadata": {},
   "outputs": [],
   "source": [
    "import pandas as pd\n",
    "\n",
    "\n",
    "import numpy as np\n",
    "import pandas as pd\n",
    "\n",
    "import seaborn as sns\n",
    "from importlib import reload\n",
    "import matplotlib.pyplot as plt\n",
    "import preprocess_data \n",
    "\n",
    "reload(preprocess_data)\n",
    "\n",
    "%matplotlib inline"
   ]
  },
  {
   "cell_type": "code",
   "execution_count": 3,
   "metadata": {},
   "outputs": [],
   "source": [
    "ed_visits_train = pd.read_csv('/home/bhatti/dataset/VCHAMPS/ed_visits_train.csv').iloc[:,1:]"
   ]
  },
  {
   "cell_type": "code",
   "execution_count": 4,
   "metadata": {},
   "outputs": [],
   "source": [
    "outpatient_visits_train = pd.read_csv('/home/vivi/FDA_datasets/outpatient_visits_preprocessed.csv').iloc[:,1:]"
   ]
  },
  {
   "cell_type": "code",
   "execution_count": 7,
   "metadata": {},
   "outputs": [
    {
     "data": {
      "text/plain": [
       "True    549857\n",
       "Name: Internalpatientid, dtype: int64"
      ]
     },
     "execution_count": 7,
     "metadata": {},
     "output_type": "execute_result"
    }
   ],
   "source": [
    "ed_visits_train['Internalpatientid'].isin(outpatient_visits_train['Internalpatientid']).value_counts()"
   ]
  },
  {
   "cell_type": "code",
   "execution_count": 5,
   "metadata": {},
   "outputs": [
    {
     "data": {
      "text/html": [
       "<div>\n",
       "<style scoped>\n",
       "    .dataframe tbody tr th:only-of-type {\n",
       "        vertical-align: middle;\n",
       "    }\n",
       "\n",
       "    .dataframe tbody tr th {\n",
       "        vertical-align: top;\n",
       "    }\n",
       "\n",
       "    .dataframe thead th {\n",
       "        text-align: right;\n",
       "    }\n",
       "</style>\n",
       "<table border=\"1\" class=\"dataframe\">\n",
       "  <thead>\n",
       "    <tr style=\"text-align: right;\">\n",
       "      <th></th>\n",
       "      <th>Internalpatientid</th>\n",
       "      <th>Age 20-40</th>\n",
       "      <th>Age 40-60</th>\n",
       "      <th>Age 60-80</th>\n",
       "      <th>Age 80-100</th>\n",
       "      <th>Age 100-120</th>\n",
       "    </tr>\n",
       "  </thead>\n",
       "  <tbody>\n",
       "    <tr>\n",
       "      <th>84659</th>\n",
       "      <td>107210</td>\n",
       "      <td>0</td>\n",
       "      <td>826</td>\n",
       "      <td>3504</td>\n",
       "      <td>0</td>\n",
       "      <td>0</td>\n",
       "    </tr>\n",
       "  </tbody>\n",
       "</table>\n",
       "</div>"
      ],
      "text/plain": [
       "       Internalpatientid  Age 20-40  Age 40-60  Age 60-80  Age 80-100  \\\n",
       "84659             107210          0        826       3504           0   \n",
       "\n",
       "       Age 100-120  \n",
       "84659            0  "
      ]
     },
     "execution_count": 5,
     "metadata": {},
     "output_type": "execute_result"
    }
   ],
   "source": [
    "outpatient_visits_train[outpatient_visits_train['Internalpatientid'] == 107210]"
   ]
  },
  {
   "cell_type": "code",
   "execution_count": null,
   "metadata": {},
   "outputs": [],
   "source": []
  },
  {
   "cell_type": "code",
   "execution_count": 8,
   "metadata": {},
   "outputs": [
    {
     "data": {
      "text/html": [
       "<div>\n",
       "<style scoped>\n",
       "    .dataframe tbody tr th:only-of-type {\n",
       "        vertical-align: middle;\n",
       "    }\n",
       "\n",
       "    .dataframe tbody tr th {\n",
       "        vertical-align: top;\n",
       "    }\n",
       "\n",
       "    .dataframe thead th {\n",
       "        text-align: right;\n",
       "    }\n",
       "</style>\n",
       "<table border=\"1\" class=\"dataframe\">\n",
       "  <thead>\n",
       "    <tr style=\"text-align: right;\">\n",
       "      <th></th>\n",
       "      <th>Internalpatientid</th>\n",
       "      <th>Age at ed visit</th>\n",
       "      <th>Ed visit start date</th>\n",
       "      <th>Discharge date ed</th>\n",
       "      <th>Died during ed visit</th>\n",
       "      <th>First listed diagnosis icd10 subcategory</th>\n",
       "      <th>Second listed diagnosis icd10 subcategory</th>\n",
       "      <th>State</th>\n",
       "    </tr>\n",
       "  </thead>\n",
       "  <tbody>\n",
       "  </tbody>\n",
       "</table>\n",
       "</div>"
      ],
      "text/plain": [
       "Empty DataFrame\n",
       "Columns: [Internalpatientid, Age at ed visit, Ed visit start date, Discharge date ed, Died during ed visit, First listed diagnosis icd10 subcategory, Second listed diagnosis icd10 subcategory, State]\n",
       "Index: []"
      ]
     },
     "execution_count": 8,
     "metadata": {},
     "output_type": "execute_result"
    }
   ],
   "source": [
    "ed_visits_train[ed_visits_train['Internalpatientid']==63768]"
   ]
  },
  {
   "cell_type": "code",
   "execution_count": 4,
   "metadata": {},
   "outputs": [
    {
     "data": {
      "text/plain": [
       "Internalpatientid                             0\n",
       "Age at ed visit                               0\n",
       "Ed visit start date                           0\n",
       "Discharge date ed                            78\n",
       "Died during ed visit                          0\n",
       "First listed diagnosis icd10 subcategory      0\n",
       "Second listed diagnosis icd10 subcategory     0\n",
       "State                                         0\n",
       "dtype: int64"
      ]
     },
     "execution_count": 4,
     "metadata": {},
     "output_type": "execute_result"
    }
   ],
   "source": [
    "pd.isnull(ed_visits_train).sum()"
   ]
  },
  {
   "cell_type": "code",
   "execution_count": 5,
   "metadata": {},
   "outputs": [
    {
     "data": {
      "text/plain": [
       "Not specified                                                                                              262426\n",
       "Chest pain, unspecified                                                                                     10015\n",
       "Pain in joint                                                                                                8763\n",
       "Dyspnea                                                                                                      8312\n",
       "Systolic (congestive) heart failure                                                                          6570\n",
       "                                                                                                            ...  \n",
       "Malignant melanoma of other and unspecified parts of face                                                       1\n",
       "Malignant neoplasm of body of pancreas                                                                          1\n",
       "Motorcycle driver injured in collision with other and unspecified motor vehicles in nontraffic accident         1\n",
       "Inflammatory polyneuropathy, unspecified                                                                        1\n",
       "Allergy status to penicillin                                                                                    1\n",
       "Name: First listed diagnosis icd10 subcategory, Length: 3645, dtype: int64"
      ]
     },
     "execution_count": 5,
     "metadata": {},
     "output_type": "execute_result"
    }
   ],
   "source": [
    "ed_visits_train['First listed diagnosis icd10 subcategory'].value_counts()"
   ]
  },
  {
   "cell_type": "code",
   "execution_count": 6,
   "metadata": {},
   "outputs": [
    {
     "data": {
      "text/plain": [
       "0.477262270008384"
      ]
     },
     "execution_count": 6,
     "metadata": {},
     "output_type": "execute_result"
    }
   ],
   "source": [
    "262426/549857"
   ]
  }
 ],
 "metadata": {
  "kernelspec": {
   "display_name": "Python 3",
   "language": "python",
   "name": "python3"
  },
  "language_info": {
   "codemirror_mode": {
    "name": "ipython",
    "version": 3
   },
   "file_extension": ".py",
   "mimetype": "text/x-python",
   "name": "python",
   "nbconvert_exporter": "python",
   "pygments_lexer": "ipython3",
   "version": "3.10.11"
  },
  "orig_nbformat": 4
 },
 "nbformat": 4,
 "nbformat_minor": 2
}
