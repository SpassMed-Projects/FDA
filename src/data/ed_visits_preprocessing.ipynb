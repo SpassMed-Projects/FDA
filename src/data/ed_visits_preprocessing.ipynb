{
 "cells": [
  {
   "cell_type": "code",
   "execution_count": 1,
   "metadata": {},
   "outputs": [],
   "source": [
    "import pandas as pd\n",
    "\n",
    "\n",
    "import numpy as np\n",
    "import pandas as pd\n",
    "\n",
    "import seaborn as sns\n",
    "from importlib import reload\n",
    "import matplotlib.pyplot as plt\n",
    "import preprocess_data \n",
    "\n",
    "reload(preprocess_data)\n",
    "\n",
    "%matplotlib inline"
   ]
  },
  {
   "cell_type": "code",
   "execution_count": 2,
   "metadata": {},
   "outputs": [],
   "source": [
    "ed_visits_train = pd.read_csv('/home/bhatti/dataset/VCHAMPS/ed_visits_train.csv').iloc[:,1:]"
   ]
  },
  {
   "cell_type": "code",
   "execution_count": 3,
   "metadata": {},
   "outputs": [
    {
     "data": {
      "text/html": [
       "<div>\n",
       "<style scoped>\n",
       "    .dataframe tbody tr th:only-of-type {\n",
       "        vertical-align: middle;\n",
       "    }\n",
       "\n",
       "    .dataframe tbody tr th {\n",
       "        vertical-align: top;\n",
       "    }\n",
       "\n",
       "    .dataframe thead th {\n",
       "        text-align: right;\n",
       "    }\n",
       "</style>\n",
       "<table border=\"1\" class=\"dataframe\">\n",
       "  <thead>\n",
       "    <tr style=\"text-align: right;\">\n",
       "      <th></th>\n",
       "      <th>Internalpatientid</th>\n",
       "      <th>Age at ed visit</th>\n",
       "      <th>Ed visit start date</th>\n",
       "      <th>Discharge date ed</th>\n",
       "      <th>Died during ed visit</th>\n",
       "      <th>First listed diagnosis icd10 subcategory</th>\n",
       "      <th>Second listed diagnosis icd10 subcategory</th>\n",
       "      <th>State</th>\n",
       "    </tr>\n",
       "  </thead>\n",
       "  <tbody>\n",
       "    <tr>\n",
       "      <th>0</th>\n",
       "      <td>101689</td>\n",
       "      <td>64.361251</td>\n",
       "      <td>2021-08-26 00:53:30.0</td>\n",
       "      <td>2021-08-26 04:24:27.0</td>\n",
       "      <td>No</td>\n",
       "      <td>Systolic (congestive) heart failure</td>\n",
       "      <td>Chronic kidney disease, unspecified</td>\n",
       "      <td>Virginia</td>\n",
       "    </tr>\n",
       "    <tr>\n",
       "      <th>1</th>\n",
       "      <td>107210</td>\n",
       "      <td>71.317300</td>\n",
       "      <td>2022-05-18 11:21:28.0</td>\n",
       "      <td>2022-05-18 18:30:21.0</td>\n",
       "      <td>No</td>\n",
       "      <td>Sepsis, unspecified organism</td>\n",
       "      <td>Hypotension, unspecified</td>\n",
       "      <td>West Virginia</td>\n",
       "    </tr>\n",
       "    <tr>\n",
       "      <th>2</th>\n",
       "      <td>107866</td>\n",
       "      <td>61.164579</td>\n",
       "      <td>2017-06-26 15:41:11.0</td>\n",
       "      <td>2017-06-26 23:33:50.0</td>\n",
       "      <td>No</td>\n",
       "      <td>Other nonspecific abnormal finding of lung field</td>\n",
       "      <td>Hypotension, unspecified</td>\n",
       "      <td>Pennsylvania</td>\n",
       "    </tr>\n",
       "    <tr>\n",
       "      <th>3</th>\n",
       "      <td>107906</td>\n",
       "      <td>66.101996</td>\n",
       "      <td>2017-02-17 06:42:34.0</td>\n",
       "      <td>2017-02-17 08:08:28.0</td>\n",
       "      <td>No</td>\n",
       "      <td>Dysuria</td>\n",
       "      <td>Chronic kidney disease, unspecified</td>\n",
       "      <td>New York</td>\n",
       "    </tr>\n",
       "    <tr>\n",
       "      <th>4</th>\n",
       "      <td>108522</td>\n",
       "      <td>73.598130</td>\n",
       "      <td>2018-09-30 02:47:49.0</td>\n",
       "      <td>2018-09-30 04:28:57.0</td>\n",
       "      <td>No</td>\n",
       "      <td>Type 2 diabetes mellitus with circulatory comp...</td>\n",
       "      <td>Type 2 diabetes mellitus with unspecified comp...</td>\n",
       "      <td>Illinois</td>\n",
       "    </tr>\n",
       "    <tr>\n",
       "      <th>...</th>\n",
       "      <td>...</td>\n",
       "      <td>...</td>\n",
       "      <td>...</td>\n",
       "      <td>...</td>\n",
       "      <td>...</td>\n",
       "      <td>...</td>\n",
       "      <td>...</td>\n",
       "      <td>...</td>\n",
       "    </tr>\n",
       "    <tr>\n",
       "      <th>549852</th>\n",
       "      <td>99934</td>\n",
       "      <td>83.538682</td>\n",
       "      <td>2022-07-22 09:19:20.0</td>\n",
       "      <td>2022-07-22 09:42:57.0</td>\n",
       "      <td>No</td>\n",
       "      <td>Pain in limb, hand, foot, fingers and toes</td>\n",
       "      <td>Not specified</td>\n",
       "      <td>Oklahoma</td>\n",
       "    </tr>\n",
       "    <tr>\n",
       "      <th>549853</th>\n",
       "      <td>99936</td>\n",
       "      <td>71.860371</td>\n",
       "      <td>2016-08-29 23:10:25.0</td>\n",
       "      <td>2016-08-30 01:43:36.0</td>\n",
       "      <td>No</td>\n",
       "      <td>Pain in joint</td>\n",
       "      <td>Not specified</td>\n",
       "      <td>New York</td>\n",
       "    </tr>\n",
       "    <tr>\n",
       "      <th>549854</th>\n",
       "      <td>99987</td>\n",
       "      <td>67.470347</td>\n",
       "      <td>2012-12-06 09:53:07.0</td>\n",
       "      <td>2012-12-06 10:41:48.0</td>\n",
       "      <td>No</td>\n",
       "      <td>Not specified</td>\n",
       "      <td>Not specified</td>\n",
       "      <td>Maryland</td>\n",
       "    </tr>\n",
       "    <tr>\n",
       "      <th>549855</th>\n",
       "      <td>9999</td>\n",
       "      <td>62.070707</td>\n",
       "      <td>2015-03-14 20:14:42.0</td>\n",
       "      <td>2015-03-14 22:35:46.0</td>\n",
       "      <td>No</td>\n",
       "      <td>Not specified</td>\n",
       "      <td>Not specified</td>\n",
       "      <td>Utah</td>\n",
       "    </tr>\n",
       "    <tr>\n",
       "      <th>549856</th>\n",
       "      <td>99994</td>\n",
       "      <td>82.910109</td>\n",
       "      <td>2016-08-13 15:28:43.0</td>\n",
       "      <td>2016-08-13 20:09:44.0</td>\n",
       "      <td>No</td>\n",
       "      <td>Not specified</td>\n",
       "      <td>Not specified</td>\n",
       "      <td>Texas</td>\n",
       "    </tr>\n",
       "  </tbody>\n",
       "</table>\n",
       "<p>549857 rows × 8 columns</p>\n",
       "</div>"
      ],
      "text/plain": [
       "        Internalpatientid  Age at ed visit    Ed visit start date  \\\n",
       "0                  101689        64.361251  2021-08-26 00:53:30.0   \n",
       "1                  107210        71.317300  2022-05-18 11:21:28.0   \n",
       "2                  107866        61.164579  2017-06-26 15:41:11.0   \n",
       "3                  107906        66.101996  2017-02-17 06:42:34.0   \n",
       "4                  108522        73.598130  2018-09-30 02:47:49.0   \n",
       "...                   ...              ...                    ...   \n",
       "549852              99934        83.538682  2022-07-22 09:19:20.0   \n",
       "549853              99936        71.860371  2016-08-29 23:10:25.0   \n",
       "549854              99987        67.470347  2012-12-06 09:53:07.0   \n",
       "549855               9999        62.070707  2015-03-14 20:14:42.0   \n",
       "549856              99994        82.910109  2016-08-13 15:28:43.0   \n",
       "\n",
       "            Discharge date ed Died during ed visit  \\\n",
       "0       2021-08-26 04:24:27.0                   No   \n",
       "1       2022-05-18 18:30:21.0                   No   \n",
       "2       2017-06-26 23:33:50.0                   No   \n",
       "3       2017-02-17 08:08:28.0                   No   \n",
       "4       2018-09-30 04:28:57.0                   No   \n",
       "...                       ...                  ...   \n",
       "549852  2022-07-22 09:42:57.0                   No   \n",
       "549853  2016-08-30 01:43:36.0                   No   \n",
       "549854  2012-12-06 10:41:48.0                   No   \n",
       "549855  2015-03-14 22:35:46.0                   No   \n",
       "549856  2016-08-13 20:09:44.0                   No   \n",
       "\n",
       "                 First listed diagnosis icd10 subcategory  \\\n",
       "0                     Systolic (congestive) heart failure   \n",
       "1                            Sepsis, unspecified organism   \n",
       "2        Other nonspecific abnormal finding of lung field   \n",
       "3                                                 Dysuria   \n",
       "4       Type 2 diabetes mellitus with circulatory comp...   \n",
       "...                                                   ...   \n",
       "549852         Pain in limb, hand, foot, fingers and toes   \n",
       "549853                                      Pain in joint   \n",
       "549854                                      Not specified   \n",
       "549855                                      Not specified   \n",
       "549856                                      Not specified   \n",
       "\n",
       "                Second listed diagnosis icd10 subcategory          State  \n",
       "0                     Chronic kidney disease, unspecified       Virginia  \n",
       "1                                Hypotension, unspecified  West Virginia  \n",
       "2                                Hypotension, unspecified   Pennsylvania  \n",
       "3                     Chronic kidney disease, unspecified       New York  \n",
       "4       Type 2 diabetes mellitus with unspecified comp...       Illinois  \n",
       "...                                                   ...            ...  \n",
       "549852                                      Not specified       Oklahoma  \n",
       "549853                                      Not specified       New York  \n",
       "549854                                      Not specified       Maryland  \n",
       "549855                                      Not specified           Utah  \n",
       "549856                                      Not specified          Texas  \n",
       "\n",
       "[549857 rows x 8 columns]"
      ]
     },
     "execution_count": 3,
     "metadata": {},
     "output_type": "execute_result"
    }
   ],
   "source": [
    "ed_visits_train"
   ]
  },
  {
   "cell_type": "code",
   "execution_count": 8,
   "metadata": {},
   "outputs": [
    {
     "data": {
      "text/html": [
       "<div>\n",
       "<style scoped>\n",
       "    .dataframe tbody tr th:only-of-type {\n",
       "        vertical-align: middle;\n",
       "    }\n",
       "\n",
       "    .dataframe tbody tr th {\n",
       "        vertical-align: top;\n",
       "    }\n",
       "\n",
       "    .dataframe thead th {\n",
       "        text-align: right;\n",
       "    }\n",
       "</style>\n",
       "<table border=\"1\" class=\"dataframe\">\n",
       "  <thead>\n",
       "    <tr style=\"text-align: right;\">\n",
       "      <th></th>\n",
       "      <th>Internalpatientid</th>\n",
       "      <th>Age at ed visit</th>\n",
       "      <th>Ed visit start date</th>\n",
       "      <th>Discharge date ed</th>\n",
       "      <th>Died during ed visit</th>\n",
       "      <th>First listed diagnosis icd10 subcategory</th>\n",
       "      <th>Second listed diagnosis icd10 subcategory</th>\n",
       "      <th>State</th>\n",
       "    </tr>\n",
       "  </thead>\n",
       "  <tbody>\n",
       "  </tbody>\n",
       "</table>\n",
       "</div>"
      ],
      "text/plain": [
       "Empty DataFrame\n",
       "Columns: [Internalpatientid, Age at ed visit, Ed visit start date, Discharge date ed, Died during ed visit, First listed diagnosis icd10 subcategory, Second listed diagnosis icd10 subcategory, State]\n",
       "Index: []"
      ]
     },
     "execution_count": 8,
     "metadata": {},
     "output_type": "execute_result"
    }
   ],
   "source": [
    "ed_visits_train[ed_visits_train['Internalpatientid']==63768]"
   ]
  },
  {
   "cell_type": "code",
   "execution_count": 4,
   "metadata": {},
   "outputs": [
    {
     "data": {
      "text/plain": [
       "Internalpatientid                             0\n",
       "Age at ed visit                               0\n",
       "Ed visit start date                           0\n",
       "Discharge date ed                            78\n",
       "Died during ed visit                          0\n",
       "First listed diagnosis icd10 subcategory      0\n",
       "Second listed diagnosis icd10 subcategory     0\n",
       "State                                         0\n",
       "dtype: int64"
      ]
     },
     "execution_count": 4,
     "metadata": {},
     "output_type": "execute_result"
    }
   ],
   "source": [
    "pd.isnull(ed_visits_train).sum()"
   ]
  },
  {
   "cell_type": "code",
   "execution_count": 5,
   "metadata": {},
   "outputs": [
    {
     "data": {
      "text/plain": [
       "Not specified                                                                                              262426\n",
       "Chest pain, unspecified                                                                                     10015\n",
       "Pain in joint                                                                                                8763\n",
       "Dyspnea                                                                                                      8312\n",
       "Systolic (congestive) heart failure                                                                          6570\n",
       "                                                                                                            ...  \n",
       "Malignant melanoma of other and unspecified parts of face                                                       1\n",
       "Malignant neoplasm of body of pancreas                                                                          1\n",
       "Motorcycle driver injured in collision with other and unspecified motor vehicles in nontraffic accident         1\n",
       "Inflammatory polyneuropathy, unspecified                                                                        1\n",
       "Allergy status to penicillin                                                                                    1\n",
       "Name: First listed diagnosis icd10 subcategory, Length: 3645, dtype: int64"
      ]
     },
     "execution_count": 5,
     "metadata": {},
     "output_type": "execute_result"
    }
   ],
   "source": [
    "ed_visits_train['First listed diagnosis icd10 subcategory'].value_counts()"
   ]
  },
  {
   "cell_type": "code",
   "execution_count": 6,
   "metadata": {},
   "outputs": [
    {
     "data": {
      "text/plain": [
       "0.477262270008384"
      ]
     },
     "execution_count": 6,
     "metadata": {},
     "output_type": "execute_result"
    }
   ],
   "source": [
    "262426/549857"
   ]
  }
 ],
 "metadata": {
  "kernelspec": {
   "display_name": "Python 3",
   "language": "python",
   "name": "python3"
  },
  "language_info": {
   "codemirror_mode": {
    "name": "ipython",
    "version": 3
   },
   "file_extension": ".py",
   "mimetype": "text/x-python",
   "name": "python",
   "nbconvert_exporter": "python",
   "pygments_lexer": "ipython3",
   "version": "3.10.11"
  },
  "orig_nbformat": 4
 },
 "nbformat": 4,
 "nbformat_minor": 2
}
