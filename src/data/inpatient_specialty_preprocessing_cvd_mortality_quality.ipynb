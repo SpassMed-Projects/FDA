{
 "cells": [
  {
   "cell_type": "code",
   "execution_count": 1,
   "metadata": {},
   "outputs": [],
   "source": [
    "import pandas as pd\n",
    "\n",
    "\n",
    "import numpy as np\n",
    "import pandas as pd\n",
    "\n",
    "import seaborn as sns\n",
    "from importlib import reload\n",
    "import matplotlib.pyplot as plt\n",
    "import preprocess_data \n",
    "\n",
    "reload(preprocess_data)\n",
    "\n",
    "%matplotlib inline"
   ]
  },
  {
   "cell_type": "code",
   "execution_count": 2,
   "metadata": {},
   "outputs": [],
   "source": [
    "inpatient_specialty = pd.read_csv('/data/public/MLA/VCHAMPS-Quality/inpatient_specialty_qual.csv').iloc[:,1:]"
   ]
  },
  {
   "cell_type": "code",
   "execution_count": 3,
   "metadata": {},
   "outputs": [
    {
     "data": {
      "text/html": [
       "<div>\n",
       "<style scoped>\n",
       "    .dataframe tbody tr th:only-of-type {\n",
       "        vertical-align: middle;\n",
       "    }\n",
       "\n",
       "    .dataframe tbody tr th {\n",
       "        vertical-align: top;\n",
       "    }\n",
       "\n",
       "    .dataframe thead th {\n",
       "        text-align: right;\n",
       "    }\n",
       "</style>\n",
       "<table border=\"1\" class=\"dataframe\">\n",
       "  <thead>\n",
       "    <tr style=\"text-align: right;\">\n",
       "      <th></th>\n",
       "      <th>Internalpatientid</th>\n",
       "      <th>Age at specialty</th>\n",
       "      <th>Specialty start date</th>\n",
       "      <th>Specialty end date</th>\n",
       "      <th>Specialty</th>\n",
       "      <th>State</th>\n",
       "    </tr>\n",
       "  </thead>\n",
       "  <tbody>\n",
       "    <tr>\n",
       "      <th>0</th>\n",
       "      <td>100399</td>\n",
       "      <td>84.470360</td>\n",
       "      <td>2008-12-27 22:00:08.0</td>\n",
       "      <td>2009-01-01 01:41:45.0</td>\n",
       "      <td>PULMONARY, NON-TB</td>\n",
       "      <td>Minnesota</td>\n",
       "    </tr>\n",
       "    <tr>\n",
       "      <th>1</th>\n",
       "      <td>100399</td>\n",
       "      <td>85.551411</td>\n",
       "      <td>2010-01-27 00:58:53.0</td>\n",
       "      <td>2010-02-03 20:55:56.0</td>\n",
       "      <td>SUBSTANCE ABUSE TRMT UNIT</td>\n",
       "      <td>Minnesota</td>\n",
       "    </tr>\n",
       "    <tr>\n",
       "      <th>2</th>\n",
       "      <td>100399</td>\n",
       "      <td>86.335481</td>\n",
       "      <td>2010-11-09 14:50:30.0</td>\n",
       "      <td>2010-11-10 17:47:52.0</td>\n",
       "      <td>SURGICAL OBSERVATION</td>\n",
       "      <td>Minnesota</td>\n",
       "    </tr>\n",
       "    <tr>\n",
       "      <th>3</th>\n",
       "      <td>100694</td>\n",
       "      <td>72.493945</td>\n",
       "      <td>2004-08-04 12:53:09.0</td>\n",
       "      <td>2004-08-07 14:21:19.0</td>\n",
       "      <td>SURGICAL STEPDOWN</td>\n",
       "      <td>Idaho</td>\n",
       "    </tr>\n",
       "    <tr>\n",
       "      <th>4</th>\n",
       "      <td>102468</td>\n",
       "      <td>59.676888</td>\n",
       "      <td>2011-04-08 21:39:44.0</td>\n",
       "      <td>2011-04-12 23:58:20.0</td>\n",
       "      <td>GEM ACUTE MEDICINE</td>\n",
       "      <td>North Carolina</td>\n",
       "    </tr>\n",
       "    <tr>\n",
       "      <th>...</th>\n",
       "      <td>...</td>\n",
       "      <td>...</td>\n",
       "      <td>...</td>\n",
       "      <td>...</td>\n",
       "      <td>...</td>\n",
       "      <td>...</td>\n",
       "    </tr>\n",
       "    <tr>\n",
       "      <th>11384</th>\n",
       "      <td>98416</td>\n",
       "      <td>73.041255</td>\n",
       "      <td>2000-09-25 13:53:23.0</td>\n",
       "      <td>2000-09-26 05:09:15.0</td>\n",
       "      <td>HALFWAY HOUSE</td>\n",
       "      <td>California</td>\n",
       "    </tr>\n",
       "    <tr>\n",
       "      <th>11385</th>\n",
       "      <td>98416</td>\n",
       "      <td>78.018555</td>\n",
       "      <td>2005-09-18 18:45:38.0</td>\n",
       "      <td>2005-09-18 18:45:38.0</td>\n",
       "      <td>CARDIOLOGY</td>\n",
       "      <td>California</td>\n",
       "    </tr>\n",
       "    <tr>\n",
       "      <th>11386</th>\n",
       "      <td>99024</td>\n",
       "      <td>68.288449</td>\n",
       "      <td>2014-08-25 10:16:36.0</td>\n",
       "      <td>2014-08-25 10:16:36.0</td>\n",
       "      <td>GENERAL(ACUTE MEDICINE)</td>\n",
       "      <td>Oregon</td>\n",
       "    </tr>\n",
       "    <tr>\n",
       "      <th>11387</th>\n",
       "      <td>9929</td>\n",
       "      <td>72.785598</td>\n",
       "      <td>2011-11-05 03:15:59.0</td>\n",
       "      <td>2011-11-07 03:15:58.0</td>\n",
       "      <td>ANESTHESIOLOGY</td>\n",
       "      <td>Arizona</td>\n",
       "    </tr>\n",
       "    <tr>\n",
       "      <th>11388</th>\n",
       "      <td>99941</td>\n",
       "      <td>68.346081</td>\n",
       "      <td>2010-11-27 11:49:08.0</td>\n",
       "      <td>2010-11-28 13:48:41.0</td>\n",
       "      <td>GEM PSYCHIATRIC BEDS</td>\n",
       "      <td>Massachusetts</td>\n",
       "    </tr>\n",
       "  </tbody>\n",
       "</table>\n",
       "<p>11389 rows × 6 columns</p>\n",
       "</div>"
      ],
      "text/plain": [
       "       Internalpatientid  Age at specialty   Specialty start date  \\\n",
       "0                 100399         84.470360  2008-12-27 22:00:08.0   \n",
       "1                 100399         85.551411  2010-01-27 00:58:53.0   \n",
       "2                 100399         86.335481  2010-11-09 14:50:30.0   \n",
       "3                 100694         72.493945  2004-08-04 12:53:09.0   \n",
       "4                 102468         59.676888  2011-04-08 21:39:44.0   \n",
       "...                  ...               ...                    ...   \n",
       "11384              98416         73.041255  2000-09-25 13:53:23.0   \n",
       "11385              98416         78.018555  2005-09-18 18:45:38.0   \n",
       "11386              99024         68.288449  2014-08-25 10:16:36.0   \n",
       "11387               9929         72.785598  2011-11-05 03:15:59.0   \n",
       "11388              99941         68.346081  2010-11-27 11:49:08.0   \n",
       "\n",
       "          Specialty end date                  Specialty           State  \n",
       "0      2009-01-01 01:41:45.0          PULMONARY, NON-TB       Minnesota  \n",
       "1      2010-02-03 20:55:56.0  SUBSTANCE ABUSE TRMT UNIT       Minnesota  \n",
       "2      2010-11-10 17:47:52.0       SURGICAL OBSERVATION       Minnesota  \n",
       "3      2004-08-07 14:21:19.0          SURGICAL STEPDOWN           Idaho  \n",
       "4      2011-04-12 23:58:20.0         GEM ACUTE MEDICINE  North Carolina  \n",
       "...                      ...                        ...             ...  \n",
       "11384  2000-09-26 05:09:15.0              HALFWAY HOUSE      California  \n",
       "11385  2005-09-18 18:45:38.0                 CARDIOLOGY      California  \n",
       "11386  2014-08-25 10:16:36.0    GENERAL(ACUTE MEDICINE)          Oregon  \n",
       "11387  2011-11-07 03:15:58.0             ANESTHESIOLOGY         Arizona  \n",
       "11388  2010-11-28 13:48:41.0       GEM PSYCHIATRIC BEDS   Massachusetts  \n",
       "\n",
       "[11389 rows x 6 columns]"
      ]
     },
     "execution_count": 3,
     "metadata": {},
     "output_type": "execute_result"
    }
   ],
   "source": [
    "inpatient_specialty"
   ]
  },
  {
   "cell_type": "code",
   "execution_count": 4,
   "metadata": {},
   "outputs": [
    {
     "data": {
      "text/plain": [
       "Internalpatientid       0\n",
       "Age at specialty        0\n",
       "Specialty start date    0\n",
       "Specialty end date      3\n",
       "Specialty               0\n",
       "State                   0\n",
       "dtype: int64"
      ]
     },
     "execution_count": 4,
     "metadata": {},
     "output_type": "execute_result"
    }
   ],
   "source": [
    "pd.isnull(inpatient_specialty).sum() "
   ]
  },
  {
   "cell_type": "code",
   "execution_count": 5,
   "metadata": {},
   "outputs": [
    {
     "data": {
      "text/html": [
       "<div>\n",
       "<style scoped>\n",
       "    .dataframe tbody tr th:only-of-type {\n",
       "        vertical-align: middle;\n",
       "    }\n",
       "\n",
       "    .dataframe tbody tr th {\n",
       "        vertical-align: top;\n",
       "    }\n",
       "\n",
       "    .dataframe thead th {\n",
       "        text-align: right;\n",
       "    }\n",
       "</style>\n",
       "<table border=\"1\" class=\"dataframe\">\n",
       "  <thead>\n",
       "    <tr style=\"text-align: right;\">\n",
       "      <th></th>\n",
       "      <th>Internalpatientid</th>\n",
       "      <th>Age at specialty</th>\n",
       "      <th>Specialty start date</th>\n",
       "      <th>Specialty end date</th>\n",
       "      <th>Specialty</th>\n",
       "      <th>State</th>\n",
       "    </tr>\n",
       "  </thead>\n",
       "  <tbody>\n",
       "    <tr>\n",
       "      <th>4825</th>\n",
       "      <td>21909</td>\n",
       "      <td>64.164001</td>\n",
       "      <td>2021-09-30 22:37:08.0</td>\n",
       "      <td>NaN</td>\n",
       "      <td>PERIPHERAL VASCULAR</td>\n",
       "      <td>Virginia</td>\n",
       "    </tr>\n",
       "    <tr>\n",
       "      <th>7322</th>\n",
       "      <td>156832</td>\n",
       "      <td>71.727511</td>\n",
       "      <td>2022-03-21 09:43:30.0</td>\n",
       "      <td>NaN</td>\n",
       "      <td>NON-DOD BEDS IN VA FACILITY</td>\n",
       "      <td>North Carolina</td>\n",
       "    </tr>\n",
       "    <tr>\n",
       "      <th>8605</th>\n",
       "      <td>75275</td>\n",
       "      <td>74.246135</td>\n",
       "      <td>2023-11-24 23:05:58.0</td>\n",
       "      <td>NaN</td>\n",
       "      <td>DOMICILIARY PTSD</td>\n",
       "      <td>Rhode Island</td>\n",
       "    </tr>\n",
       "  </tbody>\n",
       "</table>\n",
       "</div>"
      ],
      "text/plain": [
       "      Internalpatientid  Age at specialty   Specialty start date  \\\n",
       "4825              21909         64.164001  2021-09-30 22:37:08.0   \n",
       "7322             156832         71.727511  2022-03-21 09:43:30.0   \n",
       "8605              75275         74.246135  2023-11-24 23:05:58.0   \n",
       "\n",
       "     Specialty end date                    Specialty           State  \n",
       "4825                NaN          PERIPHERAL VASCULAR        Virginia  \n",
       "7322                NaN  NON-DOD BEDS IN VA FACILITY  North Carolina  \n",
       "8605                NaN             DOMICILIARY PTSD    Rhode Island  "
      ]
     },
     "execution_count": 5,
     "metadata": {},
     "output_type": "execute_result"
    }
   ],
   "source": [
    "inpatient_specialty[pd.isnull(inpatient_specialty['Specialty end date'])]"
   ]
  },
  {
   "attachments": {},
   "cell_type": "markdown",
   "metadata": {},
   "source": [
    "# Preprocess Time\n",
    "Calculate period mean and std values."
   ]
  },
  {
   "cell_type": "code",
   "execution_count": 6,
   "metadata": {},
   "outputs": [
    {
     "name": "stderr",
     "output_type": "stream",
     "text": [
      "/tmp/ipykernel_281080/1186491515.py:1: UserWarning: Boolean Series key will be reindexed to match DataFrame index.\n",
      "  inpatient_specialty[pd.isnull(inpatient_specialty['Specialty end date'])][inpatient_specialty['Internalpatientid'] == 98424]\n"
     ]
    },
    {
     "data": {
      "text/html": [
       "<div>\n",
       "<style scoped>\n",
       "    .dataframe tbody tr th:only-of-type {\n",
       "        vertical-align: middle;\n",
       "    }\n",
       "\n",
       "    .dataframe tbody tr th {\n",
       "        vertical-align: top;\n",
       "    }\n",
       "\n",
       "    .dataframe thead th {\n",
       "        text-align: right;\n",
       "    }\n",
       "</style>\n",
       "<table border=\"1\" class=\"dataframe\">\n",
       "  <thead>\n",
       "    <tr style=\"text-align: right;\">\n",
       "      <th></th>\n",
       "      <th>Internalpatientid</th>\n",
       "      <th>Age at specialty</th>\n",
       "      <th>Specialty start date</th>\n",
       "      <th>Specialty end date</th>\n",
       "      <th>Specialty</th>\n",
       "      <th>State</th>\n",
       "    </tr>\n",
       "  </thead>\n",
       "  <tbody>\n",
       "  </tbody>\n",
       "</table>\n",
       "</div>"
      ],
      "text/plain": [
       "Empty DataFrame\n",
       "Columns: [Internalpatientid, Age at specialty, Specialty start date, Specialty end date, Specialty, State]\n",
       "Index: []"
      ]
     },
     "execution_count": 6,
     "metadata": {},
     "output_type": "execute_result"
    }
   ],
   "source": [
    "inpatient_specialty[pd.isnull(inpatient_specialty['Specialty end date'])][inpatient_specialty['Internalpatientid'] == 98424]"
   ]
  },
  {
   "cell_type": "code",
   "execution_count": 7,
   "metadata": {},
   "outputs": [],
   "source": [
    "inpatient_specialty['Specialty start date'] = inpatient_specialty['Specialty start date'].apply(preprocess_data.preprocess_time_string)\n",
    "inpatient_specialty['Specialty end date'] = inpatient_specialty['Specialty end date'].apply(preprocess_data.preprocess_time_string)\n",
    "inpatient_specialty['period'] = preprocess_data.get_period(inpatient_specialty['Specialty start date'],inpatient_specialty['Specialty end date'])"
   ]
  },
  {
   "cell_type": "code",
   "execution_count": 8,
   "metadata": {},
   "outputs": [],
   "source": [
    "period_mean = inpatient_specialty.groupby('Internalpatientid')['period'].agg(lambda x: x).reset_index()\n",
    "period_mean['period'] = period_mean['period'].apply(lambda x: np.nanmean(x.total_seconds()/86400))"
   ]
  },
  {
   "cell_type": "code",
   "execution_count": 9,
   "metadata": {},
   "outputs": [],
   "source": [
    "period_std = inpatient_specialty.groupby('Internalpatientid')['period'].agg(lambda x: x).reset_index()\n",
    "period_std['period'] = period_std['period'].apply(lambda x: np.nanstd(x.total_seconds()/86400,ddof=0))"
   ]
  },
  {
   "cell_type": "code",
   "execution_count": 10,
   "metadata": {},
   "outputs": [],
   "source": [
    "period_mean = period_mean.rename(columns={'period': 'period mean'})\n",
    "period_std = period_std.rename(columns={'period': 'period std'})"
   ]
  },
  {
   "attachments": {},
   "cell_type": "markdown",
   "metadata": {},
   "source": [
    "# Preprocess Specialty\n",
    "Then consider the specialty, since it has a lot of different values, we want to simplify it in to several classes.\n",
    "By studying the values, we can have the classify it into Medical Specialties (encoded as 0) and Rehabilitation and Support Programs (encoded as 1). And finally impute the no specific value (3.75%) with imputate_nan_binary."
   ]
  },
  {
   "cell_type": "code",
   "execution_count": 11,
   "metadata": {},
   "outputs": [],
   "source": [
    "specialty_class = preprocess_data.generate_dict_from_csv('/home/vivi/FDA_datasets/specialty_class.csv','Specialty','Class')"
   ]
  },
  {
   "cell_type": "code",
   "execution_count": 12,
   "metadata": {},
   "outputs": [],
   "source": [
    "inpatient_specialty['Specialty encoded'] = preprocess_data.preprocess_substitute_categories(specialty_class, \n",
    "                                                                               inpatient_specialty['Specialty'])"
   ]
  },
  {
   "cell_type": "code",
   "execution_count": 13,
   "metadata": {},
   "outputs": [],
   "source": [
    "specialty_count = inpatient_specialty.groupby('Internalpatientid')['Specialty'].count().reset_index()"
   ]
  },
  {
   "cell_type": "code",
   "execution_count": 14,
   "metadata": {},
   "outputs": [],
   "source": [
    "specialty_count = specialty_count.rename(columns={'Specialty': 'specialty count'})"
   ]
  },
  {
   "cell_type": "code",
   "execution_count": 15,
   "metadata": {},
   "outputs": [],
   "source": [
    "specialty_medical_count = inpatient_specialty.groupby('Internalpatientid')['Specialty encoded'].agg(lambda x:  x.eq(0).sum()).reset_index()"
   ]
  },
  {
   "cell_type": "code",
   "execution_count": 16,
   "metadata": {},
   "outputs": [],
   "source": [
    "specialty_support_count = inpatient_specialty.groupby('Internalpatientid')['Specialty encoded'].agg(lambda x:  x.eq(1).sum()).reset_index()"
   ]
  },
  {
   "cell_type": "code",
   "execution_count": 17,
   "metadata": {},
   "outputs": [],
   "source": [
    "specialty_medical_count = specialty_medical_count.rename(columns={'Specialty encoded': 'specialty medical count'})\n",
    "specialty_support_count = specialty_support_count.rename(columns={'Specialty encoded': 'specialty support count'})"
   ]
  },
  {
   "cell_type": "code",
   "execution_count": 18,
   "metadata": {},
   "outputs": [
    {
     "data": {
      "text/plain": [
       "Internalpatientid    0\n",
       "period std           0\n",
       "dtype: int64"
      ]
     },
     "execution_count": 18,
     "metadata": {},
     "output_type": "execute_result"
    }
   ],
   "source": [
    "pd.isnull(period_std).sum() "
   ]
  },
  {
   "cell_type": "code",
   "execution_count": 19,
   "metadata": {},
   "outputs": [
    {
     "data": {
      "text/html": [
       "<div>\n",
       "<style scoped>\n",
       "    .dataframe tbody tr th:only-of-type {\n",
       "        vertical-align: middle;\n",
       "    }\n",
       "\n",
       "    .dataframe tbody tr th {\n",
       "        vertical-align: top;\n",
       "    }\n",
       "\n",
       "    .dataframe thead th {\n",
       "        text-align: right;\n",
       "    }\n",
       "</style>\n",
       "<table border=\"1\" class=\"dataframe\">\n",
       "  <thead>\n",
       "    <tr style=\"text-align: right;\">\n",
       "      <th></th>\n",
       "      <th>Internalpatientid</th>\n",
       "      <th>period std</th>\n",
       "    </tr>\n",
       "  </thead>\n",
       "  <tbody>\n",
       "  </tbody>\n",
       "</table>\n",
       "</div>"
      ],
      "text/plain": [
       "Empty DataFrame\n",
       "Columns: [Internalpatientid, period std]\n",
       "Index: []"
      ]
     },
     "execution_count": 19,
     "metadata": {},
     "output_type": "execute_result"
    }
   ],
   "source": [
    "period_std[pd.isnull(period_std['period std'])]"
   ]
  },
  {
   "cell_type": "code",
   "execution_count": 21,
   "metadata": {},
   "outputs": [
    {
     "data": {
      "text/html": [
       "<div>\n",
       "<style scoped>\n",
       "    .dataframe tbody tr th:only-of-type {\n",
       "        vertical-align: middle;\n",
       "    }\n",
       "\n",
       "    .dataframe tbody tr th {\n",
       "        vertical-align: top;\n",
       "    }\n",
       "\n",
       "    .dataframe thead th {\n",
       "        text-align: right;\n",
       "    }\n",
       "</style>\n",
       "<table border=\"1\" class=\"dataframe\">\n",
       "  <thead>\n",
       "    <tr style=\"text-align: right;\">\n",
       "      <th></th>\n",
       "      <th>Internalpatientid</th>\n",
       "      <th>period mean</th>\n",
       "    </tr>\n",
       "  </thead>\n",
       "  <tbody>\n",
       "  </tbody>\n",
       "</table>\n",
       "</div>"
      ],
      "text/plain": [
       "Empty DataFrame\n",
       "Columns: [Internalpatientid, period mean]\n",
       "Index: []"
      ]
     },
     "execution_count": 21,
     "metadata": {},
     "output_type": "execute_result"
    }
   ],
   "source": [
    "period_mean[pd.isnull(period_mean['period mean'])]"
   ]
  },
  {
   "attachments": {},
   "cell_type": "markdown",
   "metadata": {},
   "source": [
    "# Preprocess Age"
   ]
  },
  {
   "cell_type": "code",
   "execution_count": 22,
   "metadata": {},
   "outputs": [],
   "source": [
    "age_mean = inpatient_specialty.groupby('Internalpatientid')['Age at specialty'].mean().reset_index()\n",
    "age_mean = age_mean.rename(columns={'Age at specialty': 'mean age at specailty'})"
   ]
  },
  {
   "attachments": {},
   "cell_type": "markdown",
   "metadata": {},
   "source": [
    "# Merge All"
   ]
  },
  {
   "cell_type": "code",
   "execution_count": 23,
   "metadata": {},
   "outputs": [],
   "source": [
    "listTables = [period_mean, period_std, specialty_medical_count,specialty_support_count, specialty_count ]\n",
    "inpatient_specialty_preprocessed = age_mean.copy()\n",
    "for i in listTables:\n",
    "    inpatient_specialty_preprocessed = inpatient_specialty_preprocessed.merge(i,how = 'left', on = 'Internalpatientid')\n"
   ]
  },
  {
   "cell_type": "code",
   "execution_count": 24,
   "metadata": {},
   "outputs": [
    {
     "data": {
      "text/html": [
       "<div>\n",
       "<style scoped>\n",
       "    .dataframe tbody tr th:only-of-type {\n",
       "        vertical-align: middle;\n",
       "    }\n",
       "\n",
       "    .dataframe tbody tr th {\n",
       "        vertical-align: top;\n",
       "    }\n",
       "\n",
       "    .dataframe thead th {\n",
       "        text-align: right;\n",
       "    }\n",
       "</style>\n",
       "<table border=\"1\" class=\"dataframe\">\n",
       "  <thead>\n",
       "    <tr style=\"text-align: right;\">\n",
       "      <th></th>\n",
       "      <th>Internalpatientid</th>\n",
       "      <th>mean age at specailty</th>\n",
       "      <th>period mean</th>\n",
       "      <th>period std</th>\n",
       "      <th>specialty medical count</th>\n",
       "      <th>specialty support count</th>\n",
       "      <th>specialty count</th>\n",
       "    </tr>\n",
       "  </thead>\n",
       "  <tbody>\n",
       "    <tr>\n",
       "      <th>0</th>\n",
       "      <td>67</td>\n",
       "      <td>56.998234</td>\n",
       "      <td>0.089728</td>\n",
       "      <td>0.089728</td>\n",
       "      <td>2</td>\n",
       "      <td>0</td>\n",
       "      <td>2</td>\n",
       "    </tr>\n",
       "    <tr>\n",
       "      <th>1</th>\n",
       "      <td>200</td>\n",
       "      <td>79.664650</td>\n",
       "      <td>1.771890</td>\n",
       "      <td>3.276867</td>\n",
       "      <td>9</td>\n",
       "      <td>6</td>\n",
       "      <td>15</td>\n",
       "    </tr>\n",
       "    <tr>\n",
       "      <th>2</th>\n",
       "      <td>291</td>\n",
       "      <td>82.644124</td>\n",
       "      <td>3.711998</td>\n",
       "      <td>5.827537</td>\n",
       "      <td>7</td>\n",
       "      <td>15</td>\n",
       "      <td>23</td>\n",
       "    </tr>\n",
       "    <tr>\n",
       "      <th>3</th>\n",
       "      <td>330</td>\n",
       "      <td>70.947996</td>\n",
       "      <td>1.829252</td>\n",
       "      <td>1.986030</td>\n",
       "      <td>14</td>\n",
       "      <td>1</td>\n",
       "      <td>15</td>\n",
       "    </tr>\n",
       "    <tr>\n",
       "      <th>4</th>\n",
       "      <td>351</td>\n",
       "      <td>84.981808</td>\n",
       "      <td>2.304762</td>\n",
       "      <td>2.520672</td>\n",
       "      <td>4</td>\n",
       "      <td>12</td>\n",
       "      <td>16</td>\n",
       "    </tr>\n",
       "    <tr>\n",
       "      <th>...</th>\n",
       "      <td>...</td>\n",
       "      <td>...</td>\n",
       "      <td>...</td>\n",
       "      <td>...</td>\n",
       "      <td>...</td>\n",
       "      <td>...</td>\n",
       "      <td>...</td>\n",
       "    </tr>\n",
       "    <tr>\n",
       "      <th>627</th>\n",
       "      <td>166881</td>\n",
       "      <td>75.529507</td>\n",
       "      <td>1.937271</td>\n",
       "      <td>2.161738</td>\n",
       "      <td>4</td>\n",
       "      <td>0</td>\n",
       "      <td>4</td>\n",
       "    </tr>\n",
       "    <tr>\n",
       "      <th>628</th>\n",
       "      <td>167102</td>\n",
       "      <td>68.142469</td>\n",
       "      <td>1.591543</td>\n",
       "      <td>1.560624</td>\n",
       "      <td>6</td>\n",
       "      <td>3</td>\n",
       "      <td>9</td>\n",
       "    </tr>\n",
       "    <tr>\n",
       "      <th>629</th>\n",
       "      <td>167404</td>\n",
       "      <td>77.965193</td>\n",
       "      <td>3.875710</td>\n",
       "      <td>3.145414</td>\n",
       "      <td>2</td>\n",
       "      <td>0</td>\n",
       "      <td>3</td>\n",
       "    </tr>\n",
       "    <tr>\n",
       "      <th>630</th>\n",
       "      <td>167917</td>\n",
       "      <td>45.426367</td>\n",
       "      <td>0.803098</td>\n",
       "      <td>0.899967</td>\n",
       "      <td>13</td>\n",
       "      <td>0</td>\n",
       "      <td>14</td>\n",
       "    </tr>\n",
       "    <tr>\n",
       "      <th>631</th>\n",
       "      <td>168008</td>\n",
       "      <td>72.954622</td>\n",
       "      <td>0.984388</td>\n",
       "      <td>1.153729</td>\n",
       "      <td>17</td>\n",
       "      <td>4</td>\n",
       "      <td>28</td>\n",
       "    </tr>\n",
       "  </tbody>\n",
       "</table>\n",
       "<p>632 rows × 7 columns</p>\n",
       "</div>"
      ],
      "text/plain": [
       "     Internalpatientid  mean age at specailty  period mean  period std  \\\n",
       "0                   67              56.998234     0.089728    0.089728   \n",
       "1                  200              79.664650     1.771890    3.276867   \n",
       "2                  291              82.644124     3.711998    5.827537   \n",
       "3                  330              70.947996     1.829252    1.986030   \n",
       "4                  351              84.981808     2.304762    2.520672   \n",
       "..                 ...                    ...          ...         ...   \n",
       "627             166881              75.529507     1.937271    2.161738   \n",
       "628             167102              68.142469     1.591543    1.560624   \n",
       "629             167404              77.965193     3.875710    3.145414   \n",
       "630             167917              45.426367     0.803098    0.899967   \n",
       "631             168008              72.954622     0.984388    1.153729   \n",
       "\n",
       "     specialty medical count  specialty support count  specialty count  \n",
       "0                          2                        0                2  \n",
       "1                          9                        6               15  \n",
       "2                          7                       15               23  \n",
       "3                         14                        1               15  \n",
       "4                          4                       12               16  \n",
       "..                       ...                      ...              ...  \n",
       "627                        4                        0                4  \n",
       "628                        6                        3                9  \n",
       "629                        2                        0                3  \n",
       "630                       13                        0               14  \n",
       "631                       17                        4               28  \n",
       "\n",
       "[632 rows x 7 columns]"
      ]
     },
     "execution_count": 24,
     "metadata": {},
     "output_type": "execute_result"
    }
   ],
   "source": [
    "inpatient_specialty_preprocessed"
   ]
  },
  {
   "cell_type": "code",
   "execution_count": 25,
   "metadata": {},
   "outputs": [],
   "source": [
    "inpatient_specialty_preprocessed = inpatient_specialty_preprocessed.dropna(subset=['period mean'])"
   ]
  },
  {
   "cell_type": "code",
   "execution_count": 26,
   "metadata": {},
   "outputs": [],
   "source": [
    "inpatient_specialty_preprocessed.to_csv('/home/vivi/FDA_datasets/inpatient_specialty_cvd_mortality_quality.csv')"
   ]
  },
  {
   "cell_type": "code",
   "execution_count": 39,
   "metadata": {},
   "outputs": [
    {
     "data": {
      "text/plain": [
       "Internalpatientid          0\n",
       "mean age at specailty      0\n",
       "period mean                0\n",
       "period std                 0\n",
       "specialty medical count    0\n",
       "specialty support count    0\n",
       "specialty count            0\n",
       "dtype: int64"
      ]
     },
     "execution_count": 39,
     "metadata": {},
     "output_type": "execute_result"
    }
   ],
   "source": [
    "pd.isnull(inpatient_specialty_preprocessed).sum()"
   ]
  }
 ],
 "metadata": {
  "kernelspec": {
   "display_name": "Python 3",
   "language": "python",
   "name": "python3"
  },
  "language_info": {
   "codemirror_mode": {
    "name": "ipython",
    "version": 3
   },
   "file_extension": ".py",
   "mimetype": "text/x-python",
   "name": "python",
   "nbconvert_exporter": "python",
   "pygments_lexer": "ipython3",
   "version": "3.10.11"
  },
  "orig_nbformat": 4
 },
 "nbformat": 4,
 "nbformat_minor": 2
}
