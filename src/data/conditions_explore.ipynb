{
 "cells": [
  {
   "cell_type": "code",
   "execution_count": 2,
   "metadata": {},
   "outputs": [],
   "source": [
    "import pandas as pd\n",
    "\n",
    "\n",
    "import numpy as np\n",
    "import pandas as pd\n",
    "\n",
    "import seaborn as sns\n",
    "from importlib import reload\n",
    "import matplotlib.pyplot as plt\n",
    "import preprocess_data \n",
    "\n",
    "reload(preprocess_data)\n",
    "\n",
    "%matplotlib inline"
   ]
  },
  {
   "cell_type": "code",
   "execution_count": 4,
   "metadata": {},
   "outputs": [],
   "source": [
    "#inpatients_with_readm = pd.read_csv('/home/daisy/FDA_Dataset/inpatients_with_readm.csv').iloc[:,1:]\n",
    "conditions = pd.read_csv('/home/bhatti/dataset/VCHAMPS/conditions_train.csv').iloc[:,1:]"
   ]
  },
  {
   "attachments": {},
   "cell_type": "markdown",
   "metadata": {},
   "source": [
    "# Exploratory Data Analysis"
   ]
  },
  {
   "cell_type": "code",
   "execution_count": 7,
   "metadata": {},
   "outputs": [
    {
     "name": "stderr",
     "output_type": "stream",
     "text": [
      "/tmp/ipykernel_60663/3881071290.py:1: UserWarning: Boolean Series key will be reindexed to match DataFrame index.\n",
      "  conditions[conditions['Internalpatientid'] == 1][conditions['Condition documented date'] == '2002-03-03 21:37:12.0']\n"
     ]
    },
    {
     "data": {
      "text/html": [
       "<div>\n",
       "<style scoped>\n",
       "    .dataframe tbody tr th:only-of-type {\n",
       "        vertical-align: middle;\n",
       "    }\n",
       "\n",
       "    .dataframe tbody tr th {\n",
       "        vertical-align: top;\n",
       "    }\n",
       "\n",
       "    .dataframe thead th {\n",
       "        text-align: right;\n",
       "    }\n",
       "</style>\n",
       "<table border=\"1\" class=\"dataframe\">\n",
       "  <thead>\n",
       "    <tr style=\"text-align: right;\">\n",
       "      <th></th>\n",
       "      <th>Internalpatientid</th>\n",
       "      <th>Age at condition documentation</th>\n",
       "      <th>Condition documented date</th>\n",
       "      <th>Condition type</th>\n",
       "      <th>Condition code icd10 subcategory</th>\n",
       "      <th>Diagnosis sequence number or rank</th>\n",
       "      <th>State</th>\n",
       "    </tr>\n",
       "  </thead>\n",
       "  <tbody>\n",
       "    <tr>\n",
       "      <th>0</th>\n",
       "      <td>1</td>\n",
       "      <td>57.912177</td>\n",
       "      <td>2002-03-03 21:37:12.0</td>\n",
       "      <td>Diagnosis</td>\n",
       "      <td>Polyosteoarthritis, unspecified ; Osteoarthrit...</td>\n",
       "      <td>S</td>\n",
       "      <td>Indiana</td>\n",
       "    </tr>\n",
       "    <tr>\n",
       "      <th>1</th>\n",
       "      <td>1</td>\n",
       "      <td>57.912177</td>\n",
       "      <td>2002-03-03 21:37:12.0</td>\n",
       "      <td>Diagnosis</td>\n",
       "      <td>Essential (primary) hypertension</td>\n",
       "      <td>P</td>\n",
       "      <td>Indiana</td>\n",
       "    </tr>\n",
       "    <tr>\n",
       "      <th>2</th>\n",
       "      <td>1</td>\n",
       "      <td>57.912177</td>\n",
       "      <td>2002-03-03 21:37:12.0</td>\n",
       "      <td>Diagnosis</td>\n",
       "      <td>Mixed hyperlipidemia</td>\n",
       "      <td>S</td>\n",
       "      <td>Indiana</td>\n",
       "    </tr>\n",
       "  </tbody>\n",
       "</table>\n",
       "</div>"
      ],
      "text/plain": [
       "   Internalpatientid  Age at condition documentation  \\\n",
       "0                  1                       57.912177   \n",
       "1                  1                       57.912177   \n",
       "2                  1                       57.912177   \n",
       "\n",
       "  Condition documented date Condition type  \\\n",
       "0     2002-03-03 21:37:12.0      Diagnosis   \n",
       "1     2002-03-03 21:37:12.0      Diagnosis   \n",
       "2     2002-03-03 21:37:12.0      Diagnosis   \n",
       "\n",
       "                    Condition code icd10 subcategory  \\\n",
       "0  Polyosteoarthritis, unspecified ; Osteoarthrit...   \n",
       "1                   Essential (primary) hypertension   \n",
       "2                               Mixed hyperlipidemia   \n",
       "\n",
       "  Diagnosis sequence number or rank    State  \n",
       "0                                 S  Indiana  \n",
       "1                                 P  Indiana  \n",
       "2                                 S  Indiana  "
      ]
     },
     "execution_count": 7,
     "metadata": {},
     "output_type": "execute_result"
    }
   ],
   "source": [
    "conditions[conditions['Internalpatientid'] == 1][conditions['Condition documented date'] == '2002-03-03 21:37:12.0']"
   ]
  },
  {
   "cell_type": "code",
   "execution_count": 12,
   "metadata": {},
   "outputs": [
    {
     "data": {
      "text/plain": [
       "Internalpatientid                          0\n",
       "Age at condition documentation             0\n",
       "Condition documented date                  0\n",
       "Condition type                             0\n",
       "Condition code icd10 subcategory           0\n",
       "Diagnosis sequence number or rank    3648777\n",
       "State                                      0\n",
       "dtype: int64"
      ]
     },
     "execution_count": 12,
     "metadata": {},
     "output_type": "execute_result"
    }
   ],
   "source": [
    "pd.isnull(conditions).sum() "
   ]
  },
  {
   "cell_type": "code",
   "execution_count": 14,
   "metadata": {},
   "outputs": [
    {
     "data": {
      "text/plain": [
       "0.04133819964321447"
      ]
     },
     "execution_count": 14,
     "metadata": {},
     "output_type": "execute_result"
    }
   ],
   "source": [
    "3648777/88266471 # Only Diagnosis sequence number or rank has 4.13% -> Imputation"
   ]
  },
  {
   "cell_type": "code",
   "execution_count": 15,
   "metadata": {},
   "outputs": [
    {
     "data": {
      "text/plain": [
       "Diagnosis    84735542\n",
       "Problem       3530929\n",
       "Name: Condition type, dtype: int64"
      ]
     },
     "execution_count": 15,
     "metadata": {},
     "output_type": "execute_result"
    }
   ],
   "source": [
    "conditions['Condition type'].value_counts()"
   ]
  },
  {
   "cell_type": "code",
   "execution_count": 19,
   "metadata": {},
   "outputs": [
    {
     "data": {
      "text/plain": [
       "Essential (primary) hypertension                                               4327964\n",
       "Type 2 diabetes mellitus without complications                                 2956322\n",
       "Encounter for other specified aftercare                                        2540325\n",
       "Not specified                                                                  2240715\n",
       "Other specified counseling                                                     1979166\n",
       "Unspecified atrial fibrillation and atrial flutter                             1900127\n",
       "Long term (current) use of anticoagulants and antithrombotics/antiplatelets    1846158\n",
       "Atherosclerotic heart disease of native coronary artery                        1582046\n",
       "Chronic obstructive pulmonary disease, unspecified                             1549989\n",
       "Heart failure, unspecified                                                     1442529\n",
       "Name: Condition code icd10 subcategory, dtype: int64"
      ]
     },
     "execution_count": 19,
     "metadata": {},
     "output_type": "execute_result"
    }
   ],
   "source": [
    "conditions['Condition code icd10 subcategory'].value_counts()[:10]"
   ]
  },
  {
   "cell_type": "code",
   "execution_count": 8,
   "metadata": {},
   "outputs": [
    {
     "data": {
      "text/plain": [
       "Diagnosis    84735542\n",
       "Problem       3530929\n",
       "Name: Condition type, dtype: int64"
      ]
     },
     "execution_count": 8,
     "metadata": {},
     "output_type": "execute_result"
    }
   ],
   "source": [
    "conditions['Condition type'].value_counts()"
   ]
  },
  {
   "cell_type": "code",
   "execution_count": 13,
   "metadata": {},
   "outputs": [
    {
     "data": {
      "text/plain": [
       "Essential (primary) hypertension                  4327964\n",
       "Type 2 diabetes mellitus without complications    2956322\n",
       "Encounter for other specified aftercare           2540325\n",
       "Not specified                                     2240715\n",
       "Other specified counseling                        1979166\n",
       "                                                   ...   \n",
       "Adjustment disorders                               162540\n",
       "Iron deficiency anemia, unspecified                160798\n",
       "Constipation                                       160495\n",
       "Unspecified abnormalities of gait and mobility     160460\n",
       "Actinic keratosis                                  155066\n",
       "Name: Condition code icd10 subcategory, Length: 100, dtype: int64"
      ]
     },
     "execution_count": 13,
     "metadata": {},
     "output_type": "execute_result"
    }
   ],
   "source": [
    "conditions['Condition code icd10 subcategory'].value_counts()[0:100]"
   ]
  },
  {
   "cell_type": "code",
   "execution_count": 11,
   "metadata": {},
   "outputs": [
    {
     "data": {
      "text/plain": [
       "P     39507464\n",
       "S     36081245\n",
       "1      1043816\n",
       "2      1025433\n",
       "3       997593\n",
       "4       960442\n",
       "5       906688\n",
       "6       549663\n",
       "7       508198\n",
       "8       463841\n",
       "9       418105\n",
       "10      372436\n",
       "11      308538\n",
       "12      272552\n",
       "13      237249\n",
       "14      151058\n",
       "15      134655\n",
       "16      119103\n",
       "17      104409\n",
       "18       91329\n",
       "19       79192\n",
       "20       68491\n",
       "21       58523\n",
       "22       50139\n",
       "23       42473\n",
       "24       35877\n",
       "25       29182\n",
       "Name: Diagnosis sequence number or rank, dtype: int64"
      ]
     },
     "execution_count": 11,
     "metadata": {},
     "output_type": "execute_result"
    }
   ],
   "source": [
    "conditions['Diagnosis sequence number or rank'].value_counts()"
   ]
  }
 ],
 "metadata": {
  "kernelspec": {
   "display_name": "Python 3",
   "language": "python",
   "name": "python3"
  },
  "language_info": {
   "codemirror_mode": {
    "name": "ipython",
    "version": 3
   },
   "file_extension": ".py",
   "mimetype": "text/x-python",
   "name": "python",
   "nbconvert_exporter": "python",
   "pygments_lexer": "ipython3",
   "version": "3.10.11"
  },
  "orig_nbformat": 4
 },
 "nbformat": 4,
 "nbformat_minor": 2
}
