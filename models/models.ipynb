{
 "cells": [
  {
   "cell_type": "code",
   "execution_count": 15,
   "metadata": {},
   "outputs": [],
   "source": [
    "import pandas as pd\n",
    "\n",
    "\n",
    "import numpy as np\n",
    "import pandas as pd\n",
    "\n",
    "from sklearn.model_selection import train_test_split\n",
    "from sklearn.linear_model import LogisticRegression\n",
    "from sklearn.model_selection import cross_val_score\n",
    "\n",
    "from sklearn.metrics import classification_report, confusion_matrix\n",
    "from sklearn.metrics import ConfusionMatrixDisplay\n"
   ]
  },
  {
   "cell_type": "code",
   "execution_count": 44,
   "metadata": {},
   "outputs": [],
   "source": [
    "path = '/home/daisy/FDA_Dataset/inpatient_all_final_1.csv'\n",
    "df1 = pd.read_csv(path).iloc[:,1:]\n",
    "df1.drop(columns = ['Veteran flag','period mean','period std',\n",
    "                    'Event date','Marital status', 'Marital status encoded',\n",
    "                    'State','Ruca category'], inplace=True)\n",
    "\n",
    "\n",
    "path = '/home/daisy/FDA_Dataset/inpatient_all_final_2.csv'\n",
    "df2 = pd.read_csv(path).iloc[:,1:]\n",
    "df2.drop(columns = ['Veteran flag','period mean','period std',\n",
    "                    'Event date','Marital status', 'Marital status encoded',\n",
    "                    'State','Ruca category'], inplace=True)"
   ]
  },
  {
   "cell_type": "code",
   "execution_count": 12,
   "metadata": {},
   "outputs": [
    {
     "data": {
      "text/plain": [
       "(84536, 81)"
      ]
     },
     "execution_count": 12,
     "metadata": {},
     "output_type": "execute_result"
    }
   ],
   "source": [
    "df1.shape"
   ]
  },
  {
   "cell_type": "code",
   "execution_count": 35,
   "metadata": {},
   "outputs": [
    {
     "name": "stdout",
     "output_type": "stream",
     "text": [
      "<class 'pandas.core.frame.DataFrame'>\n",
      "RangeIndex: 84536 entries, 0 to 84535\n",
      "Data columns (total 81 columns):\n",
      " #   Column                        Non-Null Count  Dtype  \n",
      "---  ------                        --------------  -----  \n",
      " 0   Internalpatientid             84536 non-null  int64  \n",
      " 1   num_stays                     84536 non-null  int64  \n",
      " 2   stay_length                   84536 non-null  float64\n",
      " 3   num_unique_units              84536 non-null  int64  \n",
      " 4   num_transfers                 84536 non-null  int64  \n",
      " 5   num_cvd_readmission           84536 non-null  int64  \n",
      " 6   Readmission                   84536 non-null  int64  \n",
      " 7   Died                          84536 non-null  int64  \n",
      " 8   AO                            84536 non-null  int64  \n",
      " 9   CVD                           84536 non-null  int64  \n",
      " 10  unique_admitting_specialty    84536 non-null  int64  \n",
      " 11  unique_discharging_specialty  84536 non-null  int64  \n",
      " 12  DOMICILIARY                   84536 non-null  int64  \n",
      " 13  MEDICINE                      84536 non-null  int64  \n",
      " 14  NHCU                          84536 non-null  int64  \n",
      " 15  NON-COUNT                     84536 non-null  int64  \n",
      " 16  OTHERS                        84536 non-null  int64  \n",
      " 17  PSYCHIATRY                    84536 non-null  int64  \n",
      " 18  SURGERY                       84536 non-null  int64  \n",
      " 19  Age 20-40                     84536 non-null  int64  \n",
      " 20  Age 40-60                     84536 non-null  int64  \n",
      " 21  Age 60-80                     84536 non-null  int64  \n",
      " 22  Age 80-100                    84536 non-null  int64  \n",
      " 23  Age 100-120                   84536 non-null  int64  \n",
      " 24  age_mean                      84536 non-null  float64\n",
      " 25  age_std                       84536 non-null  float64\n",
      " 26  age_min                       84536 non-null  float64\n",
      " 27  age_max                       84536 non-null  float64\n",
      " 28  stay_min                      84536 non-null  float64\n",
      " 29  stay_max                      84536 non-null  float64\n",
      " 30  stay_mean                     84536 non-null  float64\n",
      " 31  stay_std                      84536 non-null  float64\n",
      " 32  freq                          84536 non-null  float64\n",
      " 33  total_procedure               84531 non-null  float64\n",
      " 34  num_surgery_pro               84531 non-null  float64\n",
      " 35  Ethnicity                     84536 non-null  int64  \n",
      " 36  Gender                        84536 non-null  int64  \n",
      " 37  Races                         84536 non-null  int64  \n",
      " 38  Ethnicity_0                   84536 non-null  int64  \n",
      " 39  Ethnicity_1                   84536 non-null  int64  \n",
      " 40  Ethnicity_2                   84536 non-null  int64  \n",
      " 41  Races_0                       84536 non-null  int64  \n",
      " 42  Races_1                       84536 non-null  int64  \n",
      " 43  Races_2                       84536 non-null  int64  \n",
      " 44  Races_3                       84536 non-null  int64  \n",
      " 45  num_immunization              80454 non-null  float64\n",
      " 46  Num med per admission mean    62193 non-null  float64\n",
      " 47  Num med per admission min     62193 non-null  float64\n",
      " 48  Num med per admission max     62193 non-null  float64\n",
      " 49  Total medications             62193 non-null  float64\n",
      " 50  mean age at specailty         84534 non-null  float64\n",
      " 51  period mean                   84534 non-null  object \n",
      " 52  period std                    84534 non-null  object \n",
      " 53  specialty medical count       84534 non-null  float64\n",
      " 54  specialty support count       84534 non-null  float64\n",
      " 55  specialty count               84534 non-null  float64\n",
      " 56  Event date                    84536 non-null  object \n",
      " 57  Marital status                84536 non-null  object \n",
      " 58  Ruca category                 84536 non-null  object \n",
      " 59  Marital status encoded        84191 non-null  float64\n",
      " 60  Ruca category encoded         84536 non-null  float64\n",
      " 61  State                         84536 non-null  object \n",
      " 62  Age 20-40 hypotension         80906 non-null  float64\n",
      " 63  Age 40-60 hypotension         80906 non-null  float64\n",
      " 64  Age 60-80 hypotension         80906 non-null  float64\n",
      " 65  Age 80-100 hypotension        80906 non-null  float64\n",
      " 66  Age 100-120 hypotension       80906 non-null  float64\n",
      " 67  Age 20-40 hypertension        83823 non-null  float64\n",
      " 68  Age 40-60 hypertension        83823 non-null  float64\n",
      " 69  Age 60-80 hypertension        83823 non-null  float64\n",
      " 70  Age 80-100 hypertension       83823 non-null  float64\n",
      " 71  Age 100-120 hypertension      83823 non-null  float64\n",
      " 72  Age 20-40 healthy             83238 non-null  float64\n",
      " 73  Age 40-60 healthy             83238 non-null  float64\n",
      " 74  Age 60-80 healthy             83238 non-null  float64\n",
      " 75  Age 80-100 healthy            83238 non-null  float64\n",
      " 76  Age 100-120 healthy           83238 non-null  float64\n",
      " 77  lab_count                     84503 non-null  float64\n",
      " 78  lab_freq                      84503 non-null  float64\n",
      " 79  lab_age_mean                  84503 non-null  float64\n",
      " 80  lab_age_std                   84503 non-null  float64\n",
      "dtypes: float64(42), int64(33), object(6)\n",
      "memory usage: 52.2+ MB\n"
     ]
    }
   ],
   "source": [
    "df1.info()"
   ]
  },
  {
   "cell_type": "markdown",
   "metadata": {},
   "source": [
    "### Train test split\n"
   ]
  },
  {
   "cell_type": "code",
   "execution_count": 26,
   "metadata": {},
   "outputs": [
    {
     "name": "stdout",
     "output_type": "stream",
     "text": [
      "<class 'pandas.core.frame.DataFrame'>\n",
      "RangeIndex: 84536 entries, 0 to 84535\n",
      "Data columns (total 81 columns):\n",
      " #   Column                        Non-Null Count  Dtype  \n",
      "---  ------                        --------------  -----  \n",
      " 0   Internalpatientid             84536 non-null  int64  \n",
      " 1   num_stays                     84536 non-null  int64  \n",
      " 2   stay_length                   84536 non-null  float64\n",
      " 3   num_unique_units              84536 non-null  int64  \n",
      " 4   num_transfers                 84536 non-null  int64  \n",
      " 5   num_cvd_readmission           84536 non-null  int64  \n",
      " 6   Readmission                   84536 non-null  int64  \n",
      " 7   Died                          84536 non-null  int64  \n",
      " 8   AO                            84536 non-null  int64  \n",
      " 9   CVD                           84536 non-null  int64  \n",
      " 10  unique_admitting_specialty    84536 non-null  int64  \n",
      " 11  unique_discharging_specialty  84536 non-null  int64  \n",
      " 12  DOMICILIARY                   84536 non-null  int64  \n",
      " 13  MEDICINE                      84536 non-null  int64  \n",
      " 14  NHCU                          84536 non-null  int64  \n",
      " 15  NON-COUNT                     84536 non-null  int64  \n",
      " 16  OTHERS                        84536 non-null  int64  \n",
      " 17  PSYCHIATRY                    84536 non-null  int64  \n",
      " 18  SURGERY                       84536 non-null  int64  \n",
      " 19  Age 20-40                     84536 non-null  int64  \n",
      " 20  Age 40-60                     84536 non-null  int64  \n",
      " 21  Age 60-80                     84536 non-null  int64  \n",
      " 22  Age 80-100                    84536 non-null  int64  \n",
      " 23  Age 100-120                   84536 non-null  int64  \n",
      " 24  age_mean                      84536 non-null  float64\n",
      " 25  age_std                       84536 non-null  float64\n",
      " 26  age_min                       84536 non-null  float64\n",
      " 27  age_max                       84536 non-null  float64\n",
      " 28  stay_min                      84536 non-null  float64\n",
      " 29  stay_max                      84536 non-null  float64\n",
      " 30  stay_mean                     84536 non-null  float64\n",
      " 31  stay_std                      84536 non-null  float64\n",
      " 32  freq                          84536 non-null  float64\n",
      " 33  total_procedure               84531 non-null  float64\n",
      " 34  num_surgery_pro               84531 non-null  float64\n",
      " 35  Ethnicity                     84536 non-null  int64  \n",
      " 36  Gender                        84536 non-null  int64  \n",
      " 37  Races                         84536 non-null  int64  \n",
      " 38  Ethnicity_0                   84536 non-null  int64  \n",
      " 39  Ethnicity_1                   84536 non-null  int64  \n",
      " 40  Ethnicity_2                   84536 non-null  int64  \n",
      " 41  Races_0                       84536 non-null  int64  \n",
      " 42  Races_1                       84536 non-null  int64  \n",
      " 43  Races_2                       84536 non-null  int64  \n",
      " 44  Races_3                       84536 non-null  int64  \n",
      " 45  num_immunization              80454 non-null  float64\n",
      " 46  Num med per admission mean    62193 non-null  float64\n",
      " 47  Num med per admission min     62193 non-null  float64\n",
      " 48  Num med per admission max     62193 non-null  float64\n",
      " 49  Total medications             62193 non-null  float64\n",
      " 50  mean age at specailty         84534 non-null  float64\n",
      " 51  period mean                   84534 non-null  object \n",
      " 52  period std                    84534 non-null  object \n",
      " 53  specialty medical count       84534 non-null  float64\n",
      " 54  specialty support count       84534 non-null  float64\n",
      " 55  specialty count               84534 non-null  float64\n",
      " 56  Event date                    84536 non-null  object \n",
      " 57  Marital status                84536 non-null  object \n",
      " 58  Ruca category                 84536 non-null  object \n",
      " 59  Marital status encoded        84191 non-null  float64\n",
      " 60  Ruca category encoded         84536 non-null  float64\n",
      " 61  State                         84536 non-null  object \n",
      " 62  Age 20-40 hypotension         80906 non-null  float64\n",
      " 63  Age 40-60 hypotension         80906 non-null  float64\n",
      " 64  Age 60-80 hypotension         80906 non-null  float64\n",
      " 65  Age 80-100 hypotension        80906 non-null  float64\n",
      " 66  Age 100-120 hypotension       80906 non-null  float64\n",
      " 67  Age 20-40 hypertension        83823 non-null  float64\n",
      " 68  Age 40-60 hypertension        83823 non-null  float64\n",
      " 69  Age 60-80 hypertension        83823 non-null  float64\n",
      " 70  Age 80-100 hypertension       83823 non-null  float64\n",
      " 71  Age 100-120 hypertension      83823 non-null  float64\n",
      " 72  Age 20-40 healthy             83238 non-null  float64\n",
      " 73  Age 40-60 healthy             83238 non-null  float64\n",
      " 74  Age 60-80 healthy             83238 non-null  float64\n",
      " 75  Age 80-100 healthy            83238 non-null  float64\n",
      " 76  Age 100-120 healthy           83238 non-null  float64\n",
      " 77  lab_count                     84503 non-null  float64\n",
      " 78  lab_freq                      84503 non-null  float64\n",
      " 79  lab_age_mean                  84503 non-null  float64\n",
      " 80  lab_age_std                   84503 non-null  float64\n",
      "dtypes: float64(42), int64(33), object(6)\n",
      "memory usage: 52.2+ MB\n"
     ]
    }
   ],
   "source": [
    "df1.info()"
   ]
  },
  {
   "cell_type": "code",
   "execution_count": 45,
   "metadata": {},
   "outputs": [],
   "source": [
    "X_admission = df1.drop(columns = ['Readmission'])\n",
    "Y_admission = df1[['Readmission']]\n",
    "\n",
    "X_mortality = df1.drop(columns = ['Died'])\n",
    "Y_mortality = df1[['Died']]"
   ]
  },
  {
   "cell_type": "code",
   "execution_count": 46,
   "metadata": {},
   "outputs": [],
   "source": [
    "X_train_ad, X_test_ad, y_train_ad, y_test_ad = train_test_split(X_admission, Y_admission, test_size=0.20, random_state=42)\n",
    "X_train_mor, X_test_mor, y_train_mor, y_test_mor = train_test_split(X_mortality, Y_mortality, test_size=0.20, random_state=42)\n"
   ]
  },
  {
   "cell_type": "markdown",
   "metadata": {},
   "source": [
    "#### Logistic Regression"
   ]
  },
  {
   "cell_type": "code",
   "execution_count": 47,
   "metadata": {},
   "outputs": [
    {
     "ename": "ValueError",
     "evalue": "could not convert string to float: 'Urban'",
     "output_type": "error",
     "traceback": [
      "\u001b[0;31m---------------------------------------------------------------------------\u001b[0m",
      "\u001b[0;31mValueError\u001b[0m                                Traceback (most recent call last)",
      "\u001b[0;32m/tmp/ipykernel_63539/1390832451.py\u001b[0m in \u001b[0;36m?\u001b[0;34m()\u001b[0m\n\u001b[1;32m      1\u001b[0m \u001b[0mlr\u001b[0m \u001b[0;34m=\u001b[0m \u001b[0mLogisticRegression\u001b[0m\u001b[0;34m(\u001b[0m\u001b[0;34m)\u001b[0m\u001b[0;34m\u001b[0m\u001b[0;34m\u001b[0m\u001b[0m\n\u001b[1;32m      2\u001b[0m \u001b[0;31m# Training\u001b[0m\u001b[0;34m\u001b[0m\u001b[0;34m\u001b[0m\u001b[0m\n\u001b[0;32m----> 3\u001b[0;31m \u001b[0mlr\u001b[0m\u001b[0;34m.\u001b[0m\u001b[0mfit\u001b[0m\u001b[0;34m(\u001b[0m\u001b[0mX_train_ad\u001b[0m\u001b[0;34m,\u001b[0m \u001b[0my_train_ad\u001b[0m\u001b[0;34m)\u001b[0m\u001b[0;34m\u001b[0m\u001b[0;34m\u001b[0m\u001b[0m\n\u001b[0m\u001b[1;32m      4\u001b[0m \u001b[0;34m\u001b[0m\u001b[0m\n\u001b[1;32m      5\u001b[0m \u001b[0;31m# Prediction\u001b[0m\u001b[0;34m\u001b[0m\u001b[0;34m\u001b[0m\u001b[0m\n\u001b[1;32m      6\u001b[0m \u001b[0mlr_prediction\u001b[0m \u001b[0;34m=\u001b[0m \u001b[0mlr\u001b[0m\u001b[0;34m.\u001b[0m\u001b[0mpredict\u001b[0m\u001b[0;34m(\u001b[0m\u001b[0mX_test_ad\u001b[0m\u001b[0;34m)\u001b[0m\u001b[0;34m\u001b[0m\u001b[0;34m\u001b[0m\u001b[0m\n",
      "\u001b[0;32m/home/hassan/.conda/envs/mla/lib/python3.10/site-packages/sklearn/linear_model/_logistic.py\u001b[0m in \u001b[0;36m?\u001b[0;34m(self, X, y, sample_weight)\u001b[0m\n\u001b[1;32m   1192\u001b[0m             \u001b[0m_dtype\u001b[0m \u001b[0;34m=\u001b[0m \u001b[0mnp\u001b[0m\u001b[0;34m.\u001b[0m\u001b[0mfloat64\u001b[0m\u001b[0;34m\u001b[0m\u001b[0;34m\u001b[0m\u001b[0m\n\u001b[1;32m   1193\u001b[0m         \u001b[0;32melse\u001b[0m\u001b[0;34m:\u001b[0m\u001b[0;34m\u001b[0m\u001b[0;34m\u001b[0m\u001b[0m\n\u001b[1;32m   1194\u001b[0m             \u001b[0m_dtype\u001b[0m \u001b[0;34m=\u001b[0m \u001b[0;34m[\u001b[0m\u001b[0mnp\u001b[0m\u001b[0;34m.\u001b[0m\u001b[0mfloat64\u001b[0m\u001b[0;34m,\u001b[0m \u001b[0mnp\u001b[0m\u001b[0;34m.\u001b[0m\u001b[0mfloat32\u001b[0m\u001b[0;34m]\u001b[0m\u001b[0;34m\u001b[0m\u001b[0;34m\u001b[0m\u001b[0m\n\u001b[1;32m   1195\u001b[0m \u001b[0;34m\u001b[0m\u001b[0m\n\u001b[0;32m-> 1196\u001b[0;31m         X, y = self._validate_data(\n\u001b[0m\u001b[1;32m   1197\u001b[0m             \u001b[0mX\u001b[0m\u001b[0;34m,\u001b[0m\u001b[0;34m\u001b[0m\u001b[0;34m\u001b[0m\u001b[0m\n\u001b[1;32m   1198\u001b[0m             \u001b[0my\u001b[0m\u001b[0;34m,\u001b[0m\u001b[0;34m\u001b[0m\u001b[0;34m\u001b[0m\u001b[0m\n\u001b[1;32m   1199\u001b[0m             \u001b[0maccept_sparse\u001b[0m\u001b[0;34m=\u001b[0m\u001b[0;34m\"csr\"\u001b[0m\u001b[0;34m,\u001b[0m\u001b[0;34m\u001b[0m\u001b[0;34m\u001b[0m\u001b[0m\n",
      "\u001b[0;32m/home/hassan/.conda/envs/mla/lib/python3.10/site-packages/sklearn/base.py\u001b[0m in \u001b[0;36m?\u001b[0;34m(self, X, y, reset, validate_separately, **check_params)\u001b[0m\n\u001b[1;32m    580\u001b[0m                 \u001b[0;32mif\u001b[0m \u001b[0;34m\"estimator\"\u001b[0m \u001b[0;32mnot\u001b[0m \u001b[0;32min\u001b[0m \u001b[0mcheck_y_params\u001b[0m\u001b[0;34m:\u001b[0m\u001b[0;34m\u001b[0m\u001b[0;34m\u001b[0m\u001b[0m\n\u001b[1;32m    581\u001b[0m                     \u001b[0mcheck_y_params\u001b[0m \u001b[0;34m=\u001b[0m \u001b[0;34m{\u001b[0m\u001b[0;34m**\u001b[0m\u001b[0mdefault_check_params\u001b[0m\u001b[0;34m,\u001b[0m \u001b[0;34m**\u001b[0m\u001b[0mcheck_y_params\u001b[0m\u001b[0;34m}\u001b[0m\u001b[0;34m\u001b[0m\u001b[0;34m\u001b[0m\u001b[0m\n\u001b[1;32m    582\u001b[0m                 \u001b[0my\u001b[0m \u001b[0;34m=\u001b[0m \u001b[0mcheck_array\u001b[0m\u001b[0;34m(\u001b[0m\u001b[0my\u001b[0m\u001b[0;34m,\u001b[0m \u001b[0minput_name\u001b[0m\u001b[0;34m=\u001b[0m\u001b[0;34m\"y\"\u001b[0m\u001b[0;34m,\u001b[0m \u001b[0;34m**\u001b[0m\u001b[0mcheck_y_params\u001b[0m\u001b[0;34m)\u001b[0m\u001b[0;34m\u001b[0m\u001b[0;34m\u001b[0m\u001b[0m\n\u001b[1;32m    583\u001b[0m             \u001b[0;32melse\u001b[0m\u001b[0;34m:\u001b[0m\u001b[0;34m\u001b[0m\u001b[0;34m\u001b[0m\u001b[0m\n\u001b[0;32m--> 584\u001b[0;31m                 \u001b[0mX\u001b[0m\u001b[0;34m,\u001b[0m \u001b[0my\u001b[0m \u001b[0;34m=\u001b[0m \u001b[0mcheck_X_y\u001b[0m\u001b[0;34m(\u001b[0m\u001b[0mX\u001b[0m\u001b[0;34m,\u001b[0m \u001b[0my\u001b[0m\u001b[0;34m,\u001b[0m \u001b[0;34m**\u001b[0m\u001b[0mcheck_params\u001b[0m\u001b[0;34m)\u001b[0m\u001b[0;34m\u001b[0m\u001b[0;34m\u001b[0m\u001b[0m\n\u001b[0m\u001b[1;32m    585\u001b[0m             \u001b[0mout\u001b[0m \u001b[0;34m=\u001b[0m \u001b[0mX\u001b[0m\u001b[0;34m,\u001b[0m \u001b[0my\u001b[0m\u001b[0;34m\u001b[0m\u001b[0;34m\u001b[0m\u001b[0m\n\u001b[1;32m    586\u001b[0m \u001b[0;34m\u001b[0m\u001b[0m\n\u001b[1;32m    587\u001b[0m         \u001b[0;32mif\u001b[0m \u001b[0;32mnot\u001b[0m \u001b[0mno_val_X\u001b[0m \u001b[0;32mand\u001b[0m \u001b[0mcheck_params\u001b[0m\u001b[0;34m.\u001b[0m\u001b[0mget\u001b[0m\u001b[0;34m(\u001b[0m\u001b[0;34m\"ensure_2d\"\u001b[0m\u001b[0;34m,\u001b[0m \u001b[0;32mTrue\u001b[0m\u001b[0;34m)\u001b[0m\u001b[0;34m:\u001b[0m\u001b[0;34m\u001b[0m\u001b[0;34m\u001b[0m\u001b[0m\n",
      "\u001b[0;32m/home/hassan/.conda/envs/mla/lib/python3.10/site-packages/sklearn/utils/validation.py\u001b[0m in \u001b[0;36m?\u001b[0;34m(X, y, accept_sparse, accept_large_sparse, dtype, order, copy, force_all_finite, ensure_2d, allow_nd, multi_output, ensure_min_samples, ensure_min_features, y_numeric, estimator)\u001b[0m\n\u001b[1;32m   1102\u001b[0m         raise ValueError(\n\u001b[1;32m   1103\u001b[0m             \u001b[0;34mf\"{estimator_name} requires y to be passed, but the target y is None\"\u001b[0m\u001b[0;34m\u001b[0m\u001b[0;34m\u001b[0m\u001b[0m\n\u001b[1;32m   1104\u001b[0m         )\n\u001b[1;32m   1105\u001b[0m \u001b[0;34m\u001b[0m\u001b[0m\n\u001b[0;32m-> 1106\u001b[0;31m     X = check_array(\n\u001b[0m\u001b[1;32m   1107\u001b[0m         \u001b[0mX\u001b[0m\u001b[0;34m,\u001b[0m\u001b[0;34m\u001b[0m\u001b[0;34m\u001b[0m\u001b[0m\n\u001b[1;32m   1108\u001b[0m         \u001b[0maccept_sparse\u001b[0m\u001b[0;34m=\u001b[0m\u001b[0maccept_sparse\u001b[0m\u001b[0;34m,\u001b[0m\u001b[0;34m\u001b[0m\u001b[0;34m\u001b[0m\u001b[0m\n\u001b[1;32m   1109\u001b[0m         \u001b[0maccept_large_sparse\u001b[0m\u001b[0;34m=\u001b[0m\u001b[0maccept_large_sparse\u001b[0m\u001b[0;34m,\u001b[0m\u001b[0;34m\u001b[0m\u001b[0;34m\u001b[0m\u001b[0m\n",
      "\u001b[0;32m/home/hassan/.conda/envs/mla/lib/python3.10/site-packages/sklearn/utils/validation.py\u001b[0m in \u001b[0;36m?\u001b[0;34m(array, accept_sparse, accept_large_sparse, dtype, order, copy, force_all_finite, ensure_2d, allow_nd, ensure_min_samples, ensure_min_features, estimator, input_name)\u001b[0m\n\u001b[1;32m    876\u001b[0m                         )\n\u001b[1;32m    877\u001b[0m                     \u001b[0marray\u001b[0m \u001b[0;34m=\u001b[0m \u001b[0mxp\u001b[0m\u001b[0;34m.\u001b[0m\u001b[0mastype\u001b[0m\u001b[0;34m(\u001b[0m\u001b[0marray\u001b[0m\u001b[0;34m,\u001b[0m \u001b[0mdtype\u001b[0m\u001b[0;34m,\u001b[0m \u001b[0mcopy\u001b[0m\u001b[0;34m=\u001b[0m\u001b[0;32mFalse\u001b[0m\u001b[0;34m)\u001b[0m\u001b[0;34m\u001b[0m\u001b[0;34m\u001b[0m\u001b[0m\n\u001b[1;32m    878\u001b[0m                 \u001b[0;32melse\u001b[0m\u001b[0;34m:\u001b[0m\u001b[0;34m\u001b[0m\u001b[0;34m\u001b[0m\u001b[0m\n\u001b[1;32m    879\u001b[0m                     \u001b[0marray\u001b[0m \u001b[0;34m=\u001b[0m \u001b[0m_asarray_with_order\u001b[0m\u001b[0;34m(\u001b[0m\u001b[0marray\u001b[0m\u001b[0;34m,\u001b[0m \u001b[0morder\u001b[0m\u001b[0;34m=\u001b[0m\u001b[0morder\u001b[0m\u001b[0;34m,\u001b[0m \u001b[0mdtype\u001b[0m\u001b[0;34m=\u001b[0m\u001b[0mdtype\u001b[0m\u001b[0;34m,\u001b[0m \u001b[0mxp\u001b[0m\u001b[0;34m=\u001b[0m\u001b[0mxp\u001b[0m\u001b[0;34m)\u001b[0m\u001b[0;34m\u001b[0m\u001b[0;34m\u001b[0m\u001b[0m\n\u001b[0;32m--> 880\u001b[0;31m             \u001b[0;32mexcept\u001b[0m \u001b[0mComplexWarning\u001b[0m \u001b[0;32mas\u001b[0m \u001b[0mcomplex_warning\u001b[0m\u001b[0;34m:\u001b[0m\u001b[0;34m\u001b[0m\u001b[0;34m\u001b[0m\u001b[0m\n\u001b[0m\u001b[1;32m    881\u001b[0m                 raise ValueError(\n\u001b[1;32m    882\u001b[0m                     \u001b[0;34m\"Complex data not supported\\n{}\\n\"\u001b[0m\u001b[0;34m.\u001b[0m\u001b[0mformat\u001b[0m\u001b[0;34m(\u001b[0m\u001b[0marray\u001b[0m\u001b[0;34m)\u001b[0m\u001b[0;34m\u001b[0m\u001b[0;34m\u001b[0m\u001b[0m\n\u001b[1;32m    883\u001b[0m                 ) from complex_warning\n",
      "\u001b[0;32m/home/hassan/.conda/envs/mla/lib/python3.10/site-packages/sklearn/utils/_array_api.py\u001b[0m in \u001b[0;36m?\u001b[0;34m(array, dtype, order, copy, xp)\u001b[0m\n\u001b[1;32m    181\u001b[0m     \u001b[0;32mif\u001b[0m \u001b[0mxp\u001b[0m \u001b[0;32mis\u001b[0m \u001b[0;32mNone\u001b[0m\u001b[0;34m:\u001b[0m\u001b[0;34m\u001b[0m\u001b[0;34m\u001b[0m\u001b[0m\n\u001b[1;32m    182\u001b[0m         \u001b[0mxp\u001b[0m\u001b[0;34m,\u001b[0m \u001b[0m_\u001b[0m \u001b[0;34m=\u001b[0m \u001b[0mget_namespace\u001b[0m\u001b[0;34m(\u001b[0m\u001b[0marray\u001b[0m\u001b[0;34m)\u001b[0m\u001b[0;34m\u001b[0m\u001b[0;34m\u001b[0m\u001b[0m\n\u001b[1;32m    183\u001b[0m     \u001b[0;32mif\u001b[0m \u001b[0mxp\u001b[0m\u001b[0;34m.\u001b[0m\u001b[0m__name__\u001b[0m \u001b[0;32min\u001b[0m \u001b[0;34m{\u001b[0m\u001b[0;34m\"numpy\"\u001b[0m\u001b[0;34m,\u001b[0m \u001b[0;34m\"numpy.array_api\"\u001b[0m\u001b[0;34m}\u001b[0m\u001b[0;34m:\u001b[0m\u001b[0;34m\u001b[0m\u001b[0;34m\u001b[0m\u001b[0m\n\u001b[1;32m    184\u001b[0m         \u001b[0;31m# Use NumPy API to support order\u001b[0m\u001b[0;34m\u001b[0m\u001b[0;34m\u001b[0m\u001b[0m\n\u001b[0;32m--> 185\u001b[0;31m         \u001b[0marray\u001b[0m \u001b[0;34m=\u001b[0m \u001b[0mnumpy\u001b[0m\u001b[0;34m.\u001b[0m\u001b[0masarray\u001b[0m\u001b[0;34m(\u001b[0m\u001b[0marray\u001b[0m\u001b[0;34m,\u001b[0m \u001b[0morder\u001b[0m\u001b[0;34m=\u001b[0m\u001b[0morder\u001b[0m\u001b[0;34m,\u001b[0m \u001b[0mdtype\u001b[0m\u001b[0;34m=\u001b[0m\u001b[0mdtype\u001b[0m\u001b[0;34m)\u001b[0m\u001b[0;34m\u001b[0m\u001b[0;34m\u001b[0m\u001b[0m\n\u001b[0m\u001b[1;32m    186\u001b[0m         \u001b[0;32mreturn\u001b[0m \u001b[0mxp\u001b[0m\u001b[0;34m.\u001b[0m\u001b[0masarray\u001b[0m\u001b[0;34m(\u001b[0m\u001b[0marray\u001b[0m\u001b[0;34m,\u001b[0m \u001b[0mcopy\u001b[0m\u001b[0;34m=\u001b[0m\u001b[0mcopy\u001b[0m\u001b[0;34m)\u001b[0m\u001b[0;34m\u001b[0m\u001b[0;34m\u001b[0m\u001b[0m\n\u001b[1;32m    187\u001b[0m     \u001b[0;32melse\u001b[0m\u001b[0;34m:\u001b[0m\u001b[0;34m\u001b[0m\u001b[0;34m\u001b[0m\u001b[0m\n\u001b[1;32m    188\u001b[0m         \u001b[0;32mreturn\u001b[0m \u001b[0mxp\u001b[0m\u001b[0;34m.\u001b[0m\u001b[0masarray\u001b[0m\u001b[0;34m(\u001b[0m\u001b[0marray\u001b[0m\u001b[0;34m,\u001b[0m \u001b[0mdtype\u001b[0m\u001b[0;34m=\u001b[0m\u001b[0mdtype\u001b[0m\u001b[0;34m,\u001b[0m \u001b[0mcopy\u001b[0m\u001b[0;34m=\u001b[0m\u001b[0mcopy\u001b[0m\u001b[0;34m)\u001b[0m\u001b[0;34m\u001b[0m\u001b[0;34m\u001b[0m\u001b[0m\n",
      "\u001b[0;32m/home/hassan/.conda/envs/mla/lib/python3.10/site-packages/pandas/core/generic.py\u001b[0m in \u001b[0;36m?\u001b[0;34m(self, dtype)\u001b[0m\n\u001b[1;32m   2069\u001b[0m     \u001b[0;32mdef\u001b[0m \u001b[0m__array__\u001b[0m\u001b[0;34m(\u001b[0m\u001b[0mself\u001b[0m\u001b[0;34m,\u001b[0m \u001b[0mdtype\u001b[0m\u001b[0;34m:\u001b[0m \u001b[0mnpt\u001b[0m\u001b[0;34m.\u001b[0m\u001b[0mDTypeLike\u001b[0m \u001b[0;34m|\u001b[0m \u001b[0;32mNone\u001b[0m \u001b[0;34m=\u001b[0m \u001b[0;32mNone\u001b[0m\u001b[0;34m)\u001b[0m \u001b[0;34m->\u001b[0m \u001b[0mnp\u001b[0m\u001b[0;34m.\u001b[0m\u001b[0mndarray\u001b[0m\u001b[0;34m:\u001b[0m\u001b[0;34m\u001b[0m\u001b[0;34m\u001b[0m\u001b[0m\n\u001b[0;32m-> 2070\u001b[0;31m         \u001b[0;32mreturn\u001b[0m \u001b[0mnp\u001b[0m\u001b[0;34m.\u001b[0m\u001b[0masarray\u001b[0m\u001b[0;34m(\u001b[0m\u001b[0mself\u001b[0m\u001b[0;34m.\u001b[0m\u001b[0m_values\u001b[0m\u001b[0;34m,\u001b[0m \u001b[0mdtype\u001b[0m\u001b[0;34m=\u001b[0m\u001b[0mdtype\u001b[0m\u001b[0;34m)\u001b[0m\u001b[0;34m\u001b[0m\u001b[0;34m\u001b[0m\u001b[0m\n\u001b[0m",
      "\u001b[0;31mValueError\u001b[0m: could not convert string to float: 'Urban'"
     ]
    }
   ],
   "source": [
    "lr = LogisticRegression()\n",
    "# Training\n",
    "lr.fit(X_train_ad, y_train_ad)\n",
    "\n",
    "# Prediction\n",
    "lr_prediction = lr.predict(X_test_ad)"
   ]
  },
  {
   "cell_type": "code",
   "execution_count": null,
   "metadata": {},
   "outputs": [],
   "source": [
    "print(classification_report(y_test_ad, lr_prediction, target_names= ['Not Readmitted', 'Readmitted']))"
   ]
  }
 ],
 "metadata": {
  "kernelspec": {
   "display_name": "Python 3",
   "language": "python",
   "name": "python3"
  },
  "language_info": {
   "codemirror_mode": {
    "name": "ipython",
    "version": 3
   },
   "file_extension": ".py",
   "mimetype": "text/x-python",
   "name": "python",
   "nbconvert_exporter": "python",
   "pygments_lexer": "ipython3",
   "version": "3.10.11"
  },
  "orig_nbformat": 4
 },
 "nbformat": 4,
 "nbformat_minor": 2
}
