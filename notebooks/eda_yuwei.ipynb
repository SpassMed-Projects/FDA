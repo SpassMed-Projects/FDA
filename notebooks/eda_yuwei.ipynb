{
 "cells": [
  {
   "cell_type": "code",
   "execution_count": 12,
   "metadata": {},
   "outputs": [],
   "source": [
    "import pandas as pd\n",
    "import os\n",
    "import numpy as np\n",
    "from tqdm.auto import tqdm"
   ]
  },
  {
   "cell_type": "code",
   "execution_count": 14,
   "metadata": {},
   "outputs": [],
   "source": [
    "data = pd.read_csv(\"/home/vivi/FDA_datasets/demographics_event_preprocessed.csv\")\n"
   ]
  },
  {
   "cell_type": "code",
   "execution_count": 15,
   "metadata": {},
   "outputs": [
    {
     "data": {
      "text/html": [
       "<div>\n",
       "<style scoped>\n",
       "    .dataframe tbody tr th:only-of-type {\n",
       "        vertical-align: middle;\n",
       "    }\n",
       "\n",
       "    .dataframe tbody tr th {\n",
       "        vertical-align: top;\n",
       "    }\n",
       "\n",
       "    .dataframe thead th {\n",
       "        text-align: right;\n",
       "    }\n",
       "</style>\n",
       "<table border=\"1\" class=\"dataframe\">\n",
       "  <thead>\n",
       "    <tr style=\"text-align: right;\">\n",
       "      <th></th>\n",
       "      <th>Unnamed: 0</th>\n",
       "      <th>Internalpatientid</th>\n",
       "      <th>Age at update</th>\n",
       "      <th>Event date</th>\n",
       "      <th>Marital status</th>\n",
       "      <th>Ruca category</th>\n",
       "      <th>Marital status encoded</th>\n",
       "      <th>Ruca category encoded</th>\n",
       "    </tr>\n",
       "  </thead>\n",
       "  <tbody>\n",
       "    <tr>\n",
       "      <th>0</th>\n",
       "      <td>0</td>\n",
       "      <td>100028</td>\n",
       "      <td>78.990830</td>\n",
       "      <td>2020-08-24 03:33:32</td>\n",
       "      <td>Married</td>\n",
       "      <td>Urban</td>\n",
       "      <td>1.0</td>\n",
       "      <td>1.0</td>\n",
       "    </tr>\n",
       "    <tr>\n",
       "      <th>1</th>\n",
       "      <td>1</td>\n",
       "      <td>100032</td>\n",
       "      <td>91.357622</td>\n",
       "      <td>2008-02-07 05:03:27</td>\n",
       "      <td>Married</td>\n",
       "      <td>Rural</td>\n",
       "      <td>1.0</td>\n",
       "      <td>0.0</td>\n",
       "    </tr>\n",
       "    <tr>\n",
       "      <th>2</th>\n",
       "      <td>2</td>\n",
       "      <td>100046</td>\n",
       "      <td>72.961415</td>\n",
       "      <td>2003-09-14 09:32:12</td>\n",
       "      <td>Married</td>\n",
       "      <td>Urban</td>\n",
       "      <td>1.0</td>\n",
       "      <td>1.0</td>\n",
       "    </tr>\n",
       "    <tr>\n",
       "      <th>3</th>\n",
       "      <td>3</td>\n",
       "      <td>100071</td>\n",
       "      <td>75.221222</td>\n",
       "      <td>2019-04-25 08:33:42</td>\n",
       "      <td>Widowed</td>\n",
       "      <td>Urban</td>\n",
       "      <td>1.0</td>\n",
       "      <td>1.0</td>\n",
       "    </tr>\n",
       "    <tr>\n",
       "      <th>4</th>\n",
       "      <td>4</td>\n",
       "      <td>100091</td>\n",
       "      <td>80.955929</td>\n",
       "      <td>2022-02-09 09:24:20</td>\n",
       "      <td>Never married</td>\n",
       "      <td>Urban</td>\n",
       "      <td>1.0</td>\n",
       "      <td>1.0</td>\n",
       "    </tr>\n",
       "    <tr>\n",
       "      <th>...</th>\n",
       "      <td>...</td>\n",
       "      <td>...</td>\n",
       "      <td>...</td>\n",
       "      <td>...</td>\n",
       "      <td>...</td>\n",
       "      <td>...</td>\n",
       "      <td>...</td>\n",
       "      <td>...</td>\n",
       "    </tr>\n",
       "    <tr>\n",
       "      <th>133247</th>\n",
       "      <td>133247</td>\n",
       "      <td>99898</td>\n",
       "      <td>92.376313</td>\n",
       "      <td>2014-05-12 13:01:07</td>\n",
       "      <td>Married</td>\n",
       "      <td>Urban</td>\n",
       "      <td>1.0</td>\n",
       "      <td>1.0</td>\n",
       "    </tr>\n",
       "    <tr>\n",
       "      <th>133248</th>\n",
       "      <td>133248</td>\n",
       "      <td>9995</td>\n",
       "      <td>79.974938</td>\n",
       "      <td>2011-07-08 20:09:29</td>\n",
       "      <td>Married</td>\n",
       "      <td>Rural</td>\n",
       "      <td>1.0</td>\n",
       "      <td>0.0</td>\n",
       "    </tr>\n",
       "    <tr>\n",
       "      <th>133249</th>\n",
       "      <td>133249</td>\n",
       "      <td>99950</td>\n",
       "      <td>77.154395</td>\n",
       "      <td>2005-12-14 22:21:25</td>\n",
       "      <td>Married</td>\n",
       "      <td>Urban</td>\n",
       "      <td>1.0</td>\n",
       "      <td>1.0</td>\n",
       "    </tr>\n",
       "    <tr>\n",
       "      <th>133250</th>\n",
       "      <td>133250</td>\n",
       "      <td>9998</td>\n",
       "      <td>62.324623</td>\n",
       "      <td>2011-02-23 15:35:32</td>\n",
       "      <td>Divorced</td>\n",
       "      <td>Urban</td>\n",
       "      <td>0.0</td>\n",
       "      <td>1.0</td>\n",
       "    </tr>\n",
       "    <tr>\n",
       "      <th>133251</th>\n",
       "      <td>133251</td>\n",
       "      <td>9999</td>\n",
       "      <td>69.752317</td>\n",
       "      <td>2022-11-20 11:19:29</td>\n",
       "      <td>Married</td>\n",
       "      <td>Urban</td>\n",
       "      <td>1.0</td>\n",
       "      <td>1.0</td>\n",
       "    </tr>\n",
       "  </tbody>\n",
       "</table>\n",
       "<p>133252 rows × 8 columns</p>\n",
       "</div>"
      ],
      "text/plain": [
       "        Unnamed: 0  Internalpatientid  Age at update           Event date  \\\n",
       "0                0             100028      78.990830  2020-08-24 03:33:32   \n",
       "1                1             100032      91.357622  2008-02-07 05:03:27   \n",
       "2                2             100046      72.961415  2003-09-14 09:32:12   \n",
       "3                3             100071      75.221222  2019-04-25 08:33:42   \n",
       "4                4             100091      80.955929  2022-02-09 09:24:20   \n",
       "...            ...                ...            ...                  ...   \n",
       "133247      133247              99898      92.376313  2014-05-12 13:01:07   \n",
       "133248      133248               9995      79.974938  2011-07-08 20:09:29   \n",
       "133249      133249              99950      77.154395  2005-12-14 22:21:25   \n",
       "133250      133250               9998      62.324623  2011-02-23 15:35:32   \n",
       "133251      133251               9999      69.752317  2022-11-20 11:19:29   \n",
       "\n",
       "       Marital status Ruca category  Marital status encoded  \\\n",
       "0             Married         Urban                     1.0   \n",
       "1             Married         Rural                     1.0   \n",
       "2             Married         Urban                     1.0   \n",
       "3             Widowed         Urban                     1.0   \n",
       "4       Never married         Urban                     1.0   \n",
       "...               ...           ...                     ...   \n",
       "133247        Married         Urban                     1.0   \n",
       "133248        Married         Rural                     1.0   \n",
       "133249        Married         Urban                     1.0   \n",
       "133250       Divorced         Urban                     0.0   \n",
       "133251        Married         Urban                     1.0   \n",
       "\n",
       "        Ruca category encoded  \n",
       "0                         1.0  \n",
       "1                         0.0  \n",
       "2                         1.0  \n",
       "3                         1.0  \n",
       "4                         1.0  \n",
       "...                       ...  \n",
       "133247                    1.0  \n",
       "133248                    0.0  \n",
       "133249                    1.0  \n",
       "133250                    1.0  \n",
       "133251                    1.0  \n",
       "\n",
       "[133252 rows x 8 columns]"
      ]
     },
     "execution_count": 15,
     "metadata": {},
     "output_type": "execute_result"
    }
   ],
   "source": [
    "data"
   ]
  },
  {
   "cell_type": "code",
   "execution_count": 8,
   "metadata": {},
   "outputs": [
    {
     "data": {
      "text/plain": [
       "Male      129777\n",
       "Female      3475\n",
       "Name: Gender, dtype: int64"
      ]
     },
     "execution_count": 8,
     "metadata": {},
     "output_type": "execute_result"
    }
   ],
   "source": [
    "data['Gender'].value_counts()"
   ]
  },
  {
   "cell_type": "code",
   "execution_count": 6,
   "metadata": {},
   "outputs": [
    {
     "data": {
      "text/plain": [
       "Not Hispanic or Latino    102367\n",
       "Not specified              26486\n",
       "Hispanic or Latino          4399\n",
       "Name: Ethnicity, dtype: int64"
      ]
     },
     "execution_count": 6,
     "metadata": {},
     "output_type": "execute_result"
    }
   ],
   "source": [
    "data['Ethnicity'].value_counts()"
   ]
  },
  {
   "cell_type": "code",
   "execution_count": 9,
   "metadata": {},
   "outputs": [
    {
     "data": {
      "text/plain": [
       "White                        86809\n",
       "Other                        29474\n",
       "Black or African American    16969\n",
       "Name: Races, dtype: int64"
      ]
     },
     "execution_count": 9,
     "metadata": {},
     "output_type": "execute_result"
    }
   ],
   "source": [
    "data['Races'].value_counts()"
   ]
  },
  {
   "cell_type": "code",
   "execution_count": 10,
   "metadata": {},
   "outputs": [
    {
     "data": {
      "text/plain": [
       "Yes    133093\n",
       "No        159\n",
       "Name: Veteran flag, dtype: int64"
      ]
     },
     "execution_count": 10,
     "metadata": {},
     "output_type": "execute_result"
    }
   ],
   "source": [
    "data['Veteran flag'].value_counts()"
   ]
  },
  {
   "cell_type": "code",
   "execution_count": 11,
   "metadata": {},
   "outputs": [
    {
     "data": {
      "text/plain": [
       "Unnamed: 0           0\n",
       "Internalpatientid    0\n",
       "Ethnicity            0\n",
       "Gender               0\n",
       "Races                0\n",
       "Veteran flag         0\n",
       "dtype: int64"
      ]
     },
     "execution_count": 11,
     "metadata": {},
     "output_type": "execute_result"
    }
   ],
   "source": [
    "pd.isnull(data).sum()"
   ]
  }
 ],
 "metadata": {
  "kernelspec": {
   "display_name": "Python 3",
   "language": "python",
   "name": "python3"
  },
  "language_info": {
   "codemirror_mode": {
    "name": "ipython",
    "version": 3
   },
   "file_extension": ".py",
   "mimetype": "text/x-python",
   "name": "python",
   "nbconvert_exporter": "python",
   "pygments_lexer": "ipython3",
   "version": "3.10.11"
  },
  "orig_nbformat": 4
 },
 "nbformat": 4,
 "nbformat_minor": 2
}
