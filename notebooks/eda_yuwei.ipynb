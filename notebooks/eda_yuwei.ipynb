{
 "cells": [
  {
   "cell_type": "code",
   "execution_count": null,
   "metadata": {},
   "outputs": [],
   "source": [
    "import pandas as pd\n",
    "import os\n",
    "import numpy as np\n",
    "from tqdm.auto import tqdm"
   ]
  },
  {
   "cell_type": "code",
   "execution_count": null,
   "metadata": {},
   "outputs": [],
   "source": [
    "DATA_PATH = \"/home/bhatti/dataset/VCHAMPS\""
   ]
  },
  {
   "cell_type": "code",
   "execution_count": null,
   "metadata": {},
   "outputs": [],
   "source": [
    "# dataset\n",
    "# useful column: Internalpatientid, Age at admission, Admission date, \n",
    "#                First listed discharge diagnosis icd10 subcategory, Second listed discharge diagnosis icd10 subcategory,\n",
    "#                Died during admission, Outpatientreferralflag\n",
    "dataset_path = 'inpatient_admissions_train.csv'\n",
    "load_path = os.path.join(DATA_PATH, dataset_path)\n",
    "in_ad = pd.read_csv(load_path)\n",
    "in_ad = in_ad[[\"Internalpatientid\", \"Age at admission\", \"Admission date\",\n",
    "               \"First listed discharge diagnosis icd10 subcategory\", \"Second listed discharge diagnosis icd10 subcategory\",\n",
    "               \"Died during admission\", \"Outpatientreferralflag\"]]\n",
    "in_ad"
   ]
  },
  {
   "cell_type": "code",
   "execution_count": null,
   "metadata": {},
   "outputs": [],
   "source": []
  }
 ],
 "metadata": {
  "language_info": {
   "name": "python"
  },
  "orig_nbformat": 4
 },
 "nbformat": 4,
 "nbformat_minor": 2
}
