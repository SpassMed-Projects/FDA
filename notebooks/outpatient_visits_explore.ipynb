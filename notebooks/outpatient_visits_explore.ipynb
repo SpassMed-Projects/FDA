{
 "cells": [
  {
   "cell_type": "code",
   "execution_count": 2,
   "metadata": {},
   "outputs": [],
   "source": [
    "import pandas as pd\n",
    "\n",
    "import numpy as np\n",
    "import pandas as pd\n",
    "\n",
    "import seaborn as sns\n",
    "from importlib import reload\n",
    "import matplotlib.pyplot as plt\n",
    "import preprocess_data \n",
    "\n",
    "reload(preprocess_data)\n",
    "\n",
    "%matplotlib inline"
   ]
  },
  {
   "cell_type": "code",
   "execution_count": 3,
   "metadata": {},
   "outputs": [],
   "source": [
    "outpatient_visits = pd.read_csv('/home/bhatti/dataset/VCHAMPS/outpatient_visits_train.csv').iloc[:,1:]"
   ]
  },
  {
   "cell_type": "code",
   "execution_count": 21,
   "metadata": {},
   "outputs": [],
   "source": [
    "inpatients_with_readm = pd.read_csv('/home/daisy/FDA_Dataset/inpatients_with_readm.csv').iloc[:,1:]"
   ]
  },
  {
   "attachments": {},
   "cell_type": "markdown",
   "metadata": {},
   "source": [
    "# Exploratory Data Analysis"
   ]
  },
  {
   "cell_type": "code",
   "execution_count": 3,
   "metadata": {},
   "outputs": [
    {
     "data": {
      "text/html": [
       "<div>\n",
       "<style scoped>\n",
       "    .dataframe tbody tr th:only-of-type {\n",
       "        vertical-align: middle;\n",
       "    }\n",
       "\n",
       "    .dataframe tbody tr th {\n",
       "        vertical-align: top;\n",
       "    }\n",
       "\n",
       "    .dataframe thead th {\n",
       "        text-align: right;\n",
       "    }\n",
       "</style>\n",
       "<table border=\"1\" class=\"dataframe\">\n",
       "  <thead>\n",
       "    <tr style=\"text-align: right;\">\n",
       "      <th></th>\n",
       "      <th>Internalpatientid</th>\n",
       "      <th>Age at visit</th>\n",
       "      <th>Visit start date</th>\n",
       "      <th>First listed diagnosis icd10 subcategory</th>\n",
       "      <th>Second listed diagnosis icd10 subcategory</th>\n",
       "      <th>Stop code</th>\n",
       "      <th>Agentorangeflag</th>\n",
       "      <th>Combatflag</th>\n",
       "      <th>Ionizingradiationflag</th>\n",
       "      <th>Serviceconnectedflag</th>\n",
       "      <th>Swasiaconditionsflag</th>\n",
       "      <th>State</th>\n",
       "    </tr>\n",
       "  </thead>\n",
       "  <tbody>\n",
       "    <tr>\n",
       "      <th>0</th>\n",
       "      <td>1</td>\n",
       "      <td>60.619995</td>\n",
       "      <td>2004-11-17 14:35:36.0</td>\n",
       "      <td>Not specified</td>\n",
       "      <td>Not specified</td>\n",
       "      <td>TELEPHONE/MEDICINE</td>\n",
       "      <td>NaN</td>\n",
       "      <td>NaN</td>\n",
       "      <td>NaN</td>\n",
       "      <td>No</td>\n",
       "      <td>NaN</td>\n",
       "      <td>Indiana</td>\n",
       "    </tr>\n",
       "    <tr>\n",
       "      <th>1</th>\n",
       "      <td>1</td>\n",
       "      <td>61.032110</td>\n",
       "      <td>2005-04-17 05:40:07.0</td>\n",
       "      <td>Not specified</td>\n",
       "      <td>Not specified</td>\n",
       "      <td>TELEPHONE TRIAGE</td>\n",
       "      <td>NaN</td>\n",
       "      <td>NaN</td>\n",
       "      <td>NaN</td>\n",
       "      <td>Yes</td>\n",
       "      <td>NaN</td>\n",
       "      <td>Indiana</td>\n",
       "    </tr>\n",
       "    <tr>\n",
       "      <th>2</th>\n",
       "      <td>1</td>\n",
       "      <td>61.907075</td>\n",
       "      <td>2006-03-03 00:51:52.0</td>\n",
       "      <td>Not specified</td>\n",
       "      <td>Not specified</td>\n",
       "      <td>LABORATORY</td>\n",
       "      <td>NaN</td>\n",
       "      <td>NaN</td>\n",
       "      <td>NaN</td>\n",
       "      <td>NaN</td>\n",
       "      <td>NaN</td>\n",
       "      <td>Indiana</td>\n",
       "    </tr>\n",
       "    <tr>\n",
       "      <th>3</th>\n",
       "      <td>1</td>\n",
       "      <td>62.296573</td>\n",
       "      <td>2006-07-23 09:32:16.0</td>\n",
       "      <td>Not specified</td>\n",
       "      <td>Not specified</td>\n",
       "      <td>NO-COUNT</td>\n",
       "      <td>NaN</td>\n",
       "      <td>NaN</td>\n",
       "      <td>NaN</td>\n",
       "      <td>NaN</td>\n",
       "      <td>NaN</td>\n",
       "      <td>Indiana</td>\n",
       "    </tr>\n",
       "    <tr>\n",
       "      <th>4</th>\n",
       "      <td>1</td>\n",
       "      <td>63.632066</td>\n",
       "      <td>2007-11-23 12:28:48.0</td>\n",
       "      <td>Not specified</td>\n",
       "      <td>Not specified</td>\n",
       "      <td>GENERAL INTERNAL MEDICINE</td>\n",
       "      <td>NaN</td>\n",
       "      <td>NaN</td>\n",
       "      <td>NaN</td>\n",
       "      <td>No</td>\n",
       "      <td>NaN</td>\n",
       "      <td>Indiana</td>\n",
       "    </tr>\n",
       "    <tr>\n",
       "      <th>...</th>\n",
       "      <td>...</td>\n",
       "      <td>...</td>\n",
       "      <td>...</td>\n",
       "      <td>...</td>\n",
       "      <td>...</td>\n",
       "      <td>...</td>\n",
       "      <td>...</td>\n",
       "      <td>...</td>\n",
       "      <td>...</td>\n",
       "      <td>...</td>\n",
       "      <td>...</td>\n",
       "      <td>...</td>\n",
       "    </tr>\n",
       "    <tr>\n",
       "      <th>82692715</th>\n",
       "      <td>99999</td>\n",
       "      <td>96.300251</td>\n",
       "      <td>2013-03-19 17:47:55.0</td>\n",
       "      <td>Not specified</td>\n",
       "      <td>Not specified</td>\n",
       "      <td>TELEPHONE/ANCILLARY</td>\n",
       "      <td>NaN</td>\n",
       "      <td>NaN</td>\n",
       "      <td>NaN</td>\n",
       "      <td>No</td>\n",
       "      <td>NaN</td>\n",
       "      <td>Arizona</td>\n",
       "    </tr>\n",
       "    <tr>\n",
       "      <th>82692716</th>\n",
       "      <td>99999</td>\n",
       "      <td>96.322523</td>\n",
       "      <td>2013-03-27 21:10:33.0</td>\n",
       "      <td>Not specified</td>\n",
       "      <td>Not specified</td>\n",
       "      <td>NEUROLOGY</td>\n",
       "      <td>NaN</td>\n",
       "      <td>NaN</td>\n",
       "      <td>NaN</td>\n",
       "      <td>No</td>\n",
       "      <td>NaN</td>\n",
       "      <td>Arizona</td>\n",
       "    </tr>\n",
       "    <tr>\n",
       "      <th>82692717</th>\n",
       "      <td>99999</td>\n",
       "      <td>96.327503</td>\n",
       "      <td>2013-03-29 16:51:35.0</td>\n",
       "      <td>Not specified</td>\n",
       "      <td>Not specified</td>\n",
       "      <td>RENAL/NEPHROL(EXCEPT DIALYSIS)</td>\n",
       "      <td>NaN</td>\n",
       "      <td>NaN</td>\n",
       "      <td>NaN</td>\n",
       "      <td>Yes</td>\n",
       "      <td>NaN</td>\n",
       "      <td>Arizona</td>\n",
       "    </tr>\n",
       "    <tr>\n",
       "      <th>82692718</th>\n",
       "      <td>99999</td>\n",
       "      <td>96.360092</td>\n",
       "      <td>2013-04-10 14:43:53.0</td>\n",
       "      <td>Not specified</td>\n",
       "      <td>Not specified</td>\n",
       "      <td>SPEECH-LANGUAGE PATHOLOGY</td>\n",
       "      <td>NaN</td>\n",
       "      <td>NaN</td>\n",
       "      <td>NaN</td>\n",
       "      <td>NaN</td>\n",
       "      <td>NaN</td>\n",
       "      <td>Arizona</td>\n",
       "    </tr>\n",
       "    <tr>\n",
       "      <th>82692719</th>\n",
       "      <td>99999</td>\n",
       "      <td>96.626156</td>\n",
       "      <td>2013-07-16 20:38:29.0</td>\n",
       "      <td>Not specified</td>\n",
       "      <td>Not specified</td>\n",
       "      <td>Not specified (no value)</td>\n",
       "      <td>NaN</td>\n",
       "      <td>NaN</td>\n",
       "      <td>NaN</td>\n",
       "      <td>NaN</td>\n",
       "      <td>NaN</td>\n",
       "      <td>Arizona</td>\n",
       "    </tr>\n",
       "  </tbody>\n",
       "</table>\n",
       "<p>82692720 rows × 12 columns</p>\n",
       "</div>"
      ],
      "text/plain": [
       "          Internalpatientid  Age at visit       Visit start date  \\\n",
       "0                         1     60.619995  2004-11-17 14:35:36.0   \n",
       "1                         1     61.032110  2005-04-17 05:40:07.0   \n",
       "2                         1     61.907075  2006-03-03 00:51:52.0   \n",
       "3                         1     62.296573  2006-07-23 09:32:16.0   \n",
       "4                         1     63.632066  2007-11-23 12:28:48.0   \n",
       "...                     ...           ...                    ...   \n",
       "82692715              99999     96.300251  2013-03-19 17:47:55.0   \n",
       "82692716              99999     96.322523  2013-03-27 21:10:33.0   \n",
       "82692717              99999     96.327503  2013-03-29 16:51:35.0   \n",
       "82692718              99999     96.360092  2013-04-10 14:43:53.0   \n",
       "82692719              99999     96.626156  2013-07-16 20:38:29.0   \n",
       "\n",
       "         First listed diagnosis icd10 subcategory  \\\n",
       "0                                   Not specified   \n",
       "1                                   Not specified   \n",
       "2                                   Not specified   \n",
       "3                                   Not specified   \n",
       "4                                   Not specified   \n",
       "...                                           ...   \n",
       "82692715                            Not specified   \n",
       "82692716                            Not specified   \n",
       "82692717                            Not specified   \n",
       "82692718                            Not specified   \n",
       "82692719                            Not specified   \n",
       "\n",
       "         Second listed diagnosis icd10 subcategory  \\\n",
       "0                                    Not specified   \n",
       "1                                    Not specified   \n",
       "2                                    Not specified   \n",
       "3                                    Not specified   \n",
       "4                                    Not specified   \n",
       "...                                            ...   \n",
       "82692715                             Not specified   \n",
       "82692716                             Not specified   \n",
       "82692717                             Not specified   \n",
       "82692718                             Not specified   \n",
       "82692719                             Not specified   \n",
       "\n",
       "                               Stop code Agentorangeflag Combatflag  \\\n",
       "0                     TELEPHONE/MEDICINE             NaN        NaN   \n",
       "1                       TELEPHONE TRIAGE             NaN        NaN   \n",
       "2                             LABORATORY             NaN        NaN   \n",
       "3                               NO-COUNT             NaN        NaN   \n",
       "4              GENERAL INTERNAL MEDICINE             NaN        NaN   \n",
       "...                                  ...             ...        ...   \n",
       "82692715             TELEPHONE/ANCILLARY             NaN        NaN   \n",
       "82692716                       NEUROLOGY             NaN        NaN   \n",
       "82692717  RENAL/NEPHROL(EXCEPT DIALYSIS)             NaN        NaN   \n",
       "82692718       SPEECH-LANGUAGE PATHOLOGY             NaN        NaN   \n",
       "82692719        Not specified (no value)             NaN        NaN   \n",
       "\n",
       "         Ionizingradiationflag Serviceconnectedflag Swasiaconditionsflag  \\\n",
       "0                          NaN                   No                  NaN   \n",
       "1                          NaN                  Yes                  NaN   \n",
       "2                          NaN                  NaN                  NaN   \n",
       "3                          NaN                  NaN                  NaN   \n",
       "4                          NaN                   No                  NaN   \n",
       "...                        ...                  ...                  ...   \n",
       "82692715                   NaN                   No                  NaN   \n",
       "82692716                   NaN                   No                  NaN   \n",
       "82692717                   NaN                  Yes                  NaN   \n",
       "82692718                   NaN                  NaN                  NaN   \n",
       "82692719                   NaN                  NaN                  NaN   \n",
       "\n",
       "            State  \n",
       "0         Indiana  \n",
       "1         Indiana  \n",
       "2         Indiana  \n",
       "3         Indiana  \n",
       "4         Indiana  \n",
       "...           ...  \n",
       "82692715  Arizona  \n",
       "82692716  Arizona  \n",
       "82692717  Arizona  \n",
       "82692718  Arizona  \n",
       "82692719  Arizona  \n",
       "\n",
       "[82692720 rows x 12 columns]"
      ]
     },
     "execution_count": 3,
     "metadata": {},
     "output_type": "execute_result"
    }
   ],
   "source": [
    "outpatient_visits"
   ]
  },
  {
   "cell_type": "code",
   "execution_count": 4,
   "metadata": {},
   "outputs": [
    {
     "data": {
      "text/plain": [
       "Internalpatientid                                   0\n",
       "Age at visit                                        0\n",
       "Visit start date                                    0\n",
       "First listed diagnosis icd10 subcategory            0\n",
       "Second listed diagnosis icd10 subcategory           0\n",
       "Stop code                                           0\n",
       "Agentorangeflag                              79641724\n",
       "Combatflag                                   82560329\n",
       "Ionizingradiationflag                        82593660\n",
       "Serviceconnectedflag                         63719525\n",
       "Swasiaconditionsflag                         82416510\n",
       "State                                               0\n",
       "dtype: int64"
      ]
     },
     "execution_count": 4,
     "metadata": {},
     "output_type": "execute_result"
    }
   ],
   "source": [
    "pd.isnull(outpatient_visits).sum()"
   ]
  },
  {
   "cell_type": "code",
   "execution_count": null,
   "metadata": {},
   "outputs": [
    {
     "data": {
      "text/plain": [
       "Internalpatientid                            0.000000\n",
       "Age at visit                                 0.000000\n",
       "Visit start date                             0.000000\n",
       "First listed diagnosis icd10 subcategory     0.000000\n",
       "Second listed diagnosis icd10 subcategory    0.000000\n",
       "Stop code                                    0.000000\n",
       "Agentorangeflag                              0.963104\n",
       "Combatflag                                   0.998399\n",
       "Ionizingradiationflag                        0.998802\n",
       "Serviceconnectedflag                         0.770558\n",
       "Swasiaconditionsflag                         0.996660\n",
       "State                                        0.000000\n",
       "dtype: float64"
      ]
     },
     "execution_count": 9,
     "metadata": {},
     "output_type": "execute_result"
    }
   ],
   "source": [
    "pd.isnull(outpatient_visits).sum() / 82692720 \n",
    "# percentage of null value -> we can drop Agentorangeflag, Combatflag, Ionizingradiationflag, Serviceconnectedflag, Swasiaconditionsflag\n"
   ]
  },
  {
   "cell_type": "code",
   "execution_count": 5,
   "metadata": {},
   "outputs": [],
   "source": [
    "outpatient_visits_drop = outpatient_visits.drop(['Agentorangeflag', 'Combatflag', 'Ionizingradiationflag', 'Serviceconnectedflag', 'Swasiaconditionsflag'], axis=1)"
   ]
  },
  {
   "cell_type": "code",
   "execution_count": 6,
   "metadata": {},
   "outputs": [
    {
     "data": {
      "text/html": [
       "<div>\n",
       "<style scoped>\n",
       "    .dataframe tbody tr th:only-of-type {\n",
       "        vertical-align: middle;\n",
       "    }\n",
       "\n",
       "    .dataframe tbody tr th {\n",
       "        vertical-align: top;\n",
       "    }\n",
       "\n",
       "    .dataframe thead th {\n",
       "        text-align: right;\n",
       "    }\n",
       "</style>\n",
       "<table border=\"1\" class=\"dataframe\">\n",
       "  <thead>\n",
       "    <tr style=\"text-align: right;\">\n",
       "      <th></th>\n",
       "      <th>Internalpatientid</th>\n",
       "      <th>Age at visit</th>\n",
       "      <th>Visit start date</th>\n",
       "      <th>First listed diagnosis icd10 subcategory</th>\n",
       "      <th>Second listed diagnosis icd10 subcategory</th>\n",
       "      <th>Stop code</th>\n",
       "      <th>State</th>\n",
       "    </tr>\n",
       "  </thead>\n",
       "  <tbody>\n",
       "    <tr>\n",
       "      <th>0</th>\n",
       "      <td>1</td>\n",
       "      <td>60.619995</td>\n",
       "      <td>2004-11-17 14:35:36.0</td>\n",
       "      <td>Not specified</td>\n",
       "      <td>Not specified</td>\n",
       "      <td>TELEPHONE/MEDICINE</td>\n",
       "      <td>Indiana</td>\n",
       "    </tr>\n",
       "    <tr>\n",
       "      <th>1</th>\n",
       "      <td>1</td>\n",
       "      <td>61.032110</td>\n",
       "      <td>2005-04-17 05:40:07.0</td>\n",
       "      <td>Not specified</td>\n",
       "      <td>Not specified</td>\n",
       "      <td>TELEPHONE TRIAGE</td>\n",
       "      <td>Indiana</td>\n",
       "    </tr>\n",
       "    <tr>\n",
       "      <th>2</th>\n",
       "      <td>1</td>\n",
       "      <td>61.907075</td>\n",
       "      <td>2006-03-03 00:51:52.0</td>\n",
       "      <td>Not specified</td>\n",
       "      <td>Not specified</td>\n",
       "      <td>LABORATORY</td>\n",
       "      <td>Indiana</td>\n",
       "    </tr>\n",
       "    <tr>\n",
       "      <th>3</th>\n",
       "      <td>1</td>\n",
       "      <td>62.296573</td>\n",
       "      <td>2006-07-23 09:32:16.0</td>\n",
       "      <td>Not specified</td>\n",
       "      <td>Not specified</td>\n",
       "      <td>NO-COUNT</td>\n",
       "      <td>Indiana</td>\n",
       "    </tr>\n",
       "    <tr>\n",
       "      <th>4</th>\n",
       "      <td>1</td>\n",
       "      <td>63.632066</td>\n",
       "      <td>2007-11-23 12:28:48.0</td>\n",
       "      <td>Not specified</td>\n",
       "      <td>Not specified</td>\n",
       "      <td>GENERAL INTERNAL MEDICINE</td>\n",
       "      <td>Indiana</td>\n",
       "    </tr>\n",
       "    <tr>\n",
       "      <th>...</th>\n",
       "      <td>...</td>\n",
       "      <td>...</td>\n",
       "      <td>...</td>\n",
       "      <td>...</td>\n",
       "      <td>...</td>\n",
       "      <td>...</td>\n",
       "      <td>...</td>\n",
       "    </tr>\n",
       "    <tr>\n",
       "      <th>82692715</th>\n",
       "      <td>99999</td>\n",
       "      <td>96.300251</td>\n",
       "      <td>2013-03-19 17:47:55.0</td>\n",
       "      <td>Not specified</td>\n",
       "      <td>Not specified</td>\n",
       "      <td>TELEPHONE/ANCILLARY</td>\n",
       "      <td>Arizona</td>\n",
       "    </tr>\n",
       "    <tr>\n",
       "      <th>82692716</th>\n",
       "      <td>99999</td>\n",
       "      <td>96.322523</td>\n",
       "      <td>2013-03-27 21:10:33.0</td>\n",
       "      <td>Not specified</td>\n",
       "      <td>Not specified</td>\n",
       "      <td>NEUROLOGY</td>\n",
       "      <td>Arizona</td>\n",
       "    </tr>\n",
       "    <tr>\n",
       "      <th>82692717</th>\n",
       "      <td>99999</td>\n",
       "      <td>96.327503</td>\n",
       "      <td>2013-03-29 16:51:35.0</td>\n",
       "      <td>Not specified</td>\n",
       "      <td>Not specified</td>\n",
       "      <td>RENAL/NEPHROL(EXCEPT DIALYSIS)</td>\n",
       "      <td>Arizona</td>\n",
       "    </tr>\n",
       "    <tr>\n",
       "      <th>82692718</th>\n",
       "      <td>99999</td>\n",
       "      <td>96.360092</td>\n",
       "      <td>2013-04-10 14:43:53.0</td>\n",
       "      <td>Not specified</td>\n",
       "      <td>Not specified</td>\n",
       "      <td>SPEECH-LANGUAGE PATHOLOGY</td>\n",
       "      <td>Arizona</td>\n",
       "    </tr>\n",
       "    <tr>\n",
       "      <th>82692719</th>\n",
       "      <td>99999</td>\n",
       "      <td>96.626156</td>\n",
       "      <td>2013-07-16 20:38:29.0</td>\n",
       "      <td>Not specified</td>\n",
       "      <td>Not specified</td>\n",
       "      <td>Not specified (no value)</td>\n",
       "      <td>Arizona</td>\n",
       "    </tr>\n",
       "  </tbody>\n",
       "</table>\n",
       "<p>82692720 rows × 7 columns</p>\n",
       "</div>"
      ],
      "text/plain": [
       "          Internalpatientid  Age at visit       Visit start date  \\\n",
       "0                         1     60.619995  2004-11-17 14:35:36.0   \n",
       "1                         1     61.032110  2005-04-17 05:40:07.0   \n",
       "2                         1     61.907075  2006-03-03 00:51:52.0   \n",
       "3                         1     62.296573  2006-07-23 09:32:16.0   \n",
       "4                         1     63.632066  2007-11-23 12:28:48.0   \n",
       "...                     ...           ...                    ...   \n",
       "82692715              99999     96.300251  2013-03-19 17:47:55.0   \n",
       "82692716              99999     96.322523  2013-03-27 21:10:33.0   \n",
       "82692717              99999     96.327503  2013-03-29 16:51:35.0   \n",
       "82692718              99999     96.360092  2013-04-10 14:43:53.0   \n",
       "82692719              99999     96.626156  2013-07-16 20:38:29.0   \n",
       "\n",
       "         First listed diagnosis icd10 subcategory  \\\n",
       "0                                   Not specified   \n",
       "1                                   Not specified   \n",
       "2                                   Not specified   \n",
       "3                                   Not specified   \n",
       "4                                   Not specified   \n",
       "...                                           ...   \n",
       "82692715                            Not specified   \n",
       "82692716                            Not specified   \n",
       "82692717                            Not specified   \n",
       "82692718                            Not specified   \n",
       "82692719                            Not specified   \n",
       "\n",
       "         Second listed diagnosis icd10 subcategory  \\\n",
       "0                                    Not specified   \n",
       "1                                    Not specified   \n",
       "2                                    Not specified   \n",
       "3                                    Not specified   \n",
       "4                                    Not specified   \n",
       "...                                            ...   \n",
       "82692715                             Not specified   \n",
       "82692716                             Not specified   \n",
       "82692717                             Not specified   \n",
       "82692718                             Not specified   \n",
       "82692719                             Not specified   \n",
       "\n",
       "                               Stop code    State  \n",
       "0                     TELEPHONE/MEDICINE  Indiana  \n",
       "1                       TELEPHONE TRIAGE  Indiana  \n",
       "2                             LABORATORY  Indiana  \n",
       "3                               NO-COUNT  Indiana  \n",
       "4              GENERAL INTERNAL MEDICINE  Indiana  \n",
       "...                                  ...      ...  \n",
       "82692715             TELEPHONE/ANCILLARY  Arizona  \n",
       "82692716                       NEUROLOGY  Arizona  \n",
       "82692717  RENAL/NEPHROL(EXCEPT DIALYSIS)  Arizona  \n",
       "82692718       SPEECH-LANGUAGE PATHOLOGY  Arizona  \n",
       "82692719        Not specified (no value)  Arizona  \n",
       "\n",
       "[82692720 rows x 7 columns]"
      ]
     },
     "execution_count": 6,
     "metadata": {},
     "output_type": "execute_result"
    }
   ],
   "source": [
    "outpatient_visits_drop"
   ]
  },
  {
   "cell_type": "code",
   "execution_count": 7,
   "metadata": {},
   "outputs": [
    {
     "data": {
      "text/plain": [
       "Not specified                                 70603206\n",
       "Other specified counseling                      720331\n",
       "Encounter for other specified aftercare         539853\n",
       "Counseling, unspecified                         345595\n",
       "Essential (primary) hypertension                313963\n",
       "                                                ...   \n",
       "Contusion of anus                                    1\n",
       "Nonbullous erythema multiforme                       1\n",
       "Erysipeloid, unspecified                             1\n",
       "Combined immunodeficiency, unspecified               1\n",
       "Carcinoma in situ of other parts of cervix           1\n",
       "Name: First listed diagnosis icd10 subcategory, Length: 6607, dtype: int64"
      ]
     },
     "execution_count": 7,
     "metadata": {},
     "output_type": "execute_result"
    }
   ],
   "source": [
    "outpatient_visits_drop['First listed diagnosis icd10 subcategory'].value_counts()"
   ]
  },
  {
   "cell_type": "code",
   "execution_count": 8,
   "metadata": {},
   "outputs": [
    {
     "data": {
      "text/plain": [
       "0.8538019549967639"
      ]
     },
     "execution_count": 8,
     "metadata": {},
     "output_type": "execute_result"
    }
   ],
   "source": [
    "70603206/82692720"
   ]
  },
  {
   "cell_type": "code",
   "execution_count": 9,
   "metadata": {},
   "outputs": [
    {
     "data": {
      "text/plain": [
       "Not specified                                                                  78185197\n",
       "Essential (primary) hypertension                                                 207434\n",
       "Unspecified atrial fibrillation and atrial flutter                               192069\n",
       "Long term (current) use of anticoagulants and antithrombotics/antiplatelets      142482\n",
       "Type 2 diabetes mellitus without complications                                   105136\n",
       "                                                                                 ...   \n",
       "Periprosthetic fracture around internal prosthetic elbow joint                        1\n",
       "Other fibroblastic disorders                                                          1\n",
       "Knuckle pads                                                                          1\n",
       "Inappropriate temperature in local application and packing                            1\n",
       "Injury of other extensor muscle, fascia and tendon at forearm level                   1\n",
       "Name: Second listed diagnosis icd10 subcategory, Length: 6240, dtype: int64"
      ]
     },
     "execution_count": 9,
     "metadata": {},
     "output_type": "execute_result"
    }
   ],
   "source": [
    "outpatient_visits_drop['Second listed diagnosis icd10 subcategory'].value_counts()"
   ]
  },
  {
   "cell_type": "code",
   "execution_count": 10,
   "metadata": {},
   "outputs": [
    {
     "data": {
      "text/plain": [
       "0.9454906913208321"
      ]
     },
     "execution_count": 10,
     "metadata": {},
     "output_type": "execute_result"
    }
   ],
   "source": [
    "78185197/82692720"
   ]
  },
  {
   "cell_type": "code",
   "execution_count": 11,
   "metadata": {},
   "outputs": [
    {
     "data": {
      "text/plain": [
       "Not specified (no value)          12597280\n",
       "LABORATORY                        12297292\n",
       "PRIMARY CARE/MEDICINE              7120877\n",
       "ADMIN PAT ACTIVTIES (MASNONCT)     4205426\n",
       "X-RAY & FLUORO (XR & RF)           2148323\n",
       "                                    ...   \n",
       "EPILEPSY                                 1\n",
       "TELEPHONE TRIAGE IN VISN                 1\n",
       "PHYSICIAN ASSISTANT                      1\n",
       "CHAPLAIN-CLINICAL SVCS-GROUP             1\n",
       "INPATIENT DIAGNOSTIC PROFEE              1\n",
       "Name: Stop code, Length: 636, dtype: int64"
      ]
     },
     "execution_count": 11,
     "metadata": {},
     "output_type": "execute_result"
    }
   ],
   "source": [
    "outpatient_visits_drop['Stop code'].value_counts()"
   ]
  },
  {
   "cell_type": "code",
   "execution_count": 12,
   "metadata": {},
   "outputs": [
    {
     "data": {
      "text/plain": [
       "0.1523384404334505"
      ]
     },
     "execution_count": 12,
     "metadata": {},
     "output_type": "execute_result"
    }
   ],
   "source": [
    "12597280/82692720"
   ]
  },
  {
   "cell_type": "code",
   "execution_count": 25,
   "metadata": {},
   "outputs": [],
   "source": [
    "uniquePatients_visits = outpatient_visits_drop['Internalpatientid'].unique()"
   ]
  },
  {
   "cell_type": "code",
   "execution_count": 26,
   "metadata": {},
   "outputs": [
    {
     "data": {
      "text/plain": [
       "133252"
      ]
     },
     "execution_count": 26,
     "metadata": {},
     "output_type": "execute_result"
    }
   ],
   "source": [
    "len(uniquePatients_visits) 133252 97284 84536"
   ]
  },
  {
   "cell_type": "markdown",
   "metadata": {},
   "source": []
  },
  {
   "cell_type": "code",
   "execution_count": 28,
   "metadata": {},
   "outputs": [],
   "source": [
    "uniquePatients_admit = inpatients_with_readm['Internalpatientid'].unique()"
   ]
  },
  {
   "cell_type": "code",
   "execution_count": 29,
   "metadata": {},
   "outputs": [
    {
     "data": {
      "text/plain": [
       "84536"
      ]
     },
     "execution_count": 29,
     "metadata": {},
     "output_type": "execute_result"
    }
   ],
   "source": [
    "len(uniquePatients_admit) # 97284 in death, hence not all people deaded are in admission"
   ]
  },
  {
   "cell_type": "code",
   "execution_count": 37,
   "metadata": {},
   "outputs": [
    {
     "data": {
      "text/plain": [
       "True"
      ]
     },
     "execution_count": 37,
     "metadata": {},
     "output_type": "execute_result"
    }
   ],
   "source": [
    "any(np.in1d(uniquePatients_admit,uniquePatients_visits)) # all inpatients are in outpatients"
   ]
  },
  {
   "cell_type": "code",
   "execution_count": 40,
   "metadata": {},
   "outputs": [],
   "source": [
    "uniquePatients_visits.sort()"
   ]
  },
  {
   "cell_type": "code",
   "execution_count": 41,
   "metadata": {},
   "outputs": [],
   "source": [
    "uniquePatients_admit.sort()"
   ]
  },
  {
   "cell_type": "code",
   "execution_count": 42,
   "metadata": {},
   "outputs": [
    {
     "data": {
      "text/plain": [
       "array([     1,      2,      3, ..., 169062, 169063, 169064])"
      ]
     },
     "execution_count": 42,
     "metadata": {},
     "output_type": "execute_result"
    }
   ],
   "source": [
    "uniquePatients_visits"
   ]
  },
  {
   "cell_type": "code",
   "execution_count": 43,
   "metadata": {},
   "outputs": [
    {
     "data": {
      "text/plain": [
       "array([     1,      2,      3, ..., 169060, 169062, 169064])"
      ]
     },
     "execution_count": 43,
     "metadata": {},
     "output_type": "execute_result"
    }
   ],
   "source": [
    "uniquePatients_admit"
   ]
  }
 ],
 "metadata": {
  "kernelspec": {
   "display_name": "Python 3",
   "language": "python",
   "name": "python3"
  },
  "language_info": {
   "codemirror_mode": {
    "name": "ipython",
    "version": 3
   },
   "file_extension": ".py",
   "mimetype": "text/x-python",
   "name": "python",
   "nbconvert_exporter": "python",
   "pygments_lexer": "ipython3",
   "version": "3.10.11"
  },
  "orig_nbformat": 4
 },
 "nbformat": 4,
 "nbformat_minor": 2
}
